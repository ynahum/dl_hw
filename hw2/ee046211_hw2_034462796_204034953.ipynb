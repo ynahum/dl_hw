{
  "cells": [
    {
      "cell_type": "markdown",
      "metadata": {
        "id": "dzV9wsJ5pGhf"
      },
      "source": [
        "# <img src=\"https://img.icons8.com/bubbles/50/000000/mind-map.png\" style=\"height:50px;display:inline\"> EE 046211 - Technion - Deep Learning\n",
        "---\n",
        "\n",
        "## HW2 - Multilayer NNs and Convolutional NNs\n",
        "---"
      ]
    },
    {
      "cell_type": "markdown",
      "metadata": {
        "id": "bq2c8X93pGhh"
      },
      "source": [
        "### <img src=\"https://img.icons8.com/clouds/96/000000/keyboard.png\" style=\"height:50px;display:inline\"> Keyboard Shortcuts\n",
        "---\n",
        "* Run current cell: **Ctrl + Enter**\n",
        "* Run current cell and move to the next: **Shift + Enter**\n",
        "* Show lines in a code cell: **Esc + L**\n",
        "* View function documentation: **Shift + Tab** inside the parenthesis or `help(name_of_module)`\n",
        "* New cell below: **Esc + B**\n",
        "* Delete cell: **Esc + D, D** (two D's)"
      ]
    },
    {
      "cell_type": "markdown",
      "metadata": {
        "id": "vZZybn3NpGhh"
      },
      "source": [
        "### <img src=\"https://img.icons8.com/bubbles/50/000000/information.png\" style=\"height:50px;display:inline\"> Students Information\n",
        "---\n",
        "* Fill in\n",
        "\n",
        "|Name         |Campus Email                     | ID       |\n",
        "|-------------|---------------------------------|----------|\n",
        "|Lior Friedman| liorf@campus.technion.ac.il     | 204034953|\n",
        "|Yair Nahum   | nahum.yair@campus.technion.ac.il| 034462796|"
      ]
    },
    {
      "cell_type": "markdown",
      "metadata": {
        "id": "dDK5zqhdpGhi"
      },
      "source": [
        "### <img src=\"https://img.icons8.com/bubbles/50/000000/upload-to-cloud.png\" style=\"height:50px;display:inline\"> Submission Guidelines\n",
        "---\n",
        "* Maximal garde: 100.\n",
        "* Submission only in **pairs**. \n",
        "    * Please make sure you have registered your group in Moodle (there is a group creation component on the Moodle where you need to create your group and assign members).\n",
        "* **No handwritten submissions.** You can choose whether to answer in a Markdown cell in this notebook or attach a PDF with your answers.\n",
        "* <a style='color:red'> SAVE THE NOTEBOOKS WITH THE OUTPUT, CODE CELLS THAT WERE NOT RUN WILL NOT GET ANY POINTS! </a>\n",
        "* What you have to submit:\n",
        "    * If you have answered the questions in the notebook, you should submit this file only, with the name: `ee046211_hw2_id1_id2.ipynb`.\n",
        "    * If you answered the questions in a different file you should submit a `.zip` file with the name `ee046211_hw2_id1_id2.zip` with content:\n",
        "        * `ee046211_hw2_id1_id2.ipynb` - the code tasks\n",
        "        * `ee046211_hw2_id1_id2.pdf` - answers to questions.\n",
        "    * No other file-types (`.py`, `.docx`...) will be accepted.\n",
        "* Submission on the course website (Moodle).\n",
        "* **Latex in Colab** - in some cases, Latex equations may no be rendered. To avoid this, make sure to not use *bullets* in your answers (\"* some text here with Latex equations\" -> \"some text here with Latex equations\")."
      ]
    },
    {
      "cell_type": "markdown",
      "metadata": {
        "id": "pmSj_UufpGhi"
      },
      "source": [
        "### <img src=\"https://img.icons8.com/dusk/64/000000/online.png\" style=\"height:50px;display:inline\"> Working Online and Locally\n",
        "---\n",
        "* You can choose your working environment:\n",
        "    1. `Jupyter Notebook`, **locally** with <a href=\"https://www.anaconda.com/distribution/\">Anaconda</a> or **online** on <a href=\"https://colab.research.google.com/\">Google Colab</a>\n",
        "        * Colab also supports running code on GPU, so if you don't have one, Colab is the way to go. To enable GPU on Colab, in the menu: `Runtime`$\\rightarrow$ `Change Runtime Type` $\\rightarrow$`GPU`.\n",
        "    2. Python IDE such as <a href=\"https://www.jetbrains.com/pycharm/\">PyCharm</a> or <a href=\"https://code.visualstudio.com/\">Visual Studio Code</a>.\n",
        "        * Both allow editing and running Jupyter Notebooks.\n",
        "\n",
        "* Please refer to `Setting Up the Working Environment.pdf` on the Moodle or our GitHub (https://github.com/taldatech/ee046211-deep-learning) to help you get everything installed.\n",
        "* If you need any technical assistance, please go to our Piazza forum (`hw2` folder) and describe your problem (preferably with images)."
      ]
    },
    {
      "cell_type": "markdown",
      "metadata": {
        "id": "nlp1Fp4ppGhj"
      },
      "source": [
        "### <img src=\"https://img.icons8.com/bubbles/50/000000/checklist.png\" style=\"height:50px;display:inline\"> Agenda\n",
        "---\n",
        "\n",
        "* [Part 1 - Theory](#-Part-1---Theory)\n",
        "    * [Q1 - Generalization in A Teacher-Student Setup](#-Question-1--Generalization-in-A-Teacher-Student-Setup)\n",
        "    * [Q2 - Backpropagation By Hand](#-Question-2---Backpropagation-By-Hand)\n",
        "    * [Q3 - Deep Double Descent](#-Question-3---Deep-Double-Descent)\n",
        "    * [Q4 - Initialization](#-Question-4---Initialization)\n",
        "    * [Q5 - MLP and Invaraince](#-Question-5---MLP-and-Invaraince)\n",
        "    * [Q6 - VGG Architecture](#-Question-6--VGG-Architecture)\n",
        "* [Part 2 - Code Assignments](#-Part-2---Code-Assignments)\n",
        "    * [Task 1 - The Importance of Activation and Initialization](#-Task-1---The-Importance-of-Activation-and-Initialization)\n",
        "    * [Task 2 - FashionMNIST Deep Classifer](#-Task-2---FashionMNIST-Deep-Classifer)\n",
        "    * [Task 3 - Design a CNN](#-Task-3---Design-a-CNN)\n",
        "* [Credits](#-Credits)"
      ]
    },
    {
      "cell_type": "markdown",
      "metadata": {
        "id": "XKtSiQX_pGhj"
      },
      "source": [
        "### <img src=\"https://img.icons8.com/cute-clipart/64/000000/ball-point-pen.png\" style=\"height:50px;display:inline\"> Part 1 - Theory\n",
        "---\n",
        "* You can choose whether to answser these straight in the notebook (Markdown + Latex) or use another editor (Word, LyX, Latex, Overleaf...) and submit an additional PDF file, **but no handwritten submissions**.\n",
        "* You can attach additional figures (drawings, graphs,...) in a separate PDF file, just make sure to refer to them in your answers.\n",
        "\n",
        "* $\\large\\LaTeX$ <a href=\"https://kapeli.com/cheat_sheets/LaTeX_Math_Symbols.docset/Contents/Resources/Documents/index\">Cheat-Sheet</a> (to write equations)\n",
        "    * <a href=\"http://tug.ctan.org/info/latex-refsheet/LaTeX_RefSheet.pdf\">Another Cheat-Sheet</a>"
      ]
    },
    {
      "cell_type": "markdown",
      "metadata": {
        "id": "RsqSFZG1pGhj"
      },
      "source": [
        "## <img src=\"https://img.icons8.com/clouds/100/000000/question-mark.png\" style=\"height:50px;display:inline\"> Question 1 -Generalization in A Teacher-Student Setup\n",
        "---\n",
        "\n",
        "Recall from lecture 4 the Risk $\\mathcal{R}(w)$: $$ \\mathcal{R}(w) \\triangleq \\mathbb{E}_{x^{(0)} \\sim \\mathcal{N}(0, I) } \\left[ ||w^Tx^{(0)} - w_t^Tx^{(0)}||^2 \\right] $$\n",
        "\n",
        "Prove:\n",
        "\n",
        "$$ \\mathcal{R}(w) = ||w-w_t||^2 $$"
      ]
    },
    {
      "cell_type": "markdown",
      "metadata": {
        "id": "CjAgwlEAOF1I",
        "pycharm": {
          "name": "#%%md\n"
        }
      },
      "source": [
        "## <img src=\"https://img.icons8.com/fluency/48/000000/exclamation-mark.png\" style=\"height:50px;display:inline\">  Answer 1 - Generalization in A Teacher-Student Setup \n",
        "---\n",
        "Proof:  \n",
        "$$ \\mathcal{R}(w) \\triangleq \\mathbb{E}_{x^{(0)} \\sim \\mathcal{N}(0, I) } \\left[ ||w^Tx^{(0)} - w_t^Tx^{(0)}||^2 \\right]$$\n",
        "$$= \\mathbb{E}_{x^{(0)} \\sim \\mathcal{N}(0, I) } \\left[ ||{x^{(0)}}^T(w - w_t)||^2 \\right]$$\n",
        "$$\\underbrace{=}_{(1)} \\mathbb{E}_{x^{(0)} \\sim \\mathcal{N}(0, I) } \\left[ (w - w_t)^T x^{(0)} {x^{(0)}}^T(w - w_t) \\right]$$\n",
        "$$\\underbrace{=}_{(2)} (w - w_t)^T \\mathbb{E}_{x^{(0)} \\sim \\mathcal{N}(0, I) } \\left[  x^{(0)} {x^{(0)}}^T \\right] (w - w_t)$$\n",
        "$$\\underbrace{=}_{(3)} (w - w_t)^T I (w - w_t) \\underbrace{=}_{(4)} ||w - w_t||^2$$\n",
        "Where (1) and (4) are due to the L2 norm definition, (2) is due to $(w-w_t)$ is constant relative to the expectation and (3) is due to the fact that the covariance matrix is $I$.  \n",
        "$\\blacksquare$\n"
      ]
    },
    {
      "cell_type": "markdown",
      "metadata": {
        "id": "StkdA5hUOF1K"
      },
      "source": [
        "## <img src=\"https://img.icons8.com/clouds/100/000000/question-mark.png\" style=\"height:50px;display:inline\"> Question 2 - Backpropagation By Hand\n",
        "---\n",
        "Consider the following network:\n",
        "<img src=\"https://raw.githubusercontent.com/taldatech/ee046211-deep-learning/main/assets/backprop_by_hand_ex1.png\" style=\"height:300px\">\n",
        "\n",
        "We will work with one sample for this example, but it can be extended to mini-batches.\n",
        "\n",
        "* Input: $x = \\begin{bmatrix} 1 \\\\ 4 \\\\ 5 \\end{bmatrix} \\in \\mathbb{R}^3$\n",
        "* Output (target): $ t = \\begin{bmatrix} 0.1 \\\\ 0.05 \\end{bmatrix} \\in \\mathbb{R}^2 $\n",
        "* Number of Hidden Layers: 1\n",
        "* Activation: Sigmoid for both hidden and output layers\n",
        "* Loss Functions: MSE\n",
        "\n",
        "We initialize the weights and biases to random values as follows:\n",
        "<img src=\"https://raw.githubusercontent.com/taldatech/ee046211-deep-learning/main/assets/backprop_by_hand_ex2.png\" style=\"height:300px\">\n",
        "\n",
        "1. Perform one forward pass and calculate the MSE.\n",
        "2. Perform backpropagation (one backward pass, i.e., calculate the gradients).\n",
        "3. With a learning rate of $\\alpha = 0.01$, what are the new values of the weights after performing the forward pass and backward pass (assume we use SGD)?"
      ]
    },
    {
      "cell_type": "markdown",
      "metadata": {
        "id": "kJZk_9OxOF1M"
      },
      "source": [
        "## <img src=\"https://img.icons8.com/fluency/48/000000/exclamation-mark.png\" style=\"height:50px;display:inline\"> Answer 2 -Backprop by hand\n",
        "\n",
        "1. All calculations rounded to 2 significant digits\n",
        "\n",
        "$$ h_1(x)=S(0.1\\cdot 1+0.3\\cdot 4+0.5\\cdot 5+0.5\\cdot 1)=S(4.3)=0.99$$\n",
        "$$ h_2(x)=S(0.2\\cdot 1+0.4\\cdot 4+0.6\\cdot 5+0.5\\cdot 1)=S(5.3)=1$$\n",
        "$$ o_1(h(x))=S(0.7\\cdot h_1(x)+0.9\\cdot h_2(x)+0.5\\cdot 1)=S(2.093)=0.89$$\n",
        "$$ o_2(h(x))=S(0.8\\cdot h_1(x)+0.1\\cdot h_2(x)+0.5\\cdot 1)=S(1.392)=0.8$$\n",
        "$$ MSE = (0.1-0.89)^2+(0.05-0.8)^2=1.19$$\n",
        "\n",
        "2. \n",
        "\n",
        "$$\\frac{d\\mathcal{L}}{do_1}=2(o_1-t_1)=1.58, \\frac{d\\mathcal{L}}{do_2}=2(o_2-t_2)=1.5$$\n",
        "\n",
        "$$\\frac{d\\mathcal{L}}{dw_7}=\\frac{d\\mathcal{L}}{do_1}\\frac{do_1}{dw_7}=1.58\\cdot S'(o_1(h(x)))h_1(x)=1.58\\cdot 0.206\\cdot 0.99=0.32$$\n",
        "$$\\frac{d\\mathcal{L}}{dw_8}=\\frac{d\\mathcal{L}}{do_2}\\frac{do_2}{dw_8}=1.5\\cdot S'(o_2(h(x)))h_1(x)=1.5\\cdot 0.214\\cdot 0.99=0.32$$\n",
        "$$\\frac{d\\mathcal{L}}{dw_9}=\\frac{d\\mathcal{L}}{do_1}\\frac{do_1}{dw_9}=1.58\\cdot S'(o_1(h(x)))h_2(x)=1.58\\cdot 0.206\\cdot 1=0.33$$\n",
        "$$\\frac{d\\mathcal{L}}{dw_{10}}=\\frac{d\\mathcal{L}}{do_2}\\frac{do_2}{dw_{10}}=1.5\\cdot S'(o_2(h(x)))h_2(x)=1.5\\cdot 0.214\\cdot 1=0.32$$\n",
        "\n",
        "$$\\frac{d\\mathcal{L}}{dh_1}=\\frac{d\\mathcal{L}}{do_1}\\frac{do_1}{dh_1}+\\frac{d\\mathcal{L}}{do_2}\\frac{do_2}{dh_1}=1.58\\cdot S'(o_1(h(x)))w_7+1.5\\cdot S'(o_2(h(x)))w_8\\\\=1.58\\cdot 0.206\\cdot 0.7+1.5\\cdot 0.214\\cdot 0.8 =0.228+0.257=0.48$$\n",
        "\n",
        "$$\\frac{d\\mathcal{L}}{dh_2}=\\frac{d\\mathcal{L}}{do_1}\\frac{do_1}{dh_2}+\\frac{d\\mathcal{L}}{do_2}\\frac{do_2}{dh_2}=1.58\\cdot S'(o_1(h(x)))w_9+1.5\\cdot S'(o_2(h(x)))w_{10}\\\\=1.58\\cdot 0.206\\cdot 0.9+1.5\\cdot 0.214\\cdot 0.1 =0.293+0.032=0.33$$\n",
        "\n",
        "$$\\frac{d\\mathcal{L}}{dw_1}=\\frac{d\\mathcal{L}}{dh_1}\\frac{dh_1}{dw_1}=0.48\\cdot S'(h_1(x))x_1=0.48\\cdot 0.197\\cdot 1=0.09$$\n",
        "$$\\frac{d\\mathcal{L}}{dw_2}=\\frac{d\\mathcal{L}}{dh_2}\\frac{dh_2}{dw_1}=0.33\\cdot S'(h_2(x))x_1=0.33\\cdot 0.197\\cdot 1=0.07$$\n",
        "$$\\frac{d\\mathcal{L}}{dw_3}=\\frac{d\\mathcal{L}}{dh_1}\\frac{dh_1}{dw_3}=0.48\\cdot S'(h_1(x))x_2=0.48\\cdot 0.197\\cdot 4=0.38$$\n",
        "$$\\frac{d\\mathcal{L}}{dw_4}=\\frac{d\\mathcal{L}}{dh_2}\\frac{dh_2}{dw_4}=0.33\\cdot S'(h_2(x))x_2=0.33\\cdot 0.197\\cdot 4=0.26$$\n",
        "$$\\frac{d\\mathcal{L}}{dw_5}=\\frac{d\\mathcal{L}}{dh_1}\\frac{dh_1}{dw_5}=0.48\\cdot S'(h_1(x))x_3=0.48\\cdot 0.197\\cdot 5=0.47$$\n",
        "$$\\frac{d\\mathcal{L}}{dw_6}=\\frac{d\\mathcal{L}}{dh_2}\\frac{dh_2}{dw_6}=0.33\\cdot S'(h_2(x))x_3=0.33\\cdot 0.197\\cdot 5=0.33$$\n",
        "\n",
        "\n",
        "$$\\nabla_w \\mathcal{L}=\\begin{bmatrix} 0.09 \\\\ 0.07 \\\\ 0.38 \\\\ 0.26 \\\\0.47 \\\\0.33 \\\\0.32 \\\\0.32\\\\0.33 \\\\ 0.32\\end{bmatrix}$$\n",
        "\n",
        "3. \n",
        "$$w_{t+1}=w_t-\\alpha \\nabla_w \\mathcal{L}(w_t)=\\begin{bmatrix} 0.1 \\\\ 0.2 \\\\ 0.3 \\\\ 0.4 \\\\0.5 \\\\0.6 \\\\0.7 \\\\0.8 \\\\0.9 \\\\ 0.1\\end{bmatrix}-0.01\\begin{bmatrix} 0.09 \\\\ 0.07 \\\\ 0.38 \\\\ 0.26 \\\\0.47 \\\\0.33 \\\\0.32 \\\\0.32\\\\0.33 \\\\ 0.32\\end{bmatrix}=\\begin{bmatrix} 0.099 \\\\ 0.199 \\\\ 0.296 \\\\ 0.397 \\\\0.495 \\\\0.597 \\\\0.697 \\\\0.797 \\\\0.897 \\\\ 0.097\\end{bmatrix}$$\n"
      ]
    },
    {
      "cell_type": "markdown",
      "metadata": {
        "id": "bjO6xMRAOF1N"
      },
      "source": [
        "## <img src=\"https://img.icons8.com/clouds/100/000000/question-mark.png\" style=\"height:50px;display:inline\"> Question 3 - Deep Double Descent\n",
        "---\n",
        "\n",
        "For the following plots:\n",
        "1. Where is the critical point (the point of transition between the \"Classical Regime\" and \"Modern Regime\") of the deep double descent?\n",
        "2. What type of double descent is shown? Explain.\n",
        "    \n",
        "\n",
        "a. <img src='https://raw.githubusercontent.com/taldatech/ee046211-deep-learning/main/assets/double_descent_transformer.PNG' style=\"height:300px\">\n",
        "\n",
        "b. <img src='https://raw.githubusercontent.com/taldatech/ee046211-deep-learning/main/assets/double_descent_resnet.PNG' style=\"height:300px\">\n",
        "\n",
        "c. <img src='https://raw.githubusercontent.com/taldatech/ee046211-deep-learning/main/assets/double_descent_intermediate.PNG' style=\"height:300px\">"
      ]
    },
    {
      "cell_type": "markdown",
      "metadata": {
        "id": "AJvVLhojOF1O"
      },
      "source": [
        "## <img src=\"https://img.icons8.com/fluency/48/000000/exclamation-mark.png\" style=\"height:50px;display:inline\"> Answer 3 -Deep Double Decent\n",
        "\n",
        "a. \n",
        "The critical point is around dimension=200 for the blue (German-English) model and around dimension=250 for the green (English-French) model. This is an example of model-wise double decent as we see that larger models have worse test error until a critical region is reached and the trend reverses. \n",
        "\n",
        "b. The critical point is around width=10 for the least noisy case and around width=13 for the highest noise.  \n",
        "This is an example of model-wise double decent, and we also see that adding label noise causes the critical region to move further away.  \n",
        "As the noise increases, the SNR and thus the optimal step size decreases. This effectively increases the dimensionallity of the data and moves the interpolation threshold location ($\\gamma=\\frac{d}{n}=1$ requires bigger dimensioanlity of the model parameters).\n",
        "\n",
        "c. At the large model at around 100 epochs we see an epoch-wise double descent as increasing the training time reverses the overfitting in the test error.  \n",
        "The small and intermediate models does not exhibit deep double decent. In intermediate sized models, we see the classical U shape of ML that requires early stopping.  \n",
        "In small sized models, we stay in the biased location, where increasing the training time improves the test error.  \n"
      ]
    },
    {
      "cell_type": "markdown",
      "metadata": {
        "id": "wU-XkJf5OF1P"
      },
      "source": [
        "## <img src=\"https://img.icons8.com/clouds/100/000000/question-mark.png\" style=\"height:50px;display:inline\"> Question 4 - Initialization\n",
        "---\n",
        "\n",
        "Recall that in lecture 5 we were discussing how to calculate the initialization variance, and reached the conclusion that $$ \\sigma_l =\\frac{1}{\\sqrt{d_{l-1}\\mathbb{E}_{z\\sim \\mathcal{N}(0, 1)} \\left[\\varphi^2(z)\\right]}} $$\n",
        "Show that for ReLU activation ($\\varphi(z) = max(0,z)$), the optimal variance satisfies: $$ \\sigma_l = \\sqrt{\\frac{2}{d_{l-1}}}$$\n",
        "\n",
        "All the notations are the same as in the lecture slides."
      ]
    },
    {
      "cell_type": "markdown",
      "metadata": {
        "id": "DoOZF5z4OF1Q"
      },
      "source": [
        "## <img src=\"https://img.icons8.com/fluency/48/000000/exclamation-mark.png\" style=\"height:50px;display:inline\"> Answer 4 -Initialization\n",
        "\n",
        "We assume that $\\forall i, \\mathbb{E}\\left [u_{l-1}[i]\\right ]=0, \\text{Var}(u_{l-1}[i])=1$\n",
        "From the lecture we know that under our assumptions for $W_{l-1}$,\n",
        "\n",
        "$$\\text{Var}(u_l[i])=\\sigma_l^2\\sum_{j=1}^{d_{l-1}}\\mathbb{E}\\left [\\varphi^2 (u_{l-1}[i])\\right ]$$\n",
        "\n",
        "For ReLU, $\\varphi^2(z)=\\begin{cases} z^2 & z>0 \\\\ 0 & \\text{otherwise} \\end{cases}$  \n",
        "Moreover, for Relu we don't need to assume/use the central limit theorem for any symetric PDF $f(u_{l-1}[i]) = f(-u_{l-1}[i])$ for example $u_{l-1} \\sim \\mathcal{N}(0,\\sigma^{2}I)$ or $u_{l-1}[i] \\sim \\mathcal{Uniform}(-1,1)$.\n",
        "\n",
        "$$\\mathbb{E}\\left [\\varphi^2 (u_{l-1}[i])\\right ] = \\int \\varphi^2 (u_{l-1}[i])f(u_{l-1}[i])du_{l-1}[i] = \\int_{0}^{\\infty} u_{l-1}[i]^2 f(u_{l-1}[i]) du_{l-1}[i] \\underbrace{=}_{(1)} \\frac{1}{2}\\int_{-\\infty}^{\\infty} u_{l-1}[i]^2 f(u_{l-1}[i]) du_{l-1}[i]=\\frac{1}{2}\\mathbb{E}\\left [u_{l-1}[i]^2\\right ]\\underbrace{=}_{(2)}\\frac{1}{2}\\text{Var}(u_{l-1}[i])\\underbrace{=}_{(3)}\\frac{1}{2}  $$\n",
        "\n",
        "The transitions are explained as follows:  \n",
        "$(1)$ is due to the fact that the integrand is an even/symetric function.  \n",
        "$(2)$ is due to the fact that $\\mathbb{E}\\left [u_{l-1}[i]\\right ]=0 \\Rightarrow  \\text{Var}(u_{l-1}[i]) = \\mathbb{E}\\left [u_{l-1}[i]^2\\right ] - \\mathbb{E}\\left [u_{l-1}[i]\\right ]^2 = \\mathbb{E}\\left [u_{l-1}[i]^2\\right ]$   \n",
        "And $(3)$ since $\\text{Var}(u_{l-1}[i])=1 (by the induction step over layers and inputs)$   \n",
        "\n",
        "From this we get $$\\text{Var}(u_l[i])=\\sigma_l^2\\sum_{j=1}^{d_{l-1}}\\frac{1}{2}=1$$\n",
        "\n",
        "$$\\frac{1}{2}\\sigma_l^2 d_{l-1}=1$$\n",
        "\n",
        "$$\\Rightarrow \\sigma_l = \\sqrt{\\frac{2}{d_{l-1}}}$$\n"
      ]
    },
    {
      "cell_type": "markdown",
      "metadata": {
        "id": "eurEw1szOF1Q"
      },
      "source": [
        "## <img src=\"https://img.icons8.com/clouds/100/000000/question-mark.png\" style=\"height:50px;display:inline\"> Question 5 - MLP and Invaraince\n",
        "---\n",
        "\n",
        "You have to design an MLP with the following input: DNA sequences of length $d$. The DNA is a sequence of bases, where each base can be one of 4 options: $(C, T, G, A)$. Thus, the input can be described as the following matrix: $$ X \\in \\mathcal{R}^{4 \\times d}, $$ where $X[j,i]$ denotes the measured value of base concentration of the $j^{th}$ base at location $i$. \n",
        "\n",
        "The network should output a **binary** classification $y \\in \\{-1, 1\\}$ for a specific property we wish to find. The network will be trained on samples $\\{X^{(n)}, y^{(n)} \\}_{n=1}^{N}$, with a **logistic loss function**.\n",
        "\n",
        "First, we will examine a network with 1 hidden layerof size $4 \\times d$ and a **LeakyReLU** activation $\\phi$: $$ f_w(X) = \\sum_{r=1}^{4}\\sum_{k=1}^d W_2[r,k]\\phi\\left(\\sum_{j=1}^{4}\\sum_{i=1}^d W_1[r, k,j, i]X[j, i] \\right),$$ where $w=\\{W_1, W_2\\}$ are the layers of the weight **tensors**. After training is done, the classification will be done with $\\text{sign}(f(X))$.\n",
        "\n",
        "1. Which invariances exist in the network's parameters?\n",
        "2. Now, we notice the fact that: the *direction* in which the DNA is scanned is arbitrary. Thus, if for two inputs $X, \\tilde{X}$: $$ \\forall i,j: \\: X[j,i] = \\tilde{X}[j, d-i], $$ then the two inputs are **equivalent** in their meaning. What constraints should we put on the network's parameters to improve the network's classification performance?\n",
        "3. After that, we now recall that the DNA bases come in pairs, and thus if for two inputs $X, \\tilde{X}$: $$ \\forall i,j : \\: X[j,i] = \\tilde{X}[(j+2)\\text{mod}4,i], $$ then the two inputs are **equivalent** in their meaning. What constraints should we put on the network's parameters to improve the network's classification performance?\n",
        "4. We now notice that the measurement process in noisy, each sample $X^{(n)}$ is in arbitrary scale, and thus if for two $X, \\tilde{X}$: $$ \\forall i,j: \\: X[j,i] = c\\tilde{X}[j,i], $$ for some constant $c>0$, then the two inputs are **equivalent** in their meaning.\n",
        "    * (a) For the given network, that **is already trained**, what is the effect of the scale $c$ on the classification result?\n",
        "    * (b) Can the arbitrary scale hurt the training process? Hint: think what happens to the gradient of each sample.\n",
        "    * (c) How can use this information to improve the classifier performance?"
      ]
    },
    {
      "cell_type": "markdown",
      "metadata": {
        "id": "TJb5wlHSOF1R"
      },
      "source": [
        "## <img src=\"https://img.icons8.com/fluency/48/000000/exclamation-mark.png\" style=\"height:50px;display:inline\"> Answer 5 - MLP and Invaraince\n",
        "\n",
        "1. The LeakyReLU activation is rescale symmetric, so there is rescale invariance between $z_1=W_1X$ and $\\phi(z_1)$. Meaning, $\\forall c >0$ if we multiply $W_1$ by $c$ and multiply  $W_2$ by $\\frac{1}{c}$ we get the same function.  \n",
        "The MNN is also invariant to permutations on the nuerons with some permutation matrix $P$ and its inverse $P^{-1}=P^T$.  \n",
        "The final layer is also sign symmetric so we can flip the weights $W_2$ and the sign activation and also get the same result (but this is not a proper invariant).\n",
        "\n",
        "2. To achieve this equivalence, we can require that  $\\forall r,k,j$ the $W_1[r,k,j,:]$ is a symetric tensor relative to the last dimension such that $W_1[r,k,j,i]=W_1[r,k,j,d-i], \\forall i\\in \\left [1,\\frac{d}{2}\\right ]$\n",
        "\n",
        "3. Similarly to section 2, we can require $W_1[r,k,0,i]=W_1[r,k,2,i],W_1[r,k,1,i]=W_1[r,k,3,i]$ for all $r,k,i$.\n",
        "\n",
        "4.  \n",
        "    (a) There is no effect on the classification result itself. The output will be scaled based on the input, so $f_w(X)=c\\cdot f_w(\\tilde{X}))$, but the sign is the same.  \n",
        "    (b) Yes, the training loss is logistic loss, which is not scale invariant, and the gradient of each example is proportional to $$\\frac{\\partial L}{\\partial \\hat{Y}} = \\frac{\\partial \\log(1+e^{-\\hat{Y} Y})}{\\partial \\hat{Y}} = -\\frac{Ye^{-\\hat{Y}Y}}{1+e^{-\\hat{Y}Y}} = -\\frac{Y}{1+e^{\\hat{Y}Y}} = -\\frac{Y}{1+e^{f_w(X)Y}}$$\n",
        "    so having an arbitrary scale may cause the gradient to vanish due to numerical approximation issues.\n",
        "    As an example, if the label is $Y=1$ we can scale $f(X)$ by a big contant $c>0$ and have a vanishing gradient when $f(X)>0$.  \n",
        "    (c) If this property is desired, then we can purposly scale the gradient for all incorrectly labeled examples to increase the gradient, resulting in a situation similar to max-margin classification (we artifically increase the cost of mistakes, thereby increasing the gradient only for incorrectly labeled examples).\n"
      ]
    },
    {
      "cell_type": "markdown",
      "metadata": {
        "id": "68ebTszMOF1R"
      },
      "source": [
        "## <img src=\"https://img.icons8.com/clouds/100/000000/question-mark.png\" style=\"height:50px;display:inline\"> Question 6 -VGG Architecture\n",
        "---\n",
        "\n",
        "1. The VGG-11 CNN architecture consists of 11 convolution (CONV)/fully-connected (FC) layers (every CONV layer has the same padding and stride, every MAXPOOL layer is 2×2 and has padding of 0 and stride 2). Fill in the table. You need to **consider the bias**.\n",
        "\n",
        "\n",
        "* CONV$M$-$N$: a convolutional layer with $N$ neurons, each of size $M \\times M \\times D$, where $D$ is the number of filters. $stride=1, padding=1$ \n",
        "* POOL2: $2 \\times 2$ Max Pooling with $stride=2$\n",
        "    * In case the input of the layer is odd, you should round down. For example, if the output of the layer should be $3.5 \\times 3.5 \\times 3$, you should round to $3 \\times 3 \\times 3$ (i.e., ignore the last column of the input image when performing MaxPooling).\n",
        "* FC-N: a fully connected layer with $N$ neurons.\n",
        "\n",
        "\n",
        "| Layer  | Output Dimension  | Number of Parameters (Weights) |\n",
        "|---|---|---|\n",
        "| INPUT  |  224x224x3 | 0  |\n",
        "|  CONV3-64 | -  | -  | \n",
        "| ReLU |  - | -  |\n",
        "| POOL2|  - | -  |\n",
        "|CONV3-128 | - | -|\n",
        "|ReLU | - | -|\n",
        "| POOL2|  - | -  |\n",
        "|CONV3-256 | - | -|\n",
        "|ReLU | - | -|\n",
        "|CONV3-256 | - | -|\n",
        "|ReLU | - | -|\n",
        "| POOL2|  - | -  |\n",
        "|CONV3-512 | - | -|\n",
        "|ReLU | - | -|\n",
        "|CONV3-512 | - | -|\n",
        "|ReLU | - | -|\n",
        "| POOL2|  - | -  |\n",
        "|CONV3-512 | - | -|\n",
        "|ReLU | - | -|\n",
        "|CONV3-512 | - | -|\n",
        "|ReLU | - | -|\n",
        "| POOL2|  - | -  |\n",
        "| FC-4096|  - | -  |\n",
        "| FC-4096|  - | -  |\n",
        "| FC-1000|  - | -  |\n",
        "| SOFTMAX|  - | -  |\n",
        "\n",
        "2. What is the total number of parameters? (use a calculator for this one)\n",
        "3. What percentage of the weights are found in the fully-connected layers?"
      ]
    },
    {
      "cell_type": "markdown",
      "metadata": {
        "id": "tpLC9zRMOF1T"
      },
      "source": [
        "## <img src=\"https://img.icons8.com/fluency/48/000000/exclamation-mark.png\" style=\"height:50px;display:inline\"> Answer 6 -VGG architecture\n",
        "\n",
        "1. Filled in the table  \n",
        "\n",
        "| Layer  | Output Dimension  | Number of Parameters (Weights) |\n",
        "|---|---|---|\n",
        "| INPUT  |  224x224x3 | 0  |\n",
        "|  CONV3-64 | 224x224x64  | 64x(3x3x3+1)=1792  | \n",
        "| ReLU |  224x224x64 | 0  |\n",
        "| POOL2|  112x112x64 | 0  |\n",
        "|CONV3-128 | 112x112x128 | 128x(3x3x64+1)=73,856  |\n",
        "|ReLU | 112x112x128 | 0|\n",
        "| POOL2|  56x56x128 | 0|\n",
        "|CONV3-256 | 56x56x256 | 256x(3x3x128+1)=295,168|\n",
        "|ReLU | 56x56x256 | 0|\n",
        "|CONV3-256 | 56x56x256 | 256x(3x3x256+1)=590,080|\n",
        "|ReLU | 56x56x256 | 0|\n",
        "| POOL2|  28x28x256 | 0  |\n",
        "|CONV3-512 | 28x28x512 | 512x(3x3x256+1)=1,180,160|\n",
        "|ReLU | 28x28x512 | 0|\n",
        "|CONV3-512 | 28x28x512 | 512x(3x3x512+1)=2,359,808|\n",
        "|ReLU | 28x28x512 | 0|\n",
        "| POOL2|  14x14x512 | 0  |\n",
        "|CONV3-512 | 14x14x512 | 512x(3x3x512+1)=2,359,808|\n",
        "|ReLU | 14x14x512 | 0|\n",
        "|CONV3-512 | 14x14x512 | 512x(3x3x512+1)=2,359,808|\n",
        "|ReLU | 14x14x512 | 0|\n",
        "| POOL2|  7x7x512 | 0  |\n",
        "| FC-4096|  4096 | (7x7x512+1)x4096=102,764,544  |\n",
        "| FC-4096|  4096 | (4096+1)x4096=16,781,312  |\n",
        "| FC-1000|  1000 | (4096+1)x1000=4,097,000  |\n",
        "| SOFTMAX|  1000 | 0  |\n",
        "\n",
        "2. convolution layers weights : 9,220,480  \n",
        "   FC layers weights : 123,642,856  \n",
        "   Total: 132,863,336  \n",
        "3. 100 x 123,642,856 / 132,863,336 = 93.06% of the total weights are in the FC layers' weights."
      ]
    },
    {
      "cell_type": "markdown",
      "metadata": {
        "id": "7D-14iM7pGhm"
      },
      "source": [
        "### <img src=\"https://img.icons8.com/officel/80/000000/code.png\" style=\"height:50px;display:inline\"> Part 2 - Code Assignments\n",
        "---\n",
        "* You must write your code in this notebook and save it with the output of all of the code cells.\n",
        "* Additional text can be added in Markdown cells.\n",
        "* You can use any other IDE you like (PyCharm, VSCode...) to write/debug your code, but for the submission you must copy it to this notebook, run the code and save the notebook with the output."
      ]
    },
    {
      "cell_type": "markdown",
      "metadata": {
        "id": "sMvyKarhOF1Y"
      },
      "source": [
        "#### Tips\n",
        "---\n",
        "1. Uniformly distributed tensors - `torch.Tensor(dim1, dim2, ...,dimN).uniform_(-1, 1)`\n",
        "2. Separation to **validation set** in PyTorch - <a href=\"https://gist.github.com/MattKleinsmith/5226a94bad5dd12ed0b871aed98cb123\">See example here</a>."
      ]
    },
    {
      "cell_type": "code",
      "execution_count": 1,
      "metadata": {
        "colab": {
          "base_uri": "https://localhost:8080/"
        },
        "id": "4Jj_VZlEOF1Y",
        "outputId": "ce98d431-c96d-4e81-80b8-2149f550ed97"
      },
      "outputs": [
        {
          "output_type": "execute_result",
          "data": {
            "text/plain": [
              "<torch._C.Generator at 0x7f5f76d902f0>"
            ]
          },
          "metadata": {},
          "execution_count": 1
        }
      ],
      "source": [
        "# imports for the practice (you can add more if you need)\n",
        "import os\n",
        "import numpy as np\n",
        "import pandas as pd\n",
        "import torch\n",
        "import torch.nn as nn\n",
        "import torchvision\n",
        "import matplotlib.pyplot as plt\n",
        "# %matplotlib notebook\n",
        "%matplotlib inline\n",
        "\n",
        "seed = 211\n",
        "np.random.seed(seed)\n",
        "torch.manual_seed(seed)"
      ]
    },
    {
      "cell_type": "markdown",
      "metadata": {
        "id": "5g6fMD9VOF1c"
      },
      "source": [
        "\n",
        "### <img src=\"https://img.icons8.com/color/48/000000/code.png\" style=\"height:50px;display:inline\"> Task 1 - The Importance of Activation and Initialization\n",
        "---\n",
        "In this task, we are going to use $x \\in \\mathcal{R}^{512}$ and simple neural network that outputs $f(x) \\in \\mathcal{R}^{512}$. The network will have 100 layers with 512 units in each layer.\n",
        "\n",
        "1. We initialize the weights from a unit normal distribution. Run the following code cell and explain what happens. Add a short piece of code that locates when it happens (hint: use `torch.isnan()`). **Print** the layer number.\n",
        "2. We can demonstrate that at a given layer, the matrix product of inputs $x$ and weight matrix $a$ that is initialized from a standard normal distribution will, on average, have a standard deviation very close to the square root of the number of input connections. For our example, with 512 dimensions, show that for 10,000 multiplications of $a$ and $x$, the empirical standard deviation is similar to the square root of the number of input connections. Use the unbiased version: $$ \\hat{std} = \\sqrt{\\frac{\\sum_{i=1}^{10000}\\frac{1}{N}\\sum_{j=1}^N y^2}{10000}}, $$ where $y=ax$ and $N$ is the number of input connections. **Print** the mean, std and the square root of the number of input connections.\n",
        "3. For the code from 1, normalize the weight initialization by the square root of the input connections. How does that change the outcome? **Print** the mean and std after the modification.\n",
        "4. Add a `tanh()` activation after each layer for the code from 1. **Print** the mean and std after the modification. Explain the result.\n",
        "5. Xavier initialization sets a layer’s weights to values chosen from a random uniform distribution that’s bounded between $$\\pm \\sqrt{\\frac{6}{n_i + n_{i+1}}}$$ where $n_i$ is the number of incoming network connections, or “fan-in,” to the layer, and $ n_{i+1}$ is the number of outgoing network connections from that layer, also known as the “fan-out”. Glorot and Bengio believed that Xavier weight initialization would maintain the variance of activations and back-propagated gradients all the way up or down the layers of a network and demonstrated that networks initialized with Xavier achieved substantially quicker convergence and higher accuracy. Implement **Xavier Uniform** as `xavier_init(fan_in, fan_out)`, a function that returns a tensor initialized according to **Xavier Uniform**. Use it on the simple network from 1 with `tanh` activation. **Print** the mean and std after the modification.\n",
        "6. If you try to replace the `tanh` activation with `relu` activation in section 5, you will see very different results. Xavier strives to acheive activation outputs of each layer to have a mean of 0 and a standard deviation around 1, on average. When using a ReLU activation, a single layer will, on average have standard deviation that’s very close to the square root of the number of input connections, **divided by the square root of two** ($\\sqrt{\\frac{512}{2}}$ in our example). **Kaiming He et. al.** proposed an initialization scheme that’s tailored for deep neural nets that use these kinds of asymmetric, non-linear activations. Implement **Kaiming Normal** as `kaiming_init(fan_in, fan_out)`, a function that returns a tensor initialized according to **Kaiming Normal** (use `fan_in` mode). Use it on the simple network from 1 with `relu` activation. **Print** the mean and std after the modification. What happens when you use Xavier with RelU activation?"
      ]
    },
    {
      "cell_type": "code",
      "execution_count": 2,
      "metadata": {
        "colab": {
          "base_uri": "https://localhost:8080/"
        },
        "id": "ZL2A1iIQOF1e",
        "outputId": "409e26a5-1a41-4191-c709-4ee8e73611a6"
      },
      "outputs": [
        {
          "output_type": "stream",
          "name": "stdout",
          "text": [
            "tensor(nan) tensor(nan)\n"
          ]
        }
      ],
      "source": [
        "x = torch.randn(512)\n",
        "for i in range(100):\n",
        "    a = torch.randn(512, 512)\n",
        "    x = a @ x\n",
        "print(x.mean(), x.std())"
      ]
    },
    {
      "cell_type": "markdown",
      "metadata": {
        "id": "G29XbXyoOF1e"
      },
      "source": [
        "### <img src=\"https://img.icons8.com/color/48/000000/code.png\" style=\"height:50px;display:inline\"> Task 1 Code and Answers - The Importance of Activation and InitializationYour answers here\n",
        "\n",
        "1. At some point we hit numerical problems as the vector x components explode beyond the CPU max floating point percision."
      ]
    },
    {
      "cell_type": "code",
      "execution_count": 3,
      "metadata": {
        "colab": {
          "base_uri": "https://localhost:8080/"
        },
        "id": "g3lQL4qjOF1f",
        "outputId": "ed32d78a-1a87-4518-c3ee-58f7a9f2e4f3"
      },
      "outputs": [
        {
          "output_type": "stream",
          "name": "stdout",
          "text": [
            "x tensot is all NaN at layer 29\n",
            "tensor(nan) tensor(nan)\n"
          ]
        }
      ],
      "source": [
        "#1.1\n",
        "N=512\n",
        "x = torch.randn(N)\n",
        "for i in range(100):\n",
        "    a = torch.randn(N, N)\n",
        "    x = a @ x\n",
        "    #print(x.numpy())\n",
        "    if torch.isnan(x).all():\n",
        "        print(f\"x tensot is all NaN at layer {i}\")\n",
        "        #print(x.numpy())\n",
        "        break\n",
        "print(x.mean(), x.std())\n"
      ]
    },
    {
      "cell_type": "markdown",
      "metadata": {
        "id": "0IqmmQZrOF1f"
      },
      "source": [
        "2. We get that with 10000 calculations of empirical std, the mean (estimator) is about the same as the square root on the input connections."
      ]
    },
    {
      "cell_type": "code",
      "execution_count": 4,
      "metadata": {
        "colab": {
          "base_uri": "https://localhost:8080/"
        },
        "id": "zzh8yVu8OF1f",
        "outputId": "096842fd-c919-4d22-be51-4bd37a159d9f"
      },
      "outputs": [
        {
          "output_type": "stream",
          "name": "stdout",
          "text": [
            "mean of stds:22.610655394172667\n",
            "std of stds:1.0025907195653077\n",
            "number of input connections square root:22.627416997969522\n"
          ]
        }
      ],
      "source": [
        "#1.2\n",
        "N=512\n",
        "num_of_runs=10000\n",
        "arr_of_stds=np.zeros((num_of_runs,))\n",
        "for i in range(num_of_runs):\n",
        "    x = torch.randn(N)\n",
        "    a = torch.randn(N, N)\n",
        "    y = a @ x\n",
        "    arr_of_stds[i] = torch.sqrt(torch.sum(y**2)/N).numpy()\n",
        "mean_of_stds = np.mean(arr_of_stds)\n",
        "std_of_stds = np.std(arr_of_stds)\n",
        "squar_root_of_N = np.sqrt(N)\n",
        "print(f\"mean of stds:{mean_of_stds}\")\n",
        "print(f\"std of stds:{std_of_stds}\")\n",
        "print(f\"number of input connections square root:{squar_root_of_N}\")\n",
        "                      "
      ]
    },
    {
      "cell_type": "markdown",
      "metadata": {
        "id": "U6H43XYiOF1g"
      },
      "source": [
        "3. As we saw in the lecture, once we divide each layer by the square root of the layer's input width, we can maintain the input mean and variance $u_{l-1} \\sim \\mathcal{N}(0,I)$ on the output of that layer $u_l$. Thus, the outputs of the NN don't explode."
      ]
    },
    {
      "cell_type": "code",
      "execution_count": 5,
      "metadata": {
        "colab": {
          "base_uri": "https://localhost:8080/"
        },
        "id": "_1ezxJzWOF1g",
        "outputId": "12a32d06-aa2c-42b4-c572-0873e4d3eacf"
      },
      "outputs": [
        {
          "output_type": "stream",
          "name": "stdout",
          "text": [
            "x mean:-0.012621086090803146\n",
            "x std:0.7621493339538574\n"
          ]
        }
      ],
      "source": [
        "#1.3\n",
        "N=512\n",
        "x = torch.randn(N)\n",
        "for i in range(100):\n",
        "    a = torch.randn(N, N) / np.sqrt(N)\n",
        "    x = a @ x\n",
        "print(f\"x mean:{x.mean()}\\nx std:{x.std()}\")\n"
      ]
    },
    {
      "cell_type": "markdown",
      "metadata": {
        "id": "XVutw1CaOF1h"
      },
      "source": [
        "4. Since tanh activation output is bounded by (-1,1), the output values can't explode and even w/o the normalization we maintain zero mean and variance one."
      ]
    },
    {
      "cell_type": "code",
      "execution_count": 6,
      "metadata": {
        "colab": {
          "base_uri": "https://localhost:8080/"
        },
        "id": "UyXIzRT8OF1k",
        "outputId": "d278bc29-030f-4670-cc52-d734f893f5be"
      },
      "outputs": [
        {
          "output_type": "stream",
          "name": "stdout",
          "text": [
            "x mean:-0.03518223389983177\n",
            "x std:0.9775998592376709\n"
          ]
        }
      ],
      "source": [
        "#1.4\n",
        "N=512\n",
        "x = torch.randn(N)\n",
        "for i in range(100):\n",
        "    a = torch.randn(N, N) \n",
        "    x = torch.tanh(a @ x)\n",
        "print(f\"x mean:{x.mean()}\\nx std:{x.std()}\")"
      ]
    },
    {
      "cell_type": "markdown",
      "metadata": {
        "id": "ihmZB4R1OF1k"
      },
      "source": [
        "5. With Xavier init We can see the mean is closer to 0 compared to previous section w/o it. The variance has changed and got smaller though, which can cause vanishing values at the last layers of the NN."
      ]
    },
    {
      "cell_type": "code",
      "execution_count": 7,
      "metadata": {
        "colab": {
          "base_uri": "https://localhost:8080/"
        },
        "id": "fjTXcstZOF1m",
        "outputId": "f6c8aa55-3088-44fe-e8de-5c2c37855c50"
      },
      "outputs": [
        {
          "output_type": "stream",
          "name": "stdout",
          "text": [
            "x mean:-0.00306722242385149\n",
            "x std:0.06797510385513306\n"
          ]
        }
      ],
      "source": [
        "#1.5\n",
        "def xavier_init(fan_in, fan_out):\n",
        "    xavier_coef = np.sqrt(6/(fan_in + fan_out))\n",
        "    a = torch.rand(fan_out, fan_in)\n",
        "    a = xavier_coef * (2 * a - 1) \n",
        "    return a\n",
        "\n",
        "N=512\n",
        "x = torch.randn(N)\n",
        "for i in range(100):\n",
        "    a = xavier_init(N, N) \n",
        "    x = torch.tanh(a @ x)\n",
        "print(f\"x mean:{x.mean()}\\nx std:{x.std()}\")"
      ]
    },
    {
      "cell_type": "markdown",
      "metadata": {
        "id": "UCgdVwvUOF1m"
      },
      "source": [
        "6. Using Relu activation instead of tanh with Xavier initialization, the mean and std are zeroed almost completely, thus the values at output will be effectively 0.  \n",
        "  With Kaiming He init, as we saw in the dry part Q4, for the Relu activation we can use any symmetric distribution and when we enforce the weights std to be  $\\sqrt{\\frac{2}{d_{l-1}}}$ we preserve the input mean and variance on output."
      ]
    },
    {
      "cell_type": "code",
      "execution_count": 8,
      "metadata": {
        "colab": {
          "base_uri": "https://localhost:8080/"
        },
        "id": "H8HI86pVOF1n",
        "outputId": "e208d35f-4a88-4e2c-fe16-4fd7adbd7b9d"
      },
      "outputs": [
        {
          "output_type": "stream",
          "name": "stdout",
          "text": [
            "relu with xavier init mean:3.6174410778934776e-16\n",
            "relu with xavier init std:5.593861699600155e-16\n",
            "relu with kaiming init mean:0.5281035900115967\n",
            "relu with kaiming init std:0.8080969452857971\n"
          ]
        }
      ],
      "source": [
        "#1.6\n",
        "N=512\n",
        "x = torch.randn(N)\n",
        "for i in range(100):\n",
        "    a = xavier_init(N, N) \n",
        "    x = torch.relu(a @ x)\n",
        "print(f\"relu with xavier init mean:{x.mean()}\\nrelu with xavier init std:{x.std()}\")\n",
        "\n",
        "def kaiming_init(fan_in, fan_out):\n",
        "    return torch.randn(fan_out, fan_in) * np.sqrt(2/fan_in)\n",
        "\n",
        "N=512\n",
        "x = torch.randn(N)\n",
        "num_of_layers = 100\n",
        "#arr_of_x=np.zeros((N,num_of_runs))\n",
        "for i in range(num_of_layers):\n",
        "    a = kaiming_init(N,N) \n",
        "    x = torch.relu(a @ x)\n",
        "    #arr_of_x[:,i] = x.numpy()\n",
        "\n",
        "print(f\"relu with kaiming init mean:{x.mean()}\\nrelu with kaiming init std:{x.std()}\")\n",
        "#print(f\"relu with kaiming init mean:{arr_of_x.mean()}\\nrelu with kaiming init std:{arr_of_x.std()}\")\n"
      ]
    },
    {
      "cell_type": "markdown",
      "metadata": {
        "id": "YlSATRm2OF1n"
      },
      "source": [
        "### <img src=\"https://img.icons8.com/color/48/000000/code.png\" style=\"height:50px;display:inline\"> Task 2 - FashionMNIST Deep Classifer\n",
        "---\n",
        "In this task you are going to design and train your first neural network for classification.\n",
        "1. Load the FashionMNIST dataset `torchvision.datasets.FashionMNIST` and display 6 images with their labels from the dataset.\n",
        "2. Design a **MLP** to classify images from the FashionMNIST dataset. **You need to reach at least 85% accuracy on the test set, and 89% for a full grade**.\n",
        "    * You have a free choice of architecture, optimizer, learning scheduler, initialization, regularization and activations.\n",
        "    * In a Markdown block, write down the chosen architectures and all the hyper-parameters.\n",
        "    * **Plot** the loss curves (and any oter statistic you want) as a function of epochs/iterations.\n",
        "    * **Print** the test accuracy.\n",
        "3. Change the initialization of the linear layers and re-train the model. You can pick an initialization of your choosing from : https://pytorch.org/docs/stable/nn.init.html . See example below how to use. **Print** the change in accuracy."
      ]
    },
    {
      "cell_type": "code",
      "execution_count": 9,
      "metadata": {
        "id": "vBsEvB25OF1n"
      },
      "outputs": [],
      "source": [
        "# example of weight initialization\n",
        "import torch.nn as nn\n",
        "class MyModel(nn.Module):\n",
        "    def __init__(self, parmaeters):\n",
        "        super(MyModel, self).__init__()\n",
        "        # model definitions/blocks\n",
        "        # ...\n",
        "        # custom initialization\n",
        "        self.init_weights()\n",
        "\n",
        "    def init_weights(self):\n",
        "        for m in self.modules():\n",
        "            if isinstance(m, nn.Linear):\n",
        "                # pick initialzation: https://pytorch.org/docs/stable/nn.init.html\n",
        "                # examples\n",
        "                # nn.init.kaiming_normal_(m.weight, mode='fan_out', nonlinearity='relu')\n",
        "                # nn.init.kaiming_normal_(m.weight, mode='fan_in', nonlinearity='leaky_relu', a=math.sqrt(5))\n",
        "                # nn.init.normal_(m.weight, 0, 0.005)\n",
        "                # don't forget the bias term (m.bias)\n",
        "                pass\n",
        "\n",
        "    def forward(self, x):\n",
        "        # ops on x\n",
        "        # ...\n",
        "        # output = f(x)\n",
        "        return output"
      ]
    },
    {
      "cell_type": "markdown",
      "metadata": {
        "id": "h4mTzjp_CTmS"
      },
      "source": [
        "### <img src=\"https://img.icons8.com/color/48/000000/code.png\" style=\"height:50px;display:inline\"> Task 2 Code and Answers - FashionMNIST Deep Classifer"
      ]
    },
    {
      "cell_type": "markdown",
      "metadata": {
        "id": "Hoi5cXxF7FSI"
      },
      "source": [
        "1. Load and display of some 6 randome samples from the dataset:"
      ]
    },
    {
      "cell_type": "code",
      "execution_count": 10,
      "metadata": {
        "id": "njUSLERMjN47",
        "outputId": "d8608748-5da1-4f8b-ead9-ed2215f50e80",
        "colab": {
          "base_uri": "https://localhost:8080/"
        }
      },
      "outputs": [
        {
          "output_type": "stream",
          "name": "stdout",
          "text": [
            "running calculations on:  cuda:0\n"
          ]
        }
      ],
      "source": [
        "# imports for the practice (you can add more if you need)\n",
        "import os\n",
        "import numpy as np\n",
        "import pandas as pd\n",
        "import torch\n",
        "import torch.nn as nn\n",
        "import torchvision\n",
        "import matplotlib.pyplot as plt\n",
        "# %matplotlib notebook\n",
        "%matplotlib inline\n",
        "\n",
        "seed = 211\n",
        "np.random.seed(seed)\n",
        "torch.manual_seed(seed)\n",
        "\n",
        "# check if there is gpu avilable, if there is, use it\n",
        "if torch.cuda.is_available():\n",
        "    torch.cuda.current_device()\n",
        "device = torch.device(\"cuda:0\" if torch.cuda.is_available() else \"cpu\")\n",
        "print(\"running calculations on: \", device)\n"
      ]
    },
    {
      "cell_type": "code",
      "execution_count": 11,
      "metadata": {
        "colab": {
          "base_uri": "https://localhost:8080/",
          "height": 423,
          "referenced_widgets": [
            "d95e4afda0424577a93ba323b96606dd",
            "2dac1c94f6ae4722b3a00a61e460e2fa",
            "365c4e85ebfe42bb8f3a2588b40a3aed",
            "a1b0bfd2cf37481b9d0526c671224d8a",
            "b339853829e44a009f4f443c91c89517",
            "0f8cf7a02b8e48d9accd90ada819de61",
            "e2f53b56fddd4495a56f933abc754be5",
            "ff160c4fad2b4924acb3d03438fa9d3b",
            "c4c26122f74147cfa19ec881bb5012f8",
            "57a5064c89a142389b3e3b7b12f04c1a",
            "86201dc7fbf443de8139ee122dc5099e",
            "555c012dfe264127a033e27f18f0ba44",
            "7201f41b4ded43bc8be43f31f03d6aab",
            "e5c754cfd7b04e999a69862774eab07a",
            "f1f05d85e2604511bdc0609c37c3d892",
            "072f8a4d195a4a00b0fc6f3d23ac1dc9",
            "f15fe37f92094576b1b8eeaa76496365",
            "7d63e288957748cdae59f16601904fef",
            "fc710c7a8b144218a17481b6a400338e",
            "14645d89739447bb96040a9e29d4b591",
            "8cd444011e9d489db03b695ac99ff4eb",
            "8d8e785fe33744e3910ec5cc46d61b01",
            "1b2f740f4aa842cdadbc812eb6a0fa13",
            "5a7309ed69de4aa29938d388122d8868",
            "1a12e2fd40194364bd0737b2a697a43d",
            "4982c6b51d61435eb4026304b490cb99",
            "c8f9a5da856b441b8289ee12cdcf8341",
            "2199b420101e4eaaaab6f40d3917ac8e",
            "db93872230ff455eb578609a92808353",
            "63a787e2a41c40e9a8ed4b8324726915",
            "7b4c856f7798490997a36ab06c17b154",
            "567cbba388d04ef2ba101f901ebba699",
            "46bf70af68bd42d198acf6b2faac266d",
            "e71fc88d877a42d99ca1517dc52ac4e5",
            "d34c1bad3bbf47ad8b27773a085d3e05",
            "77cb476413854188a26f73a87c6c76d9",
            "9b93a58daf084773a5cb91137ca6709c",
            "a5ffd05e4be7497ba7d260c210f961a7",
            "3addb4f272ea4e7690758437ecb9e7ed",
            "8ad0c0b8d8f444a290a92553ded2eada",
            "23626334e3a14e19b0415b1a610d38c0",
            "1624194f75434ba79891b5a81f6b105a",
            "5047c5489b154360be6619db8d40e34b",
            "885f80d92e634a8dbbbcc0ae55a6469d"
          ]
        },
        "id": "MQwBVxNAOF1o",
        "outputId": "a1f7d8bf-d37e-455a-c819-88f4b3913a3f"
      },
      "outputs": [
        {
          "output_type": "stream",
          "name": "stdout",
          "text": [
            "Downloading http://fashion-mnist.s3-website.eu-central-1.amazonaws.com/train-images-idx3-ubyte.gz\n",
            "Downloading http://fashion-mnist.s3-website.eu-central-1.amazonaws.com/train-images-idx3-ubyte.gz to ./datasets/FashionMNIST/raw/train-images-idx3-ubyte.gz\n"
          ]
        },
        {
          "output_type": "display_data",
          "data": {
            "application/vnd.jupyter.widget-view+json": {
              "model_id": "d95e4afda0424577a93ba323b96606dd",
              "version_minor": 0,
              "version_major": 2
            },
            "text/plain": [
              "  0%|          | 0/26421880 [00:00<?, ?it/s]"
            ]
          },
          "metadata": {}
        },
        {
          "output_type": "stream",
          "name": "stdout",
          "text": [
            "Extracting ./datasets/FashionMNIST/raw/train-images-idx3-ubyte.gz to ./datasets/FashionMNIST/raw\n",
            "\n",
            "Downloading http://fashion-mnist.s3-website.eu-central-1.amazonaws.com/train-labels-idx1-ubyte.gz\n",
            "Downloading http://fashion-mnist.s3-website.eu-central-1.amazonaws.com/train-labels-idx1-ubyte.gz to ./datasets/FashionMNIST/raw/train-labels-idx1-ubyte.gz\n"
          ]
        },
        {
          "output_type": "display_data",
          "data": {
            "application/vnd.jupyter.widget-view+json": {
              "model_id": "555c012dfe264127a033e27f18f0ba44",
              "version_minor": 0,
              "version_major": 2
            },
            "text/plain": [
              "  0%|          | 0/29515 [00:00<?, ?it/s]"
            ]
          },
          "metadata": {}
        },
        {
          "output_type": "stream",
          "name": "stdout",
          "text": [
            "Extracting ./datasets/FashionMNIST/raw/train-labels-idx1-ubyte.gz to ./datasets/FashionMNIST/raw\n",
            "\n",
            "Downloading http://fashion-mnist.s3-website.eu-central-1.amazonaws.com/t10k-images-idx3-ubyte.gz\n",
            "Downloading http://fashion-mnist.s3-website.eu-central-1.amazonaws.com/t10k-images-idx3-ubyte.gz to ./datasets/FashionMNIST/raw/t10k-images-idx3-ubyte.gz\n"
          ]
        },
        {
          "output_type": "display_data",
          "data": {
            "application/vnd.jupyter.widget-view+json": {
              "model_id": "1b2f740f4aa842cdadbc812eb6a0fa13",
              "version_minor": 0,
              "version_major": 2
            },
            "text/plain": [
              "  0%|          | 0/4422102 [00:00<?, ?it/s]"
            ]
          },
          "metadata": {}
        },
        {
          "output_type": "stream",
          "name": "stdout",
          "text": [
            "Extracting ./datasets/FashionMNIST/raw/t10k-images-idx3-ubyte.gz to ./datasets/FashionMNIST/raw\n",
            "\n",
            "Downloading http://fashion-mnist.s3-website.eu-central-1.amazonaws.com/t10k-labels-idx1-ubyte.gz\n",
            "Downloading http://fashion-mnist.s3-website.eu-central-1.amazonaws.com/t10k-labels-idx1-ubyte.gz to ./datasets/FashionMNIST/raw/t10k-labels-idx1-ubyte.gz\n"
          ]
        },
        {
          "output_type": "display_data",
          "data": {
            "application/vnd.jupyter.widget-view+json": {
              "model_id": "e71fc88d877a42d99ca1517dc52ac4e5",
              "version_minor": 0,
              "version_major": 2
            },
            "text/plain": [
              "  0%|          | 0/5148 [00:00<?, ?it/s]"
            ]
          },
          "metadata": {}
        },
        {
          "output_type": "stream",
          "name": "stdout",
          "text": [
            "Extracting ./datasets/FashionMNIST/raw/t10k-labels-idx1-ubyte.gz to ./datasets/FashionMNIST/raw\n",
            "\n"
          ]
        }
      ],
      "source": [
        "#2.1\n",
        "\n",
        "from torchvision import datasets, transforms\n",
        "from torch.utils.data.sampler import SubsetRandomSampler\n",
        "from torch.optim.lr_scheduler import ReduceLROnPlateau\n",
        "\n",
        "\n",
        "normalize = transforms.Normalize((0.5,), (0.5,))\n",
        "\n",
        "# define transforms\n",
        "valid_transform = transforms.Compose([\n",
        "        transforms.ToTensor(),\n",
        "        normalize\n",
        "    ])\n",
        "train_transform = transforms.Compose([\n",
        "    #transforms.RandomCrop(28, padding=4),\n",
        "    #transforms.RandomAffine(0, translate=(0.7,0.7)),\n",
        "    transforms.RandomHorizontalFlip(),\n",
        "    transforms.ToTensor(),\n",
        "    normalize\n",
        "])\n",
        "\n",
        "# load the dataset\n",
        "data_dir = './datasets/'\n",
        "train_dataset = datasets.FashionMNIST(\n",
        "    root=data_dir, train=True, transform=train_transform, download=True)\n",
        "valid_dataset = datasets.FashionMNIST(\n",
        "    root=data_dir, train=True, transform=valid_transform, download=True)\n",
        "test_dataset = datasets.FashionMNIST(\n",
        "    root=data_dir, train=False, transform=valid_transform, download=True)\n",
        "\n",
        "# visualize some images\n",
        "train_dataset_no_transform = datasets.FashionMNIST(\n",
        "    root=data_dir, train=True, transform=transforms.ToTensor(), download=True)\n",
        "n_samples = 6\n",
        "sample_loader = torch.utils.data.DataLoader(\n",
        "    train_dataset_no_transform, batch_size=n_samples, shuffle=True)\n",
        "data_iter = iter(sample_loader)\n",
        "sampled_images, sampled_labels = data_iter.next()\n",
        "sampled_imgs_np = sampled_images.numpy()\n",
        "sampled_labels_np = sampled_labels.numpy()\n",
        "\n",
        "def plot_samples(samples, labels, predictions=None):\n",
        "    fig = plt.figure(figsize=(15 ,15))\n",
        "    _, axes = plt.subplots(2, int(len(samples)/2))\n",
        "\n",
        "    for i, ax in enumerate(axes.flat):\n",
        "        ax.imshow(samples[i, 0, :, :], interpolation='none', cmap='gray')\n",
        "        xlabel = str(labels[i])\n",
        "        title = f\"GT: {xlabel}\"\n",
        "        if np.any(predictions) != None:\n",
        "            xpred = str(np.argmax(predictions[i]))\n",
        "            title += f\", P: {xpred}\"\n",
        "        ax.set_title(title)    \n",
        "        ax.set_xlabel(xlabel)\n",
        "        ax.set_xticks([])\n",
        "        ax.set_yticks([])\n",
        "        ax.set_axis_off()\n",
        "\n",
        "    plt.show()\n",
        "\n"
      ]
    },
    {
      "cell_type": "code",
      "execution_count": 12,
      "metadata": {
        "id": "zVoGZPXwjN49",
        "outputId": "ac5a4ba5-3500-4dff-fc24-46c1e890619b",
        "colab": {
          "base_uri": "https://localhost:8080/",
          "height": 281
        }
      },
      "outputs": [
        {
          "output_type": "display_data",
          "data": {
            "text/plain": [
              "<Figure size 1080x1080 with 0 Axes>"
            ]
          },
          "metadata": {}
        },
        {
          "output_type": "display_data",
          "data": {
            "image/png": "[encoded data removed]",
            "text/plain": [
              "<Figure size 432x288 with 6 Axes>"
            ]
          },
          "metadata": {}
        }
      ],
      "source": [
        "plot_samples(sampled_imgs_np, sampled_labels_np)"
      ]
    },
    {
      "cell_type": "markdown",
      "metadata": {
        "id": "Xb7eWpaG-NVu"
      },
      "source": [
        "2. The architechture and training hyper parameters:   \n",
        "  * The architechture:  \n",
        "Linear hidden layers with the following sizes = [512, 256, 128, 64, 10]  (initlally tried without the first hidden layer).  \n",
        "The activation layers are leaky relu (tried also relu and tanh).  \n",
        "The initializtion of the linear layer is the default.  \n",
        "Dropout was enabled for better generalization with 0.2 factor.  \n",
        "Batchnorm was enabled as well between the layers.  \n",
        "\n",
        "  * The hyper parameters:  \n",
        "Initial learning rate=0.01  \n",
        "Learning Rate scheduler  ReduceLROnPlateau that works on the accuracy (maximize) with patience=2 and factor 0.5.  \n",
        "The optimizer is SGD with momentum parameter=0.9 and with nestrov method (played also with Adam)  \n",
        "Batch size = 128  \n",
        "Number of Epochs = 50 (saving the model with best accuracy along the way)  \n",
        "L2 Regularization with wieght decay factor = 1e-5  \n",
        "Validation split factor = 0.2  \n",
        "Tried to use some augmentation on the data, but it seems the data distribution was too big for the network to learn on future test samples. When removing crop/translation, the generalization on future test samples was better maybe due to hard definition of how the objects are showed to the calssifier.  \n",
        "We used horizontal flip transformation though, to increase data size.\n",
        "\n",
        "\n"
      ]
    },
    {
      "cell_type": "code",
      "execution_count": 13,
      "metadata": {
        "id": "qeDx-BEK4wg5"
      },
      "outputs": [],
      "source": [
        "#2.2\n",
        "\n",
        "import torch.nn as nn\n",
        "import copy\n",
        "\n",
        "class MyMLP(nn.Module):\n",
        "    def __init__(self, params):\n",
        "        super(MyMLP, self).__init__()\n",
        "        self.params = copy.deepcopy(params)\n",
        "        self.hidden_layer_sizes = self.params['layers_sizes'][:]\n",
        "        self.num_of_hidden_layers = len(self.hidden_layer_sizes)\n",
        "        assert self.num_of_hidden_layers > 0, \"number of hidden layers should be at least 1\"\n",
        "        self.input_size = self.params['input_size']\n",
        "\n",
        "        self.fc = nn.ModuleList()\n",
        "        prev_layer_size = self.input_size\n",
        "        for layer_index, current_hidden_layer_size in enumerate(self.hidden_layer_sizes):\n",
        "            #print(f\"Adding FC Linear layer {prev_layer_size}x{current_hidden_layer_size}\")\n",
        "            self.fc.append(nn.Linear(prev_layer_size, current_hidden_layer_size))\n",
        "            prev_layer_size = current_hidden_layer_size\n",
        "\n",
        "        if self.params['enable_dropout']:\n",
        "            print(f\"Dropout is enabled with {self.params['dropout']}\")\n",
        "            self.dropout = nn.Dropout(self.params['dropout'])\n",
        "        if self.params['weights_init'] != 'default':\n",
        "            self.init_weights(self.params['weights_init'])\n",
        "\n",
        "    def init_weights(self, init_type):\n",
        "        print('custom init')\n",
        "        for m in self.modules():\n",
        "            if isinstance(m, nn.Linear):\n",
        "                # pick initialzation: https://pytorch.org/docs/stable/nn.init.html\n",
        "                # examples\n",
        "                if self.params['weights_init'] == 'kaiming_normal_fan_out_relu':\n",
        "                    print('kaiming_normal_fan_out_relu')\n",
        "                    nn.init.kaiming_normal_(m.weight, mode='fan_out', nonlinearity='relu')\n",
        "                if self.params['weights_init'] == 'kaiming_normal_fan_in_lrelu':\n",
        "                    print('kaiming_normal_fan_in_lrelu')\n",
        "                    nn.init.kaiming_normal_(m.weight, mode='fan_in', nonlinearity='leaky_relu', a=np.sqrt(5))\n",
        "                # nn.init.normal_(m.weight, 0, 0.005)\n",
        "                # don't forget the bias term (m.bias)\n",
        "\n",
        "    def forward(self, x):\n",
        "        x = x.view(x.shape[0],-1)\n",
        "        #prev_layer_size = self.input_size\n",
        "        for layer_index, current_hidden_layer_size in enumerate(self.hidden_layer_sizes):\n",
        "            #print(f\"Apply FC layer {layer_index}: {prev_layer_size}x{current_hidden_layer_size}\")\n",
        "            #prev_layer_size = current_hidden_layer_size\n",
        "            x = self.fc[layer_index](x)\n",
        "            if self.params['enable_batchnorm']:\n",
        "                nn.BatchNorm1d(current_hidden_layer_size)\n",
        "            if (layer_index < (len(self.hidden_layer_sizes)-1)):\n",
        "                if self.params['activation'] == 'relu':\n",
        "                    #print(f\"Apply relu activation\")\n",
        "                    x = nn.functional.relu(x)\n",
        "                elif self.params['activation'] == 'tanh':\n",
        "                    x = torch.tanh(x)\n",
        "                elif self.params['activation'] == 'lrelu':\n",
        "                    x = nn.functional.leaky_relu(x)\n",
        "                elif self.params['activation'] == 'elu':\n",
        "                    x = nn.functional.elu(x)\n",
        "                elif self.params['activation'] == 'gelu':\n",
        "                    x = nn.functional.gelu(x)\n",
        "                else:\n",
        "                    pass\n",
        "                if self.params['enable_dropout']:\n",
        "                  #print(f\"Apply dropout activation\")\n",
        "                  x = self.dropout(x)\n",
        "        #output = nn.functional.softmax(x, dim=1)\n",
        "        return x\n"
      ]
    },
    {
      "cell_type": "markdown",
      "metadata": {
        "id": "iWnEVe-MgxGw"
      },
      "source": [
        "Running the training and checking test accuracy + validation loss at every epoch"
      ]
    },
    {
      "cell_type": "code",
      "execution_count": 14,
      "metadata": {
        "colab": {
          "base_uri": "https://localhost:8080/"
        },
        "id": "ujQVsA_high0",
        "outputId": "11e62b4e-2509-4d41-92a7-d9d5000bc188"
      },
      "outputs": [
        {
          "output_type": "stream",
          "name": "stdout",
          "text": [
            "Dropout is enabled with 0.2\n"
          ]
        }
      ],
      "source": [
        "#training\n",
        "def train_mlp(model, train_hyper_params, save_model_with_best_accuracy=False):\n",
        "\n",
        "    num_train = len(train_dataset)\n",
        "    indices = list(range(num_train))\n",
        "    split = int(np.floor(train_hyper_params['VALID_SIZE'] * num_train))\n",
        "\n",
        "    np.random.shuffle(indices)\n",
        "    train_idx, valid_idx = indices[split:], indices[:split]\n",
        "\n",
        "    train_sampler = SubsetRandomSampler(train_idx)\n",
        "    valid_sampler = SubsetRandomSampler(valid_idx)\n",
        "\n",
        "    train_loader = torch.utils.data.DataLoader(\n",
        "      train_dataset, batch_size=train_hyper_params['BATCH_SIZE'],\n",
        "      sampler=train_sampler)\n",
        "\n",
        "    valid_loader = torch.utils.data.DataLoader(\n",
        "      valid_dataset, batch_size=train_hyper_params['BATCH_SIZE'],\n",
        "      sampler=valid_sampler)\n",
        "\n",
        "    test_loader = torch.utils.data.DataLoader(\n",
        "      test_dataset, batch_size=train_hyper_params['BATCH_SIZE'])\n",
        "\n",
        "    # loss criterion\n",
        "    criterion = nn.CrossEntropyLoss()\n",
        "\n",
        "    # optimizer\n",
        "    if train_hyper_params['OPTIMIZER'] == 'adam':\n",
        "        optimizer = torch.optim.Adam(\n",
        "            model.parameters(), lr=train_hyper_params['LEARNING_RATE'])\n",
        "    elif train_hyper_params['OPTIMIZER'] == 'sgd':\n",
        "        optimizer = torch.optim.SGD(\n",
        "            model.parameters(),\n",
        "            lr=train_hyper_params['LEARNING_RATE'],\n",
        "            momentum=0.9, nesterov=True, \n",
        "            weight_decay=train_hyper_params['OPTIMIZER_WEIGHT_DECAY'])\n",
        "    else:\n",
        "        assert False, \"optimizer was not defined\"\n",
        "\n",
        "    model.train()\n",
        "\n",
        "    scheduler = ReduceLROnPlateau(\n",
        "      optimizer, mode='max', factor=train_hyper_params['SCHED_FACTOR'],\n",
        "      patience=train_hyper_params['SCHED_PAT'], verbose=True)\n",
        "\n",
        "    epochs_train_losses = []\n",
        "    epochs_valid_losses = []\n",
        "    epochs_test_accuracy = []\n",
        "    max_accuracy = 0\n",
        "\n",
        "    for epoch in range(train_hyper_params['NUM_OF_EPOCHS']):\n",
        "        #print(f'epoch {epoch}')\n",
        "\n",
        "        model.train()\n",
        "        epoch_train_losses = []\n",
        "\n",
        "        for images, labels in train_loader:\n",
        "            images = images.view(-1, input_size).to(device)\n",
        "            labels = labels.to(device)\n",
        "\n",
        "            # forward pass\n",
        "            predictions = model(images)\n",
        "\n",
        "            # loss\n",
        "            loss = criterion(predictions, labels)\n",
        "\n",
        "            # backward pass\n",
        "            optimizer.zero_grad() # clean the gradients from previous iteration\n",
        "            loss.backward() # autograd backward to calculate gradients\n",
        "            optimizer.step() # apply update to the weights\n",
        "\n",
        "            epoch_train_losses.append(loss.item())\n",
        "\n",
        "        model.eval()\n",
        "        epoch_valid_losses = []\n",
        "\n",
        "        for images, labels in valid_loader:\n",
        "            images = images.view(-1, input_size).to(device)\n",
        "            labels = labels.to(device)\n",
        "            predictions = model(images)\n",
        "            loss = criterion(predictions, labels)\n",
        "            epoch_valid_losses.append(loss.item())\n",
        "\n",
        "        # Calculate Accuracy\n",
        "        correct = 0\n",
        "        total = 0\n",
        "        # Iterate through test dataset\n",
        "        for images, labels in test_loader:\n",
        "            # Send images and labels to device\n",
        "            images = images.view(-1, input_size).to(device)\n",
        "            labels = labels.to(device)\n",
        "            # Forward pass only to get logits/output\n",
        "            outputs = model(images)\n",
        "            # Get predictions from the maximum value\n",
        "            _, predicted = torch.max(outputs.data, 1)\n",
        "            predicted = predicted.to(device)\n",
        "            # Total number of labels\n",
        "            total += labels.size(0)\n",
        "            # Total correct predictions\n",
        "            # Without .item(), it is a uint8 tensor which will \n",
        "            # not work when you pass this number to the scheduler\n",
        "            correct += (predicted == labels).sum().item()\n",
        "            accuracy = 100 * correct / total\n",
        "\n",
        "        epochs_train_losses.append(np.mean(epoch_train_losses))\n",
        "        epochs_valid_losses.append(np.mean(epoch_valid_losses))\n",
        "        epochs_test_accuracy.append(accuracy)\n",
        "\n",
        "        # Decay Learning Rate, pass validation accuracy for tracking at every epoch\n",
        "        print(f'epoch: {epoch} train_loss: {epochs_train_losses[-1]:.4f} '\n",
        "          f'validation loss:{epochs_valid_losses[-1]:.4f} test accuracy: {accuracy:.2f}%')\n",
        "\n",
        "        scheduler.step(accuracy) # accuracy is used to track down a plateau\n",
        "\n",
        "        if accuracy > max_accuracy:\n",
        "            if save_model_with_best_accuracy:\n",
        "                print('==> Saving checkpoint for the best test accuracy model ...', end =\" \")\n",
        "                if max_accuracy != 0:\n",
        "                    old_filename = f'accuracy_{max_accuracy}_checkpoint.pth'\n",
        "                    !rm {old_filename}\n",
        "                checkpoint = {'model_hyper_params': model_hyper_params,\n",
        "                              'train_hyper_params': train_hyper_params,\n",
        "                              'state_dict': model.state_dict()}\n",
        "                filename = f'accuracy_{accuracy}_checkpoint.pth'\n",
        "                torch.save(checkpoint, filename)\n",
        "                print(\"Done\")\n",
        "            max_accuracy = accuracy\n",
        "\n",
        "    return max_accuracy, epochs_train_losses, epochs_valid_losses, epochs_test_accuracy\n",
        "\n",
        "seed = 211\n",
        "np.random.seed(seed)\n",
        "torch.manual_seed(seed)\n",
        "\n",
        "# model arch hyper params\n",
        "model_hyper_params = {}\n",
        "hidden_layer_sizes = [512, 256, 128, 64, 10]\n",
        "input_size = 28*28\n",
        "model_hyper_params['input_size'] = input_size \n",
        "model_hyper_params['layers_sizes'] = hidden_layer_sizes\n",
        "model_hyper_params['activation'] = 'lrelu'\n",
        "model_hyper_params['weights_init'] = 'default'\n",
        "model_hyper_params['enable_dropout'] = True \n",
        "model_hyper_params['dropout'] = 0.2\n",
        "model_hyper_params['enable_batchnorm'] = True\n",
        "\n",
        "\n",
        "#training hyper parameters\n",
        "train_hyper_params = {}\n",
        "train_hyper_params['VALID_SIZE'] = 0.2\n",
        "train_hyper_params['BATCH_SIZE'] = 128\n",
        "train_hyper_params['LEARNING_RATE'] = 0.01\n",
        "train_hyper_params['SCHED_FACTOR'] = 0.5\n",
        "train_hyper_params['SCHED_PAT'] = 2\n",
        "train_hyper_params['NUM_OF_EPOCHS'] = 50\n",
        "train_hyper_params['OPTIMIZER'] = 'sgd'\n",
        "train_hyper_params['OPTIMIZER_WEIGHT_DECAY'] = 1e-5\n",
        "\n",
        "# model\n",
        "model = MyMLP(model_hyper_params).to(device)"
      ]
    },
    {
      "cell_type": "code",
      "execution_count": 15,
      "metadata": {
        "colab": {
          "base_uri": "https://localhost:8080/"
        },
        "id": "tOPDk-UwaJ8o",
        "outputId": "039f3779-7e83-4f25-bdbb-5898455af1f6"
      },
      "outputs": [
        {
          "output_type": "stream",
          "name": "stdout",
          "text": [
            "epoch: 0 train_loss: 1.3015 validation loss:0.6617 test accuracy: 74.01%\n",
            "==> Saving checkpoint for the best test accuracy model ... Done\n",
            "epoch: 1 train_loss: 0.6052 validation loss:0.4713 test accuracy: 81.72%\n",
            "==> Saving checkpoint for the best test accuracy model ... Done\n",
            "epoch: 2 train_loss: 0.5070 validation loss:0.4245 test accuracy: 83.77%\n",
            "==> Saving checkpoint for the best test accuracy model ... Done\n",
            "epoch: 3 train_loss: 0.4668 validation loss:0.3999 test accuracy: 84.77%\n",
            "==> Saving checkpoint for the best test accuracy model ... Done\n",
            "epoch: 4 train_loss: 0.4339 validation loss:0.3775 test accuracy: 85.58%\n",
            "==> Saving checkpoint for the best test accuracy model ... Done\n",
            "epoch: 5 train_loss: 0.4131 validation loss:0.3729 test accuracy: 85.36%\n",
            "epoch: 6 train_loss: 0.3955 validation loss:0.3591 test accuracy: 85.67%\n",
            "==> Saving checkpoint for the best test accuracy model ... Done\n",
            "epoch: 7 train_loss: 0.3842 validation loss:0.3586 test accuracy: 86.04%\n",
            "==> Saving checkpoint for the best test accuracy model ... Done\n",
            "epoch: 8 train_loss: 0.3704 validation loss:0.3460 test accuracy: 86.09%\n",
            "==> Saving checkpoint for the best test accuracy model ... Done\n",
            "epoch: 9 train_loss: 0.3600 validation loss:0.3363 test accuracy: 86.79%\n",
            "==> Saving checkpoint for the best test accuracy model ... Done\n",
            "epoch: 10 train_loss: 0.3528 validation loss:0.3374 test accuracy: 86.47%\n",
            "epoch: 11 train_loss: 0.3453 validation loss:0.3316 test accuracy: 86.82%\n",
            "==> Saving checkpoint for the best test accuracy model ... Done\n",
            "epoch: 12 train_loss: 0.3382 validation loss:0.3269 test accuracy: 87.16%\n",
            "==> Saving checkpoint for the best test accuracy model ... Done\n",
            "epoch: 13 train_loss: 0.3319 validation loss:0.3189 test accuracy: 87.28%\n",
            "==> Saving checkpoint for the best test accuracy model ... Done\n",
            "epoch: 14 train_loss: 0.3235 validation loss:0.3203 test accuracy: 87.18%\n",
            "epoch: 15 train_loss: 0.3173 validation loss:0.3283 test accuracy: 86.75%\n",
            "epoch: 16 train_loss: 0.3137 validation loss:0.3232 test accuracy: 87.42%\n",
            "==> Saving checkpoint for the best test accuracy model ... Done\n",
            "epoch: 17 train_loss: 0.3067 validation loss:0.3151 test accuracy: 87.54%\n",
            "==> Saving checkpoint for the best test accuracy model ... Done\n",
            "epoch: 18 train_loss: 0.3031 validation loss:0.3156 test accuracy: 87.51%\n",
            "epoch: 19 train_loss: 0.2952 validation loss:0.3058 test accuracy: 87.44%\n",
            "epoch: 20 train_loss: 0.2898 validation loss:0.3048 test accuracy: 87.97%\n",
            "==> Saving checkpoint for the best test accuracy model ... Done\n",
            "epoch: 21 train_loss: 0.2888 validation loss:0.3035 test accuracy: 87.64%\n",
            "epoch: 22 train_loss: 0.2836 validation loss:0.3003 test accuracy: 88.02%\n",
            "==> Saving checkpoint for the best test accuracy model ... Done\n",
            "epoch: 23 train_loss: 0.2784 validation loss:0.2972 test accuracy: 88.42%\n",
            "==> Saving checkpoint for the best test accuracy model ... Done\n",
            "epoch: 24 train_loss: 0.2767 validation loss:0.2931 test accuracy: 88.53%\n",
            "==> Saving checkpoint for the best test accuracy model ... Done\n",
            "epoch: 25 train_loss: 0.2705 validation loss:0.2953 test accuracy: 87.99%\n",
            "epoch: 26 train_loss: 0.2674 validation loss:0.2961 test accuracy: 88.09%\n",
            "epoch: 27 train_loss: 0.2621 validation loss:0.2911 test accuracy: 88.52%\n",
            "Epoch    28: reducing learning rate of group 0 to 5.0000e-03.\n",
            "epoch: 28 train_loss: 0.2393 validation loss:0.2856 test accuracy: 88.76%\n",
            "==> Saving checkpoint for the best test accuracy model ... Done\n",
            "epoch: 29 train_loss: 0.2332 validation loss:0.2850 test accuracy: 88.79%\n",
            "==> Saving checkpoint for the best test accuracy model ... Done\n",
            "epoch: 30 train_loss: 0.2293 validation loss:0.2803 test accuracy: 88.98%\n",
            "==> Saving checkpoint for the best test accuracy model ... Done\n",
            "epoch: 31 train_loss: 0.2271 validation loss:0.2808 test accuracy: 88.84%\n",
            "epoch: 32 train_loss: 0.2233 validation loss:0.2842 test accuracy: 89.02%\n",
            "==> Saving checkpoint for the best test accuracy model ... Done\n",
            "epoch: 33 train_loss: 0.2225 validation loss:0.2784 test accuracy: 88.94%\n",
            "epoch: 34 train_loss: 0.2189 validation loss:0.2818 test accuracy: 88.75%\n",
            "epoch: 35 train_loss: 0.2166 validation loss:0.2794 test accuracy: 88.89%\n",
            "Epoch    36: reducing learning rate of group 0 to 2.5000e-03.\n",
            "epoch: 36 train_loss: 0.2005 validation loss:0.2762 test accuracy: 89.06%\n",
            "==> Saving checkpoint for the best test accuracy model ... Done\n",
            "epoch: 37 train_loss: 0.2001 validation loss:0.2748 test accuracy: 89.22%\n",
            "==> Saving checkpoint for the best test accuracy model ... Done\n",
            "epoch: 38 train_loss: 0.1993 validation loss:0.2801 test accuracy: 89.13%\n",
            "epoch: 39 train_loss: 0.1954 validation loss:0.2789 test accuracy: 89.30%\n",
            "==> Saving checkpoint for the best test accuracy model ... Done\n",
            "epoch: 40 train_loss: 0.1921 validation loss:0.2754 test accuracy: 89.44%\n",
            "==> Saving checkpoint for the best test accuracy model ... Done\n",
            "epoch: 41 train_loss: 0.1928 validation loss:0.2754 test accuracy: 89.33%\n",
            "epoch: 42 train_loss: 0.1897 validation loss:0.2794 test accuracy: 89.32%\n",
            "epoch: 43 train_loss: 0.1906 validation loss:0.2776 test accuracy: 89.55%\n",
            "==> Saving checkpoint for the best test accuracy model ... Done\n",
            "epoch: 44 train_loss: 0.1861 validation loss:0.2767 test accuracy: 89.08%\n",
            "epoch: 45 train_loss: 0.1876 validation loss:0.2788 test accuracy: 89.35%\n",
            "epoch: 46 train_loss: 0.1846 validation loss:0.2815 test accuracy: 89.16%\n",
            "Epoch    47: reducing learning rate of group 0 to 1.2500e-03.\n",
            "epoch: 47 train_loss: 0.1768 validation loss:0.2803 test accuracy: 89.32%\n",
            "epoch: 48 train_loss: 0.1754 validation loss:0.2782 test accuracy: 89.71%\n",
            "==> Saving checkpoint for the best test accuracy model ... Done\n",
            "epoch: 49 train_loss: 0.1741 validation loss:0.2789 test accuracy: 89.60%\n"
          ]
        }
      ],
      "source": [
        "best_accuracy, train_losses, valid_losses, test_accuracies = train_mlp(\n",
        "    model, train_hyper_params, save_model_with_best_accuracy=True)"
      ]
    },
    {
      "cell_type": "markdown",
      "metadata": {
        "id": "1G6eTGXEj0Mk"
      },
      "source": [
        "Ploting the train and validation losses as a function of the epochs, we can actually see the epochs on which the learning rate was changed by the scheduler on plateau."
      ]
    },
    {
      "cell_type": "code",
      "execution_count": 16,
      "metadata": {
        "colab": {
          "base_uri": "https://localhost:8080/",
          "height": 282
        },
        "id": "QYMEGwFCrf1d",
        "outputId": "ac88ec22-4af9-4d4a-c30b-0f33d5f1ab99"
      },
      "outputs": [
        {
          "output_type": "execute_result",
          "data": {
            "text/plain": [
              "<matplotlib.legend.Legend at 0x7f5f70d28f90>"
            ]
          },
          "metadata": {},
          "execution_count": 16
        },
        {
          "output_type": "display_data",
          "data": {
            "image/png": "[encoded data removed]",
            "text/plain": [
              "<Figure size 432x288 with 1 Axes>"
            ]
          },
          "metadata": {
            "needs_background": "light"
          }
        }
      ],
      "source": [
        "plt.plot(train_losses, label='train losses')\n",
        "plt.plot(valid_losses, label='valid losses')\n",
        "plt.legend()"
      ]
    },
    {
      "cell_type": "markdown",
      "metadata": {
        "id": "FyvuC9TWj_7g"
      },
      "source": [
        "Printing the accuracy:"
      ]
    },
    {
      "cell_type": "code",
      "execution_count": 17,
      "metadata": {
        "colab": {
          "base_uri": "https://localhost:8080/",
          "height": 300
        },
        "id": "vzoNv-qSjomX",
        "outputId": "d7d7e391-4bc1-49c2-d799-d6a7fd49ffb6"
      },
      "outputs": [
        {
          "output_type": "stream",
          "name": "stdout",
          "text": [
            "the best accuracy is: 89.71\n"
          ]
        },
        {
          "output_type": "execute_result",
          "data": {
            "text/plain": [
              "<matplotlib.legend.Legend at 0x7f5f70d37810>"
            ]
          },
          "metadata": {},
          "execution_count": 17
        },
        {
          "output_type": "display_data",
          "data": {
            "image/png": "[encoded data removed]",
            "text/plain": [
              "<Figure size 432x288 with 1 Axes>"
            ]
          },
          "metadata": {
            "needs_background": "light"
          }
        }
      ],
      "source": [
        "print(f\"the best accuracy is: {best_accuracy}\")\n",
        "plt.plot(test_accuracies, label='test accuracy vs epochs')\n",
        "plt.legend()"
      ]
    },
    {
      "cell_type": "markdown",
      "metadata": {
        "id": "lzk2OsZtkxSh"
      },
      "source": [
        "Samples prediciton vs labels:"
      ]
    },
    {
      "cell_type": "code",
      "execution_count": 18,
      "metadata": {
        "colab": {
          "base_uri": "https://localhost:8080/",
          "height": 333
        },
        "id": "fEfWnrzzkv77",
        "outputId": "25731d52-509e-4599-9d1d-702798038a4d"
      },
      "outputs": [
        {
          "output_type": "stream",
          "name": "stdout",
          "text": [
            "train_hyper_params {'VALID_SIZE': 0.2, 'BATCH_SIZE': 128, 'LEARNING_RATE': 0.01, 'SCHED_FACTOR': 0.5, 'SCHED_PAT': 2, 'NUM_OF_EPOCHS': 50, 'OPTIMIZER': 'sgd', 'OPTIMIZER_WEIGHT_DECAY': 1e-05}\n",
            "model_hyper_params {'input_size': 784, 'layers_sizes': [512, 256, 128, 64, 10], 'activation': 'lrelu', 'weights_init': 'default', 'enable_dropout': True, 'dropout': 0.2, 'enable_batchnorm': True}\n",
            "Dropout is enabled with 0.2\n"
          ]
        },
        {
          "output_type": "display_data",
          "data": {
            "text/plain": [
              "<Figure size 1080x1080 with 0 Axes>"
            ]
          },
          "metadata": {}
        },
        {
          "output_type": "display_data",
          "data": {
            "image/png": "[encoded data removed]",
            "text/plain": [
              "<Figure size 432x288 with 6 Axes>"
            ]
          },
          "metadata": {}
        }
      ],
      "source": [
        "filename = f'accuracy_{best_accuracy}_checkpoint.pth'\n",
        "checkpoint = torch.load(filename)\n",
        "print(f\"train_hyper_params {checkpoint['train_hyper_params']}\")\n",
        "print(f\"model_hyper_params {checkpoint['model_hyper_params']}\")\n",
        "model = MyMLP(model_hyper_params).to(device)\n",
        "model.load_state_dict(checkpoint['state_dict'])\n",
        "\n",
        "normalized_sampled_images = normalize(sampled_images)\n",
        "sampled_images_flat = normalized_sampled_images.view(-1, input_size).to(device)\n",
        "sampled_labels = sampled_labels.to(device)\n",
        "\n",
        "model.eval()\n",
        "predictions = model(sampled_images_flat).detach().cpu().numpy()\n",
        "\n",
        "plot_samples(sampled_images.cpu().numpy(), sampled_labels.cpu().numpy(), predictions)"
      ]
    },
    {
      "cell_type": "markdown",
      "metadata": {
        "id": "YMvf5w4pkeds"
      },
      "source": [
        "Plot the model graph:"
      ]
    },
    {
      "cell_type": "code",
      "execution_count": 21,
      "metadata": {
        "colab": {
          "base_uri": "https://localhost:8080/"
        },
        "id": "nd2yx8f5d5_V",
        "outputId": "7c21a5db-9fee-4244-b3c9-390d1b762f98"
      },
	  
      "outputs": [
        {
          "output_type": "stream",
          "name": "stdout",
          "text": [
            "MyMLP(\n",
            "  (fc): ModuleList(\n",
            "    (0): Linear(in_features=784, out_features=512, bias=True)\n",
            "    (1): Linear(in_features=512, out_features=256, bias=True)\n",
            "    (2): Linear(in_features=256, out_features=128, bias=True)\n",
            "    (3): Linear(in_features=128, out_features=64, bias=True)\n",
            "    (4): Linear(in_features=64, out_features=10, bias=True)\n",
            "  )\n",
            "  (dropout): Dropout(p=0.2, inplace=False)\n",
            ")\n",
            "Collecting torchviz\n",
            "  Downloading torchviz-0.0.2.tar.gz (4.9 kB)\n",
            "Requirement already satisfied: torch in /usr/local/lib/python3.7/dist-packages (from torchviz) (1.10.0+cu111)\n",
            "Requirement already satisfied: graphviz in /usr/local/lib/python3.7/dist-packages (from torchviz) (0.10.1)\n",
            "Requirement already satisfied: typing-extensions in /usr/local/lib/python3.7/dist-packages (from torch->torchviz) (3.10.0.2)\n",
            "Building wheels for collected packages: torchviz\n",
            "  Building wheel for torchviz (setup.py) ... \u001b[?25l\u001b[?25hdone\n",
            "  Created wheel for torchviz: filename=torchviz-0.0.2-py3-none-any.whl size=4151 sha256=05f7c2af03df0dc3ce6603baf5e318230c87495f1bd40e0cab53ab26766f6cf9\n",
            "  Stored in directory: /root/.cache/pip/wheels/04/38/f5/dc4f85c3909051823df49901e72015d2d750bd26b086480ec2\n",
            "Successfully built torchviz\n",
            "Installing collected packages: torchviz\n",
            "Successfully installed torchviz-0.0.2\n"
          ]
        },
        {
          "data": {
            "image/svg+xml": [
              "<?xml version=\"1.0\" encoding=\"UTF-8\" standalone=\"no\"?>\n",
              "<!DOCTYPE svg PUBLIC \"-//W3C//DTD SVG 1.1//EN\"\n",
              " \"http://www.w3.org/Graphics/SVG/1.1/DTD/svg11.dtd\">\n",
              "<!-- Generated by graphviz version 2.40.1 (20161225.0304)\n",
              " -->\n",
              "<!-- Title: %3 Pages: 1 -->\n",
              "<svg width=\"560pt\" height=\"809pt\"\n",
              " viewBox=\"0.00 0.00 560.00 809.00\" xmlns=\"http://www.w3.org/2000/svg\" xmlns:xlink=\"http://www.w3.org/1999/xlink\">\n",
              "<g id=\"graph0\" class=\"graph\" transform=\"scale(1 1) rotate(0) translate(4 805)\">\n",
              "<title>%3</title>\n",
              "<polygon fill=\"#ffffff\" stroke=\"transparent\" points=\"-4,4 -4,-805 556,-805 556,4 -4,4\"/>\n",
              "<!-- 139972350140784 -->\n",
              "<g id=\"node1\" class=\"node\">\n",
              "<title>139972350140784</title>\n",
              "<polygon fill=\"#caff70\" stroke=\"#000000\" points=\"361,-31 296,-31 296,0 361,0 361,-31\"/>\n",
              "<text text-anchor=\"middle\" x=\"328.5\" y=\"-7\" font-family=\"monospace\" font-size=\"10.00\" fill=\"#000000\"> (1, 10)</text>\n",
              "</g>\n",
              "<!-- 139972350100560 -->\n",
              "<g id=\"node2\" class=\"node\">\n",
              "<title>139972350100560</title>\n",
              "<polygon fill=\"#d3d3d3\" stroke=\"#000000\" points=\"379,-86 278,-86 278,-67 379,-67 379,-86\"/>\n",
              "<text text-anchor=\"middle\" x=\"328.5\" y=\"-74\" font-family=\"monospace\" font-size=\"10.00\" fill=\"#000000\">AddmmBackward0</text>\n",
              "</g>\n",
              "<!-- 139972350100560&#45;&gt;139972350140784 -->\n",
              "<g id=\"edge34\" class=\"edge\">\n",
              "<title>139972350100560&#45;&gt;139972350140784</title>\n",
              "<path fill=\"none\" stroke=\"#000000\" d=\"M328.5,-66.9688C328.5,-60.1289 328.5,-50.5621 328.5,-41.5298\"/>\n",
              "<polygon fill=\"#000000\" stroke=\"#000000\" points=\"332.0001,-41.3678 328.5,-31.3678 325.0001,-41.3678 332.0001,-41.3678\"/>\n",
              "</g>\n",
              "<!-- 139972350100816 -->\n",
              "<g id=\"node3\" class=\"node\">\n",
              "<title>139972350100816</title>\n",
              "<polygon fill=\"#d3d3d3\" stroke=\"#000000\" points=\"248,-141 147,-141 147,-122 248,-122 248,-141\"/>\n",
              "<text text-anchor=\"middle\" x=\"197.5\" y=\"-129\" font-family=\"monospace\" font-size=\"10.00\" fill=\"#000000\">AccumulateGrad</text>\n",
              "</g>\n",
              "<!-- 139972350100816&#45;&gt;139972350100560 -->\n",
              "<g id=\"edge1\" class=\"edge\">\n",
              "<title>139972350100816&#45;&gt;139972350100560</title>\n",
              "<path fill=\"none\" stroke=\"#000000\" d=\"M220.3185,-121.9197C241.3222,-113.1014 272.6971,-99.9287 296.2577,-90.0369\"/>\n",
              "<polygon fill=\"#000000\" stroke=\"#000000\" points=\"297.6381,-93.2533 305.5035,-86.155 294.9282,-86.7991 297.6381,-93.2533\"/>\n",
              "</g>\n",
              "<!-- 139972354106096 -->\n",
              "<g id=\"node4\" class=\"node\">\n",
              "<title>139972354106096</title>\n",
              "<polygon fill=\"#add8e6\" stroke=\"#000000\" points=\"233,-207 162,-207 162,-177 233,-177 233,-207\"/>\n",
              "<text text-anchor=\"middle\" x=\"197.5\" y=\"-195\" font-family=\"monospace\" font-size=\"10.00\" fill=\"#000000\">fc.4.bias</text>\n",
              "<text text-anchor=\"middle\" x=\"197.5\" y=\"-184\" font-family=\"monospace\" font-size=\"10.00\" fill=\"#000000\"> (10)</text>\n",
              "</g>\n",
              "<!-- 139972354106096&#45;&gt;139972350100816 -->\n",
              "<g id=\"edge2\" class=\"edge\">\n",
              "<title>139972354106096&#45;&gt;139972350100816</title>\n",
              "<path fill=\"none\" stroke=\"#000000\" d=\"M197.5,-176.7333C197.5,-169.0322 197.5,-159.5977 197.5,-151.3414\"/>\n",
              "<polygon fill=\"#000000\" stroke=\"#000000\" points=\"201.0001,-151.0864 197.5,-141.0864 194.0001,-151.0864 201.0001,-151.0864\"/>\n",
              "</g>\n",
              "<!-- 139972350100432 -->\n",
              "<g id=\"node5\" class=\"node\">\n",
              "<title>139972350100432</title>\n",
              "<polygon fill=\"#d3d3d3\" stroke=\"#000000\" points=\"391,-141 266,-141 266,-122 391,-122 391,-141\"/>\n",
              "<text text-anchor=\"middle\" x=\"328.5\" y=\"-129\" font-family=\"monospace\" font-size=\"10.00\" fill=\"#000000\">LeakyReluBackward0</text>\n",
              "</g>\n",
              "<!-- 139972350100432&#45;&gt;139972350100560 -->\n",
              "<g id=\"edge3\" class=\"edge\">\n",
              "<title>139972350100432&#45;&gt;139972350100560</title>\n",
              "<path fill=\"none\" stroke=\"#000000\" d=\"M328.5,-121.9197C328.5,-114.9083 328.5,-105.1442 328.5,-96.4652\"/>\n",
              "<polygon fill=\"#000000\" stroke=\"#000000\" points=\"332.0001,-96.3408 328.5,-86.3408 325.0001,-96.3409 332.0001,-96.3408\"/>\n",
              "</g>\n",
              "<!-- 139972354443984 -->\n",
              "<g id=\"node6\" class=\"node\">\n",
              "<title>139972354443984</title>\n",
              "<polygon fill=\"#d3d3d3\" stroke=\"#000000\" points=\"365,-201.5 264,-201.5 264,-182.5 365,-182.5 365,-201.5\"/>\n",
              "<text text-anchor=\"middle\" x=\"314.5\" y=\"-189.5\" font-family=\"monospace\" font-size=\"10.00\" fill=\"#000000\">AddmmBackward0</text>\n",
              "</g>\n",
              "<!-- 139972354443984&#45;&gt;139972350100432 -->\n",
              "<g id=\"edge4\" class=\"edge\">\n",
              "<title>139972354443984&#45;&gt;139972350100432</title>\n",
              "<path fill=\"none\" stroke=\"#000000\" d=\"M316.7493,-182.2796C318.6769,-173.9499 321.5143,-161.688 323.9181,-151.3004\"/>\n",
              "<polygon fill=\"#000000\" stroke=\"#000000\" points=\"327.3651,-151.9289 326.2097,-141.3972 320.5453,-150.3507 327.3651,-151.9289\"/>\n",
              "</g>\n",
              "<!-- 139972362325584 -->\n",
              "<g id=\"node7\" class=\"node\">\n",
              "<title>139972362325584</title>\n",
              "<polygon fill=\"#d3d3d3\" stroke=\"#000000\" points=\"213,-267.5 112,-267.5 112,-248.5 213,-248.5 213,-267.5\"/>\n",
              "<text text-anchor=\"middle\" x=\"162.5\" y=\"-255.5\" font-family=\"monospace\" font-size=\"10.00\" fill=\"#000000\">AccumulateGrad</text>\n",
              "</g>\n",
              "<!-- 139972362325584&#45;&gt;139972354443984 -->\n",
              "<g id=\"edge5\" class=\"edge\">\n",
              "<title>139972362325584&#45;&gt;139972354443984</title>\n",
              "<path fill=\"none\" stroke=\"#000000\" d=\"M184.6021,-248.403C210.4934,-237.1608 253.5791,-218.4525 282.9725,-205.6896\"/>\n",
              "<polygon fill=\"#000000\" stroke=\"#000000\" points=\"284.5926,-208.8019 292.3712,-201.6085 281.8046,-202.381 284.5926,-208.8019\"/>\n",
              "</g>\n",
              "<!-- 139972354105904 -->\n",
              "<g id=\"node8\" class=\"node\">\n",
              "<title>139972354105904</title>\n",
              "<polygon fill=\"#add8e6\" stroke=\"#000000\" points=\"198,-339 127,-339 127,-309 198,-309 198,-339\"/>\n",
              "<text text-anchor=\"middle\" x=\"162.5\" y=\"-327\" font-family=\"monospace\" font-size=\"10.00\" fill=\"#000000\">fc.3.bias</text>\n",
              "<text text-anchor=\"middle\" x=\"162.5\" y=\"-316\" font-family=\"monospace\" font-size=\"10.00\" fill=\"#000000\"> (64)</text>\n",
              "</g>\n",
              "<!-- 139972354105904&#45;&gt;139972362325584 -->\n",
              "<g id=\"edge6\" class=\"edge\">\n",
              "<title>139972354105904&#45;&gt;139972362325584</title>\n",
              "<path fill=\"none\" stroke=\"#000000\" d=\"M162.5,-308.6924C162.5,-299.5067 162.5,-287.7245 162.5,-277.8312\"/>\n",
              "<polygon fill=\"#000000\" stroke=\"#000000\" points=\"166.0001,-277.703 162.5,-267.7031 159.0001,-277.7031 166.0001,-277.703\"/>\n",
              "</g>\n",
              "<!-- 139972363219664 -->\n",
              "<g id=\"node9\" class=\"node\">\n",
              "<title>139972363219664</title>\n",
              "<polygon fill=\"#d3d3d3\" stroke=\"#000000\" points=\"356,-267.5 231,-267.5 231,-248.5 356,-248.5 356,-267.5\"/>\n",
              "<text text-anchor=\"middle\" x=\"293.5\" y=\"-255.5\" font-family=\"monospace\" font-size=\"10.00\" fill=\"#000000\">LeakyReluBackward0</text>\n",
              "</g>\n",
              "<!-- 139972363219664&#45;&gt;139972354443984 -->\n",
              "<g id=\"edge7\" class=\"edge\">\n",
              "<title>139972363219664&#45;&gt;139972354443984</title>\n",
              "<path fill=\"none\" stroke=\"#000000\" d=\"M296.5986,-248.2615C299.6695,-238.6102 304.4588,-223.558 308.3112,-211.4506\"/>\n",
              "<polygon fill=\"#000000\" stroke=\"#000000\" points=\"311.6918,-212.369 311.3887,-201.7785 305.0213,-210.2465 311.6918,-212.369\"/>\n",
              "</g>\n",
              "<!-- 139972363220880 -->\n",
              "<g id=\"node10\" class=\"node\">\n",
              "<title>139972363220880</title>\n",
              "<polygon fill=\"#d3d3d3\" stroke=\"#000000\" points=\"330,-333.5 229,-333.5 229,-314.5 330,-314.5 330,-333.5\"/>\n",
              "<text text-anchor=\"middle\" x=\"279.5\" y=\"-321.5\" font-family=\"monospace\" font-size=\"10.00\" fill=\"#000000\">AddmmBackward0</text>\n",
              "</g>\n",
              "<!-- 139972363220880&#45;&gt;139972363219664 -->\n",
              "<g id=\"edge8\" class=\"edge\">\n",
              "<title>139972363220880&#45;&gt;139972363219664</title>\n",
              "<path fill=\"none\" stroke=\"#000000\" d=\"M281.5657,-314.2615C283.5923,-304.7077 286.7415,-289.8615 289.2961,-277.8183\"/>\n",
              "<polygon fill=\"#000000\" stroke=\"#000000\" points=\"292.7745,-278.2871 291.4258,-267.7785 285.9268,-276.8345 292.7745,-278.2871\"/>\n",
              "</g>\n",
              "<!-- 139972354397520 -->\n",
              "<g id=\"node11\" class=\"node\">\n",
              "<title>139972354397520</title>\n",
              "<polygon fill=\"#d3d3d3\" stroke=\"#000000\" points=\"157,-399.5 56,-399.5 56,-380.5 157,-380.5 157,-399.5\"/>\n",
              "<text text-anchor=\"middle\" x=\"106.5\" y=\"-387.5\" font-family=\"monospace\" font-size=\"10.00\" fill=\"#000000\">AccumulateGrad</text>\n",
              "</g>\n",
              "<!-- 139972354397520&#45;&gt;139972363220880 -->\n",
              "<g id=\"edge9\" class=\"edge\">\n",
              "<title>139972354397520&#45;&gt;139972363220880</title>\n",
              "<path fill=\"none\" stroke=\"#000000\" d=\"M131.6557,-380.403C161.5937,-368.9816 211.7305,-349.8543 245.2043,-337.0839\"/>\n",
              "<polygon fill=\"#000000\" stroke=\"#000000\" points=\"246.499,-340.3361 254.5946,-333.5015 244.0039,-333.7959 246.499,-340.3361\"/>\n",
              "</g>\n",
              "<!-- 139972354105712 -->\n",
              "<g id=\"node12\" class=\"node\">\n",
              "<title>139972354105712</title>\n",
              "<polygon fill=\"#add8e6\" stroke=\"#000000\" points=\"142,-471 71,-471 71,-441 142,-441 142,-471\"/>\n",
              "<text text-anchor=\"middle\" x=\"106.5\" y=\"-459\" font-family=\"monospace\" font-size=\"10.00\" fill=\"#000000\">fc.2.bias</text>\n",
              "<text text-anchor=\"middle\" x=\"106.5\" y=\"-448\" font-family=\"monospace\" font-size=\"10.00\" fill=\"#000000\"> (128)</text>\n",
              "</g>\n",
              "<!-- 139972354105712&#45;&gt;139972354397520 -->\n",
              "<g id=\"edge10\" class=\"edge\">\n",
              "<title>139972354105712&#45;&gt;139972354397520</title>\n",
              "<path fill=\"none\" stroke=\"#000000\" d=\"M106.5,-440.6924C106.5,-431.5067 106.5,-419.7245 106.5,-409.8312\"/>\n",
              "<polygon fill=\"#000000\" stroke=\"#000000\" points=\"110.0001,-409.703 106.5,-399.7031 103.0001,-409.7031 110.0001,-409.703\"/>\n",
              "</g>\n",
              "<!-- 139972363221712 -->\n",
              "<g id=\"node13\" class=\"node\">\n",
              "<title>139972363221712</title>\n",
              "<polygon fill=\"#d3d3d3\" stroke=\"#000000\" points=\"300,-399.5 175,-399.5 175,-380.5 300,-380.5 300,-399.5\"/>\n",
              "<text text-anchor=\"middle\" x=\"237.5\" y=\"-387.5\" font-family=\"monospace\" font-size=\"10.00\" fill=\"#000000\">LeakyReluBackward0</text>\n",
              "</g>\n",
              "<!-- 139972363221712&#45;&gt;139972363220880 -->\n",
              "<g id=\"edge11\" class=\"edge\">\n",
              "<title>139972363221712&#45;&gt;139972363220880</title>\n",
              "<path fill=\"none\" stroke=\"#000000\" d=\"M243.6972,-380.2615C250.0251,-370.3178 260.0013,-354.6408 267.8175,-342.3582\"/>\n",
              "<polygon fill=\"#000000\" stroke=\"#000000\" points=\"270.8613,-344.0942 273.2773,-333.7785 264.9557,-340.336 270.8613,-344.0942\"/>\n",
              "</g>\n",
              "<!-- 139972363221264 -->\n",
              "<g id=\"node14\" class=\"node\">\n",
              "<title>139972363221264</title>\n",
              "<polygon fill=\"#d3d3d3\" stroke=\"#000000\" points=\"274,-465.5 173,-465.5 173,-446.5 274,-446.5 274,-465.5\"/>\n",
              "<text text-anchor=\"middle\" x=\"223.5\" y=\"-453.5\" font-family=\"monospace\" font-size=\"10.00\" fill=\"#000000\">AddmmBackward0</text>\n",
              "</g>\n",
              "<!-- 139972363221264&#45;&gt;139972363221712 -->\n",
              "<g id=\"edge12\" class=\"edge\">\n",
              "<title>139972363221264&#45;&gt;139972363221712</title>\n",
              "<path fill=\"none\" stroke=\"#000000\" d=\"M225.5657,-446.2615C227.5923,-436.7077 230.7415,-421.8615 233.2961,-409.8183\"/>\n",
              "<polygon fill=\"#000000\" stroke=\"#000000\" points=\"236.7745,-410.2871 235.4258,-399.7785 229.9268,-408.8345 236.7745,-410.2871\"/>\n",
              "</g>\n",
              "<!-- 139972363089104 -->\n",
              "<g id=\"node15\" class=\"node\">\n",
              "<title>139972363089104</title>\n",
              "<polygon fill=\"#d3d3d3\" stroke=\"#000000\" points=\"101,-531.5 0,-531.5 0,-512.5 101,-512.5 101,-531.5\"/>\n",
              "<text text-anchor=\"middle\" x=\"50.5\" y=\"-519.5\" font-family=\"monospace\" font-size=\"10.00\" fill=\"#000000\">AccumulateGrad</text>\n",
              "</g>\n",
              "<!-- 139972363089104&#45;&gt;139972363221264 -->\n",
              "<g id=\"edge13\" class=\"edge\">\n",
              "<title>139972363089104&#45;&gt;139972363221264</title>\n",
              "<path fill=\"none\" stroke=\"#000000\" d=\"M75.6557,-512.403C105.5937,-500.9816 155.7305,-481.8543 189.2043,-469.0839\"/>\n",
              "<polygon fill=\"#000000\" stroke=\"#000000\" points=\"190.499,-472.3361 198.5946,-465.5015 188.0039,-465.7959 190.499,-472.3361\"/>\n",
              "</g>\n",
              "<!-- 139972360826608 -->\n",
              "<g id=\"node16\" class=\"node\">\n",
              "<title>139972360826608</title>\n",
              "<polygon fill=\"#add8e6\" stroke=\"#000000\" points=\"86,-603 15,-603 15,-573 86,-573 86,-603\"/>\n",
              "<text text-anchor=\"middle\" x=\"50.5\" y=\"-591\" font-family=\"monospace\" font-size=\"10.00\" fill=\"#000000\">fc.1.bias</text>\n",
              "<text text-anchor=\"middle\" x=\"50.5\" y=\"-580\" font-family=\"monospace\" font-size=\"10.00\" fill=\"#000000\"> (256)</text>\n",
              "</g>\n",
              "<!-- 139972360826608&#45;&gt;139972363089104 -->\n",
              "<g id=\"edge14\" class=\"edge\">\n",
              "<title>139972360826608&#45;&gt;139972363089104</title>\n",
              "<path fill=\"none\" stroke=\"#000000\" d=\"M50.5,-572.6924C50.5,-563.5067 50.5,-551.7245 50.5,-541.8312\"/>\n",
              "<polygon fill=\"#000000\" stroke=\"#000000\" points=\"54.0001,-541.703 50.5,-531.7031 47.0001,-541.7031 54.0001,-541.703\"/>\n",
              "</g>\n",
              "<!-- 139972354591696 -->\n",
              "<g id=\"node17\" class=\"node\">\n",
              "<title>139972354591696</title>\n",
              "<polygon fill=\"#d3d3d3\" stroke=\"#000000\" points=\"244,-531.5 119,-531.5 119,-512.5 244,-512.5 244,-531.5\"/>\n",
              "<text text-anchor=\"middle\" x=\"181.5\" y=\"-519.5\" font-family=\"monospace\" font-size=\"10.00\" fill=\"#000000\">LeakyReluBackward0</text>\n",
              "</g>\n",
              "<!-- 139972354591696&#45;&gt;139972363221264 -->\n",
              "<g id=\"edge15\" class=\"edge\">\n",
              "<title>139972354591696&#45;&gt;139972363221264</title>\n",
              "<path fill=\"none\" stroke=\"#000000\" d=\"M187.6972,-512.2615C194.0251,-502.3178 204.0013,-486.6408 211.8175,-474.3582\"/>\n",
              "<polygon fill=\"#000000\" stroke=\"#000000\" points=\"214.8613,-476.0942 217.2773,-465.7785 208.9557,-472.336 214.8613,-476.0942\"/>\n",
              "</g>\n",
              "<!-- 139972354592080 -->\n",
              "<g id=\"node18\" class=\"node\">\n",
              "<title>139972354592080</title>\n",
              "<polygon fill=\"#d3d3d3\" stroke=\"#000000\" points=\"232,-597.5 131,-597.5 131,-578.5 232,-578.5 232,-597.5\"/>\n",
              "<text text-anchor=\"middle\" x=\"181.5\" y=\"-585.5\" font-family=\"monospace\" font-size=\"10.00\" fill=\"#000000\">AddmmBackward0</text>\n",
              "</g>\n",
              "<!-- 139972354592080&#45;&gt;139972354591696 -->\n",
              "<g id=\"edge16\" class=\"edge\">\n",
              "<title>139972354592080&#45;&gt;139972354591696</title>\n",
              "<path fill=\"none\" stroke=\"#000000\" d=\"M181.5,-578.2615C181.5,-568.7077 181.5,-553.8615 181.5,-541.8183\"/>\n",
              "<polygon fill=\"#000000\" stroke=\"#000000\" points=\"185.0001,-541.7784 181.5,-531.7785 178.0001,-541.7785 185.0001,-541.7784\"/>\n",
              "</g>\n",
              "<!-- 139972350100368 -->\n",
              "<g id=\"node19\" class=\"node\">\n",
              "<title>139972350100368</title>\n",
              "<polygon fill=\"#d3d3d3\" stroke=\"#000000\" points=\"135,-663.5 34,-663.5 34,-644.5 135,-644.5 135,-663.5\"/>\n",
              "<text text-anchor=\"middle\" x=\"84.5\" y=\"-651.5\" font-family=\"monospace\" font-size=\"10.00\" fill=\"#000000\">AccumulateGrad</text>\n",
              "</g>\n",
              "<!-- 139972350100368&#45;&gt;139972354592080 -->\n",
              "<g id=\"edge17\" class=\"edge\">\n",
              "<title>139972350100368&#45;&gt;139972354592080</title>\n",
              "<path fill=\"none\" stroke=\"#000000\" d=\"M98.8127,-644.2615C114.6637,-633.4762 140.4274,-615.9463 158.9868,-603.3183\"/>\n",
              "<polygon fill=\"#000000\" stroke=\"#000000\" points=\"161.1452,-606.0831 167.444,-597.5639 157.2074,-600.2957 161.1452,-606.0831\"/>\n",
              "</g>\n",
              "<!-- 139972354105520 -->\n",
              "<g id=\"node20\" class=\"node\">\n",
              "<title>139972354105520</title>\n",
              "<polygon fill=\"#add8e6\" stroke=\"#000000\" points=\"120,-735 49,-735 49,-705 120,-705 120,-735\"/>\n",
              "<text text-anchor=\"middle\" x=\"84.5\" y=\"-723\" font-family=\"monospace\" font-size=\"10.00\" fill=\"#000000\">fc.0.bias</text>\n",
              "<text text-anchor=\"middle\" x=\"84.5\" y=\"-712\" font-family=\"monospace\" font-size=\"10.00\" fill=\"#000000\"> (512)</text>\n",
              "</g>\n",
              "<!-- 139972354105520&#45;&gt;139972350100368 -->\n",
              "<g id=\"edge18\" class=\"edge\">\n",
              "<title>139972354105520&#45;&gt;139972350100368</title>\n",
              "<path fill=\"none\" stroke=\"#000000\" d=\"M84.5,-704.6924C84.5,-695.5067 84.5,-683.7245 84.5,-673.8312\"/>\n",
              "<polygon fill=\"#000000\" stroke=\"#000000\" points=\"88.0001,-673.703 84.5,-663.7031 81.0001,-673.7031 88.0001,-673.703\"/>\n",
              "</g>\n",
              "<!-- 139972350100240 -->\n",
              "<g id=\"node21\" class=\"node\">\n",
              "<title>139972350100240</title>\n",
              "<polygon fill=\"#d3d3d3\" stroke=\"#000000\" points=\"230,-663.5 153,-663.5 153,-644.5 230,-644.5 230,-663.5\"/>\n",
              "<text text-anchor=\"middle\" x=\"191.5\" y=\"-651.5\" font-family=\"monospace\" font-size=\"10.00\" fill=\"#000000\">TBackward0</text>\n",
              "</g>\n",
              "<!-- 139972350100240&#45;&gt;139972354592080 -->\n",
              "<g id=\"edge19\" class=\"edge\">\n",
              "<title>139972350100240&#45;&gt;139972354592080</title>\n",
              "<path fill=\"none\" stroke=\"#000000\" d=\"M190.0245,-644.2615C188.5769,-634.7077 186.3275,-619.8615 184.5028,-607.8183\"/>\n",
              "<polygon fill=\"#000000\" stroke=\"#000000\" points=\"187.9402,-607.1413 182.9816,-597.7785 181.0192,-608.19 187.9402,-607.1413\"/>\n",
              "</g>\n",
              "<!-- 139972350100752 -->\n",
              "<g id=\"node22\" class=\"node\">\n",
              "<title>139972350100752</title>\n",
              "<polygon fill=\"#d3d3d3\" stroke=\"#000000\" points=\"242,-729.5 141,-729.5 141,-710.5 242,-710.5 242,-729.5\"/>\n",
              "<text text-anchor=\"middle\" x=\"191.5\" y=\"-717.5\" font-family=\"monospace\" font-size=\"10.00\" fill=\"#000000\">AccumulateGrad</text>\n",
              "</g>\n",
              "<!-- 139972350100752&#45;&gt;139972350100240 -->\n",
              "<g id=\"edge20\" class=\"edge\">\n",
              "<title>139972350100752&#45;&gt;139972350100240</title>\n",
              "<path fill=\"none\" stroke=\"#000000\" d=\"M191.5,-710.2615C191.5,-700.7077 191.5,-685.8615 191.5,-673.8183\"/>\n",
              "<polygon fill=\"#000000\" stroke=\"#000000\" points=\"195.0001,-673.7784 191.5,-663.7785 188.0001,-673.7785 195.0001,-673.7784\"/>\n",
              "</g>\n",
              "<!-- 139972354105424 -->\n",
              "<g id=\"node23\" class=\"node\">\n",
              "<title>139972354105424</title>\n",
              "<polygon fill=\"#add8e6\" stroke=\"#000000\" points=\"233,-801 150,-801 150,-771 233,-771 233,-801\"/>\n",
              "<text text-anchor=\"middle\" x=\"191.5\" y=\"-789\" font-family=\"monospace\" font-size=\"10.00\" fill=\"#000000\">fc.0.weight</text>\n",
              "<text text-anchor=\"middle\" x=\"191.5\" y=\"-778\" font-family=\"monospace\" font-size=\"10.00\" fill=\"#000000\"> (512, 784)</text>\n",
              "</g>\n",
              "<!-- 139972354105424&#45;&gt;139972350100752 -->\n",
              "<g id=\"edge21\" class=\"edge\">\n",
              "<title>139972354105424&#45;&gt;139972350100752</title>\n",
              "<path fill=\"none\" stroke=\"#000000\" d=\"M191.5,-770.6924C191.5,-761.5067 191.5,-749.7245 191.5,-739.8312\"/>\n",
              "<polygon fill=\"#000000\" stroke=\"#000000\" points=\"195.0001,-739.703 191.5,-729.7031 188.0001,-739.7031 195.0001,-739.703\"/>\n",
              "</g>\n",
              "<!-- 139972354590864 -->\n",
              "<g id=\"node24\" class=\"node\">\n",
              "<title>139972354590864</title>\n",
              "<polygon fill=\"#d3d3d3\" stroke=\"#000000\" points=\"339,-531.5 262,-531.5 262,-512.5 339,-512.5 339,-531.5\"/>\n",
              "<text text-anchor=\"middle\" x=\"300.5\" y=\"-519.5\" font-family=\"monospace\" font-size=\"10.00\" fill=\"#000000\">TBackward0</text>\n",
              "</g>\n",
              "<!-- 139972354590864&#45;&gt;139972363221264 -->\n",
              "<g id=\"edge22\" class=\"edge\">\n",
              "<title>139972354590864&#45;&gt;139972363221264</title>\n",
              "<path fill=\"none\" stroke=\"#000000\" d=\"M289.1384,-512.2615C276.8988,-501.7704 257.2137,-484.8974 242.5892,-472.3622\"/>\n",
              "<polygon fill=\"#000000\" stroke=\"#000000\" points=\"244.5283,-469.4144 234.6579,-465.5639 239.9727,-474.7293 244.5283,-469.4144\"/>\n",
              "</g>\n",
              "<!-- 139972359426320 -->\n",
              "<g id=\"node25\" class=\"node\">\n",
              "<title>139972359426320</title>\n",
              "<polygon fill=\"#d3d3d3\" stroke=\"#000000\" points=\"351,-597.5 250,-597.5 250,-578.5 351,-578.5 351,-597.5\"/>\n",
              "<text text-anchor=\"middle\" x=\"300.5\" y=\"-585.5\" font-family=\"monospace\" font-size=\"10.00\" fill=\"#000000\">AccumulateGrad</text>\n",
              "</g>\n",
              "<!-- 139972359426320&#45;&gt;139972354590864 -->\n",
              "<g id=\"edge23\" class=\"edge\">\n",
              "<title>139972359426320&#45;&gt;139972354590864</title>\n",
              "<path fill=\"none\" stroke=\"#000000\" d=\"M300.5,-578.2615C300.5,-568.7077 300.5,-553.8615 300.5,-541.8183\"/>\n",
              "<polygon fill=\"#000000\" stroke=\"#000000\" points=\"304.0001,-541.7784 300.5,-531.7785 297.0001,-541.7785 304.0001,-541.7784\"/>\n",
              "</g>\n",
              "<!-- 139972360826704 -->\n",
              "<g id=\"node26\" class=\"node\">\n",
              "<title>139972360826704</title>\n",
              "<polygon fill=\"#add8e6\" stroke=\"#000000\" points=\"342,-669 259,-669 259,-639 342,-639 342,-669\"/>\n",
              "<text text-anchor=\"middle\" x=\"300.5\" y=\"-657\" font-family=\"monospace\" font-size=\"10.00\" fill=\"#000000\">fc.1.weight</text>\n",
              "<text text-anchor=\"middle\" x=\"300.5\" y=\"-646\" font-family=\"monospace\" font-size=\"10.00\" fill=\"#000000\"> (256, 512)</text>\n",
              "</g>\n",
              "<!-- 139972360826704&#45;&gt;139972359426320 -->\n",
              "<g id=\"edge24\" class=\"edge\">\n",
              "<title>139972360826704&#45;&gt;139972359426320</title>\n",
              "<path fill=\"none\" stroke=\"#000000\" d=\"M300.5,-638.6924C300.5,-629.5067 300.5,-617.7245 300.5,-607.8312\"/>\n",
              "<polygon fill=\"#000000\" stroke=\"#000000\" points=\"304.0001,-607.703 300.5,-597.7031 297.0001,-607.7031 304.0001,-607.703\"/>\n",
              "</g>\n",
              "<!-- 139972363222096 -->\n",
              "<g id=\"node27\" class=\"node\">\n",
              "<title>139972363222096</title>\n",
              "<polygon fill=\"#d3d3d3\" stroke=\"#000000\" points=\"395,-399.5 318,-399.5 318,-380.5 395,-380.5 395,-399.5\"/>\n",
              "<text text-anchor=\"middle\" x=\"356.5\" y=\"-387.5\" font-family=\"monospace\" font-size=\"10.00\" fill=\"#000000\">TBackward0</text>\n",
              "</g>\n",
              "<!-- 139972363222096&#45;&gt;139972363220880 -->\n",
              "<g id=\"edge25\" class=\"edge\">\n",
              "<title>139972363222096&#45;&gt;139972363220880</title>\n",
              "<path fill=\"none\" stroke=\"#000000\" d=\"M345.1384,-380.2615C332.8988,-369.7704 313.2137,-352.8974 298.5892,-340.3622\"/>\n",
              "<polygon fill=\"#000000\" stroke=\"#000000\" points=\"300.5283,-337.4144 290.6579,-333.5639 295.9727,-342.7293 300.5283,-337.4144\"/>\n",
              "</g>\n",
              "<!-- 139976776166288 -->\n",
              "<g id=\"node28\" class=\"node\">\n",
              "<title>139976776166288</title>\n",
              "<polygon fill=\"#d3d3d3\" stroke=\"#000000\" points=\"428,-465.5 327,-465.5 327,-446.5 428,-446.5 428,-465.5\"/>\n",
              "<text text-anchor=\"middle\" x=\"377.5\" y=\"-453.5\" font-family=\"monospace\" font-size=\"10.00\" fill=\"#000000\">AccumulateGrad</text>\n",
              "</g>\n",
              "<!-- 139976776166288&#45;&gt;139972363222096 -->\n",
              "<g id=\"edge26\" class=\"edge\">\n",
              "<title>139976776166288&#45;&gt;139972363222096</title>\n",
              "<path fill=\"none\" stroke=\"#000000\" d=\"M374.4014,-446.2615C371.3305,-436.6102 366.5412,-421.558 362.6888,-409.4506\"/>\n",
              "<polygon fill=\"#000000\" stroke=\"#000000\" points=\"365.9787,-408.2465 359.6113,-399.7785 359.3082,-410.369 365.9787,-408.2465\"/>\n",
              "</g>\n",
              "<!-- 139972354105616 -->\n",
              "<g id=\"node29\" class=\"node\">\n",
              "<title>139972354105616</title>\n",
              "<polygon fill=\"#add8e6\" stroke=\"#000000\" points=\"440,-537 357,-537 357,-507 440,-507 440,-537\"/>\n",
              "<text text-anchor=\"middle\" x=\"398.5\" y=\"-525\" font-family=\"monospace\" font-size=\"10.00\" fill=\"#000000\">fc.2.weight</text>\n",
              "<text text-anchor=\"middle\" x=\"398.5\" y=\"-514\" font-family=\"monospace\" font-size=\"10.00\" fill=\"#000000\"> (128, 256)</text>\n",
              "</g>\n",
              "<!-- 139972354105616&#45;&gt;139976776166288 -->\n",
              "<g id=\"edge27\" class=\"edge\">\n",
              "<title>139972354105616&#45;&gt;139976776166288</title>\n",
              "<path fill=\"none\" stroke=\"#000000\" d=\"M393.6294,-506.6924C390.6753,-497.408 386.8771,-485.4708 383.7086,-475.5127\"/>\n",
              "<polygon fill=\"#000000\" stroke=\"#000000\" points=\"386.9547,-474.1711 380.5873,-465.7031 380.2842,-476.2936 386.9547,-474.1711\"/>\n",
              "</g>\n",
              "<!-- 139972363221136 -->\n",
              "<g id=\"node30\" class=\"node\">\n",
              "<title>139972363221136</title>\n",
              "<polygon fill=\"#d3d3d3\" stroke=\"#000000\" points=\"451,-267.5 374,-267.5 374,-248.5 451,-248.5 451,-267.5\"/>\n",
              "<text text-anchor=\"middle\" x=\"412.5\" y=\"-255.5\" font-family=\"monospace\" font-size=\"10.00\" fill=\"#000000\">TBackward0</text>\n",
              "</g>\n",
              "<!-- 139972363221136&#45;&gt;139972354443984 -->\n",
              "<g id=\"edge28\" class=\"edge\">\n",
              "<title>139972363221136&#45;&gt;139972354443984</title>\n",
              "<path fill=\"none\" stroke=\"#000000\" d=\"M398.0398,-248.2615C382.0253,-237.4762 355.996,-219.9463 337.2453,-207.3183\"/>\n",
              "<polygon fill=\"#000000\" stroke=\"#000000\" points=\"338.9504,-204.2469 328.7009,-201.5639 335.0402,-210.053 338.9504,-204.2469\"/>\n",
              "</g>\n",
              "<!-- 139972354588880 -->\n",
              "<g id=\"node31\" class=\"node\">\n",
              "<title>139972354588880</title>\n",
              "<polygon fill=\"#d3d3d3\" stroke=\"#000000\" points=\"484,-333.5 383,-333.5 383,-314.5 484,-314.5 484,-333.5\"/>\n",
              "<text text-anchor=\"middle\" x=\"433.5\" y=\"-321.5\" font-family=\"monospace\" font-size=\"10.00\" fill=\"#000000\">AccumulateGrad</text>\n",
              "</g>\n",
              "<!-- 139972354588880&#45;&gt;139972363221136 -->\n",
              "<g id=\"edge29\" class=\"edge\">\n",
              "<title>139972354588880&#45;&gt;139972363221136</title>\n",
              "<path fill=\"none\" stroke=\"#000000\" d=\"M430.4014,-314.2615C427.3305,-304.6102 422.5412,-289.558 418.6888,-277.4506\"/>\n",
              "<polygon fill=\"#000000\" stroke=\"#000000\" points=\"421.9787,-276.2465 415.6113,-267.7785 415.3082,-278.369 421.9787,-276.2465\"/>\n",
              "</g>\n",
              "<!-- 139972354105808 -->\n",
              "<g id=\"node32\" class=\"node\">\n",
              "<title>139972354105808</title>\n",
              "<polygon fill=\"#add8e6\" stroke=\"#000000\" points=\"496,-405 413,-405 413,-375 496,-375 496,-405\"/>\n",
              "<text text-anchor=\"middle\" x=\"454.5\" y=\"-393\" font-family=\"monospace\" font-size=\"10.00\" fill=\"#000000\">fc.3.weight</text>\n",
              "<text text-anchor=\"middle\" x=\"454.5\" y=\"-382\" font-family=\"monospace\" font-size=\"10.00\" fill=\"#000000\"> (64, 128)</text>\n",
              "</g>\n",
              "<!-- 139972354105808&#45;&gt;139972354588880 -->\n",
              "<g id=\"edge30\" class=\"edge\">\n",
              "<title>139972354105808&#45;&gt;139972354588880</title>\n",
              "<path fill=\"none\" stroke=\"#000000\" d=\"M449.6294,-374.6924C446.6753,-365.408 442.8771,-353.4708 439.7086,-343.5127\"/>\n",
              "<polygon fill=\"#000000\" stroke=\"#000000\" points=\"442.9547,-342.1711 436.5873,-333.7031 436.2842,-344.2936 442.9547,-342.1711\"/>\n",
              "</g>\n",
              "<!-- 139972350100496 -->\n",
              "<g id=\"node33\" class=\"node\">\n",
              "<title>139972350100496</title>\n",
              "<polygon fill=\"#d3d3d3\" stroke=\"#000000\" points=\"528,-141 451,-141 451,-122 528,-122 528,-141\"/>\n",
              "<text text-anchor=\"middle\" x=\"489.5\" y=\"-129\" font-family=\"monospace\" font-size=\"10.00\" fill=\"#000000\">TBackward0</text>\n",
              "</g>\n",
              "<!-- 139972350100496&#45;&gt;139972350100560 -->\n",
              "<g id=\"edge31\" class=\"edge\">\n",
              "<title>139972350100496&#45;&gt;139972350100560</title>\n",
              "<path fill=\"none\" stroke=\"#000000\" d=\"M461.4559,-121.9197C435.1027,-112.9171 395.4648,-99.3762 366.3233,-89.421\"/>\n",
              "<polygon fill=\"#000000\" stroke=\"#000000\" points=\"367.0869,-85.9833 356.4923,-86.0626 364.8239,-92.6075 367.0869,-85.9833\"/>\n",
              "</g>\n",
              "<!-- 139972362975696 -->\n",
              "<g id=\"node34\" class=\"node\">\n",
              "<title>139972362975696</title>\n",
              "<polygon fill=\"#d3d3d3\" stroke=\"#000000\" points=\"550,-201.5 449,-201.5 449,-182.5 550,-182.5 550,-201.5\"/>\n",
              "<text text-anchor=\"middle\" x=\"499.5\" y=\"-189.5\" font-family=\"monospace\" font-size=\"10.00\" fill=\"#000000\">AccumulateGrad</text>\n",
              "</g>\n",
              "<!-- 139972362975696&#45;&gt;139972350100496 -->\n",
              "<g id=\"edge32\" class=\"edge\">\n",
              "<title>139972362975696&#45;&gt;139972350100496</title>\n",
              "<path fill=\"none\" stroke=\"#000000\" d=\"M497.8933,-182.2796C496.5165,-173.9499 494.4898,-161.688 492.7728,-151.3004\"/>\n",
              "<polygon fill=\"#000000\" stroke=\"#000000\" points=\"496.2199,-150.6926 491.1359,-141.3972 489.3136,-151.8342 496.2199,-150.6926\"/>\n",
              "</g>\n",
              "<!-- 139972354106000 -->\n",
              "<g id=\"node35\" class=\"node\">\n",
              "<title>139972354106000</title>\n",
              "<polygon fill=\"#add8e6\" stroke=\"#000000\" points=\"552,-273 469,-273 469,-243 552,-243 552,-273\"/>\n",
              "<text text-anchor=\"middle\" x=\"510.5\" y=\"-261\" font-family=\"monospace\" font-size=\"10.00\" fill=\"#000000\">fc.4.weight</text>\n",
              "<text text-anchor=\"middle\" x=\"510.5\" y=\"-250\" font-family=\"monospace\" font-size=\"10.00\" fill=\"#000000\"> (10, 64)</text>\n",
              "</g>\n",
              "<!-- 139972354106000&#45;&gt;139972362975696 -->\n",
              "<g id=\"edge33\" class=\"edge\">\n",
              "<title>139972354106000&#45;&gt;139972362975696</title>\n",
              "<path fill=\"none\" stroke=\"#000000\" d=\"M507.9487,-242.6924C506.4178,-233.5067 504.4541,-221.7245 502.8052,-211.8312\"/>\n",
              "<polygon fill=\"#000000\" stroke=\"#000000\" points=\"506.2136,-210.9916 501.1172,-201.7031 499.3089,-212.1424 506.2136,-210.9916\"/>\n",
              "</g>\n",
              "</g>\n",
              "</svg>\n"
            ],
            "text/plain": [
              "<graphviz.dot.Digraph at 0x7f4dda34c4d0>"
            ]
          },
          "execution_count": 30,
          "metadata": {},
          "output_type": "execute_result"
        }
      ],
      "source": [
        "print(model)\n",
        "\n",
        "try:\n",
        "    import google.colab\n",
        "    in_colab = True\n",
        "except:\n",
        "    in_colab = False\n",
        "\n",
        "if in_colab:    \n",
        "    # for torchviz on google collab\n",
        "    !pip install torchviz\n",
        "    import torchviz\n",
        "\n",
        "    x = torch.randn(1, input_size).to(device)\n",
        "    torchviz.make_dot(model(x), params=dict(model.named_parameters())).render(\"attached\", format=\"png\")\n"
      ]
    },
    {
      "cell_type": "markdown",
      "metadata": {
        "id": "1jbNvnBoBQlE"
      },
      "source": [
        "3. Changing the initialization method to Kaming normal with fan_in and leaky relu, we get 89.52 accuracy.  \n",
        "It seems that the default pytorch initialization method is sligtly better than this one. Also tried kaiming normal fan out relu, but it was also slightly worse (88.53) than the default one."
      ]
    },
    {
      "cell_type": "code",
      "execution_count": 23,
      "metadata": {
        "colab": {
          "base_uri": "https://localhost:8080/"
        },
        "id": "riTP7AbyBbas",
        "outputId": "cf2f6b53-58b0-4ad9-9dfe-619553b1b29c"
      },
      "outputs": [
        {
          "output_type": "stream",
          "name": "stdout",
          "text": [
            "Dropout is enabled with 0.2\n",
            "custom init\n",
            "kaiming_normal_fan_in_lrelu\n",
            "kaiming_normal_fan_in_lrelu\n",
            "kaiming_normal_fan_in_lrelu\n",
            "kaiming_normal_fan_in_lrelu\n",
            "kaiming_normal_fan_in_lrelu\n",
            "epoch: 0 train_loss: 1.2838 validation loss:0.6096 test accuracy: 76.85%\n",
            "==> Saving checkpoint for the best test accuracy model ... Done\n",
            "epoch: 1 train_loss: 0.5978 validation loss:0.4904 test accuracy: 81.27%\n",
            "==> Saving checkpoint for the best test accuracy model ... Done\n",
            "epoch: 2 train_loss: 0.5082 validation loss:0.4366 test accuracy: 82.76%\n",
            "==> Saving checkpoint for the best test accuracy model ... Done\n",
            "epoch: 3 train_loss: 0.4661 validation loss:0.4083 test accuracy: 84.31%\n",
            "==> Saving checkpoint for the best test accuracy model ... Done\n",
            "epoch: 4 train_loss: 0.4388 validation loss:0.3846 test accuracy: 85.11%\n",
            "==> Saving checkpoint for the best test accuracy model ... Done\n",
            "epoch: 5 train_loss: 0.4175 validation loss:0.3642 test accuracy: 85.53%\n",
            "==> Saving checkpoint for the best test accuracy model ... Done\n",
            "epoch: 6 train_loss: 0.3996 validation loss:0.3660 test accuracy: 85.94%\n",
            "==> Saving checkpoint for the best test accuracy model ... Done\n",
            "epoch: 7 train_loss: 0.3872 validation loss:0.3497 test accuracy: 86.42%\n",
            "==> Saving checkpoint for the best test accuracy model ... Done\n",
            "epoch: 8 train_loss: 0.3739 validation loss:0.3545 test accuracy: 86.36%\n",
            "epoch: 9 train_loss: 0.3679 validation loss:0.3399 test accuracy: 86.46%\n",
            "==> Saving checkpoint for the best test accuracy model ... Done\n",
            "epoch: 10 train_loss: 0.3548 validation loss:0.3419 test accuracy: 86.40%\n",
            "epoch: 11 train_loss: 0.3432 validation loss:0.3408 test accuracy: 86.44%\n",
            "epoch: 12 train_loss: 0.3393 validation loss:0.3343 test accuracy: 86.75%\n",
            "==> Saving checkpoint for the best test accuracy model ... Done\n",
            "epoch: 13 train_loss: 0.3342 validation loss:0.3173 test accuracy: 87.09%\n",
            "==> Saving checkpoint for the best test accuracy model ... Done\n",
            "epoch: 14 train_loss: 0.3249 validation loss:0.3382 test accuracy: 86.67%\n",
            "epoch: 15 train_loss: 0.3198 validation loss:0.3304 test accuracy: 86.96%\n",
            "epoch: 16 train_loss: 0.3161 validation loss:0.3173 test accuracy: 87.16%\n",
            "==> Saving checkpoint for the best test accuracy model ... Done\n",
            "epoch: 17 train_loss: 0.3081 validation loss:0.3119 test accuracy: 87.43%\n",
            "==> Saving checkpoint for the best test accuracy model ... Done\n",
            "epoch: 18 train_loss: 0.3061 validation loss:0.3031 test accuracy: 88.03%\n",
            "==> Saving checkpoint for the best test accuracy model ... Done\n",
            "epoch: 19 train_loss: 0.2979 validation loss:0.3031 test accuracy: 87.79%\n",
            "epoch: 20 train_loss: 0.2931 validation loss:0.3042 test accuracy: 88.14%\n",
            "==> Saving checkpoint for the best test accuracy model ... Done\n",
            "epoch: 21 train_loss: 0.2907 validation loss:0.3050 test accuracy: 88.02%\n",
            "epoch: 22 train_loss: 0.2820 validation loss:0.2980 test accuracy: 88.02%\n",
            "epoch: 23 train_loss: 0.2812 validation loss:0.2956 test accuracy: 88.19%\n",
            "==> Saving checkpoint for the best test accuracy model ... Done\n",
            "epoch: 24 train_loss: 0.2770 validation loss:0.2958 test accuracy: 88.27%\n",
            "==> Saving checkpoint for the best test accuracy model ... Done\n",
            "epoch: 25 train_loss: 0.2727 validation loss:0.2884 test accuracy: 88.27%\n",
            "epoch: 26 train_loss: 0.2673 validation loss:0.2948 test accuracy: 88.12%\n",
            "epoch: 27 train_loss: 0.2662 validation loss:0.2889 test accuracy: 88.43%\n",
            "==> Saving checkpoint for the best test accuracy model ... Done\n",
            "epoch: 28 train_loss: 0.2573 validation loss:0.2950 test accuracy: 88.25%\n",
            "epoch: 29 train_loss: 0.2575 validation loss:0.3033 test accuracy: 88.38%\n",
            "epoch: 30 train_loss: 0.2534 validation loss:0.2956 test accuracy: 88.22%\n",
            "Epoch    31: reducing learning rate of group 0 to 5.0000e-03.\n",
            "epoch: 31 train_loss: 0.2312 validation loss:0.2824 test accuracy: 88.94%\n",
            "==> Saving checkpoint for the best test accuracy model ... Done\n",
            "epoch: 32 train_loss: 0.2271 validation loss:0.2799 test accuracy: 88.84%\n",
            "epoch: 33 train_loss: 0.2212 validation loss:0.2783 test accuracy: 88.77%\n",
            "epoch: 34 train_loss: 0.2164 validation loss:0.2791 test accuracy: 89.11%\n",
            "==> Saving checkpoint for the best test accuracy model ... Done\n",
            "epoch: 35 train_loss: 0.2169 validation loss:0.2788 test accuracy: 89.19%\n",
            "==> Saving checkpoint for the best test accuracy model ... Done\n",
            "epoch: 36 train_loss: 0.2139 validation loss:0.2814 test accuracy: 88.82%\n",
            "epoch: 37 train_loss: 0.2147 validation loss:0.2855 test accuracy: 89.22%\n",
            "==> Saving checkpoint for the best test accuracy model ... Done\n",
            "epoch: 38 train_loss: 0.2100 validation loss:0.2818 test accuracy: 89.07%\n",
            "epoch: 39 train_loss: 0.2079 validation loss:0.2805 test accuracy: 88.87%\n",
            "epoch: 40 train_loss: 0.2034 validation loss:0.2781 test accuracy: 89.28%\n",
            "==> Saving checkpoint for the best test accuracy model ... Done\n",
            "epoch: 41 train_loss: 0.2051 validation loss:0.2743 test accuracy: 89.25%\n",
            "epoch: 42 train_loss: 0.2024 validation loss:0.2869 test accuracy: 89.35%\n",
            "==> Saving checkpoint for the best test accuracy model ... Done\n",
            "epoch: 43 train_loss: 0.1988 validation loss:0.2812 test accuracy: 89.08%\n",
            "epoch: 44 train_loss: 0.2012 validation loss:0.2805 test accuracy: 89.31%\n",
            "epoch: 45 train_loss: 0.1978 validation loss:0.2805 test accuracy: 89.44%\n",
            "==> Saving checkpoint for the best test accuracy model ... Done\n",
            "epoch: 46 train_loss: 0.1942 validation loss:0.2800 test accuracy: 89.25%\n",
            "epoch: 47 train_loss: 0.1921 validation loss:0.2881 test accuracy: 89.10%\n",
            "epoch: 48 train_loss: 0.1907 validation loss:0.2807 test accuracy: 89.41%\n",
            "Epoch    49: reducing learning rate of group 0 to 2.5000e-03.\n",
            "epoch: 49 train_loss: 0.1724 validation loss:0.2841 test accuracy: 89.52%\n",
            "==> Saving checkpoint for the best test accuracy model ... Done\n",
            "the best accuracy is: 89.52\n"
          ]
        }
      ],
      "source": [
        "seed = 211\n",
        "np.random.seed(seed)\n",
        "torch.manual_seed(seed)\n",
        "\n",
        "model_hyper_params['weights_init'] = 'kaiming_normal_fan_in_lrelu'\n",
        "\n",
        "model2 = MyMLP(model_hyper_params).to(device)\n",
        "\n",
        "best_accuracy, train_losses, valid_losses, test_accuracies = train_mlp(\n",
        "    model2, train_hyper_params, save_model_with_best_accuracy=True)\n",
        "\n",
        "print(f\"the best accuracy is: {best_accuracy}\")"
      ]
    },
    {
      "cell_type": "markdown",
      "metadata": {
        "id": "xAINGxl0OF1o"
      },
      "source": [
        "### <img src=\"https://img.icons8.com/color/48/000000/code.png\" style=\"height:50px;display:inline\"> Task 3 - Design a CNN\n",
        "---\n",
        "In this task you are going to design a deep convolutional neural network to classify house number digits from the **The Street View House Numbers (SVHN)** Dataset. \n",
        "\n",
        "SVHN is a real-world image dataset for developing machine learning and object recognition algorithms with minimal requirement on data preprocessing and formatting. It can be seen as similar in flavor to MNIST (e.g., the images are of small cropped digits), but incorporates an order of magnitude more labeled data (over 600,000 digit images) and comes from a significantly harder, unsolved, real world problem (recognizing digits and numbers in natural scene images). SVHN is obtained from house numbers in Google Street View images.\n",
        "\n",
        "* 10 classes, 1 for each digit. Digit '0' has label 0, '1' has label 1,...\n",
        "* 73257 digits for training, 26032 digits for testing, and 531131 additional, somewhat less difficult samples, to use as extra training data.\n",
        "\n",
        "<img src=\"http://ufldl.stanford.edu/housenumbers/32x32eg.png\" style=\"height:250px\">\n",
        "\n",
        "1. Load the SVHN dataset with PyTorch using `torchvision.datasets.SVHN(root, split='train', transform=None, target_transform=None, download=True)`, you can read more here: https://pytorch.org/docs/stable/torchvision/datasets.html#svhn. Display 5 images from the train set.\n",
        "2. Design a Convolutional Neural Network (CNN) to classify digits from the images.\n",
        "    * Describe the chosen architecture, how many layers? What activations did you choose? What are the filter sizes? Did you use fully-connected layers (if you did, explain their sizes)?\n",
        "    * What is the input dimension? What is the output dimension?\n",
        "    * Calculate the number of parameters (weights) in the network. **Print** this number.\n",
        "3. Train the classifier (preferably on a GPU - use Colab for this part if you don't have a GPU).\n",
        "    * Describe the the hyper-parameters of the model (batch size, epochs, learning rate....). How did you tune your model? Did you use a validation set to tune the model?\n",
        "    * What is the final accuracy on the test set? **Print** it.\n",
        "        * You need to reach at least 86% accuracy in this section, and 90% for a full grade.\n",
        "    * **Plot** the loss curves (and any other statistic you want) as a function of epochs/iterations.\n",
        "4. For the trained classifier, what is the accuracy on the test set when each test image is added a small noise $a=(0.05, 0.01, 0.005)$: $$ \\text{image} + a \\times \\mathcal{N}(0, 1) $$. **Print** the result for each value of $a$.\n",
        "5. Retrain the classifier, but this time use data augementation of your choosing. Briefly explain what augmentation you chose and how it works. Did the test accuracy improve? **Print** the result.\n",
        "    * You can use transformations available in `torchvision.transforms` as shown in the tutorial.\n",
        "    * You are welcome to use <a href=\"https://kornia.github.io/\">`kornia`</a> for the augmentations.\n",
        "    * **Plot** the loss curves (and any other statistic you want) as a function of epochs/iterations."
      ]
    },
    {
      "cell_type": "markdown",
      "metadata": {
        "id": "QYTowW1Sk2x7"
      },
      "source": [
        "### <img src=\"https://img.icons8.com/color/48/000000/code.png\" style=\"height:50px;display:inline\"> Task 3 Code and Answers - Design a CNN"
      ]
    },
    {
      "cell_type": "code",
      "execution_count": 24,
      "metadata": {
        "colab": {
          "base_uri": "https://localhost:8080/"
        },
        "id": "ioRPXCDknthg",
        "outputId": "e4c0af11-91e4-4b87-8811-bb8dbbf1258c"
      },
      "outputs": [
        {
          "output_type": "stream",
          "name": "stdout",
          "text": [
            "running calculations on:  cuda:0\n"
          ]
        }
      ],
      "source": [
        "#imports\n",
        "\n",
        "import os\n",
        "import time\n",
        "import torch\n",
        "import torch.nn as nn\n",
        "import numpy as np\n",
        "import matplotlib.pyplot as plt\n",
        "from torchvision import datasets, transforms\n",
        "from torch.utils.data.sampler import SubsetRandomSampler\n",
        "from torch.optim.lr_scheduler import ReduceLROnPlateau\n",
        "import copy\n",
        "\n",
        "# %matplotlib notebook\n",
        "%matplotlib inline\n",
        "\n",
        "# check if there is gpu avilable, if there is, use it\n",
        "if torch.cuda.is_available():\n",
        "    torch.cuda.current_device()\n",
        "device = torch.device(\"cuda:0\" if torch.cuda.is_available() else \"cpu\")\n",
        "print(\"running calculations on: \", device)\n"
      ]
    },
    {
      "cell_type": "markdown",
      "metadata": {
        "id": "y7uTu9skkKCn"
      },
      "source": [
        "1. Showing some samples:"
      ]
    },
    {
      "cell_type": "code",
      "execution_count": 25,
      "metadata": {
        "colab": {
          "base_uri": "https://localhost:8080/",
          "height": 256,
          "referenced_widgets": [
            "015f7a632f51437f8ff11fa3f5a2c02a",
            "4be8971487ed4f2c8c79c28d10924e21",
            "ee288691561f4526ab180322ce7c0a4e",
            "fe5db6b00d714584863d48d2ff2a801b",
            "11c4143ceee5494d8a7d26f7ebd06bef",
            "8da3e91d33a441e48770459925d1a112",
            "8d13238afd6943619cd67b15010eaaea",
            "0aa9727a5498402780971251c32bc4fa",
            "6ba2601d66f341d2b1687a1c7a1ce08b",
            "a3c63056ae794ab8b047998cb8e872b8",
            "0fec8522bd324473a05220eec07aed46",
            "6d2e1516cede4436bdd1a5c751187eba",
            "118ea7119d914b3dab82cc8ccef1d878",
            "94d9ee2a9ec2411e917435b75e51f939",
            "ff52a1a7e1154df8981bc88ba5251436",
            "ba9a64cef81e4cfead5b79832a3e9ce4",
            "b16d7cfee87f4ec4b783964fdd0f2054",
            "ff829cb6e3c24cee921cc9dd40b53fe8",
            "f847115217994912af55b0e93a8ac787",
            "6781eee9b897492c81e3abaf606f0d02",
            "87408060186e493fa5e82901c7503ee9",
            "4a1fe9498d124908baccab6bd87b3d1d"
          ]
        },
        "id": "yAFN-QAXOF1o",
        "outputId": "c4cd3b4e-4bd5-4656-a867-b3f9d45d7c5f"
      },
      "outputs": [
        {
          "output_type": "stream",
          "name": "stdout",
          "text": [
            "Downloading http://ufldl.stanford.edu/housenumbers/train_32x32.mat to ./datasets/svhn/train_32x32.mat\n"
          ]
        },
        {
          "output_type": "display_data",
          "data": {
            "application/vnd.jupyter.widget-view+json": {
              "model_id": "015f7a632f51437f8ff11fa3f5a2c02a",
              "version_minor": 0,
              "version_major": 2
            },
            "text/plain": [
              "  0%|          | 0/182040794 [00:00<?, ?it/s]"
            ]
          },
          "metadata": {}
        },
        {
          "output_type": "stream",
          "name": "stdout",
          "text": [
            "Using downloaded and verified file: ./datasets/svhn/train_32x32.mat\n",
            "Downloading http://ufldl.stanford.edu/housenumbers/test_32x32.mat to ./datasets/svhn/test_32x32.mat\n"
          ]
        },
        {
          "output_type": "display_data",
          "data": {
            "application/vnd.jupyter.widget-view+json": {
              "model_id": "6d2e1516cede4436bdd1a5c751187eba",
              "version_minor": 0,
              "version_major": 2
            },
            "text/plain": [
              "  0%|          | 0/64275384 [00:00<?, ?it/s]"
            ]
          },
          "metadata": {}
        },
        {
          "output_type": "stream",
          "name": "stdout",
          "text": [
            "Using downloaded and verified file: ./datasets/svhn/train_32x32.mat\n"
          ]
        },
        {
          "output_type": "display_data",
          "data": {
            "text/plain": [
              "<Figure size 1440x1440 with 0 Axes>"
            ]
          },
          "metadata": {}
        },
        {
          "output_type": "display_data",
          "data": {
            "image/png": "[encoded data removed]",
            "text/plain": [
              "<Figure size 432x288 with 5 Axes>"
            ]
          },
          "metadata": {}
        }
      ],
      "source": [
        "#3.1\n",
        "\n",
        "\n",
        "\n",
        "seed = 210\n",
        "np.random.seed(seed)\n",
        "torch.manual_seed(seed)\n",
        "\n",
        "mean = [0.4380, 0.4440, 0.4730]\n",
        "std = [0.1751, 0.1771, 0.1744]\n",
        "\n",
        "normalize = transforms.Normalize(mean=mean, std=std)\n",
        "\n",
        "# define transforms\n",
        "valid_transform = transforms.Compose([\n",
        "        transforms.ToTensor(),\n",
        "        normalize\n",
        "    ])\n",
        "train_transform = transforms.Compose([\n",
        "    #transforms.RandomCrop(32, padding=4),\n",
        "    # up to 4 pixels translation (no rotation)\n",
        "    #transforms.RandomAffine(0, translate=(0.125,0.125)),\n",
        "    transforms.ToTensor(),\n",
        "    normalize\n",
        "])\n",
        "\n",
        "# load the dataset\n",
        "data_dir = './datasets/svhn/'\n",
        "train_dataset = datasets.SVHN(\n",
        "    root=data_dir, split='train', transform=train_transform, download=True)\n",
        "valid_dataset = datasets.SVHN(\n",
        "    root=data_dir, split='train', transform=valid_transform, download=True)\n",
        "test_dataset = datasets.SVHN(\n",
        "    root=data_dir, split='test', transform=valid_transform, download=True)\n",
        "\n",
        "# visualize some images\n",
        "n_samples = 5\n",
        "train_dataset_no_transform = datasets.SVHN(\n",
        "    root=data_dir, split='train', transform=transforms.ToTensor(), download=True)\n",
        "sample_loader = torch.utils.data.DataLoader(\n",
        "    train_dataset_no_transform, batch_size=n_samples, shuffle=True)\n",
        "data_iter = iter(sample_loader)\n",
        "sampled_images, sampled_labels = data_iter.next()\n",
        "\n",
        "def convert_to_imshow_format(image):\n",
        "    image = image.numpy()\n",
        "    # convert from CHW to HWC\n",
        "    # from 3x32x32 to 32x32x3\n",
        "    return image.transpose(1,2,0)\n",
        "\n",
        "def plot_samples(samples, labels, predictions=None):\n",
        "    fig = plt.figure(figsize=(20, 20))\n",
        "    _, axes = plt.subplots(1, len(samples))\n",
        "\n",
        "    for i, ax in enumerate(axes.flat):\n",
        "    \n",
        "        ax.imshow(convert_to_imshow_format(samples[i]))\n",
        "        xlabel = str(labels[i].numpy())\n",
        "        title = f\"GT: {xlabel}\"\n",
        "        if np.any(predictions) != None:\n",
        "            xpred = str(np.argmax(predictions[i]))\n",
        "            title += f\", P: {xpred}\"\n",
        "        ax.set_title(title)    \n",
        "        ax.set_xlabel(xlabel)\n",
        "        ax.set_xticks([])\n",
        "        ax.set_yticks([])\n",
        "        ax.set_axis_off()\n",
        "\n",
        "    plt.show()\n",
        "\n",
        "plot_samples(sampled_images, sampled_labels)"
      ]
    },
    {
      "cell_type": "markdown",
      "metadata": {
        "id": "h8nHODJuJiti"
      },
      "source": [
        "2. We've designed the following CNN model architecture.\n",
        "    * how many layers?  \n",
        "      We've split the network to two main parts. The convolution layers in one sequantial NN module and the fully connected in another.  \n",
        "      The convolutional part has 19 layers (includes Conv2d, ReLU, BatchNorm2d and Dropout2d)  \n",
        "      The FC part has 7 layers (includes Linear, ReLU and Dropout)\n",
        "      Total of 26 layers.\n",
        "    * What activations did you choose?  \n",
        "      ReLU\n",
        "    * What are the filter sizes?  \n",
        "      We used 3x3 filter sizes along the whole conv part and increased receptive feild by having stacked conv layers with the same filter size. We also didn't shrink the image channels size by adequate padding.\n",
        "    * Did you use fully-connected layers (if you did, explain their sizes)?  \n",
        "      Yes.\n",
        "      The first FC hidden layer is with the size 512 and its linear $W_l$ matrix maps the flattened output of the last convolultion layer with the size 256x4x4 = 4096 (actually after decimation by max pooling) to 512.  \n",
        "      Meaning, the 256 channels of size 4x4 are flattened and mapped to FC layer.  \n",
        "      The final output size of the FC part is of size 10 as the number of classes we classify.\n",
        "    * What is the input dimension?  \n",
        "      The input deimension is 3x32x32. Meaning, images of 32x32 pixels with 3 RGB channels.\n",
        "    * What is the output dimension?  \n",
        "      The output diemnsion is of size 10 as the number of classes.\n",
        "    * The number of parameters is 5852170. See the print below."
      ]
    },
    {
      "cell_type": "code",
      "execution_count": 26,
      "metadata": {
        "id": "AdRO_95XOyb8"
      },
      "outputs": [],
      "source": [
        "#3.2\n",
        "\n",
        "\n",
        "class MyCNN(nn.Module):\n",
        "    def __init__(self, params):\n",
        "        super(MyCNN, self).__init__()\n",
        "        self.params = copy.deepcopy(params)\n",
        "\n",
        "        self.conv = torch.nn.Sequential()\n",
        "        for idx, layer in enumerate(self.params['conv_layers']):\n",
        "            if layer['type'] == 'Conv2d':\n",
        "                module = nn.Conv2d(\n",
        "                  in_channels=layer['in_channels'], out_channels=layer['out_channels'],\n",
        "                  kernel_size=layer['kernel_size'], padding=layer['padding'])\n",
        "            if layer['type'] == 'ReLU':\n",
        "                module = nn.ReLU(inplace=True)\n",
        "            if layer['type'] == 'MaxPool2d':\n",
        "                module = nn.MaxPool2d(kernel_size=layer['kernel_size'], stride=layer['stride'])\n",
        "            if layer['type'] == 'Dropout2d':\n",
        "                module = nn.Dropout2d(p=layer['p'])\n",
        "            if layer['type'] == 'BatchNorm2d':\n",
        "                module = nn.BatchNorm2d(num_features=layer['num_features'])\n",
        "            key = f\"{layer['type']}_{idx}\" \n",
        "            self.conv.add_module(key, module)\n",
        "\n",
        "        self.fc = torch.nn.Sequential()\n",
        "        for idx, layer in enumerate(self.params['fc_layers']):\n",
        "            if layer['type'] == 'Dropout':\n",
        "                module = nn.Dropout(p=layer['p'])\n",
        "            if layer['type'] == 'Linear':\n",
        "                module = nn.Linear(\n",
        "                    in_features=layer['in_features'], out_features=layer['out_features'])\n",
        "            if layer['type'] == 'ReLU':\n",
        "                module = nn.ReLU(inplace=True)\n",
        "            key = f\"{layer['type']}_{idx}\" \n",
        "            self.fc.add_module(key, module)\n",
        "\n",
        "    def forward(self, x):\n",
        "        # conv layers\n",
        "        x = self.conv(x)\n",
        "\n",
        "        # flatten\n",
        "        x = x.view(x.size(0), -1)\n",
        "\n",
        "        # fc layer\n",
        "        x = self.fc(x)\n",
        "\n",
        "        return x\n"
      ]
    },
    {
      "cell_type": "code",
      "execution_count": 27,
      "metadata": {
        "colab": {
          "base_uri": "https://localhost:8080/"
        },
        "id": "6REv8o1WmrZ5",
        "outputId": "63266698-4b12-4fef-d4d0-f943c423b0eb"
      },
      "outputs": [
        {
          "output_type": "stream",
          "name": "stdout",
          "text": [
            "num trainable weights:  5852170\n"
          ]
        }
      ],
      "source": [
        "# building the model with model hyper parameters\n",
        "model_hyper_parameters = {\n",
        "    'conv_layers' :\n",
        "    [\n",
        "      # Conv Layer block 1\n",
        "     {'type':'Conv2d', 'in_channels':3, 'out_channels':32, 'kernel_size':3, 'padding':1},\n",
        "     {'type':'BatchNorm2d', 'num_features':32},\n",
        "     {'type':'ReLU'},\n",
        "     {'type':'Conv2d', 'in_channels':32, 'out_channels':64, 'kernel_size':3, 'padding':1},\n",
        "     {'type':'ReLU'},\n",
        "     {'type':'MaxPool2d', 'kernel_size':2, 'stride':2},\n",
        "\n",
        "      # Conv Layer block 2\n",
        "     {'type':'Conv2d', 'in_channels':64, 'out_channels':128, 'kernel_size':3, 'padding':1},\n",
        "     {'type':'BatchNorm2d', 'num_features':128},\n",
        "     {'type':'ReLU'},\n",
        "     {'type':'Conv2d', 'in_channels':128, 'out_channels':128, 'kernel_size':3, 'padding':1},\n",
        "     {'type':'ReLU'},\n",
        "     {'type':'MaxPool2d', 'kernel_size':2, 'stride':2},\n",
        "     {'type':'Dropout2d', 'p':0.05},\n",
        "\n",
        "      # Conv Layer block 3\n",
        "     {'type':'Conv2d', 'in_channels':128, 'out_channels':256, 'kernel_size':3, 'padding':1},\n",
        "     {'type':'BatchNorm2d', 'num_features':256},\n",
        "     {'type':'ReLU'},\n",
        "     {'type':'Conv2d', 'in_channels':256, 'out_channels':256, 'kernel_size':3, 'padding':1},\n",
        "     {'type':'ReLU'},\n",
        "     {'type':'MaxPool2d', 'kernel_size':2, 'stride':2}\n",
        "    ],\n",
        "    'fc_layers' :\n",
        "    [\n",
        "     {'type':'Dropout', 'p':0.1},\n",
        "     {'type':'Linear', 'in_features':4096, 'out_features':1024},\n",
        "     {'type':'ReLU'},\n",
        "     {'type':'Linear', 'in_features':1024, 'out_features':512},\n",
        "     {'type':'ReLU'},\n",
        "     {'type':'Dropout', 'p':0.1},\n",
        "     {'type':'Linear', 'in_features':512, 'out_features':10}\n",
        "    ]\n",
        "}\n",
        "\n",
        "# we calcualte the output of the convolution layers\n",
        "dummy_input = torch.zeros([1, 3, 32, 32])\n",
        "dummy_model = MyCNN(model_hyper_parameters)\n",
        "dummy_output = dummy_model.conv(dummy_input)\n",
        "#print(dummy_output.shape)\n",
        "dummy_output = dummy_output.view(dummy_output.size(0), -1)\n",
        "#print(dummy_output.shape)\n",
        "# how many weights (trainable parameters) we have in our model?\n",
        "list_of_trainable_parameters_per_layer = [p.numel() for p in dummy_model.parameters() if p.requires_grad]\n",
        "#print(dummy_model)\n",
        "#print(list_of_trainable_parameters_per_layer)\n",
        "\n",
        "num_trainable_params = sum(list_of_trainable_parameters_per_layer)\n",
        "print(\"num trainable weights: \", num_trainable_params)\n"
      ]
    },
    {
      "cell_type": "markdown",
      "metadata": {
        "id": "ZLlY4GZo4pvp"
      },
      "source": [
        "3. Training the model\n",
        "    * We've selected the follwing hyper parameters:  \n",
        "      * batch size = 128  \n",
        "      not too small as we run batch normalization in some layers, and too small is might have more noise. Not too big in order have it more like SGD with less compute per update iteration.\n",
        "      * learning rate = 1e-4  \n",
        "      We started with what we saw in the tutuorial and used ReduceLROnPlateau LR scheduler. schduler factor 0.5 and patience 2.\n",
        "      * epochs = 20  \n",
        "      The number of epochs was selected based on empirical loss curves. once we coudln't get much improvment on test accuracy and the validation loss started rising and we were starting to overfit the training set.\n",
        "      *  optimizer selection - Adam with its default configration.\n",
        "      *  train/validation set split factor = 0.2  \n",
        "    * We used a validation set to understand when we start to overfit. We used the test accuracy as the main stopping criteria as zero-one loss is better inidcation than validation loss (which uses probabilities) as we saw in the lectures.\n",
        " "
      ]
    },
    {
      "cell_type": "code",
      "execution_count": 28,
      "metadata": {
        "id": "D-N7Faja5Ejb"
      },
      "outputs": [],
      "source": [
        "# time to train our model\n",
        "\n",
        "def train_cnn(model, train_hyper_params):\n",
        "\n",
        "    # loss criterion\n",
        "    criterion = nn.CrossEntropyLoss()\n",
        "\n",
        "    # optimizer - SGD, Adam, RMSProp...\n",
        "    optimizer = torch.optim.Adam(model.parameters(), lr=train_hyper_params['LEARNING_RATE'])\n",
        "\n",
        "    scheduler = ReduceLROnPlateau(\n",
        "      optimizer, mode='max', factor=train_hyper_params['SCHED_FACTOR'],\n",
        "      patience=train_hyper_params['SCHED_PAT'], verbose=True)\n",
        "\n",
        "    # training loop\n",
        "\n",
        "    epochs_train_losses = []\n",
        "    epochs_valid_losses = []\n",
        "    train_accuracies = []\n",
        "    test_accuracies = []\n",
        "\n",
        "    max_test_accuracy = 0\n",
        "\n",
        "    for epoch in range(1, train_hyper_params['NUM_OF_EPOCHS'] + 1):\n",
        "        model.train() # put in training mode\n",
        "\n",
        "        epoch_time = time.time()\n",
        "        epoch_train_losses = []\n",
        "        for i, data in enumerate(train_loader, 0):\n",
        "            # get the inputs\n",
        "            inputs, labels = data\n",
        "            # send them to device\n",
        "            inputs = inputs.to(device)\n",
        "            labels = labels.to(device)\n",
        "\n",
        "            # forward + backward + optimize\n",
        "            outputs = model(inputs) # forward pass\n",
        "            loss = criterion(outputs, labels) # calculate the loss\n",
        "\n",
        "            # always the same 3 steps\n",
        "            optimizer.zero_grad() # zero the parameter gradients\n",
        "            loss.backward() # backpropagation\n",
        "            optimizer.step() # update parameters\n",
        "\n",
        "            # collect statistics\n",
        "            epoch_train_losses.append(loss.item())\n",
        "\n",
        "        epochs_train_losses.append(np.mean(epoch_train_losses))\n",
        "\n",
        "        model.eval()\n",
        "\n",
        "        with torch.no_grad():\n",
        "            epoch_valid_losses = []\n",
        "            for i, data in enumerate(valid_loader, 0):\n",
        "                # get the inputs\n",
        "                inputs, labels = data\n",
        "                # send them to device\n",
        "                inputs = inputs.to(device)\n",
        "                labels = labels.to(device)\n",
        "\n",
        "                # forward + backward + optimize\n",
        "                outputs = model(inputs) # forward pass\n",
        "                loss = criterion(outputs, labels) # calculate the loss\n",
        "\n",
        "                # collect statistics\n",
        "                epoch_valid_losses.append(loss.item())\n",
        "\n",
        "        epochs_valid_losses.append(np.mean(epoch_valid_losses))\n",
        "\n",
        "        # Calculate training/test set accuracy of the existing model\n",
        "        train_accuracy, _ = calculate_accuracy(model, train_loader, device)\n",
        "        train_accuracies.append(train_accuracy)\n",
        "        test_accuracy, _ = calculate_accuracy(model, test_loader, device)\n",
        "        test_accuracies.append(test_accuracy)\n",
        "\n",
        "        scheduler.step(test_accuracy) # accuracy is used to track down a plateau\n",
        "    \n",
        "        log = f\"Epoch: {epoch} |\"\\\n",
        "          f\" Train Loss: {epochs_train_losses[-1]:.4f} |\"\\\n",
        "          f\" Validation Loss: {epochs_valid_losses[-1]:.4f} |\"\\\n",
        "          f\" Training accuracy: {train_accuracy:.3f}% |\"\\\n",
        "          f\" Test accuracy: {test_accuracy:.3f}% | \"\n",
        "        epoch_time = time.time() - epoch_time\n",
        "        log += f\"Epoch Time: {epoch_time:.2f} secs\"\n",
        "        print(log)\n",
        "\n",
        "        # save model\n",
        "        if test_accuracy > max_test_accuracy:\n",
        "            print('==> Saving checkpoint for the best test accuracy model ...', end =\" \")\n",
        "            state = {\n",
        "            'net': model.state_dict(),\n",
        "            'epoch': epoch,\n",
        "            }\n",
        "            if not os.path.isdir(train_hyper_params['CHKPTS_PATH']):\n",
        "                os.mkdir(train_hyper_params['CHKPTS_PATH'])\n",
        "            torch.save(state, train_hyper_params['CHKPTS_PATH'] + train_hyper_params['CHKPTS_FILENAME'])\n",
        "            max_test_accuracy = test_accuracy\n",
        "            print('Done')\n",
        "\n",
        "    print('==> Finished Training ...')\n",
        "    \n",
        "    return max_test_accuracy, epochs_train_losses, epochs_valid_losses, train_accuracies, test_accuracies\n",
        "\n",
        "# function to calcualte accuracy of the model\n",
        "def calculate_accuracy(model, dataloader, device, alpha_added_noise=0):\n",
        "    model.eval() # put in evaluation mode\n",
        "    total_correct = 0\n",
        "    total_images = 0\n",
        "    confusion_matrix = np.zeros([10,10], int)\n",
        "\n",
        "    with torch.no_grad():\n",
        "        for data in dataloader:\n",
        "            images, labels = data\n",
        "            images = images.to(device)\n",
        "            if alpha_added_noise != 0:\n",
        "                noise = alpha_added_noise * torch.randn_like(images)\n",
        "                images += noise\n",
        "            labels = labels.to(device)\n",
        "            outputs = model(images)\n",
        "            _, predicted = torch.max(outputs.data, 1)\n",
        "            total_images += labels.size(0)\n",
        "            total_correct += (predicted == labels).sum().item()\n",
        "            for i, l in enumerate(labels):\n",
        "                confusion_matrix[l.item(), predicted[i].item()] += 1\n",
        "\n",
        "    model_accuracy = total_correct / total_images * 100\n",
        "\n",
        "    return model_accuracy, confusion_matrix\n",
        "\n"
      ]
    },
    {
      "cell_type": "code",
      "execution_count": 29,
      "metadata": {
        "colab": {
          "base_uri": "https://localhost:8080/"
        },
        "id": "wFQz239lSZ1W",
        "outputId": "c35ea874-d2e1-4a2e-aa7b-7c90ffce0aa6"
      },
      "outputs": [
        {
          "output_type": "stream",
          "name": "stdout",
          "text": [
            "Epoch: 1 | Train Loss: 0.8803 | Validation Loss: 0.3660 | Training accuracy: 90.042% | Test accuracy: 88.218% | Epoch Time: 86.70 secs\n",
            "==> Saving checkpoint for the best test accuracy model ... Done\n",
            "Epoch: 2 | Train Loss: 0.3250 | Validation Loss: 0.3002 | Training accuracy: 92.642% | Test accuracy: 90.262% | Epoch Time: 85.91 secs\n",
            "==> Saving checkpoint for the best test accuracy model ... Done\n",
            "Epoch: 3 | Train Loss: 0.2432 | Validation Loss: 0.2559 | Training accuracy: 95.033% | Test accuracy: 92.140% | Epoch Time: 86.01 secs\n",
            "==> Saving checkpoint for the best test accuracy model ... Done\n",
            "Epoch: 4 | Train Loss: 0.1937 | Validation Loss: 0.2473 | Training accuracy: 95.591% | Test accuracy: 92.452% | Epoch Time: 86.42 secs\n",
            "==> Saving checkpoint for the best test accuracy model ... Done\n",
            "Epoch: 5 | Train Loss: 0.1564 | Validation Loss: 0.2343 | Training accuracy: 97.188% | Test accuracy: 92.582% | Epoch Time: 86.08 secs\n",
            "==> Saving checkpoint for the best test accuracy model ... Done\n",
            "Epoch: 6 | Train Loss: 0.1276 | Validation Loss: 0.2246 | Training accuracy: 98.135% | Test accuracy: 93.393% | Epoch Time: 86.45 secs\n",
            "==> Saving checkpoint for the best test accuracy model ... Done\n",
            "Epoch: 7 | Train Loss: 0.1002 | Validation Loss: 0.2457 | Training accuracy: 98.026% | Test accuracy: 93.139% | Epoch Time: 85.86 secs\n",
            "Epoch: 8 | Train Loss: 0.0790 | Validation Loss: 0.2631 | Training accuracy: 97.915% | Test accuracy: 92.567% | Epoch Time: 86.21 secs\n",
            "Epoch     9: reducing learning rate of group 0 to 5.0000e-05.\n",
            "Epoch: 9 | Train Loss: 0.0615 | Validation Loss: 0.2634 | Training accuracy: 99.219% | Test accuracy: 92.778% | Epoch Time: 85.98 secs\n",
            "Epoch: 10 | Train Loss: 0.0291 | Validation Loss: 0.2594 | Training accuracy: 99.802% | Test accuracy: 93.619% | Epoch Time: 85.97 secs\n",
            "==> Saving checkpoint for the best test accuracy model ... Done\n",
            "Epoch: 11 | Train Loss: 0.0175 | Validation Loss: 0.3194 | Training accuracy: 99.804% | Test accuracy: 93.093% | Epoch Time: 86.31 secs\n",
            "Epoch: 12 | Train Loss: 0.0146 | Validation Loss: 0.2980 | Training accuracy: 99.933% | Test accuracy: 93.450% | Epoch Time: 85.67 secs\n",
            "Epoch    13: reducing learning rate of group 0 to 2.5000e-05.\n",
            "Epoch: 13 | Train Loss: 0.0135 | Validation Loss: 0.3087 | Training accuracy: 99.933% | Test accuracy: 93.155% | Epoch Time: 85.73 secs\n",
            "Epoch: 14 | Train Loss: 0.0061 | Validation Loss: 0.3189 | Training accuracy: 99.990% | Test accuracy: 93.635% | Epoch Time: 85.82 secs\n",
            "==> Saving checkpoint for the best test accuracy model ... Done\n",
            "Epoch: 15 | Train Loss: 0.0039 | Validation Loss: 0.3287 | Training accuracy: 99.995% | Test accuracy: 93.604% | Epoch Time: 85.94 secs\n",
            "Epoch: 16 | Train Loss: 0.0036 | Validation Loss: 0.3394 | Training accuracy: 99.998% | Test accuracy: 93.769% | Epoch Time: 85.52 secs\n",
            "==> Saving checkpoint for the best test accuracy model ... Done\n",
            "Epoch: 17 | Train Loss: 0.0040 | Validation Loss: 0.3482 | Training accuracy: 99.995% | Test accuracy: 93.508% | Epoch Time: 85.46 secs\n",
            "Epoch: 18 | Train Loss: 0.0039 | Validation Loss: 0.3598 | Training accuracy: 99.998% | Test accuracy: 93.669% | Epoch Time: 85.64 secs\n",
            "Epoch    19: reducing learning rate of group 0 to 1.2500e-05.\n",
            "Epoch: 19 | Train Loss: 0.0033 | Validation Loss: 0.3538 | Training accuracy: 99.997% | Test accuracy: 93.385% | Epoch Time: 85.61 secs\n",
            "Epoch: 20 | Train Loss: 0.0017 | Validation Loss: 0.3592 | Training accuracy: 99.998% | Test accuracy: 93.735% | Epoch Time: 85.93 secs\n",
            "==> Finished Training ...\n"
          ]
        }
      ],
      "source": [
        "\n",
        "#training hyper parameters\n",
        "train_hyper_params = {}\n",
        "train_hyper_params['VALID_SIZE'] = 0.2\n",
        "train_hyper_params['BATCH_SIZE'] = 128\n",
        "train_hyper_params['LEARNING_RATE'] = 1e-4\n",
        "train_hyper_params['SCHED_FACTOR'] = 0.5\n",
        "train_hyper_params['SCHED_PAT'] = 2\n",
        "train_hyper_params['NUM_OF_EPOCHS'] = 20\n",
        "train_hyper_params['CHKPTS_PATH'] = './checkpoints/'\n",
        "train_hyper_params['CHKPTS_FILENAME'] = 'svhn_cnn_ckpt.pth'\n",
        "\n",
        "seed = 211\n",
        "np.random.seed(seed)\n",
        "torch.manual_seed(seed)\n",
        "\n",
        "num_train = len(train_dataset)\n",
        "indices = list(range(num_train))\n",
        "split = int(np.floor(train_hyper_params['VALID_SIZE'] * num_train))\n",
        "\n",
        "np.random.shuffle(indices)\n",
        "train_idx, valid_idx = indices[split:], indices[:split]\n",
        "\n",
        "train_sampler = SubsetRandomSampler(train_idx)\n",
        "valid_sampler = SubsetRandomSampler(valid_idx)\n",
        "\n",
        "train_loader = torch.utils.data.DataLoader(\n",
        "    train_dataset, batch_size=train_hyper_params['BATCH_SIZE'],\n",
        "    sampler=train_sampler, num_workers=2)\n",
        "\n",
        "valid_loader = torch.utils.data.DataLoader(\n",
        "    valid_dataset, batch_size=train_hyper_params['BATCH_SIZE'],\n",
        "    sampler=valid_sampler, num_workers=2)\n",
        "\n",
        "test_loader = torch.utils.data.DataLoader(\n",
        "  test_dataset, batch_size=train_hyper_params['BATCH_SIZE'],\n",
        "  shuffle=False, num_workers=2)\n",
        "\n",
        "# build our model and send it to the device\n",
        "model = MyCNN(model_hyper_parameters).to(device)\n",
        "\n",
        "best_accuracy, train_losses, valid_losses, train_accuracies, test_accuracies = train_cnn(\n",
        "    model, train_hyper_params)\n"
      ]
    },
    {
      "cell_type": "markdown",
      "metadata": {
        "id": "WUsvdU3OcQ_n"
      },
      "source": [
        "   * The final best  test set accuracy point we recorded between epochs was 93.769. see below the output."
      ]
    },
    {
      "cell_type": "code",
      "execution_count": 30,
      "metadata": {
        "colab": {
          "base_uri": "https://localhost:8080/"
        },
        "id": "eqOOswRocaBU",
        "outputId": "e9028874-a89d-4516-b83f-71731ff55ce8"
      },
      "outputs": [
        {
          "output_type": "stream",
          "name": "stdout",
          "text": [
            "the best accuracy recorded along epochs 93.769\n"
          ]
        }
      ],
      "source": [
        "print(f\"the best accuracy recorded along epochs {best_accuracy:.3f}\")"
      ]
    },
    {
      "cell_type": "markdown",
      "metadata": {
        "id": "H6fWBDOBc027"
      },
      "source": [
        "The train and validation losses as a function of the epochs -\n",
        "at start the train set loss is much higher as it is done before the weights are updated, while the validation loss is calculated based on the already updated ones. even so, the validation loss at some point becomes higher (we can apply early stopping) than the training set, as we start to have extreme overfit:"
      ]
    },
    {
      "cell_type": "code",
      "execution_count": 31,
      "metadata": {
        "colab": {
          "base_uri": "https://localhost:8080/",
          "height": 282
        },
        "id": "JR7cq8s0c8_g",
        "outputId": "861712b6-01e1-462f-b05c-9ae71b9d7ff8"
      },
      "outputs": [
        {
          "output_type": "execute_result",
          "data": {
            "text/plain": [
              "<matplotlib.legend.Legend at 0x7f5f5ed9d550>"
            ]
          },
          "metadata": {},
          "execution_count": 31
        },
        {
          "output_type": "display_data",
          "data": {
            "image/png": "[encoded data removed]",
            "text/plain": [
              "<Figure size 432x288 with 1 Axes>"
            ]
          },
          "metadata": {
            "needs_background": "light"
          }
        }
      ],
      "source": [
        "plt.plot(train_losses, label='train losses')\n",
        "plt.plot(valid_losses, label='valid losses')\n",
        "plt.legend()"
      ]
    },
    {
      "cell_type": "markdown",
      "metadata": {
        "id": "nLZqm0A8dzHM"
      },
      "source": [
        "The train and test accuracies vs epochs. here we also see the extreme overfit to training set (almost 100%) and generalization on test set remains low:"
      ]
    },
    {
      "cell_type": "code",
      "execution_count": 32,
      "metadata": {
        "colab": {
          "base_uri": "https://localhost:8080/",
          "height": 282
        },
        "id": "NvEmGyk5duhr",
        "outputId": "5066109a-1a09-4fc6-852f-e4847179c61b"
      },
      "outputs": [
        {
          "output_type": "execute_result",
          "data": {
            "text/plain": [
              "<matplotlib.legend.Legend at 0x7f5f5ec6f3d0>"
            ]
          },
          "metadata": {},
          "execution_count": 32
        },
        {
          "output_type": "display_data",
          "data": {
            "image/png": "[encoded data removed]",
            "text/plain": [
              "<Figure size 432x288 with 1 Axes>"
            ]
          },
          "metadata": {
            "needs_background": "light"
          }
        }
      ],
      "source": [
        "plt.plot(train_accuracies, label='train accuracies')\n",
        "plt.plot(test_accuracies, label='test accuracies')\n",
        "plt.legend()"
      ]
    },
    {
      "cell_type": "markdown",
      "metadata": {
        "id": "aARU_LdSAhBO"
      },
      "source": [
        "4. adding noise to the test data set and the resulted test accuracy:"
      ]
    },
    {
      "cell_type": "code",
      "execution_count": 33,
      "metadata": {
        "colab": {
          "base_uri": "https://localhost:8080/",
          "height": 105
        },
        "id": "pdAuFYXJAriF",
        "outputId": "cefbfbde-f221-4d98-c6c8-7b3beabeb9cb"
      },
      "outputs": [
        {
          "output_type": "display_data",
          "data": {
            "text/markdown": "For $\\alpha=0.05$, Test set accuracy =93.604",
            "text/plain": [
              "<IPython.core.display.Markdown object>"
            ]
          },
          "metadata": {}
        },
        {
          "output_type": "display_data",
          "data": {
            "text/markdown": "For $\\alpha=0.01$, Test set accuracy =93.742",
            "text/plain": [
              "<IPython.core.display.Markdown object>"
            ]
          },
          "metadata": {}
        },
        {
          "output_type": "display_data",
          "data": {
            "text/markdown": "For $\\alpha=0.005$, Test set accuracy =93.773",
            "text/plain": [
              "<IPython.core.display.Markdown object>"
            ]
          },
          "metadata": {}
        }
      ],
      "source": [
        "from IPython.display import display, Markdown\n",
        "\n",
        "state = torch.load(train_hyper_params['CHKPTS_PATH'] + train_hyper_params['CHKPTS_FILENAME'], map_location=device)\n",
        "model.load_state_dict(state['net'])\n",
        "\n",
        "alphas = [0.05, 0.01, 0.005]\n",
        "for alpha in alphas:\n",
        "    test_accuracy, _ = calculate_accuracy(model, test_loader, device, alpha_added_noise=alpha)\n",
        "    display(Markdown(rf\"\"\"For $\\alpha={alpha}$, Test set accuracy ={test_accuracy:.3f}\"\"\"))"
      ]
    },
    {
      "cell_type": "markdown",
      "metadata": {
        "id": "vRlLMg7UBlDl"
      },
      "source": [
        "  * We can see that as the noise getting bigger our accuracy is reduced."
      ]
    },
    {
      "cell_type": "markdown",
      "metadata": {
        "id": "gDl2624LYqS3"
      },
      "source": [
        "5. When adding some random noise augmentation (on image pixels values) + random translation of the image ((-4,+4) pixels) we can see tha test accuracy and generalization on unseen data has improved. We could have added also slight random rotations to improve even more."
      ]
    },
    {
      "cell_type": "code",
      "execution_count": 34,
      "metadata": {
        "colab": {
          "base_uri": "https://localhost:8080/"
        },
        "id": "d9goOPYcZBEB",
        "outputId": "9a9c2f04-e0db-4d42-a8a1-a7bf85c33973"
      },
      "outputs": [
        {
          "output_type": "stream",
          "name": "stdout",
          "text": [
            "Using downloaded and verified file: ./datasets/svhn/train_32x32.mat\n",
            "Epoch: 1 | Train Loss: 0.8601 | Validation Loss: 0.4201 | Training accuracy: 87.965% | Test accuracy: 86.252% | Epoch Time: 85.76 secs\n",
            "==> Saving checkpoint for the best test accuracy model ... Done\n",
            "Epoch: 2 | Train Loss: 0.3341 | Validation Loss: 0.2932 | Training accuracy: 92.799% | Test accuracy: 90.592% | Epoch Time: 86.23 secs\n",
            "==> Saving checkpoint for the best test accuracy model ... Done\n",
            "Epoch: 3 | Train Loss: 0.2514 | Validation Loss: 0.2665 | Training accuracy: 94.577% | Test accuracy: 91.695% | Epoch Time: 85.58 secs\n",
            "==> Saving checkpoint for the best test accuracy model ... Done\n",
            "Epoch: 4 | Train Loss: 0.2011 | Validation Loss: 0.2362 | Training accuracy: 96.381% | Test accuracy: 93.035% | Epoch Time: 85.67 secs\n",
            "==> Saving checkpoint for the best test accuracy model ... Done\n",
            "Epoch: 5 | Train Loss: 0.1680 | Validation Loss: 0.2348 | Training accuracy: 96.903% | Test accuracy: 92.870% | Epoch Time: 85.96 secs\n",
            "Epoch: 6 | Train Loss: 0.1369 | Validation Loss: 0.2279 | Training accuracy: 97.700% | Test accuracy: 93.166% | Epoch Time: 86.00 secs\n",
            "==> Saving checkpoint for the best test accuracy model ... Done\n",
            "Epoch: 7 | Train Loss: 0.1084 | Validation Loss: 0.2422 | Training accuracy: 98.336% | Test accuracy: 93.066% | Epoch Time: 86.02 secs\n",
            "Epoch: 8 | Train Loss: 0.0865 | Validation Loss: 0.2399 | Training accuracy: 98.579% | Test accuracy: 93.074% | Epoch Time: 86.00 secs\n",
            "Epoch: 9 | Train Loss: 0.0693 | Validation Loss: 0.2521 | Training accuracy: 99.201% | Test accuracy: 93.573% | Epoch Time: 85.81 secs\n",
            "==> Saving checkpoint for the best test accuracy model ... Done\n",
            "Epoch: 10 | Train Loss: 0.0535 | Validation Loss: 0.2891 | Training accuracy: 99.290% | Test accuracy: 93.055% | Epoch Time: 85.74 secs\n",
            "Epoch: 11 | Train Loss: 0.0452 | Validation Loss: 0.2890 | Training accuracy: 99.539% | Test accuracy: 93.443% | Epoch Time: 85.45 secs\n",
            "Epoch    12: reducing learning rate of group 0 to 5.0000e-05.\n",
            "Epoch: 12 | Train Loss: 0.0344 | Validation Loss: 0.2977 | Training accuracy: 99.379% | Test accuracy: 92.920% | Epoch Time: 86.04 secs\n",
            "Epoch: 13 | Train Loss: 0.0138 | Validation Loss: 0.3041 | Training accuracy: 99.939% | Test accuracy: 93.727% | Epoch Time: 85.74 secs\n",
            "==> Saving checkpoint for the best test accuracy model ... Done\n",
            "Epoch: 14 | Train Loss: 0.0084 | Validation Loss: 0.3166 | Training accuracy: 99.962% | Test accuracy: 93.727% | Epoch Time: 86.22 secs\n",
            "Epoch: 15 | Train Loss: 0.0069 | Validation Loss: 0.3473 | Training accuracy: 99.949% | Test accuracy: 93.685% | Epoch Time: 86.07 secs\n",
            "Epoch    16: reducing learning rate of group 0 to 2.5000e-05.\n",
            "Epoch: 16 | Train Loss: 0.0078 | Validation Loss: 0.3544 | Training accuracy: 99.891% | Test accuracy: 93.181% | Epoch Time: 85.93 secs\n",
            "Epoch: 17 | Train Loss: 0.0035 | Validation Loss: 0.3455 | Training accuracy: 99.997% | Test accuracy: 94.004% | Epoch Time: 85.88 secs\n",
            "==> Saving checkpoint for the best test accuracy model ... Done\n",
            "Epoch: 18 | Train Loss: 0.0023 | Validation Loss: 0.3574 | Training accuracy: 99.998% | Test accuracy: 93.896% | Epoch Time: 86.03 secs\n",
            "Epoch: 19 | Train Loss: 0.0020 | Validation Loss: 0.3822 | Training accuracy: 99.998% | Test accuracy: 93.758% | Epoch Time: 85.62 secs\n",
            "Epoch    20: reducing learning rate of group 0 to 1.2500e-05.\n",
            "Epoch: 20 | Train Loss: 0.0019 | Validation Loss: 0.3918 | Training accuracy: 99.998% | Test accuracy: 93.950% | Epoch Time: 85.41 secs\n",
            "==> Finished Training ...\n"
          ]
        }
      ],
      "source": [
        "train_transform_more = transforms.Compose([\n",
        "    #transforms.RandomCrop(32, padding=4),\n",
        "    # up to 4 pixels translation (no rotation)\n",
        "    transforms.ColorJitter(0.1,0.1,0.1,0.1),\n",
        "    transforms.RandomAffine(0, translate=(0.125,0.125)),\n",
        "    transforms.ToTensor(),\n",
        "    normalize\n",
        "])\n",
        "\n",
        "# load the dataset\n",
        "data_dir = './datasets/svhn/'\n",
        "train_dataset = datasets.SVHN(\n",
        "    root=data_dir, split='train', transform=train_transform_more, download=True)\n",
        "\n",
        "# build our model and send it to the device\n",
        "model2 = MyCNN(model_hyper_parameters).to(device)\n",
        "\n",
        "best_accuracy, train_losses, valid_losses, train_accuracies, test_accuracies = train_cnn(\n",
        "    model2, train_hyper_params)\n"
      ]
    },
    {
      "cell_type": "markdown",
      "metadata": {
        "id": "kvNlAOCJ_d1w"
      },
      "source": [
        "The test accuracy has imporved a bit from 93.769 w/o augmentation to 94.004 w/ it."
      ]
    },
    {
      "cell_type": "code",
      "execution_count": 35,
      "metadata": {
        "colab": {
          "base_uri": "https://localhost:8080/"
        },
        "id": "XjASA4wh_kMj",
        "outputId": "e114c5fc-8c6f-40d0-8b81-f3c319d0c8ec"
      },
      "outputs": [
        {
          "output_type": "stream",
          "name": "stdout",
          "text": [
            "the best accuracy recorded along epochs 94.004\n"
          ]
        }
      ],
      "source": [
        "print(f\"the best accuracy recorded along epochs {best_accuracy:.3f}\")"
      ]
    },
    {
      "cell_type": "markdown",
      "metadata": {
        "id": "cBHzcqhA_91E"
      },
      "source": [
        "The loss and accuracies plots:"
      ]
    },
    {
      "cell_type": "code",
      "execution_count": 36,
      "metadata": {
        "colab": {
          "base_uri": "https://localhost:8080/",
          "height": 282
        },
        "id": "r8Ty-ObW_7zQ",
        "outputId": "2283bc53-c0d4-4632-c95d-f56a907c0543"
      },
      "outputs": [
        {
          "output_type": "execute_result",
          "data": {
            "text/plain": [
              "<matplotlib.legend.Legend at 0x7f5f5ae04910>"
            ]
          },
          "metadata": {},
          "execution_count": 36
        },
        {
          "output_type": "display_data",
          "data": {
            "image/png": "[encoded data removed]",
            "text/plain": [
              "<Figure size 432x288 with 1 Axes>"
            ]
          },
          "metadata": {
            "needs_background": "light"
          }
        }
      ],
      "source": [
        "plt.plot(train_losses, label='train losses')\n",
        "plt.plot(valid_losses, label='valid losses')\n",
        "plt.legend()"
      ]
    },
    {
      "cell_type": "code",
      "execution_count": 37,
      "metadata": {
        "colab": {
          "base_uri": "https://localhost:8080/",
          "height": 282
        },
        "id": "N2ri0uDQAOS0",
        "outputId": "33a6868e-676f-4c37-8ba4-65d53458e195"
      },
      "outputs": [
        {
          "output_type": "execute_result",
          "data": {
            "text/plain": [
              "<matplotlib.legend.Legend at 0x7f5f5c0d95d0>"
            ]
          },
          "metadata": {},
          "execution_count": 37
        },
        {
          "output_type": "display_data",
          "data": {
            "image/png": "[encoded data removed]",
            "text/plain": [
              "<Figure size 432x288 with 1 Axes>"
            ]
          },
          "metadata": {
            "needs_background": "light"
          }
        }
      ],
      "source": [
        "plt.plot(train_accuracies, label='train accuracies')\n",
        "plt.plot(test_accuracies, label='test accuracies')\n",
        "plt.legend()"
      ]
    },
    {
      "cell_type": "markdown",
      "metadata": {
        "id": "e3UVsIqnBEe5"
      },
      "source": [
        "From confusion matrix we can see (as we could have guessed) that the model confuses between 1 and 7. 9 and 3. If we wanted to improve more. we could have focused on such targets."
      ]
    },
    {
      "cell_type": "code",
      "execution_count": 38,
      "metadata": {
        "colab": {
          "base_uri": "https://localhost:8080/",
          "height": 388
        },
        "id": "xYyx8WKdAdI6",
        "outputId": "f45c19f8-2d1f-44d0-afd7-a7716f660f9d"
      },
      "outputs": [
        {
          "output_type": "display_data",
          "data": {
            "image/png": "[encoded data removed]",
            "text/plain": [
              "<Figure size 576x432 with 1 Axes>"
            ]
          },
          "metadata": {
            "needs_background": "light"
          }
        }
      ],
      "source": [
        "test_accuracy, confusion_matrix = calculate_accuracy(model2, test_loader, device)\n",
        "# plot confusion matrix\n",
        "fig, ax = plt.subplots(1,1,figsize=(8,6))\n",
        "ax.matshow(confusion_matrix, aspect='auto', vmin=0, vmax=1000, cmap=plt.get_cmap('Blues'))\n",
        "plt.ylabel('Actual Category')\n",
        "plt.yticks(range(10))\n",
        "plt.xlabel('Predicted Category')\n",
        "plt.xticks(range(10))\n",
        "plt.show()"
      ]
    },
    {
      "cell_type": "markdown",
      "metadata": {
        "id": "CyAGHBuqOF1o"
      },
      "source": [
        "## <img src=\"https://img.icons8.com/dusk/64/000000/prize.png\" style=\"height:50px;display:inline\"> Credits\n",
        "---\n",
        "* Icons made by <a href=\"https://www.flaticon.com/authors/becris\" title=\"Becris\">Becris</a> from <a href=\"https://www.flaticon.com/\" title=\"Flaticon\">www.flaticon.com</a>\n",
        "* Icons from <a href=\"https://icons8.com/\">Icons8.com</a> - https://icons8.com\n",
        "* Datasets from <a href=\"https://www.kaggle.com/\">Kaggle</a> - https://www.kaggle.com/"
      ]
    }
  ],
  "metadata": {
    "accelerator": "GPU",
    "colab": {
      "collapsed_sections": [],
      "name": "ee046211_hw2_034462796_204034953.ipynb",
      "provenance": []
    },
    "kernelspec": {
      "display_name": "Python 3",
      "language": "python",
      "name": "python3"
    },
    "language_info": {
      "codemirror_mode": {
        "name": "ipython",
        "version": 3
      },
      "file_extension": ".py",
      "mimetype": "text/x-python",
      "name": "python",
      "nbconvert_exporter": "python",
      "pygments_lexer": "ipython3",
      "version": "3.6.13"
    },
    "widgets": {
      "application/vnd.jupyter.widget-state+json": {
        "d95e4afda0424577a93ba323b96606dd": {
          "model_module": "@jupyter-widgets/controls",
          "model_name": "HBoxModel",
          "model_module_version": "1.5.0",
          "state": {
            "_view_name": "HBoxView",
            "_dom_classes": [],
            "_model_name": "HBoxModel",
            "_view_module": "@jupyter-widgets/controls",
            "_model_module_version": "1.5.0",
            "_view_count": null,
            "_view_module_version": "1.5.0",
            "box_style": "",
            "layout": "IPY_MODEL_2dac1c94f6ae4722b3a00a61e460e2fa",
            "_model_module": "@jupyter-widgets/controls",
            "children": [
              "IPY_MODEL_365c4e85ebfe42bb8f3a2588b40a3aed",
              "IPY_MODEL_a1b0bfd2cf37481b9d0526c671224d8a",
              "IPY_MODEL_b339853829e44a009f4f443c91c89517"
            ]
          }
        },
        "2dac1c94f6ae4722b3a00a61e460e2fa": {
          "model_module": "@jupyter-widgets/base",
          "model_name": "LayoutModel",
          "model_module_version": "1.2.0",
          "state": {
            "_view_name": "LayoutView",
            "grid_template_rows": null,
            "right": null,
            "justify_content": null,
            "_view_module": "@jupyter-widgets/base",
            "overflow": null,
            "_model_module_version": "1.2.0",
            "_view_count": null,
            "flex_flow": null,
            "width": null,
            "min_width": null,
            "border": null,
            "align_items": null,
            "bottom": null,
            "_model_module": "@jupyter-widgets/base",
            "top": null,
            "grid_column": null,
            "overflow_y": null,
            "overflow_x": null,
            "grid_auto_flow": null,
            "grid_area": null,
            "grid_template_columns": null,
            "flex": null,
            "_model_name": "LayoutModel",
            "justify_items": null,
            "grid_row": null,
            "max_height": null,
            "align_content": null,
            "visibility": null,
            "align_self": null,
            "height": null,
            "min_height": null,
            "padding": null,
            "grid_auto_rows": null,
            "grid_gap": null,
            "max_width": null,
            "order": null,
            "_view_module_version": "1.2.0",
            "grid_template_areas": null,
            "object_position": null,
            "object_fit": null,
            "grid_auto_columns": null,
            "margin": null,
            "display": null,
            "left": null
          }
        },
        "365c4e85ebfe42bb8f3a2588b40a3aed": {
          "model_module": "@jupyter-widgets/controls",
          "model_name": "HTMLModel",
          "model_module_version": "1.5.0",
          "state": {
            "_view_name": "HTMLView",
            "style": "IPY_MODEL_0f8cf7a02b8e48d9accd90ada819de61",
            "_dom_classes": [],
            "description": "",
            "_model_name": "HTMLModel",
            "placeholder": "​",
            "_view_module": "@jupyter-widgets/controls",
            "_model_module_version": "1.5.0",
            "value": "",
            "_view_count": null,
            "_view_module_version": "1.5.0",
            "description_tooltip": null,
            "_model_module": "@jupyter-widgets/controls",
            "layout": "IPY_MODEL_e2f53b56fddd4495a56f933abc754be5"
          }
        },
        "a1b0bfd2cf37481b9d0526c671224d8a": {
          "model_module": "@jupyter-widgets/controls",
          "model_name": "FloatProgressModel",
          "model_module_version": "1.5.0",
          "state": {
            "_view_name": "ProgressView",
            "style": "IPY_MODEL_ff160c4fad2b4924acb3d03438fa9d3b",
            "_dom_classes": [],
            "description": "",
            "_model_name": "FloatProgressModel",
            "bar_style": "success",
            "max": 26421880,
            "_view_module": "@jupyter-widgets/controls",
            "_model_module_version": "1.5.0",
            "value": 26421880,
            "_view_count": null,
            "_view_module_version": "1.5.0",
            "orientation": "horizontal",
            "min": 0,
            "description_tooltip": null,
            "_model_module": "@jupyter-widgets/controls",
            "layout": "IPY_MODEL_c4c26122f74147cfa19ec881bb5012f8"
          }
        },
        "b339853829e44a009f4f443c91c89517": {
          "model_module": "@jupyter-widgets/controls",
          "model_name": "HTMLModel",
          "model_module_version": "1.5.0",
          "state": {
            "_view_name": "HTMLView",
            "style": "IPY_MODEL_57a5064c89a142389b3e3b7b12f04c1a",
            "_dom_classes": [],
            "description": "",
            "_model_name": "HTMLModel",
            "placeholder": "​",
            "_view_module": "@jupyter-widgets/controls",
            "_model_module_version": "1.5.0",
            "value": " 26422272/? [00:04&lt;00:00, 9322643.06it/s]",
            "_view_count": null,
            "_view_module_version": "1.5.0",
            "description_tooltip": null,
            "_model_module": "@jupyter-widgets/controls",
            "layout": "IPY_MODEL_86201dc7fbf443de8139ee122dc5099e"
          }
        },
        "0f8cf7a02b8e48d9accd90ada819de61": {
          "model_module": "@jupyter-widgets/controls",
          "model_name": "DescriptionStyleModel",
          "model_module_version": "1.5.0",
          "state": {
            "_view_name": "StyleView",
            "_model_name": "DescriptionStyleModel",
            "description_width": "",
            "_view_module": "@jupyter-widgets/base",
            "_model_module_version": "1.5.0",
            "_view_count": null,
            "_view_module_version": "1.2.0",
            "_model_module": "@jupyter-widgets/controls"
          }
        },
        "e2f53b56fddd4495a56f933abc754be5": {
          "model_module": "@jupyter-widgets/base",
          "model_name": "LayoutModel",
          "model_module_version": "1.2.0",
          "state": {
            "_view_name": "LayoutView",
            "grid_template_rows": null,
            "right": null,
            "justify_content": null,
            "_view_module": "@jupyter-widgets/base",
            "overflow": null,
            "_model_module_version": "1.2.0",
            "_view_count": null,
            "flex_flow": null,
            "width": null,
            "min_width": null,
            "border": null,
            "align_items": null,
            "bottom": null,
            "_model_module": "@jupyter-widgets/base",
            "top": null,
            "grid_column": null,
            "overflow_y": null,
            "overflow_x": null,
            "grid_auto_flow": null,
            "grid_area": null,
            "grid_template_columns": null,
            "flex": null,
            "_model_name": "LayoutModel",
            "justify_items": null,
            "grid_row": null,
            "max_height": null,
            "align_content": null,
            "visibility": null,
            "align_self": null,
            "height": null,
            "min_height": null,
            "padding": null,
            "grid_auto_rows": null,
            "grid_gap": null,
            "max_width": null,
            "order": null,
            "_view_module_version": "1.2.0",
            "grid_template_areas": null,
            "object_position": null,
            "object_fit": null,
            "grid_auto_columns": null,
            "margin": null,
            "display": null,
            "left": null
          }
        },
        "ff160c4fad2b4924acb3d03438fa9d3b": {
          "model_module": "@jupyter-widgets/controls",
          "model_name": "ProgressStyleModel",
          "model_module_version": "1.5.0",
          "state": {
            "_view_name": "StyleView",
            "_model_name": "ProgressStyleModel",
            "description_width": "",
            "_view_module": "@jupyter-widgets/base",
            "_model_module_version": "1.5.0",
            "_view_count": null,
            "_view_module_version": "1.2.0",
            "bar_color": null,
            "_model_module": "@jupyter-widgets/controls"
          }
        },
        "c4c26122f74147cfa19ec881bb5012f8": {
          "model_module": "@jupyter-widgets/base",
          "model_name": "LayoutModel",
          "model_module_version": "1.2.0",
          "state": {
            "_view_name": "LayoutView",
            "grid_template_rows": null,
            "right": null,
            "justify_content": null,
            "_view_module": "@jupyter-widgets/base",
            "overflow": null,
            "_model_module_version": "1.2.0",
            "_view_count": null,
            "flex_flow": null,
            "width": null,
            "min_width": null,
            "border": null,
            "align_items": null,
            "bottom": null,
            "_model_module": "@jupyter-widgets/base",
            "top": null,
            "grid_column": null,
            "overflow_y": null,
            "overflow_x": null,
            "grid_auto_flow": null,
            "grid_area": null,
            "grid_template_columns": null,
            "flex": null,
            "_model_name": "LayoutModel",
            "justify_items": null,
            "grid_row": null,
            "max_height": null,
            "align_content": null,
            "visibility": null,
            "align_self": null,
            "height": null,
            "min_height": null,
            "padding": null,
            "grid_auto_rows": null,
            "grid_gap": null,
            "max_width": null,
            "order": null,
            "_view_module_version": "1.2.0",
            "grid_template_areas": null,
            "object_position": null,
            "object_fit": null,
            "grid_auto_columns": null,
            "margin": null,
            "display": null,
            "left": null
          }
        },
        "57a5064c89a142389b3e3b7b12f04c1a": {
          "model_module": "@jupyter-widgets/controls",
          "model_name": "DescriptionStyleModel",
          "model_module_version": "1.5.0",
          "state": {
            "_view_name": "StyleView",
            "_model_name": "DescriptionStyleModel",
            "description_width": "",
            "_view_module": "@jupyter-widgets/base",
            "_model_module_version": "1.5.0",
            "_view_count": null,
            "_view_module_version": "1.2.0",
            "_model_module": "@jupyter-widgets/controls"
          }
        },
        "86201dc7fbf443de8139ee122dc5099e": {
          "model_module": "@jupyter-widgets/base",
          "model_name": "LayoutModel",
          "model_module_version": "1.2.0",
          "state": {
            "_view_name": "LayoutView",
            "grid_template_rows": null,
            "right": null,
            "justify_content": null,
            "_view_module": "@jupyter-widgets/base",
            "overflow": null,
            "_model_module_version": "1.2.0",
            "_view_count": null,
            "flex_flow": null,
            "width": null,
            "min_width": null,
            "border": null,
            "align_items": null,
            "bottom": null,
            "_model_module": "@jupyter-widgets/base",
            "top": null,
            "grid_column": null,
            "overflow_y": null,
            "overflow_x": null,
            "grid_auto_flow": null,
            "grid_area": null,
            "grid_template_columns": null,
            "flex": null,
            "_model_name": "LayoutModel",
            "justify_items": null,
            "grid_row": null,
            "max_height": null,
            "align_content": null,
            "visibility": null,
            "align_self": null,
            "height": null,
            "min_height": null,
            "padding": null,
            "grid_auto_rows": null,
            "grid_gap": null,
            "max_width": null,
            "order": null,
            "_view_module_version": "1.2.0",
            "grid_template_areas": null,
            "object_position": null,
            "object_fit": null,
            "grid_auto_columns": null,
            "margin": null,
            "display": null,
            "left": null
          }
        },
        "555c012dfe264127a033e27f18f0ba44": {
          "model_module": "@jupyter-widgets/controls",
          "model_name": "HBoxModel",
          "model_module_version": "1.5.0",
          "state": {
            "_view_name": "HBoxView",
            "_dom_classes": [],
            "_model_name": "HBoxModel",
            "_view_module": "@jupyter-widgets/controls",
            "_model_module_version": "1.5.0",
            "_view_count": null,
            "_view_module_version": "1.5.0",
            "box_style": "",
            "layout": "IPY_MODEL_7201f41b4ded43bc8be43f31f03d6aab",
            "_model_module": "@jupyter-widgets/controls",
            "children": [
              "IPY_MODEL_e5c754cfd7b04e999a69862774eab07a",
              "IPY_MODEL_f1f05d85e2604511bdc0609c37c3d892",
              "IPY_MODEL_072f8a4d195a4a00b0fc6f3d23ac1dc9"
            ]
          }
        },
        "7201f41b4ded43bc8be43f31f03d6aab": {
          "model_module": "@jupyter-widgets/base",
          "model_name": "LayoutModel",
          "model_module_version": "1.2.0",
          "state": {
            "_view_name": "LayoutView",
            "grid_template_rows": null,
            "right": null,
            "justify_content": null,
            "_view_module": "@jupyter-widgets/base",
            "overflow": null,
            "_model_module_version": "1.2.0",
            "_view_count": null,
            "flex_flow": null,
            "width": null,
            "min_width": null,
            "border": null,
            "align_items": null,
            "bottom": null,
            "_model_module": "@jupyter-widgets/base",
            "top": null,
            "grid_column": null,
            "overflow_y": null,
            "overflow_x": null,
            "grid_auto_flow": null,
            "grid_area": null,
            "grid_template_columns": null,
            "flex": null,
            "_model_name": "LayoutModel",
            "justify_items": null,
            "grid_row": null,
            "max_height": null,
            "align_content": null,
            "visibility": null,
            "align_self": null,
            "height": null,
            "min_height": null,
            "padding": null,
            "grid_auto_rows": null,
            "grid_gap": null,
            "max_width": null,
            "order": null,
            "_view_module_version": "1.2.0",
            "grid_template_areas": null,
            "object_position": null,
            "object_fit": null,
            "grid_auto_columns": null,
            "margin": null,
            "display": null,
            "left": null
          }
        },
        "e5c754cfd7b04e999a69862774eab07a": {
          "model_module": "@jupyter-widgets/controls",
          "model_name": "HTMLModel",
          "model_module_version": "1.5.0",
          "state": {
            "_view_name": "HTMLView",
            "style": "IPY_MODEL_f15fe37f92094576b1b8eeaa76496365",
            "_dom_classes": [],
            "description": "",
            "_model_name": "HTMLModel",
            "placeholder": "​",
            "_view_module": "@jupyter-widgets/controls",
            "_model_module_version": "1.5.0",
            "value": "",
            "_view_count": null,
            "_view_module_version": "1.5.0",
            "description_tooltip": null,
            "_model_module": "@jupyter-widgets/controls",
            "layout": "IPY_MODEL_7d63e288957748cdae59f16601904fef"
          }
        },
        "f1f05d85e2604511bdc0609c37c3d892": {
          "model_module": "@jupyter-widgets/controls",
          "model_name": "FloatProgressModel",
          "model_module_version": "1.5.0",
          "state": {
            "_view_name": "ProgressView",
            "style": "IPY_MODEL_fc710c7a8b144218a17481b6a400338e",
            "_dom_classes": [],
            "description": "",
            "_model_name": "FloatProgressModel",
            "bar_style": "success",
            "max": 29515,
            "_view_module": "@jupyter-widgets/controls",
            "_model_module_version": "1.5.0",
            "value": 29515,
            "_view_count": null,
            "_view_module_version": "1.5.0",
            "orientation": "horizontal",
            "min": 0,
            "description_tooltip": null,
            "_model_module": "@jupyter-widgets/controls",
            "layout": "IPY_MODEL_14645d89739447bb96040a9e29d4b591"
          }
        },
        "072f8a4d195a4a00b0fc6f3d23ac1dc9": {
          "model_module": "@jupyter-widgets/controls",
          "model_name": "HTMLModel",
          "model_module_version": "1.5.0",
          "state": {
            "_view_name": "HTMLView",
            "style": "IPY_MODEL_8cd444011e9d489db03b695ac99ff4eb",
            "_dom_classes": [],
            "description": "",
            "_model_name": "HTMLModel",
            "placeholder": "​",
            "_view_module": "@jupyter-widgets/controls",
            "_model_module_version": "1.5.0",
            "value": " 29696/? [00:00&lt;00:00, 55592.73it/s]",
            "_view_count": null,
            "_view_module_version": "1.5.0",
            "description_tooltip": null,
            "_model_module": "@jupyter-widgets/controls",
            "layout": "IPY_MODEL_8d8e785fe33744e3910ec5cc46d61b01"
          }
        },
        "f15fe37f92094576b1b8eeaa76496365": {
          "model_module": "@jupyter-widgets/controls",
          "model_name": "DescriptionStyleModel",
          "model_module_version": "1.5.0",
          "state": {
            "_view_name": "StyleView",
            "_model_name": "DescriptionStyleModel",
            "description_width": "",
            "_view_module": "@jupyter-widgets/base",
            "_model_module_version": "1.5.0",
            "_view_count": null,
            "_view_module_version": "1.2.0",
            "_model_module": "@jupyter-widgets/controls"
          }
        },
        "7d63e288957748cdae59f16601904fef": {
          "model_module": "@jupyter-widgets/base",
          "model_name": "LayoutModel",
          "model_module_version": "1.2.0",
          "state": {
            "_view_name": "LayoutView",
            "grid_template_rows": null,
            "right": null,
            "justify_content": null,
            "_view_module": "@jupyter-widgets/base",
            "overflow": null,
            "_model_module_version": "1.2.0",
            "_view_count": null,
            "flex_flow": null,
            "width": null,
            "min_width": null,
            "border": null,
            "align_items": null,
            "bottom": null,
            "_model_module": "@jupyter-widgets/base",
            "top": null,
            "grid_column": null,
            "overflow_y": null,
            "overflow_x": null,
            "grid_auto_flow": null,
            "grid_area": null,
            "grid_template_columns": null,
            "flex": null,
            "_model_name": "LayoutModel",
            "justify_items": null,
            "grid_row": null,
            "max_height": null,
            "align_content": null,
            "visibility": null,
            "align_self": null,
            "height": null,
            "min_height": null,
            "padding": null,
            "grid_auto_rows": null,
            "grid_gap": null,
            "max_width": null,
            "order": null,
            "_view_module_version": "1.2.0",
            "grid_template_areas": null,
            "object_position": null,
            "object_fit": null,
            "grid_auto_columns": null,
            "margin": null,
            "display": null,
            "left": null
          }
        },
        "fc710c7a8b144218a17481b6a400338e": {
          "model_module": "@jupyter-widgets/controls",
          "model_name": "ProgressStyleModel",
          "model_module_version": "1.5.0",
          "state": {
            "_view_name": "StyleView",
            "_model_name": "ProgressStyleModel",
            "description_width": "",
            "_view_module": "@jupyter-widgets/base",
            "_model_module_version": "1.5.0",
            "_view_count": null,
            "_view_module_version": "1.2.0",
            "bar_color": null,
            "_model_module": "@jupyter-widgets/controls"
          }
        },
        "14645d89739447bb96040a9e29d4b591": {
          "model_module": "@jupyter-widgets/base",
          "model_name": "LayoutModel",
          "model_module_version": "1.2.0",
          "state": {
            "_view_name": "LayoutView",
            "grid_template_rows": null,
            "right": null,
            "justify_content": null,
            "_view_module": "@jupyter-widgets/base",
            "overflow": null,
            "_model_module_version": "1.2.0",
            "_view_count": null,
            "flex_flow": null,
            "width": null,
            "min_width": null,
            "border": null,
            "align_items": null,
            "bottom": null,
            "_model_module": "@jupyter-widgets/base",
            "top": null,
            "grid_column": null,
            "overflow_y": null,
            "overflow_x": null,
            "grid_auto_flow": null,
            "grid_area": null,
            "grid_template_columns": null,
            "flex": null,
            "_model_name": "LayoutModel",
            "justify_items": null,
            "grid_row": null,
            "max_height": null,
            "align_content": null,
            "visibility": null,
            "align_self": null,
            "height": null,
            "min_height": null,
            "padding": null,
            "grid_auto_rows": null,
            "grid_gap": null,
            "max_width": null,
            "order": null,
            "_view_module_version": "1.2.0",
            "grid_template_areas": null,
            "object_position": null,
            "object_fit": null,
            "grid_auto_columns": null,
            "margin": null,
            "display": null,
            "left": null
          }
        },
        "8cd444011e9d489db03b695ac99ff4eb": {
          "model_module": "@jupyter-widgets/controls",
          "model_name": "DescriptionStyleModel",
          "model_module_version": "1.5.0",
          "state": {
            "_view_name": "StyleView",
            "_model_name": "DescriptionStyleModel",
            "description_width": "",
            "_view_module": "@jupyter-widgets/base",
            "_model_module_version": "1.5.0",
            "_view_count": null,
            "_view_module_version": "1.2.0",
            "_model_module": "@jupyter-widgets/controls"
          }
        },
        "8d8e785fe33744e3910ec5cc46d61b01": {
          "model_module": "@jupyter-widgets/base",
          "model_name": "LayoutModel",
          "model_module_version": "1.2.0",
          "state": {
            "_view_name": "LayoutView",
            "grid_template_rows": null,
            "right": null,
            "justify_content": null,
            "_view_module": "@jupyter-widgets/base",
            "overflow": null,
            "_model_module_version": "1.2.0",
            "_view_count": null,
            "flex_flow": null,
            "width": null,
            "min_width": null,
            "border": null,
            "align_items": null,
            "bottom": null,
            "_model_module": "@jupyter-widgets/base",
            "top": null,
            "grid_column": null,
            "overflow_y": null,
            "overflow_x": null,
            "grid_auto_flow": null,
            "grid_area": null,
            "grid_template_columns": null,
            "flex": null,
            "_model_name": "LayoutModel",
            "justify_items": null,
            "grid_row": null,
            "max_height": null,
            "align_content": null,
            "visibility": null,
            "align_self": null,
            "height": null,
            "min_height": null,
            "padding": null,
            "grid_auto_rows": null,
            "grid_gap": null,
            "max_width": null,
            "order": null,
            "_view_module_version": "1.2.0",
            "grid_template_areas": null,
            "object_position": null,
            "object_fit": null,
            "grid_auto_columns": null,
            "margin": null,
            "display": null,
            "left": null
          }
        },
        "1b2f740f4aa842cdadbc812eb6a0fa13": {
          "model_module": "@jupyter-widgets/controls",
          "model_name": "HBoxModel",
          "model_module_version": "1.5.0",
          "state": {
            "_view_name": "HBoxView",
            "_dom_classes": [],
            "_model_name": "HBoxModel",
            "_view_module": "@jupyter-widgets/controls",
            "_model_module_version": "1.5.0",
            "_view_count": null,
            "_view_module_version": "1.5.0",
            "box_style": "",
            "layout": "IPY_MODEL_5a7309ed69de4aa29938d388122d8868",
            "_model_module": "@jupyter-widgets/controls",
            "children": [
              "IPY_MODEL_1a12e2fd40194364bd0737b2a697a43d",
              "IPY_MODEL_4982c6b51d61435eb4026304b490cb99",
              "IPY_MODEL_c8f9a5da856b441b8289ee12cdcf8341"
            ]
          }
        },
        "5a7309ed69de4aa29938d388122d8868": {
          "model_module": "@jupyter-widgets/base",
          "model_name": "LayoutModel",
          "model_module_version": "1.2.0",
          "state": {
            "_view_name": "LayoutView",
            "grid_template_rows": null,
            "right": null,
            "justify_content": null,
            "_view_module": "@jupyter-widgets/base",
            "overflow": null,
            "_model_module_version": "1.2.0",
            "_view_count": null,
            "flex_flow": null,
            "width": null,
            "min_width": null,
            "border": null,
            "align_items": null,
            "bottom": null,
            "_model_module": "@jupyter-widgets/base",
            "top": null,
            "grid_column": null,
            "overflow_y": null,
            "overflow_x": null,
            "grid_auto_flow": null,
            "grid_area": null,
            "grid_template_columns": null,
            "flex": null,
            "_model_name": "LayoutModel",
            "justify_items": null,
            "grid_row": null,
            "max_height": null,
            "align_content": null,
            "visibility": null,
            "align_self": null,
            "height": null,
            "min_height": null,
            "padding": null,
            "grid_auto_rows": null,
            "grid_gap": null,
            "max_width": null,
            "order": null,
            "_view_module_version": "1.2.0",
            "grid_template_areas": null,
            "object_position": null,
            "object_fit": null,
            "grid_auto_columns": null,
            "margin": null,
            "display": null,
            "left": null
          }
        },
        "1a12e2fd40194364bd0737b2a697a43d": {
          "model_module": "@jupyter-widgets/controls",
          "model_name": "HTMLModel",
          "model_module_version": "1.5.0",
          "state": {
            "_view_name": "HTMLView",
            "style": "IPY_MODEL_2199b420101e4eaaaab6f40d3917ac8e",
            "_dom_classes": [],
            "description": "",
            "_model_name": "HTMLModel",
            "placeholder": "​",
            "_view_module": "@jupyter-widgets/controls",
            "_model_module_version": "1.5.0",
            "value": "",
            "_view_count": null,
            "_view_module_version": "1.5.0",
            "description_tooltip": null,
            "_model_module": "@jupyter-widgets/controls",
            "layout": "IPY_MODEL_db93872230ff455eb578609a92808353"
          }
        },
        "4982c6b51d61435eb4026304b490cb99": {
          "model_module": "@jupyter-widgets/controls",
          "model_name": "FloatProgressModel",
          "model_module_version": "1.5.0",
          "state": {
            "_view_name": "ProgressView",
            "style": "IPY_MODEL_63a787e2a41c40e9a8ed4b8324726915",
            "_dom_classes": [],
            "description": "",
            "_model_name": "FloatProgressModel",
            "bar_style": "success",
            "max": 4422102,
            "_view_module": "@jupyter-widgets/controls",
            "_model_module_version": "1.5.0",
            "value": 4422102,
            "_view_count": null,
            "_view_module_version": "1.5.0",
            "orientation": "horizontal",
            "min": 0,
            "description_tooltip": null,
            "_model_module": "@jupyter-widgets/controls",
            "layout": "IPY_MODEL_7b4c856f7798490997a36ab06c17b154"
          }
        },
        "c8f9a5da856b441b8289ee12cdcf8341": {
          "model_module": "@jupyter-widgets/controls",
          "model_name": "HTMLModel",
          "model_module_version": "1.5.0",
          "state": {
            "_view_name": "HTMLView",
            "style": "IPY_MODEL_567cbba388d04ef2ba101f901ebba699",
            "_dom_classes": [],
            "description": "",
            "_model_name": "HTMLModel",
            "placeholder": "​",
            "_view_module": "@jupyter-widgets/controls",
            "_model_module_version": "1.5.0",
            "value": " 4422656/? [00:02&lt;00:00, 2872621.05it/s]",
            "_view_count": null,
            "_view_module_version": "1.5.0",
            "description_tooltip": null,
            "_model_module": "@jupyter-widgets/controls",
            "layout": "IPY_MODEL_46bf70af68bd42d198acf6b2faac266d"
          }
        },
        "2199b420101e4eaaaab6f40d3917ac8e": {
          "model_module": "@jupyter-widgets/controls",
          "model_name": "DescriptionStyleModel",
          "model_module_version": "1.5.0",
          "state": {
            "_view_name": "StyleView",
            "_model_name": "DescriptionStyleModel",
            "description_width": "",
            "_view_module": "@jupyter-widgets/base",
            "_model_module_version": "1.5.0",
            "_view_count": null,
            "_view_module_version": "1.2.0",
            "_model_module": "@jupyter-widgets/controls"
          }
        },
        "db93872230ff455eb578609a92808353": {
          "model_module": "@jupyter-widgets/base",
          "model_name": "LayoutModel",
          "model_module_version": "1.2.0",
          "state": {
            "_view_name": "LayoutView",
            "grid_template_rows": null,
            "right": null,
            "justify_content": null,
            "_view_module": "@jupyter-widgets/base",
            "overflow": null,
            "_model_module_version": "1.2.0",
            "_view_count": null,
            "flex_flow": null,
            "width": null,
            "min_width": null,
            "border": null,
            "align_items": null,
            "bottom": null,
            "_model_module": "@jupyter-widgets/base",
            "top": null,
            "grid_column": null,
            "overflow_y": null,
            "overflow_x": null,
            "grid_auto_flow": null,
            "grid_area": null,
            "grid_template_columns": null,
            "flex": null,
            "_model_name": "LayoutModel",
            "justify_items": null,
            "grid_row": null,
            "max_height": null,
            "align_content": null,
            "visibility": null,
            "align_self": null,
            "height": null,
            "min_height": null,
            "padding": null,
            "grid_auto_rows": null,
            "grid_gap": null,
            "max_width": null,
            "order": null,
            "_view_module_version": "1.2.0",
            "grid_template_areas": null,
            "object_position": null,
            "object_fit": null,
            "grid_auto_columns": null,
            "margin": null,
            "display": null,
            "left": null
          }
        },
        "63a787e2a41c40e9a8ed4b8324726915": {
          "model_module": "@jupyter-widgets/controls",
          "model_name": "ProgressStyleModel",
          "model_module_version": "1.5.0",
          "state": {
            "_view_name": "StyleView",
            "_model_name": "ProgressStyleModel",
            "description_width": "",
            "_view_module": "@jupyter-widgets/base",
            "_model_module_version": "1.5.0",
            "_view_count": null,
            "_view_module_version": "1.2.0",
            "bar_color": null,
            "_model_module": "@jupyter-widgets/controls"
          }
        },
        "7b4c856f7798490997a36ab06c17b154": {
          "model_module": "@jupyter-widgets/base",
          "model_name": "LayoutModel",
          "model_module_version": "1.2.0",
          "state": {
            "_view_name": "LayoutView",
            "grid_template_rows": null,
            "right": null,
            "justify_content": null,
            "_view_module": "@jupyter-widgets/base",
            "overflow": null,
            "_model_module_version": "1.2.0",
            "_view_count": null,
            "flex_flow": null,
            "width": null,
            "min_width": null,
            "border": null,
            "align_items": null,
            "bottom": null,
            "_model_module": "@jupyter-widgets/base",
            "top": null,
            "grid_column": null,
            "overflow_y": null,
            "overflow_x": null,
            "grid_auto_flow": null,
            "grid_area": null,
            "grid_template_columns": null,
            "flex": null,
            "_model_name": "LayoutModel",
            "justify_items": null,
            "grid_row": null,
            "max_height": null,
            "align_content": null,
            "visibility": null,
            "align_self": null,
            "height": null,
            "min_height": null,
            "padding": null,
            "grid_auto_rows": null,
            "grid_gap": null,
            "max_width": null,
            "order": null,
            "_view_module_version": "1.2.0",
            "grid_template_areas": null,
            "object_position": null,
            "object_fit": null,
            "grid_auto_columns": null,
            "margin": null,
            "display": null,
            "left": null
          }
        },
        "567cbba388d04ef2ba101f901ebba699": {
          "model_module": "@jupyter-widgets/controls",
          "model_name": "DescriptionStyleModel",
          "model_module_version": "1.5.0",
          "state": {
            "_view_name": "StyleView",
            "_model_name": "DescriptionStyleModel",
            "description_width": "",
            "_view_module": "@jupyter-widgets/base",
            "_model_module_version": "1.5.0",
            "_view_count": null,
            "_view_module_version": "1.2.0",
            "_model_module": "@jupyter-widgets/controls"
          }
        },
        "46bf70af68bd42d198acf6b2faac266d": {
          "model_module": "@jupyter-widgets/base",
          "model_name": "LayoutModel",
          "model_module_version": "1.2.0",
          "state": {
            "_view_name": "LayoutView",
            "grid_template_rows": null,
            "right": null,
            "justify_content": null,
            "_view_module": "@jupyter-widgets/base",
            "overflow": null,
            "_model_module_version": "1.2.0",
            "_view_count": null,
            "flex_flow": null,
            "width": null,
            "min_width": null,
            "border": null,
            "align_items": null,
            "bottom": null,
            "_model_module": "@jupyter-widgets/base",
            "top": null,
            "grid_column": null,
            "overflow_y": null,
            "overflow_x": null,
            "grid_auto_flow": null,
            "grid_area": null,
            "grid_template_columns": null,
            "flex": null,
            "_model_name": "LayoutModel",
            "justify_items": null,
            "grid_row": null,
            "max_height": null,
            "align_content": null,
            "visibility": null,
            "align_self": null,
            "height": null,
            "min_height": null,
            "padding": null,
            "grid_auto_rows": null,
            "grid_gap": null,
            "max_width": null,
            "order": null,
            "_view_module_version": "1.2.0",
            "grid_template_areas": null,
            "object_position": null,
            "object_fit": null,
            "grid_auto_columns": null,
            "margin": null,
            "display": null,
            "left": null
          }
        },
        "e71fc88d877a42d99ca1517dc52ac4e5": {
          "model_module": "@jupyter-widgets/controls",
          "model_name": "HBoxModel",
          "model_module_version": "1.5.0",
          "state": {
            "_view_name": "HBoxView",
            "_dom_classes": [],
            "_model_name": "HBoxModel",
            "_view_module": "@jupyter-widgets/controls",
            "_model_module_version": "1.5.0",
            "_view_count": null,
            "_view_module_version": "1.5.0",
            "box_style": "",
            "layout": "IPY_MODEL_d34c1bad3bbf47ad8b27773a085d3e05",
            "_model_module": "@jupyter-widgets/controls",
            "children": [
              "IPY_MODEL_77cb476413854188a26f73a87c6c76d9",
              "IPY_MODEL_9b93a58daf084773a5cb91137ca6709c",
              "IPY_MODEL_a5ffd05e4be7497ba7d260c210f961a7"
            ]
          }
        },
        "d34c1bad3bbf47ad8b27773a085d3e05": {
          "model_module": "@jupyter-widgets/base",
          "model_name": "LayoutModel",
          "model_module_version": "1.2.0",
          "state": {
            "_view_name": "LayoutView",
            "grid_template_rows": null,
            "right": null,
            "justify_content": null,
            "_view_module": "@jupyter-widgets/base",
            "overflow": null,
            "_model_module_version": "1.2.0",
            "_view_count": null,
            "flex_flow": null,
            "width": null,
            "min_width": null,
            "border": null,
            "align_items": null,
            "bottom": null,
            "_model_module": "@jupyter-widgets/base",
            "top": null,
            "grid_column": null,
            "overflow_y": null,
            "overflow_x": null,
            "grid_auto_flow": null,
            "grid_area": null,
            "grid_template_columns": null,
            "flex": null,
            "_model_name": "LayoutModel",
            "justify_items": null,
            "grid_row": null,
            "max_height": null,
            "align_content": null,
            "visibility": null,
            "align_self": null,
            "height": null,
            "min_height": null,
            "padding": null,
            "grid_auto_rows": null,
            "grid_gap": null,
            "max_width": null,
            "order": null,
            "_view_module_version": "1.2.0",
            "grid_template_areas": null,
            "object_position": null,
            "object_fit": null,
            "grid_auto_columns": null,
            "margin": null,
            "display": null,
            "left": null
          }
        },
        "77cb476413854188a26f73a87c6c76d9": {
          "model_module": "@jupyter-widgets/controls",
          "model_name": "HTMLModel",
          "model_module_version": "1.5.0",
          "state": {
            "_view_name": "HTMLView",
            "style": "IPY_MODEL_3addb4f272ea4e7690758437ecb9e7ed",
            "_dom_classes": [],
            "description": "",
            "_model_name": "HTMLModel",
            "placeholder": "​",
            "_view_module": "@jupyter-widgets/controls",
            "_model_module_version": "1.5.0",
            "value": "",
            "_view_count": null,
            "_view_module_version": "1.5.0",
            "description_tooltip": null,
            "_model_module": "@jupyter-widgets/controls",
            "layout": "IPY_MODEL_8ad0c0b8d8f444a290a92553ded2eada"
          }
        },
        "9b93a58daf084773a5cb91137ca6709c": {
          "model_module": "@jupyter-widgets/controls",
          "model_name": "FloatProgressModel",
          "model_module_version": "1.5.0",
          "state": {
            "_view_name": "ProgressView",
            "style": "IPY_MODEL_23626334e3a14e19b0415b1a610d38c0",
            "_dom_classes": [],
            "description": "",
            "_model_name": "FloatProgressModel",
            "bar_style": "success",
            "max": 5148,
            "_view_module": "@jupyter-widgets/controls",
            "_model_module_version": "1.5.0",
            "value": 5148,
            "_view_count": null,
            "_view_module_version": "1.5.0",
            "orientation": "horizontal",
            "min": 0,
            "description_tooltip": null,
            "_model_module": "@jupyter-widgets/controls",
            "layout": "IPY_MODEL_1624194f75434ba79891b5a81f6b105a"
          }
        },
        "a5ffd05e4be7497ba7d260c210f961a7": {
          "model_module": "@jupyter-widgets/controls",
          "model_name": "HTMLModel",
          "model_module_version": "1.5.0",
          "state": {
            "_view_name": "HTMLView",
            "style": "IPY_MODEL_5047c5489b154360be6619db8d40e34b",
            "_dom_classes": [],
            "description": "",
            "_model_name": "HTMLModel",
            "placeholder": "​",
            "_view_module": "@jupyter-widgets/controls",
            "_model_module_version": "1.5.0",
            "value": " 6144/? [00:00&lt;00:00, 157564.33it/s]",
            "_view_count": null,
            "_view_module_version": "1.5.0",
            "description_tooltip": null,
            "_model_module": "@jupyter-widgets/controls",
            "layout": "IPY_MODEL_885f80d92e634a8dbbbcc0ae55a6469d"
          }
        },
        "3addb4f272ea4e7690758437ecb9e7ed": {
          "model_module": "@jupyter-widgets/controls",
          "model_name": "DescriptionStyleModel",
          "model_module_version": "1.5.0",
          "state": {
            "_view_name": "StyleView",
            "_model_name": "DescriptionStyleModel",
            "description_width": "",
            "_view_module": "@jupyter-widgets/base",
            "_model_module_version": "1.5.0",
            "_view_count": null,
            "_view_module_version": "1.2.0",
            "_model_module": "@jupyter-widgets/controls"
          }
        },
        "8ad0c0b8d8f444a290a92553ded2eada": {
          "model_module": "@jupyter-widgets/base",
          "model_name": "LayoutModel",
          "model_module_version": "1.2.0",
          "state": {
            "_view_name": "LayoutView",
            "grid_template_rows": null,
            "right": null,
            "justify_content": null,
            "_view_module": "@jupyter-widgets/base",
            "overflow": null,
            "_model_module_version": "1.2.0",
            "_view_count": null,
            "flex_flow": null,
            "width": null,
            "min_width": null,
            "border": null,
            "align_items": null,
            "bottom": null,
            "_model_module": "@jupyter-widgets/base",
            "top": null,
            "grid_column": null,
            "overflow_y": null,
            "overflow_x": null,
            "grid_auto_flow": null,
            "grid_area": null,
            "grid_template_columns": null,
            "flex": null,
            "_model_name": "LayoutModel",
            "justify_items": null,
            "grid_row": null,
            "max_height": null,
            "align_content": null,
            "visibility": null,
            "align_self": null,
            "height": null,
            "min_height": null,
            "padding": null,
            "grid_auto_rows": null,
            "grid_gap": null,
            "max_width": null,
            "order": null,
            "_view_module_version": "1.2.0",
            "grid_template_areas": null,
            "object_position": null,
            "object_fit": null,
            "grid_auto_columns": null,
            "margin": null,
            "display": null,
            "left": null
          }
        },
        "23626334e3a14e19b0415b1a610d38c0": {
          "model_module": "@jupyter-widgets/controls",
          "model_name": "ProgressStyleModel",
          "model_module_version": "1.5.0",
          "state": {
            "_view_name": "StyleView",
            "_model_name": "ProgressStyleModel",
            "description_width": "",
            "_view_module": "@jupyter-widgets/base",
            "_model_module_version": "1.5.0",
            "_view_count": null,
            "_view_module_version": "1.2.0",
            "bar_color": null,
            "_model_module": "@jupyter-widgets/controls"
          }
        },
        "1624194f75434ba79891b5a81f6b105a": {
          "model_module": "@jupyter-widgets/base",
          "model_name": "LayoutModel",
          "model_module_version": "1.2.0",
          "state": {
            "_view_name": "LayoutView",
            "grid_template_rows": null,
            "right": null,
            "justify_content": null,
            "_view_module": "@jupyter-widgets/base",
            "overflow": null,
            "_model_module_version": "1.2.0",
            "_view_count": null,
            "flex_flow": null,
            "width": null,
            "min_width": null,
            "border": null,
            "align_items": null,
            "bottom": null,
            "_model_module": "@jupyter-widgets/base",
            "top": null,
            "grid_column": null,
            "overflow_y": null,
            "overflow_x": null,
            "grid_auto_flow": null,
            "grid_area": null,
            "grid_template_columns": null,
            "flex": null,
            "_model_name": "LayoutModel",
            "justify_items": null,
            "grid_row": null,
            "max_height": null,
            "align_content": null,
            "visibility": null,
            "align_self": null,
            "height": null,
            "min_height": null,
            "padding": null,
            "grid_auto_rows": null,
            "grid_gap": null,
            "max_width": null,
            "order": null,
            "_view_module_version": "1.2.0",
            "grid_template_areas": null,
            "object_position": null,
            "object_fit": null,
            "grid_auto_columns": null,
            "margin": null,
            "display": null,
            "left": null
          }
        },
        "5047c5489b154360be6619db8d40e34b": {
          "model_module": "@jupyter-widgets/controls",
          "model_name": "DescriptionStyleModel",
          "model_module_version": "1.5.0",
          "state": {
            "_view_name": "StyleView",
            "_model_name": "DescriptionStyleModel",
            "description_width": "",
            "_view_module": "@jupyter-widgets/base",
            "_model_module_version": "1.5.0",
            "_view_count": null,
            "_view_module_version": "1.2.0",
            "_model_module": "@jupyter-widgets/controls"
          }
        },
        "885f80d92e634a8dbbbcc0ae55a6469d": {
          "model_module": "@jupyter-widgets/base",
          "model_name": "LayoutModel",
          "model_module_version": "1.2.0",
          "state": {
            "_view_name": "LayoutView",
            "grid_template_rows": null,
            "right": null,
            "justify_content": null,
            "_view_module": "@jupyter-widgets/base",
            "overflow": null,
            "_model_module_version": "1.2.0",
            "_view_count": null,
            "flex_flow": null,
            "width": null,
            "min_width": null,
            "border": null,
            "align_items": null,
            "bottom": null,
            "_model_module": "@jupyter-widgets/base",
            "top": null,
            "grid_column": null,
            "overflow_y": null,
            "overflow_x": null,
            "grid_auto_flow": null,
            "grid_area": null,
            "grid_template_columns": null,
            "flex": null,
            "_model_name": "LayoutModel",
            "justify_items": null,
            "grid_row": null,
            "max_height": null,
            "align_content": null,
            "visibility": null,
            "align_self": null,
            "height": null,
            "min_height": null,
            "padding": null,
            "grid_auto_rows": null,
            "grid_gap": null,
            "max_width": null,
            "order": null,
            "_view_module_version": "1.2.0",
            "grid_template_areas": null,
            "object_position": null,
            "object_fit": null,
            "grid_auto_columns": null,
            "margin": null,
            "display": null,
            "left": null
          }
        },
        "015f7a632f51437f8ff11fa3f5a2c02a": {
          "model_module": "@jupyter-widgets/controls",
          "model_name": "HBoxModel",
          "model_module_version": "1.5.0",
          "state": {
            "_view_name": "HBoxView",
            "_dom_classes": [],
            "_model_name": "HBoxModel",
            "_view_module": "@jupyter-widgets/controls",
            "_model_module_version": "1.5.0",
            "_view_count": null,
            "_view_module_version": "1.5.0",
            "box_style": "",
            "layout": "IPY_MODEL_4be8971487ed4f2c8c79c28d10924e21",
            "_model_module": "@jupyter-widgets/controls",
            "children": [
              "IPY_MODEL_ee288691561f4526ab180322ce7c0a4e",
              "IPY_MODEL_fe5db6b00d714584863d48d2ff2a801b",
              "IPY_MODEL_11c4143ceee5494d8a7d26f7ebd06bef"
            ]
          }
        },
        "4be8971487ed4f2c8c79c28d10924e21": {
          "model_module": "@jupyter-widgets/base",
          "model_name": "LayoutModel",
          "model_module_version": "1.2.0",
          "state": {
            "_view_name": "LayoutView",
            "grid_template_rows": null,
            "right": null,
            "justify_content": null,
            "_view_module": "@jupyter-widgets/base",
            "overflow": null,
            "_model_module_version": "1.2.0",
            "_view_count": null,
            "flex_flow": null,
            "width": null,
            "min_width": null,
            "border": null,
            "align_items": null,
            "bottom": null,
            "_model_module": "@jupyter-widgets/base",
            "top": null,
            "grid_column": null,
            "overflow_y": null,
            "overflow_x": null,
            "grid_auto_flow": null,
            "grid_area": null,
            "grid_template_columns": null,
            "flex": null,
            "_model_name": "LayoutModel",
            "justify_items": null,
            "grid_row": null,
            "max_height": null,
            "align_content": null,
            "visibility": null,
            "align_self": null,
            "height": null,
            "min_height": null,
            "padding": null,
            "grid_auto_rows": null,
            "grid_gap": null,
            "max_width": null,
            "order": null,
            "_view_module_version": "1.2.0",
            "grid_template_areas": null,
            "object_position": null,
            "object_fit": null,
            "grid_auto_columns": null,
            "margin": null,
            "display": null,
            "left": null
          }
        },
        "ee288691561f4526ab180322ce7c0a4e": {
          "model_module": "@jupyter-widgets/controls",
          "model_name": "HTMLModel",
          "model_module_version": "1.5.0",
          "state": {
            "_view_name": "HTMLView",
            "style": "IPY_MODEL_8da3e91d33a441e48770459925d1a112",
            "_dom_classes": [],
            "description": "",
            "_model_name": "HTMLModel",
            "placeholder": "​",
            "_view_module": "@jupyter-widgets/controls",
            "_model_module_version": "1.5.0",
            "value": "",
            "_view_count": null,
            "_view_module_version": "1.5.0",
            "description_tooltip": null,
            "_model_module": "@jupyter-widgets/controls",
            "layout": "IPY_MODEL_8d13238afd6943619cd67b15010eaaea"
          }
        },
        "fe5db6b00d714584863d48d2ff2a801b": {
          "model_module": "@jupyter-widgets/controls",
          "model_name": "FloatProgressModel",
          "model_module_version": "1.5.0",
          "state": {
            "_view_name": "ProgressView",
            "style": "IPY_MODEL_0aa9727a5498402780971251c32bc4fa",
            "_dom_classes": [],
            "description": "",
            "_model_name": "FloatProgressModel",
            "bar_style": "success",
            "max": 182040794,
            "_view_module": "@jupyter-widgets/controls",
            "_model_module_version": "1.5.0",
            "value": 182040794,
            "_view_count": null,
            "_view_module_version": "1.5.0",
            "orientation": "horizontal",
            "min": 0,
            "description_tooltip": null,
            "_model_module": "@jupyter-widgets/controls",
            "layout": "IPY_MODEL_6ba2601d66f341d2b1687a1c7a1ce08b"
          }
        },
        "11c4143ceee5494d8a7d26f7ebd06bef": {
          "model_module": "@jupyter-widgets/controls",
          "model_name": "HTMLModel",
          "model_module_version": "1.5.0",
          "state": {
            "_view_name": "HTMLView",
            "style": "IPY_MODEL_a3c63056ae794ab8b047998cb8e872b8",
            "_dom_classes": [],
            "description": "",
            "_model_name": "HTMLModel",
            "placeholder": "​",
            "_view_module": "@jupyter-widgets/controls",
            "_model_module_version": "1.5.0",
            "value": " 182041600/? [00:12&lt;00:00, 18618151.14it/s]",
            "_view_count": null,
            "_view_module_version": "1.5.0",
            "description_tooltip": null,
            "_model_module": "@jupyter-widgets/controls",
            "layout": "IPY_MODEL_0fec8522bd324473a05220eec07aed46"
          }
        },
        "8da3e91d33a441e48770459925d1a112": {
          "model_module": "@jupyter-widgets/controls",
          "model_name": "DescriptionStyleModel",
          "model_module_version": "1.5.0",
          "state": {
            "_view_name": "StyleView",
            "_model_name": "DescriptionStyleModel",
            "description_width": "",
            "_view_module": "@jupyter-widgets/base",
            "_model_module_version": "1.5.0",
            "_view_count": null,
            "_view_module_version": "1.2.0",
            "_model_module": "@jupyter-widgets/controls"
          }
        },
        "8d13238afd6943619cd67b15010eaaea": {
          "model_module": "@jupyter-widgets/base",
          "model_name": "LayoutModel",
          "model_module_version": "1.2.0",
          "state": {
            "_view_name": "LayoutView",
            "grid_template_rows": null,
            "right": null,
            "justify_content": null,
            "_view_module": "@jupyter-widgets/base",
            "overflow": null,
            "_model_module_version": "1.2.0",
            "_view_count": null,
            "flex_flow": null,
            "width": null,
            "min_width": null,
            "border": null,
            "align_items": null,
            "bottom": null,
            "_model_module": "@jupyter-widgets/base",
            "top": null,
            "grid_column": null,
            "overflow_y": null,
            "overflow_x": null,
            "grid_auto_flow": null,
            "grid_area": null,
            "grid_template_columns": null,
            "flex": null,
            "_model_name": "LayoutModel",
            "justify_items": null,
            "grid_row": null,
            "max_height": null,
            "align_content": null,
            "visibility": null,
            "align_self": null,
            "height": null,
            "min_height": null,
            "padding": null,
            "grid_auto_rows": null,
            "grid_gap": null,
            "max_width": null,
            "order": null,
            "_view_module_version": "1.2.0",
            "grid_template_areas": null,
            "object_position": null,
            "object_fit": null,
            "grid_auto_columns": null,
            "margin": null,
            "display": null,
            "left": null
          }
        },
        "0aa9727a5498402780971251c32bc4fa": {
          "model_module": "@jupyter-widgets/controls",
          "model_name": "ProgressStyleModel",
          "model_module_version": "1.5.0",
          "state": {
            "_view_name": "StyleView",
            "_model_name": "ProgressStyleModel",
            "description_width": "",
            "_view_module": "@jupyter-widgets/base",
            "_model_module_version": "1.5.0",
            "_view_count": null,
            "_view_module_version": "1.2.0",
            "bar_color": null,
            "_model_module": "@jupyter-widgets/controls"
          }
        },
        "6ba2601d66f341d2b1687a1c7a1ce08b": {
          "model_module": "@jupyter-widgets/base",
          "model_name": "LayoutModel",
          "model_module_version": "1.2.0",
          "state": {
            "_view_name": "LayoutView",
            "grid_template_rows": null,
            "right": null,
            "justify_content": null,
            "_view_module": "@jupyter-widgets/base",
            "overflow": null,
            "_model_module_version": "1.2.0",
            "_view_count": null,
            "flex_flow": null,
            "width": null,
            "min_width": null,
            "border": null,
            "align_items": null,
            "bottom": null,
            "_model_module": "@jupyter-widgets/base",
            "top": null,
            "grid_column": null,
            "overflow_y": null,
            "overflow_x": null,
            "grid_auto_flow": null,
            "grid_area": null,
            "grid_template_columns": null,
            "flex": null,
            "_model_name": "LayoutModel",
            "justify_items": null,
            "grid_row": null,
            "max_height": null,
            "align_content": null,
            "visibility": null,
            "align_self": null,
            "height": null,
            "min_height": null,
            "padding": null,
            "grid_auto_rows": null,
            "grid_gap": null,
            "max_width": null,
            "order": null,
            "_view_module_version": "1.2.0",
            "grid_template_areas": null,
            "object_position": null,
            "object_fit": null,
            "grid_auto_columns": null,
            "margin": null,
            "display": null,
            "left": null
          }
        },
        "a3c63056ae794ab8b047998cb8e872b8": {
          "model_module": "@jupyter-widgets/controls",
          "model_name": "DescriptionStyleModel",
          "model_module_version": "1.5.0",
          "state": {
            "_view_name": "StyleView",
            "_model_name": "DescriptionStyleModel",
            "description_width": "",
            "_view_module": "@jupyter-widgets/base",
            "_model_module_version": "1.5.0",
            "_view_count": null,
            "_view_module_version": "1.2.0",
            "_model_module": "@jupyter-widgets/controls"
          }
        },
        "0fec8522bd324473a05220eec07aed46": {
          "model_module": "@jupyter-widgets/base",
          "model_name": "LayoutModel",
          "model_module_version": "1.2.0",
          "state": {
            "_view_name": "LayoutView",
            "grid_template_rows": null,
            "right": null,
            "justify_content": null,
            "_view_module": "@jupyter-widgets/base",
            "overflow": null,
            "_model_module_version": "1.2.0",
            "_view_count": null,
            "flex_flow": null,
            "width": null,
            "min_width": null,
            "border": null,
            "align_items": null,
            "bottom": null,
            "_model_module": "@jupyter-widgets/base",
            "top": null,
            "grid_column": null,
            "overflow_y": null,
            "overflow_x": null,
            "grid_auto_flow": null,
            "grid_area": null,
            "grid_template_columns": null,
            "flex": null,
            "_model_name": "LayoutModel",
            "justify_items": null,
            "grid_row": null,
            "max_height": null,
            "align_content": null,
            "visibility": null,
            "align_self": null,
            "height": null,
            "min_height": null,
            "padding": null,
            "grid_auto_rows": null,
            "grid_gap": null,
            "max_width": null,
            "order": null,
            "_view_module_version": "1.2.0",
            "grid_template_areas": null,
            "object_position": null,
            "object_fit": null,
            "grid_auto_columns": null,
            "margin": null,
            "display": null,
            "left": null
          }
        },
        "6d2e1516cede4436bdd1a5c751187eba": {
          "model_module": "@jupyter-widgets/controls",
          "model_name": "HBoxModel",
          "model_module_version": "1.5.0",
          "state": {
            "_view_name": "HBoxView",
            "_dom_classes": [],
            "_model_name": "HBoxModel",
            "_view_module": "@jupyter-widgets/controls",
            "_model_module_version": "1.5.0",
            "_view_count": null,
            "_view_module_version": "1.5.0",
            "box_style": "",
            "layout": "IPY_MODEL_118ea7119d914b3dab82cc8ccef1d878",
            "_model_module": "@jupyter-widgets/controls",
            "children": [
              "IPY_MODEL_94d9ee2a9ec2411e917435b75e51f939",
              "IPY_MODEL_ff52a1a7e1154df8981bc88ba5251436",
              "IPY_MODEL_ba9a64cef81e4cfead5b79832a3e9ce4"
            ]
          }
        },
        "118ea7119d914b3dab82cc8ccef1d878": {
          "model_module": "@jupyter-widgets/base",
          "model_name": "LayoutModel",
          "model_module_version": "1.2.0",
          "state": {
            "_view_name": "LayoutView",
            "grid_template_rows": null,
            "right": null,
            "justify_content": null,
            "_view_module": "@jupyter-widgets/base",
            "overflow": null,
            "_model_module_version": "1.2.0",
            "_view_count": null,
            "flex_flow": null,
            "width": null,
            "min_width": null,
            "border": null,
            "align_items": null,
            "bottom": null,
            "_model_module": "@jupyter-widgets/base",
            "top": null,
            "grid_column": null,
            "overflow_y": null,
            "overflow_x": null,
            "grid_auto_flow": null,
            "grid_area": null,
            "grid_template_columns": null,
            "flex": null,
            "_model_name": "LayoutModel",
            "justify_items": null,
            "grid_row": null,
            "max_height": null,
            "align_content": null,
            "visibility": null,
            "align_self": null,
            "height": null,
            "min_height": null,
            "padding": null,
            "grid_auto_rows": null,
            "grid_gap": null,
            "max_width": null,
            "order": null,
            "_view_module_version": "1.2.0",
            "grid_template_areas": null,
            "object_position": null,
            "object_fit": null,
            "grid_auto_columns": null,
            "margin": null,
            "display": null,
            "left": null
          }
        },
        "94d9ee2a9ec2411e917435b75e51f939": {
          "model_module": "@jupyter-widgets/controls",
          "model_name": "HTMLModel",
          "model_module_version": "1.5.0",
          "state": {
            "_view_name": "HTMLView",
            "style": "IPY_MODEL_b16d7cfee87f4ec4b783964fdd0f2054",
            "_dom_classes": [],
            "description": "",
            "_model_name": "HTMLModel",
            "placeholder": "​",
            "_view_module": "@jupyter-widgets/controls",
            "_model_module_version": "1.5.0",
            "value": "",
            "_view_count": null,
            "_view_module_version": "1.5.0",
            "description_tooltip": null,
            "_model_module": "@jupyter-widgets/controls",
            "layout": "IPY_MODEL_ff829cb6e3c24cee921cc9dd40b53fe8"
          }
        },
        "ff52a1a7e1154df8981bc88ba5251436": {
          "model_module": "@jupyter-widgets/controls",
          "model_name": "FloatProgressModel",
          "model_module_version": "1.5.0",
          "state": {
            "_view_name": "ProgressView",
            "style": "IPY_MODEL_f847115217994912af55b0e93a8ac787",
            "_dom_classes": [],
            "description": "",
            "_model_name": "FloatProgressModel",
            "bar_style": "success",
            "max": 64275384,
            "_view_module": "@jupyter-widgets/controls",
            "_model_module_version": "1.5.0",
            "value": 64275384,
            "_view_count": null,
            "_view_module_version": "1.5.0",
            "orientation": "horizontal",
            "min": 0,
            "description_tooltip": null,
            "_model_module": "@jupyter-widgets/controls",
            "layout": "IPY_MODEL_6781eee9b897492c81e3abaf606f0d02"
          }
        },
        "ba9a64cef81e4cfead5b79832a3e9ce4": {
          "model_module": "@jupyter-widgets/controls",
          "model_name": "HTMLModel",
          "model_module_version": "1.5.0",
          "state": {
            "_view_name": "HTMLView",
            "style": "IPY_MODEL_87408060186e493fa5e82901c7503ee9",
            "_dom_classes": [],
            "description": "",
            "_model_name": "HTMLModel",
            "placeholder": "​",
            "_view_module": "@jupyter-widgets/controls",
            "_model_module_version": "1.5.0",
            "value": " 64275456/? [00:05&lt;00:00, 22532130.59it/s]",
            "_view_count": null,
            "_view_module_version": "1.5.0",
            "description_tooltip": null,
            "_model_module": "@jupyter-widgets/controls",
            "layout": "IPY_MODEL_4a1fe9498d124908baccab6bd87b3d1d"
          }
        },
        "b16d7cfee87f4ec4b783964fdd0f2054": {
          "model_module": "@jupyter-widgets/controls",
          "model_name": "DescriptionStyleModel",
          "model_module_version": "1.5.0",
          "state": {
            "_view_name": "StyleView",
            "_model_name": "DescriptionStyleModel",
            "description_width": "",
            "_view_module": "@jupyter-widgets/base",
            "_model_module_version": "1.5.0",
            "_view_count": null,
            "_view_module_version": "1.2.0",
            "_model_module": "@jupyter-widgets/controls"
          }
        },
        "ff829cb6e3c24cee921cc9dd40b53fe8": {
          "model_module": "@jupyter-widgets/base",
          "model_name": "LayoutModel",
          "model_module_version": "1.2.0",
          "state": {
            "_view_name": "LayoutView",
            "grid_template_rows": null,
            "right": null,
            "justify_content": null,
            "_view_module": "@jupyter-widgets/base",
            "overflow": null,
            "_model_module_version": "1.2.0",
            "_view_count": null,
            "flex_flow": null,
            "width": null,
            "min_width": null,
            "border": null,
            "align_items": null,
            "bottom": null,
            "_model_module": "@jupyter-widgets/base",
            "top": null,
            "grid_column": null,
            "overflow_y": null,
            "overflow_x": null,
            "grid_auto_flow": null,
            "grid_area": null,
            "grid_template_columns": null,
            "flex": null,
            "_model_name": "LayoutModel",
            "justify_items": null,
            "grid_row": null,
            "max_height": null,
            "align_content": null,
            "visibility": null,
            "align_self": null,
            "height": null,
            "min_height": null,
            "padding": null,
            "grid_auto_rows": null,
            "grid_gap": null,
            "max_width": null,
            "order": null,
            "_view_module_version": "1.2.0",
            "grid_template_areas": null,
            "object_position": null,
            "object_fit": null,
            "grid_auto_columns": null,
            "margin": null,
            "display": null,
            "left": null
          }
        },
        "f847115217994912af55b0e93a8ac787": {
          "model_module": "@jupyter-widgets/controls",
          "model_name": "ProgressStyleModel",
          "model_module_version": "1.5.0",
          "state": {
            "_view_name": "StyleView",
            "_model_name": "ProgressStyleModel",
            "description_width": "",
            "_view_module": "@jupyter-widgets/base",
            "_model_module_version": "1.5.0",
            "_view_count": null,
            "_view_module_version": "1.2.0",
            "bar_color": null,
            "_model_module": "@jupyter-widgets/controls"
          }
        },
        "6781eee9b897492c81e3abaf606f0d02": {
          "model_module": "@jupyter-widgets/base",
          "model_name": "LayoutModel",
          "model_module_version": "1.2.0",
          "state": {
            "_view_name": "LayoutView",
            "grid_template_rows": null,
            "right": null,
            "justify_content": null,
            "_view_module": "@jupyter-widgets/base",
            "overflow": null,
            "_model_module_version": "1.2.0",
            "_view_count": null,
            "flex_flow": null,
            "width": null,
            "min_width": null,
            "border": null,
            "align_items": null,
            "bottom": null,
            "_model_module": "@jupyter-widgets/base",
            "top": null,
            "grid_column": null,
            "overflow_y": null,
            "overflow_x": null,
            "grid_auto_flow": null,
            "grid_area": null,
            "grid_template_columns": null,
            "flex": null,
            "_model_name": "LayoutModel",
            "justify_items": null,
            "grid_row": null,
            "max_height": null,
            "align_content": null,
            "visibility": null,
            "align_self": null,
            "height": null,
            "min_height": null,
            "padding": null,
            "grid_auto_rows": null,
            "grid_gap": null,
            "max_width": null,
            "order": null,
            "_view_module_version": "1.2.0",
            "grid_template_areas": null,
            "object_position": null,
            "object_fit": null,
            "grid_auto_columns": null,
            "margin": null,
            "display": null,
            "left": null
          }
        },
        "87408060186e493fa5e82901c7503ee9": {
          "model_module": "@jupyter-widgets/controls",
          "model_name": "DescriptionStyleModel",
          "model_module_version": "1.5.0",
          "state": {
            "_view_name": "StyleView",
            "_model_name": "DescriptionStyleModel",
            "description_width": "",
            "_view_module": "@jupyter-widgets/base",
            "_model_module_version": "1.5.0",
            "_view_count": null,
            "_view_module_version": "1.2.0",
            "_model_module": "@jupyter-widgets/controls"
          }
        },
        "4a1fe9498d124908baccab6bd87b3d1d": {
          "model_module": "@jupyter-widgets/base",
          "model_name": "LayoutModel",
          "model_module_version": "1.2.0",
          "state": {
            "_view_name": "LayoutView",
            "grid_template_rows": null,
            "right": null,
            "justify_content": null,
            "_view_module": "@jupyter-widgets/base",
            "overflow": null,
            "_model_module_version": "1.2.0",
            "_view_count": null,
            "flex_flow": null,
            "width": null,
            "min_width": null,
            "border": null,
            "align_items": null,
            "bottom": null,
            "_model_module": "@jupyter-widgets/base",
            "top": null,
            "grid_column": null,
            "overflow_y": null,
            "overflow_x": null,
            "grid_auto_flow": null,
            "grid_area": null,
            "grid_template_columns": null,
            "flex": null,
            "_model_name": "LayoutModel",
            "justify_items": null,
            "grid_row": null,
            "max_height": null,
            "align_content": null,
            "visibility": null,
            "align_self": null,
            "height": null,
            "min_height": null,
            "padding": null,
            "grid_auto_rows": null,
            "grid_gap": null,
            "max_width": null,
            "order": null,
            "_view_module_version": "1.2.0",
            "grid_template_areas": null,
            "object_position": null,
            "object_fit": null,
            "grid_auto_columns": null,
            "margin": null,
            "display": null,
            "left": null
          }
        }
      }
    }
  },
  "nbformat": 4,
  "nbformat_minor": 0
}