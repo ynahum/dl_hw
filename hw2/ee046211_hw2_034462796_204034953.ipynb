{
  "cells": [
    {
      "cell_type": "markdown",
      "metadata": {
        "id": "dzV9wsJ5pGhf"
      },
      "source": [
        "# <img src=\"https://img.icons8.com/bubbles/50/000000/mind-map.png\" style=\"height:50px;display:inline\"> EE 046211 - Technion - Deep Learning\n",
        "---\n",
        "\n",
        "## HW2 - Multilayer NNs and Convolutional NNs\n",
        "---"
      ]
    },
    {
      "cell_type": "markdown",
      "metadata": {
        "id": "bq2c8X93pGhh"
      },
      "source": [
        "### <img src=\"https://img.icons8.com/clouds/96/000000/keyboard.png\" style=\"height:50px;display:inline\"> Keyboard Shortcuts\n",
        "---\n",
        "* Run current cell: **Ctrl + Enter**\n",
        "* Run current cell and move to the next: **Shift + Enter**\n",
        "* Show lines in a code cell: **Esc + L**\n",
        "* View function documentation: **Shift + Tab** inside the parenthesis or `help(name_of_module)`\n",
        "* New cell below: **Esc + B**\n",
        "* Delete cell: **Esc + D, D** (two D's)"
      ]
    },
    {
      "cell_type": "markdown",
      "metadata": {
        "id": "vZZybn3NpGhh"
      },
      "source": [
        "### <img src=\"https://img.icons8.com/bubbles/50/000000/information.png\" style=\"height:50px;display:inline\"> Students Information\n",
        "---\n",
        "* Fill in\n",
        "\n",
        "|Name         |Campus Email                     | ID       |\n",
        "|-------------|---------------------------------|----------|\n",
        "|Lior Friedman| liorf@campus.technion.ac.il     | 204034953|\n",
        "|Yair Nahum   | nahum.yair@campus.technion.ac.il| 034462796|"
      ]
    },
    {
      "cell_type": "markdown",
      "metadata": {
        "id": "dDK5zqhdpGhi"
      },
      "source": [
        "### <img src=\"https://img.icons8.com/bubbles/50/000000/upload-to-cloud.png\" style=\"height:50px;display:inline\"> Submission Guidelines\n",
        "---\n",
        "* Maximal garde: 100.\n",
        "* Submission only in **pairs**. \n",
        "    * Please make sure you have registered your group in Moodle (there is a group creation component on the Moodle where you need to create your group and assign members).\n",
        "* **No handwritten submissions.** You can choose whether to answer in a Markdown cell in this notebook or attach a PDF with your answers.\n",
        "* <a style='color:red'> SAVE THE NOTEBOOKS WITH THE OUTPUT, CODE CELLS THAT WERE NOT RUN WILL NOT GET ANY POINTS! </a>\n",
        "* What you have to submit:\n",
        "    * If you have answered the questions in the notebook, you should submit this file only, with the name: `ee046211_hw2_id1_id2.ipynb`.\n",
        "    * If you answered the questions in a different file you should submit a `.zip` file with the name `ee046211_hw2_id1_id2.zip` with content:\n",
        "        * `ee046211_hw2_id1_id2.ipynb` - the code tasks\n",
        "        * `ee046211_hw2_id1_id2.pdf` - answers to questions.\n",
        "    * No other file-types (`.py`, `.docx`...) will be accepted.\n",
        "* Submission on the course website (Moodle).\n",
        "* **Latex in Colab** - in some cases, Latex equations may no be rendered. To avoid this, make sure to not use *bullets* in your answers (\"* some text here with Latex equations\" -> \"some text here with Latex equations\")."
      ]
    },
    {
      "cell_type": "markdown",
      "metadata": {
        "id": "pmSj_UufpGhi"
      },
      "source": [
        "### <img src=\"https://img.icons8.com/dusk/64/000000/online.png\" style=\"height:50px;display:inline\"> Working Online and Locally\n",
        "---\n",
        "* You can choose your working environment:\n",
        "    1. `Jupyter Notebook`, **locally** with <a href=\"https://www.anaconda.com/distribution/\">Anaconda</a> or **online** on <a href=\"https://colab.research.google.com/\">Google Colab</a>\n",
        "        * Colab also supports running code on GPU, so if you don't have one, Colab is the way to go. To enable GPU on Colab, in the menu: `Runtime`$\\rightarrow$ `Change Runtime Type` $\\rightarrow$`GPU`.\n",
        "    2. Python IDE such as <a href=\"https://www.jetbrains.com/pycharm/\">PyCharm</a> or <a href=\"https://code.visualstudio.com/\">Visual Studio Code</a>.\n",
        "        * Both allow editing and running Jupyter Notebooks.\n",
        "\n",
        "* Please refer to `Setting Up the Working Environment.pdf` on the Moodle or our GitHub (https://github.com/taldatech/ee046211-deep-learning) to help you get everything installed.\n",
        "* If you need any technical assistance, please go to our Piazza forum (`hw2` folder) and describe your problem (preferably with images)."
      ]
    },
    {
      "cell_type": "markdown",
      "metadata": {
        "id": "nlp1Fp4ppGhj"
      },
      "source": [
        "### <img src=\"https://img.icons8.com/bubbles/50/000000/checklist.png\" style=\"height:50px;display:inline\"> Agenda\n",
        "---\n",
        "\n",
        "* [Part 1 - Theory](#-Part-1---Theory)\n",
        "    * [Q1 - Generalization in A Teacher-Student Setup](#-Question-1--Generalization-in-A-Teacher-Student-Setup)\n",
        "    * [Q2 - Backpropagation By Hand](#-Question-2---Backpropagation-By-Hand)\n",
        "    * [Q3 - Deep Double Descent](#-Question-3---Deep-Double-Descent)\n",
        "    * [Q4 - Initialization](#-Question-4---Initialization)\n",
        "    * [Q5 - MLP and Invaraince](#-Question-5---MLP-and-Invaraince)\n",
        "    * [Q6 - VGG Architecture](#-Question-6--VGG-Architecture)\n",
        "* [Part 2 - Code Assignments](#-Part-2---Code-Assignments)\n",
        "    * [Task 1 - The Importance of Activation and Initialization](#-Task-1---The-Importance-of-Activation-and-Initialization)\n",
        "    * [Task 2 - FashionMNIST Deep Classifer](#-Task-2---FashionMNIST-Deep-Classifer)\n",
        "    * [Task 3 - Design a CNN](#-Task-3---Design-a-CNN)\n",
        "* [Credits](#-Credits)"
      ]
    },
    {
      "cell_type": "markdown",
      "metadata": {
        "id": "XKtSiQX_pGhj"
      },
      "source": [
        "### <img src=\"https://img.icons8.com/cute-clipart/64/000000/ball-point-pen.png\" style=\"height:50px;display:inline\"> Part 1 - Theory\n",
        "---\n",
        "* You can choose whether to answser these straight in the notebook (Markdown + Latex) or use another editor (Word, LyX, Latex, Overleaf...) and submit an additional PDF file, **but no handwritten submissions**.\n",
        "* You can attach additional figures (drawings, graphs,...) in a separate PDF file, just make sure to refer to them in your answers.\n",
        "\n",
        "* $\\large\\LaTeX$ <a href=\"https://kapeli.com/cheat_sheets/LaTeX_Math_Symbols.docset/Contents/Resources/Documents/index\">Cheat-Sheet</a> (to write equations)\n",
        "    * <a href=\"http://tug.ctan.org/info/latex-refsheet/LaTeX_RefSheet.pdf\">Another Cheat-Sheet</a>"
      ]
    },
    {
      "cell_type": "markdown",
      "metadata": {
        "id": "RsqSFZG1pGhj"
      },
      "source": [
        "## <img src=\"https://img.icons8.com/clouds/100/000000/question-mark.png\" style=\"height:50px;display:inline\"> Question 1 -Generalization in A Teacher-Student Setup\n",
        "---\n",
        "\n",
        "Recall from lecture 4 the Risk $\\mathcal{R}(w)$: $$ \\mathcal{R}(w) \\triangleq \\mathbb{E}_{x^{(0)} \\sim \\mathcal{N}(0, I) } \\left[ ||w^Tx^{(0)} - w_t^Tx^{(0)}||^2 \\right] $$\n",
        "\n",
        "Prove:\n",
        "\n",
        "$$ \\mathcal{R}(w) = ||w-w_t||^2 $$"
      ]
    },
    {
      "cell_type": "markdown",
      "metadata": {
        "pycharm": {
          "name": "#%%md\n"
        },
        "id": "CjAgwlEAOF1I"
      },
      "source": [
        "## <img src=\"https://img.icons8.com/fluency/48/000000/exclamation-mark.png\" style=\"height:50px;display:inline\">  Answer 1 - Generalization in A Teacher-Student Setup \n",
        "---\n",
        "Proof:  \n",
        "$$ \\mathcal{R}(w) \\triangleq \\mathbb{E}_{x^{(0)} \\sim \\mathcal{N}(0, I) } \\left[ ||w^Tx^{(0)} - w_t^Tx^{(0)}||^2 \\right]$$\n",
        "$$= \\mathbb{E}_{x^{(0)} \\sim \\mathcal{N}(0, I) } \\left[ ||{x^{(0)}}^T(w - w_t)||^2 \\right]$$\n",
        "$$\\underbrace{=}_{(1)} \\mathbb{E}_{x^{(0)} \\sim \\mathcal{N}(0, I) } \\left[ (w - w_t)^T x^{(0)} {x^{(0)}}^T(w - w_t) \\right]$$\n",
        "$$\\underbrace{=}_{(2)} (w - w_t)^T \\mathbb{E}_{x^{(0)} \\sim \\mathcal{N}(0, I) } \\left[  x^{(0)} {x^{(0)}}^T \\right] (w - w_t)$$\n",
        "$$\\underbrace{=}_{(3)} (w - w_t)^T I (w - w_t) \\underbrace{=}_{(4)} ||w - w_t||^2$$\n",
        "Where (1) and (4) are due to the L2 norm definition, (2) is due to $(w-w_t)$ is constant relative to the expectation and (3) is due to the fact that the covariance matrix is $I$.  \n",
        "$\\blacksquare$\n"
      ]
    },
    {
      "cell_type": "markdown",
      "metadata": {
        "id": "StkdA5hUOF1K"
      },
      "source": [
        "## <img src=\"https://img.icons8.com/clouds/100/000000/question-mark.png\" style=\"height:50px;display:inline\"> Question 2 - Backpropagation By Hand\n",
        "---\n",
        "Consider the following network:\n",
        "<img src=\"https://raw.githubusercontent.com/taldatech/ee046211-deep-learning/main/assets/backprop_by_hand_ex1.png\" style=\"height:300px\">\n",
        "\n",
        "We will work with one sample for this example, but it can be extended to mini-batches.\n",
        "\n",
        "* Input: $x = \\begin{bmatrix} 1 \\\\ 4 \\\\ 5 \\end{bmatrix} \\in \\mathbb{R}^3$\n",
        "* Output (target): $ t = \\begin{bmatrix} 0.1 \\\\ 0.05 \\end{bmatrix} \\in \\mathbb{R}^2 $\n",
        "* Number of Hidden Layers: 1\n",
        "* Activation: Sigmoid for both hidden and output layers\n",
        "* Loss Functions: MSE\n",
        "\n",
        "We initialize the weights and biases to random values as follows:\n",
        "<img src=\"https://raw.githubusercontent.com/taldatech/ee046211-deep-learning/main/assets/backprop_by_hand_ex2.png\" style=\"height:300px\">\n",
        "\n",
        "1. Perform one forward pass and calculate the MSE.\n",
        "2. Perform backpropagation (one backward pass, i.e., calculate the gradients).\n",
        "3. With a learning rate of $\\alpha = 0.01$, what are the new values of the weights after performing the forward pass and backward pass (assume we use SGD)?"
      ]
    },
    {
      "cell_type": "markdown",
      "metadata": {
        "id": "kJZk_9OxOF1M"
      },
      "source": [
        "## <img src=\"https://img.icons8.com/fluency/48/000000/exclamation-mark.png\" style=\"height:50px;display:inline\"> Answer 2 -Backprop by hand\n",
        "\n",
        "1. All calculations rounded to 2 significant digits\n",
        "\n",
        "$$ h_1(x)=S(0.1\\cdot 1+0.3\\cdot 4+0.5\\cdot 5+0.5\\cdot 1)=S(4.3)=0.99$$\n",
        "$$ h_2(x)=S(0.2\\cdot 1+0.4\\cdot 4+0.6\\cdot 5+0.5\\cdot 1)=S(5.3)=1$$\n",
        "$$ o_1(h(x))=S(0.7\\cdot h_1(x)+0.9\\cdot h_2(x)+0.5\\cdot 1)=S(2.093)=0.89$$\n",
        "$$ o_2(h(x))=S(0.8\\cdot h_1(x)+0.1\\cdot h_2(x)+0.5\\cdot 1)=S(1.392)=0.8$$\n",
        "$$ MSE = (0.1-0.89)^2+(0.05-0.8)^2=1.19$$\n",
        "\n",
        "2. \n",
        "\n",
        "$$\\frac{d\\mathcal{L}}{do_1}=2(o_1-t_1)=1.58, \\frac{d\\mathcal{L}}{do_2}=2(o_2-t_2)=1.5$$\n",
        "\n",
        "$$\\frac{d\\mathcal{L}}{dw_7}=\\frac{d\\mathcal{L}}{do_1}\\frac{do_1}{dw_7}=1.58\\cdot S'(o_1(h(x)))h_1(x)=1.58\\cdot 0.206\\cdot 0.99=0.32$$\n",
        "$$\\frac{d\\mathcal{L}}{dw_8}=\\frac{d\\mathcal{L}}{do_2}\\frac{do_2}{dw_8}=1.5\\cdot S'(o_2(h(x)))h_1(x)=1.5\\cdot 0.214\\cdot 0.99=0.32$$\n",
        "$$\\frac{d\\mathcal{L}}{dw_9}=\\frac{d\\mathcal{L}}{do_1}\\frac{do_1}{dw_9}=1.58\\cdot S'(o_1(h(x)))h_2(x)=1.58\\cdot 0.206\\cdot 1=0.33$$\n",
        "$$\\frac{d\\mathcal{L}}{dw_{10}}=\\frac{d\\mathcal{L}}{do_2}\\frac{do_2}{dw_{10}}=1.5\\cdot S'(o_2(h(x)))h_2(x)=1.5\\cdot 0.214\\cdot 1=0.32$$\n",
        "\n",
        "$$\\frac{d\\mathcal{L}}{dh_1}=\\frac{d\\mathcal{L}}{do_1}\\frac{do_1}{dh_1}+\\frac{d\\mathcal{L}}{do_2}\\frac{do_2}{dh_1}=1.58\\cdot S'(o_1(h(x)))w_7+1.5\\cdot S'(o_2(h(x)))w_8\\\\=1.58\\cdot 0.206\\cdot 0.7+1.5\\cdot 0.214\\cdot 0.8 =0.228+0.257=0.48$$\n",
        "\n",
        "$$\\frac{d\\mathcal{L}}{dh_2}=\\frac{d\\mathcal{L}}{do_1}\\frac{do_1}{dh_2}+\\frac{d\\mathcal{L}}{do_2}\\frac{do_2}{dh_2}=1.58\\cdot S'(o_1(h(x)))w_9+1.5\\cdot S'(o_2(h(x)))w_{10}\\\\=1.58\\cdot 0.206\\cdot 0.9+1.5\\cdot 0.214\\cdot 0.1 =0.293+0.032=0.33$$\n",
        "\n",
        "$$\\frac{d\\mathcal{L}}{dw_1}=\\frac{d\\mathcal{L}}{dh_1}\\frac{dh_1}{dw_1}=0.48\\cdot S'(h_1(x))x_1=0.48\\cdot 0.197\\cdot 1=0.09$$\n",
        "$$\\frac{d\\mathcal{L}}{dw_2}=\\frac{d\\mathcal{L}}{dh_2}\\frac{dh_2}{dw_1}=0.33\\cdot S'(h_2(x))x_1=0.33\\cdot 0.197\\cdot 1=0.07$$\n",
        "$$\\frac{d\\mathcal{L}}{dw_3}=\\frac{d\\mathcal{L}}{dh_1}\\frac{dh_1}{dw_3}=0.48\\cdot S'(h_1(x))x_2=0.48\\cdot 0.197\\cdot 4=0.38$$\n",
        "$$\\frac{d\\mathcal{L}}{dw_4}=\\frac{d\\mathcal{L}}{dh_2}\\frac{dh_2}{dw_4}=0.33\\cdot S'(h_2(x))x_2=0.33\\cdot 0.197\\cdot 4=0.26$$\n",
        "$$\\frac{d\\mathcal{L}}{dw_5}=\\frac{d\\mathcal{L}}{dh_1}\\frac{dh_1}{dw_5}=0.48\\cdot S'(h_1(x))x_3=0.48\\cdot 0.197\\cdot 5=0.47$$\n",
        "$$\\frac{d\\mathcal{L}}{dw_6}=\\frac{d\\mathcal{L}}{dh_2}\\frac{dh_2}{dw_6}=0.33\\cdot S'(h_2(x))x_3=0.33\\cdot 0.197\\cdot 5=0.33$$\n",
        "\n",
        "\n",
        "$$\\nabla_w \\mathcal{L}=\\begin{bmatrix} 0.09 \\\\ 0.07 \\\\ 0.38 \\\\ 0.26 \\\\0.47 \\\\0.33 \\\\0.32 \\\\0.32\\\\0.33 \\\\ 0.32\\end{bmatrix}$$\n",
        "\n",
        "3. \n",
        "$$w_{t+1}=w_t-\\alpha \\nabla_w \\mathcal{L}(w_t)=\\begin{bmatrix} 0.1 \\\\ 0.2 \\\\ 0.3 \\\\ 0.4 \\\\0.5 \\\\0.6 \\\\0.7 \\\\0.8 \\\\0.9 \\\\ 0.1\\end{bmatrix}-0.01\\begin{bmatrix} 0.09 \\\\ 0.07 \\\\ 0.38 \\\\ 0.26 \\\\0.47 \\\\0.33 \\\\0.32 \\\\0.32\\\\0.33 \\\\ 0.32\\end{bmatrix}=\\begin{bmatrix} 0.099 \\\\ 0.199 \\\\ 0.296 \\\\ 0.397 \\\\0.495 \\\\0.597 \\\\0.697 \\\\0.797 \\\\0.897 \\\\ 0.097\\end{bmatrix}$$\n"
      ]
    },
    {
      "cell_type": "markdown",
      "metadata": {
        "id": "bjO6xMRAOF1N"
      },
      "source": [
        "## <img src=\"https://img.icons8.com/clouds/100/000000/question-mark.png\" style=\"height:50px;display:inline\"> Question 3 - Deep Double Descent\n",
        "---\n",
        "\n",
        "For the following plots:\n",
        "1. Where is the critical point (the point of transition between the \"Classical Regime\" and \"Modern Regime\") of the deep double descent?\n",
        "2. What type of double descent is shown? Explain.\n",
        "    \n",
        "\n",
        "a. <img src='https://raw.githubusercontent.com/taldatech/ee046211-deep-learning/main/assets/double_descent_transformer.PNG' style=\"height:300px\">\n",
        "\n",
        "b. <img src='https://raw.githubusercontent.com/taldatech/ee046211-deep-learning/main/assets/double_descent_resnet.PNG' style=\"height:300px\">\n",
        "\n",
        "c. <img src='https://raw.githubusercontent.com/taldatech/ee046211-deep-learning/main/assets/double_descent_intermediate.PNG' style=\"height:300px\">"
      ]
    },
    {
      "cell_type": "markdown",
      "metadata": {
        "id": "AJvVLhojOF1O"
      },
      "source": [
        "## <img src=\"https://img.icons8.com/fluency/48/000000/exclamation-mark.png\" style=\"height:50px;display:inline\"> Answer 3 -Deep Double Decent\n",
        "\n",
        "a. \n",
        "The critical point is around dimension=200 for the blue (German-English) model and around dimension=250 for the green (English-French) model. This is an example of model-wise double decent as we see that larger models have worse test error until a critical region is reached and the trend reverses. \n",
        "\n",
        "b. The critical point is around width=10 for the least noisy case and around width=13 for the highest noise.  \n",
        "This is an example of model-wise double decent, and we also see that adding label noise causes the critical region to move further away.  \n",
        "As the noise increases, the SNR and thus the optimal step size decreases. This effectively increases the dimensionallity of the data and moves the interpolation threshold location ($\\gamma=\\frac{d}{n}=1$ requires bigger dimensioanlity of the model parameters).\n",
        "\n",
        "c. Here we see that the large model at around 100 epochs. This is an example of epoch-wise deep double decent, as increasing the training time reverses the overfitting in the test error. The small and intermediate models does not exhibit deep double decent. This effect is noticable in large models.  \n",
        "In intermediate sized models, we see the classical U shape of ML that requires early stopping.  \n",
        "In small sized models, we stay in the biased location, where increasing the training time improves the test error.  \n"
      ]
    },
    {
      "cell_type": "markdown",
      "metadata": {
        "id": "wU-XkJf5OF1P"
      },
      "source": [
        "## <img src=\"https://img.icons8.com/clouds/100/000000/question-mark.png\" style=\"height:50px;display:inline\"> Question 4 - Initialization\n",
        "---\n",
        "\n",
        "Recall that in lecture 5 we were discussing how to calculate the initialization variance, and reached the conclusion that $$ \\sigma_l =\\frac{1}{\\sqrt{d_{l-1}\\mathbb{E}_{z\\sim \\mathcal{N}(0, 1)} \\left[\\varphi^2(z)\\right]}} $$\n",
        "Show that for ReLU activation ($\\varphi(z) = max(0,z)$), the optimal variance satisfies: $$ \\sigma_l = \\sqrt{\\frac{2}{d_{l-1}}}$$\n",
        "\n",
        "All the notations are the same as in the lecture slides."
      ]
    },
    {
      "cell_type": "markdown",
      "metadata": {
        "id": "DoOZF5z4OF1Q"
      },
      "source": [
        "## <img src=\"https://img.icons8.com/fluency/48/000000/exclamation-mark.png\" style=\"height:50px;display:inline\"> Answer 4 -Initialization\n",
        "\n",
        "We assume that $\\forall i, \\mathbb{E}\\left [u_{l-1}[i]\\right ]=0, \\text{Var}(u_{l-1}[i])=1$\n",
        "From the lecture we know that under our assumptions for $W_{l-1}$,\n",
        "\n",
        "$$\\text{Var}(u_l[i])=\\sigma_l^2\\sum_{j=1}^{d_{l-1}}\\mathbb{E}\\left [\\varphi^2 (u_{l-1}[i])\\right ]$$\n",
        "\n",
        "For ReLU, $\\varphi^2(z)=\\begin{cases} z^2 & z>0 \\\\ 0 & \\text{otherwise} \\end{cases}$  \n",
        "Moreover, for Relu we don't need to assume/use the central limit theorem for any symetric PDF $f(u_{l-1}[i]) = f(-u_{l-1}[i])$ for example $u_{l-1} \\sim \\mathcal{N}(0,\\sigma^{2}I)$ or $u_{l-1}[i] \\sim \\mathcal{Uniform}(-1,1)$.\n",
        "\n",
        "$$\\mathbb{E}\\left [\\varphi^2 (u_{l-1}[i])\\right ] = \\int \\varphi^2 (u_{l-1}[i])f(u_{l-1}[i])du_{l-1}[i] = \\int_{0}^{\\infty} u_{l-1}[i]^2 f(u_{l-1}[i]) du_{l-1}[i] \\underbrace{=}_{(1)} \\frac{1}{2}\\int_{-\\infty}^{\\infty} u_{l-1}[i]^2 f(u_{l-1}[i]) du_{l-1}[i]=\\frac{1}{2}\\mathbb{E}\\left [u_{l-1}[i]^2\\right ]\\underbrace{=}_{(2)}\\frac{1}{2}\\text{Var}(u_{l-1}[i])\\underbrace{=}_{(3)}\\frac{1}{2}  $$\n",
        "\n",
        "The transitions are explained as follows:  \n",
        "$(1)$ is due to the fact that the integrand is an even/symetric function.  \n",
        "$(2)$ is due to the fact that $\\mathbb{E}\\left [u_{l-1}[i]\\right ]=0 \\Rightarrow  \\text{Var}(u_{l-1}[i]) = \\mathbb{E}\\left [u_{l-1}[i]^2\\right ] - \\mathbb{E}\\left [u_{l-1}[i]\\right ]^2 = \\mathbb{E}\\left [u_{l-1}[i]^2\\right ]$   \n",
        "And $(3)$ since $\\text{Var}(u_{l-1}[i])=1 (by the induction step over layers and inputs)$   \n",
        "\n",
        "From this we get $$\\text{Var}(u_l[i])=\\sigma_l^2\\sum_{j=1}^{d_{l-1}}\\frac{1}{2}=1$$\n",
        "\n",
        "$$\\frac{1}{2}\\sigma_l^2 d_{l-1}=1$$\n",
        "\n",
        "$$\\Rightarrow \\sigma_l = \\sqrt{\\frac{2}{d_{l-1}}}$$\n"
      ]
    },
    {
      "cell_type": "markdown",
      "metadata": {
        "id": "eurEw1szOF1Q"
      },
      "source": [
        "## <img src=\"https://img.icons8.com/clouds/100/000000/question-mark.png\" style=\"height:50px;display:inline\"> Question 5 - MLP and Invaraince\n",
        "---\n",
        "\n",
        "You have to design an MLP with the following input: DNA sequences of length $d$. The DNA is a sequence of bases, where each base can be one of 4 options: $(C, T, G, A)$. Thus, the input can be described as the following matrix: $$ X \\in \\mathcal{R}^{4 \\times d}, $$ where $X[j,i]$ denotes the measured value of base concentration of the $j^{th}$ base at location $i$. \n",
        "\n",
        "The network should output a **binary** classification $y \\in \\{-1, 1\\}$ for a specific property we wish to find. The network will be trained on samples $\\{X^{(n)}, y^{(n)} \\}_{n=1}^{N}$, with a **logistic loss function**.\n",
        "\n",
        "First, we will examine a network with 1 hidden layerof size $4 \\times d$ and a **LeakyReLU** activation $\\phi$: $$ f_w(X) = \\sum_{r=1}^{4}\\sum_{k=1}^d W_2[r,k]\\phi\\left(\\sum_{j=1}^{4}\\sum_{i=1}^d W_1[r, k,j, i]X[j, i] \\right),$$ where $w=\\{W_1, W_2\\}$ are the layers of the weight **tensors**. After training is done, the classification will be done with $\\text{sign}(f(X))$.\n",
        "\n",
        "1. Which invariances exist in the network's parameters?\n",
        "2. Now, we notice the fact that: the *direction* in which the DNA is scanned is arbitrary. Thus, if for two inputs $X, \\tilde{X}$: $$ \\forall i,j: \\: X[j,i] = \\tilde{X}[j, d-i], $$ then the two inputs are **equivalent** in their meaning. What constraints should we put on the network's parameters to improve the network's classification performance?\n",
        "3. After that, we now recall that the DNA bases come in pairs, and thus if for two inputs $X, \\tilde{X}$: $$ \\forall i,j : \\: X[j,i] = \\tilde{X}[(j+2)\\text{mod}4,i], $$ then the two inputs are **equivalent** in their meaning. What constraints should we put on the network's parameters to improve the network's classification performance?\n",
        "4. We now notice that the measurement process in noisy, each sample $X^{(n)}$ is in arbitrary scale, and thus if for two $X, \\tilde{X}$: $$ \\forall i,j: \\: X[j,i] = c\\tilde{X}[j,i], $$ for some constant $c>0$, then the two inputs are **equivalent** in their meaning.\n",
        "    * (a) For the given network, that **is already trained**, what is the effect of the scale $c$ on the classification result?\n",
        "    * (b) Can the arbitrary scale hurt the training process? Hint: think what happens to the gradient of each sample.\n",
        "    * (c) How can use this information to improve the classifier performance?"
      ]
    },
    {
      "cell_type": "markdown",
      "metadata": {
        "id": "TJb5wlHSOF1R"
      },
      "source": [
        "## <img src=\"https://img.icons8.com/fluency/48/000000/exclamation-mark.png\" style=\"height:50px;display:inline\"> Answer 5 - MLP and Invaraince\n",
        "\n",
        "1. The LeakyReLU activation is rescale symmetric, so there is rescale invariance between $z_1=W_1X$ and $\\phi(z_1)$. Meaning, $\\forall c >0$ if we multiply $W_1$ by $c$ and multiply  $W_2$ by $\\frac{1}{c}$ we get the same function.  \n",
        "The MNN is also invariant to permutations on the nuerons with some permutation matrix $P$ and its inverse $P^{-1}=P^T$.  \n",
        "The final layer is also sign symmetric so we can flip the weights $W_2$ and the sign activation and also get the same result (but this is not a proper invariant).\n",
        "\n",
        "2. To achieve this equivalence, we can require that  $\\forall r,k,j$ the $W_1[r,k,j,:]$ is a symetric tensor relative to the last dimension such that $W_1[r,k,j,i]=W_1[r,k,j,d-i], \\forall i\\in \\left [1,\\frac{d}{2}\\right ]$\n",
        "\n",
        "3. Similarly to section 2, we can require $W_1[r,k,0,i]=W_1[r,k,2,i],W_1[r,k,1,i]=W_1[r,k,3,i]$ for all $r,k,i$.\n",
        "\n",
        "4.  \n",
        "    (a) There is no effect on the classification result itself. The output will be scaled based on the input, so $f_w(X)=c\\cdot f_w(\\tilde{X}))$, but the sign is the same.  \n",
        "    (b) Yes, the training loss is logistic loss, which is not scale invariant, and the gradient of each example is proportional to $$\\frac{\\partial L}{\\partial \\hat{Y}} = \\frac{\\partial \\log(1+e^{-\\hat{Y} Y})}{\\partial \\hat{Y}} = -\\frac{Ye^{-\\hat{Y}Y}}{1+e^{-\\hat{Y}Y}} = -\\frac{Y}{1+e^{\\hat{Y}Y}} = -\\frac{Y}{1+e^{f_w(X)Y}}$$\n",
        "    so having an arbitrary scale may cause the gradient to vanish due to numerical approximation issues.\n",
        "    As an example, if the label is $Y=1$ we can scale $f(X)$ by a big contant $c>0$ and have a vanishing gradient when $f(X)>0$.  \n",
        "    (c) If this property is desired, then we can purposly scale the gradient for all incorrectly labeled examples to increase the gradient, resulting in a situation similar to max-margin classification (we artifically increase the cost of mistakes, thereby increasing the gradient only for incorrectly labeled examples).\n"
      ]
    },
    {
      "cell_type": "markdown",
      "metadata": {
        "id": "68ebTszMOF1R"
      },
      "source": [
        "## <img src=\"https://img.icons8.com/clouds/100/000000/question-mark.png\" style=\"height:50px;display:inline\"> Question 6 -VGG Architecture\n",
        "---\n",
        "\n",
        "1. The VGG-11 CNN architecture consists of 11 convolution (CONV)/fully-connected (FC) layers (every CONV layer has the same padding and stride, every MAXPOOL layer is 2×2 and has padding of 0 and stride 2). Fill in the table. You need to **consider the bias**.\n",
        "\n",
        "\n",
        "* CONV$M$-$N$: a convolutional layer with $N$ neurons, each of size $M \\times M \\times D$, where $D$ is the number of filters. $stride=1, padding=1$ \n",
        "* POOL2: $2 \\times 2$ Max Pooling with $stride=2$\n",
        "    * In case the input of the layer is odd, you should round down. For example, if the output of the layer should be $3.5 \\times 3.5 \\times 3$, you should round to $3 \\times 3 \\times 3$ (i.e., ignore the last column of the input image when performing MaxPooling).\n",
        "* FC-N: a fully connected layer with $N$ neurons.\n",
        "\n",
        "\n",
        "| Layer  | Output Dimension  | Number of Parameters (Weights) |\n",
        "|---|---|---|\n",
        "| INPUT  |  224x224x3 | 0  |\n",
        "|  CONV3-64 | -  | -  | \n",
        "| ReLU |  - | -  |\n",
        "| POOL2|  - | -  |\n",
        "|CONV3-128 | - | -|\n",
        "|ReLU | - | -|\n",
        "| POOL2|  - | -  |\n",
        "|CONV3-256 | - | -|\n",
        "|ReLU | - | -|\n",
        "|CONV3-256 | - | -|\n",
        "|ReLU | - | -|\n",
        "| POOL2|  - | -  |\n",
        "|CONV3-512 | - | -|\n",
        "|ReLU | - | -|\n",
        "|CONV3-512 | - | -|\n",
        "|ReLU | - | -|\n",
        "| POOL2|  - | -  |\n",
        "|CONV3-512 | - | -|\n",
        "|ReLU | - | -|\n",
        "|CONV3-512 | - | -|\n",
        "|ReLU | - | -|\n",
        "| POOL2|  - | -  |\n",
        "| FC-4096|  - | -  |\n",
        "| FC-4096|  - | -  |\n",
        "| FC-1000|  - | -  |\n",
        "| SOFTMAX|  - | -  |\n",
        "\n",
        "2. What is the total number of parameters? (use a calculator for this one)\n",
        "3. What percentage of the weights are found in the fully-connected layers?"
      ]
    },
    {
      "cell_type": "markdown",
      "metadata": {
        "id": "tpLC9zRMOF1T"
      },
      "source": [
        "## <img src=\"https://img.icons8.com/fluency/48/000000/exclamation-mark.png\" style=\"height:50px;display:inline\"> Answer 6 -VGG architecture\n",
        "\n",
        "1. Filled in the table  \n",
        "\n",
        "| Layer  | Output Dimension  | Number of Parameters (Weights) |\n",
        "|---|---|---|\n",
        "| INPUT  |  224x224x3 | 0  |\n",
        "|  CONV3-64 | 224x224x64  | 64x(3x3x3+1)=1792  | \n",
        "| ReLU |  224x224x64 | 0  |\n",
        "| POOL2|  112x112x64 | 0  |\n",
        "|CONV3-128 | 112x112x128 | 128x(3x3x64+1)=73,856  |\n",
        "|ReLU | 112x112x128 | 0|\n",
        "| POOL2|  56x56x128 | 0|\n",
        "|CONV3-256 | 56x56x256 | 256x(3x3x128+1)=295,168|\n",
        "|ReLU | 56x56x256 | 0|\n",
        "|CONV3-256 | 56x56x256 | 256x(3x3x256+1)=590,080|\n",
        "|ReLU | 56x56x256 | 0|\n",
        "| POOL2|  28x28x256 | 0  |\n",
        "|CONV3-512 | 28x28x512 | 512x(3x3x256+1)=1,180,160|\n",
        "|ReLU | 28x28x512 | 0|\n",
        "|CONV3-512 | 28x28x512 | 512x(3x3x512+1)=2,359,808|\n",
        "|ReLU | 28x28x512 | 0|\n",
        "| POOL2|  14x14x512 | 0  |\n",
        "|CONV3-512 | 14x14x512 | 512x(3x3x512+1)=2,359,808|\n",
        "|ReLU | 14x14x512 | 0|\n",
        "|CONV3-512 | 14x14x512 | 512x(3x3x512+1)=2,359,808|\n",
        "|ReLU | 14x14x512 | 0|\n",
        "| POOL2|  7x7x512 | 0  |\n",
        "| FC-4096|  4096 | (7x7x512+1)x4096=102,764,544  |\n",
        "| FC-4096|  4096 | (4096+1)x4096=16,781,312  |\n",
        "| FC-1000|  1000 | (4096+1)x1000=4,097,000  |\n",
        "| SOFTMAX|  1000 | 0  |\n",
        "\n",
        "2. convolution layers weights : 9,220,480  \n",
        "   FC layers weights : 123,642,856  \n",
        "   Total: 132,863,336  \n",
        "3. 100 x 123,642,856 / 132,863,336 = 93.06% of the total weights are in the FC layers' weights."
      ]
    },
    {
      "cell_type": "markdown",
      "metadata": {
        "id": "7D-14iM7pGhm"
      },
      "source": [
        "### <img src=\"https://img.icons8.com/officel/80/000000/code.png\" style=\"height:50px;display:inline\"> Part 2 - Code Assignments\n",
        "---\n",
        "* You must write your code in this notebook and save it with the output of all of the code cells.\n",
        "* Additional text can be added in Markdown cells.\n",
        "* You can use any other IDE you like (PyCharm, VSCode...) to write/debug your code, but for the submission you must copy it to this notebook, run the code and save the notebook with the output."
      ]
    },
    {
      "cell_type": "markdown",
      "metadata": {
        "id": "sMvyKarhOF1Y"
      },
      "source": [
        "#### Tips\n",
        "---\n",
        "1. Uniformly distributed tensors - `torch.Tensor(dim1, dim2, ...,dimN).uniform_(-1, 1)`\n",
        "2. Separation to **validation set** in PyTorch - <a href=\"https://gist.github.com/MattKleinsmith/5226a94bad5dd12ed0b871aed98cb123\">See example here</a>."
      ]
    },
    {
      "cell_type": "code",
      "execution_count": 1,
      "metadata": {
        "colab": {
          "base_uri": "https://localhost:8080/"
        },
        "id": "4Jj_VZlEOF1Y",
        "outputId": "b8c1a52d-1353-46ee-92b8-cbd290084d7d"
      },
      "outputs": [
        {
          "output_type": "execute_result",
          "data": {
            "text/plain": [
              "<torch._C.Generator at 0x7fcbb71e2490>"
            ]
          },
          "metadata": {},
          "execution_count": 1
        }
      ],
      "source": [
        "# imports for the practice (you can add more if you need)\n",
        "import os\n",
        "import numpy as np\n",
        "import pandas as pd\n",
        "import torch\n",
        "import torch.nn as nn\n",
        "import torchvision\n",
        "import matplotlib.pyplot as plt\n",
        "# %matplotlib notebook\n",
        "%matplotlib inline\n",
        "\n",
        "seed = 211\n",
        "np.random.seed(seed)\n",
        "torch.manual_seed(seed)"
      ]
    },
    {
      "cell_type": "markdown",
      "metadata": {
        "id": "5g6fMD9VOF1c"
      },
      "source": [
        "\n",
        "### <img src=\"https://img.icons8.com/color/48/000000/code.png\" style=\"height:50px;display:inline\"> Task 1 - The Importance of Activation and Initialization\n",
        "---\n",
        "In this task, we are going to use $x \\in \\mathcal{R}^{512}$ and simple neural network that outputs $f(x) \\in \\mathcal{R}^{512}$. The network will have 100 layers with 512 units in each layer.\n",
        "\n",
        "1. We initialize the weights from a unit normal distribution. Run the following code cell and explain what happens. Add a short piece of code that locates when it happens (hint: use `torch.isnan()`). **Print** the layer number.\n",
        "2. We can demonstrate that at a given layer, the matrix product of inputs $x$ and weight matrix $a$ that is initialized from a standard normal distribution will, on average, have a standard deviation very close to the square root of the number of input connections. For our example, with 512 dimensions, show that for 10,000 multiplications of $a$ and $x$, the empirical standard deviation is similar to the square root of the number of input connections. Use the unbiased version: $$ \\hat{std} = \\sqrt{\\frac{\\sum_{i=1}^{10000}\\frac{1}{N}\\sum_{j=1}^N y^2}{10000}}, $$ where $y=ax$ and $N$ is the number of input connections. **Print** the mean, std and the square root of the number of input connections.\n",
        "3. For the code from 1, normalize the weight initialization by the square root of the input connections. How does that change the outcome? **Print** the mean and std after the modification.\n",
        "4. Add a `tanh()` activation after each layer for the code from 1. **Print** the mean and std after the modification. Explain the result.\n",
        "5. Xavier initialization sets a layer’s weights to values chosen from a random uniform distribution that’s bounded between $$\\pm \\sqrt{\\frac{6}{n_i + n_{i+1}}}$$ where $n_i$ is the number of incoming network connections, or “fan-in,” to the layer, and $ n_{i+1}$ is the number of outgoing network connections from that layer, also known as the “fan-out”. Glorot and Bengio believed that Xavier weight initialization would maintain the variance of activations and back-propagated gradients all the way up or down the layers of a network and demonstrated that networks initialized with Xavier achieved substantially quicker convergence and higher accuracy. Implement **Xavier Uniform** as `xavier_init(fan_in, fan_out)`, a function that returns a tensor initialized according to **Xavier Uniform**. Use it on the simple network from 1 with `tanh` activation. **Print** the mean and std after the modification.\n",
        "6. If you try to replace the `tanh` activation with `relu` activation in section 5, you will see very different results. Xavier strives to acheive activation outputs of each layer to have a mean of 0 and a standard deviation around 1, on average. When using a ReLU activation, a single layer will, on average have standard deviation that’s very close to the square root of the number of input connections, **divided by the square root of two** ($\\sqrt{\\frac{512}{2}}$ in our example). **Kaiming He et. al.** proposed an initialization scheme that’s tailored for deep neural nets that use these kinds of asymmetric, non-linear activations. Implement **Kaiming Normal** as `kaiming_init(fan_in, fan_out)`, a function that returns a tensor initialized according to **Kaiming Normal** (use `fan_in` mode). Use it on the simple network from 1 with `relu` activation. **Print** the mean and std after the modification. What happens when you use Xavier with RelU activation?"
      ]
    },
    {
      "cell_type": "code",
      "execution_count": 2,
      "metadata": {
        "colab": {
          "base_uri": "https://localhost:8080/"
        },
        "id": "ZL2A1iIQOF1e",
        "outputId": "debe93c5-f540-4b44-baee-9e9bf6cf29c5"
      },
      "outputs": [
        {
          "output_type": "stream",
          "name": "stdout",
          "text": [
            "tensor(nan) tensor(nan)\n"
          ]
        }
      ],
      "source": [
        "x = torch.randn(512)\n",
        "for i in range(100):\n",
        "    a = torch.randn(512, 512)\n",
        "    x = a @ x\n",
        "print(x.mean(), x.std())"
      ]
    },
    {
      "cell_type": "markdown",
      "metadata": {
        "id": "G29XbXyoOF1e"
      },
      "source": [
        "### <img src=\"https://img.icons8.com/color/48/000000/code.png\" style=\"height:50px;display:inline\"> Task 1 Code and Answers - The Importance of Activation and InitializationYour answers here\n",
        "\n",
        "1. At some point we hit numerical problems as the vector x components explode beyond the CPU max floating point percision."
      ]
    },
    {
      "cell_type": "code",
      "execution_count": 3,
      "metadata": {
        "colab": {
          "base_uri": "https://localhost:8080/"
        },
        "id": "g3lQL4qjOF1f",
        "outputId": "9a8ca411-44a4-48af-9f1a-fd2a1485e4e6"
      },
      "outputs": [
        {
          "output_type": "stream",
          "name": "stdout",
          "text": [
            "x tensot is all NaN at layer 29\n",
            "tensor(nan) tensor(nan)\n"
          ]
        }
      ],
      "source": [
        "#1.1\n",
        "N=512\n",
        "x = torch.randn(N)\n",
        "for i in range(100):\n",
        "    a = torch.randn(N, N)\n",
        "    x = a @ x\n",
        "    #print(x.numpy())\n",
        "    if torch.isnan(x).all():\n",
        "        print(f\"x tensot is all NaN at layer {i}\")\n",
        "        #print(x.numpy())\n",
        "        break\n",
        "print(x.mean(), x.std())\n"
      ]
    },
    {
      "cell_type": "markdown",
      "metadata": {
        "id": "0IqmmQZrOF1f"
      },
      "source": [
        "2. We get that with 10000 calculations of empirical std, the mean (estimator) is about the same as the square root on the input connections."
      ]
    },
    {
      "cell_type": "code",
      "execution_count": 4,
      "metadata": {
        "colab": {
          "base_uri": "https://localhost:8080/"
        },
        "id": "zzh8yVu8OF1f",
        "outputId": "468d7aa8-fefd-4a77-a26b-359e158b0dcf"
      },
      "outputs": [
        {
          "output_type": "stream",
          "name": "stdout",
          "text": [
            "mean of stds:22.610655394172667\n",
            "std of stds:1.0025907195653077\n",
            "number of input connections square root:22.627416997969522\n"
          ]
        }
      ],
      "source": [
        "#1.2\n",
        "N=512\n",
        "num_of_runs=10000\n",
        "arr_of_stds=np.zeros((num_of_runs,))\n",
        "for i in range(num_of_runs):\n",
        "    x = torch.randn(N)\n",
        "    a = torch.randn(N, N)\n",
        "    y = a @ x\n",
        "    arr_of_stds[i] = torch.sqrt(torch.sum(y**2)/N).numpy()\n",
        "mean_of_stds = np.mean(arr_of_stds)\n",
        "std_of_stds = np.std(arr_of_stds)\n",
        "squar_root_of_N = np.sqrt(N)\n",
        "print(f\"mean of stds:{mean_of_stds}\")\n",
        "print(f\"std of stds:{std_of_stds}\")\n",
        "print(f\"number of input connections square root:{squar_root_of_N}\")\n",
        "                      "
      ]
    },
    {
      "cell_type": "markdown",
      "metadata": {
        "id": "U6H43XYiOF1g"
      },
      "source": [
        "3. As we saw in the lecture, once we divide each layer by the square root of the layer's input width, we can maintain the input mean and variance $u_{l-1} \\sim \\mathcal{N}(0,I)$ on the output of that layer $u_l$. Thus, the outputs of the NN don't explode."
      ]
    },
    {
      "cell_type": "code",
      "execution_count": 5,
      "metadata": {
        "colab": {
          "base_uri": "https://localhost:8080/"
        },
        "id": "_1ezxJzWOF1g",
        "outputId": "e6769856-5bb3-44cc-e938-f8e6c5f68aac"
      },
      "outputs": [
        {
          "output_type": "stream",
          "name": "stdout",
          "text": [
            "x mean:-0.012621086090803146\n",
            "x std:0.7621493339538574\n"
          ]
        }
      ],
      "source": [
        "#1.3\n",
        "N=512\n",
        "x = torch.randn(N)\n",
        "for i in range(100):\n",
        "    a = torch.randn(N, N) / np.sqrt(N)\n",
        "    x = a @ x\n",
        "print(f\"x mean:{x.mean()}\\nx std:{x.std()}\")\n"
      ]
    },
    {
      "cell_type": "markdown",
      "metadata": {
        "id": "XVutw1CaOF1h"
      },
      "source": [
        "4. Since tanh activation output is bounded by (-1,1), the output values can't explode and even w/o the normalization we maintain zero mean and variance one."
      ]
    },
    {
      "cell_type": "code",
      "execution_count": 6,
      "metadata": {
        "colab": {
          "base_uri": "https://localhost:8080/"
        },
        "id": "UyXIzRT8OF1k",
        "outputId": "aa71483e-8dc4-4ad2-d912-10f04c86205d"
      },
      "outputs": [
        {
          "output_type": "stream",
          "name": "stdout",
          "text": [
            "x mean:-0.03518223389983177\n",
            "x std:0.9775998592376709\n"
          ]
        }
      ],
      "source": [
        "#1.4\n",
        "N=512\n",
        "x = torch.randn(N)\n",
        "for i in range(100):\n",
        "    a = torch.randn(N, N) \n",
        "    x = torch.tanh(a @ x)\n",
        "print(f\"x mean:{x.mean()}\\nx std:{x.std()}\")"
      ]
    },
    {
      "cell_type": "markdown",
      "metadata": {
        "id": "ihmZB4R1OF1k"
      },
      "source": [
        "5. With Xavier init We can see the mean is closer to 0 compared to previous section w/o it. The variance has changed and got smaller though, which can cause vanishing values at the last layers of the NN."
      ]
    },
    {
      "cell_type": "code",
      "execution_count": 7,
      "metadata": {
        "colab": {
          "base_uri": "https://localhost:8080/"
        },
        "id": "fjTXcstZOF1m",
        "outputId": "d9b1419b-651a-4c44-ee28-ff0a9f458b48"
      },
      "outputs": [
        {
          "output_type": "stream",
          "name": "stdout",
          "text": [
            "x mean:-0.00306722242385149\n",
            "x std:0.06797510385513306\n"
          ]
        }
      ],
      "source": [
        "#1.5\n",
        "def xavier_init(fan_in, fan_out):\n",
        "    xavier_coef = np.sqrt(6/(fan_in + fan_out))\n",
        "    a = torch.rand(fan_out, fan_in)\n",
        "    a = xavier_coef * (2 * a - 1) \n",
        "    return a\n",
        "\n",
        "N=512\n",
        "x = torch.randn(N)\n",
        "for i in range(100):\n",
        "    a = xavier_init(N, N) \n",
        "    x = torch.tanh(a @ x)\n",
        "print(f\"x mean:{x.mean()}\\nx std:{x.std()}\")"
      ]
    },
    {
      "cell_type": "markdown",
      "metadata": {
        "id": "UCgdVwvUOF1m"
      },
      "source": [
        "6. Using Relu activation instead of tanh with Xavier initialization, the mean and std are zeroed almost completely, thus the values at output will be effectively 0.  \n",
        "  With Kaiming He init, as we saw in the dry part Q4, for the Relu activation we can use any symmetric distribution and when we enforce the weights std to be  $\\sqrt{\\frac{2}{d_{l-1}}}$ we preserve the input mean and variance on output."
      ]
    },
    {
      "cell_type": "code",
      "execution_count": 8,
      "metadata": {
        "colab": {
          "base_uri": "https://localhost:8080/"
        },
        "id": "H8HI86pVOF1n",
        "outputId": "3f9c22ad-1178-4707-faf5-7d25c263de09"
      },
      "outputs": [
        {
          "output_type": "stream",
          "name": "stdout",
          "text": [
            "relu with xavier init mean:3.6174410778934776e-16\n",
            "relu with xavier init std:5.593861699600155e-16\n",
            "relu with kaiming init mean:0.5281035900115967\n",
            "relu with kaiming init std:0.8080969452857971\n"
          ]
        }
      ],
      "source": [
        "#1.6\n",
        "N=512\n",
        "x = torch.randn(N)\n",
        "for i in range(100):\n",
        "    a = xavier_init(N, N) \n",
        "    x = torch.relu(a @ x)\n",
        "print(f\"relu with xavier init mean:{x.mean()}\\nrelu with xavier init std:{x.std()}\")\n",
        "\n",
        "def kaiming_init(fan_in, fan_out):\n",
        "    return torch.randn(fan_out, fan_in) * np.sqrt(2/fan_in)\n",
        "\n",
        "N=512\n",
        "x = torch.randn(N)\n",
        "num_of_layers = 100\n",
        "#arr_of_x=np.zeros((N,num_of_runs))\n",
        "for i in range(num_of_layers):\n",
        "    a = kaiming_init(N,N) \n",
        "    x = torch.relu(a @ x)\n",
        "    #arr_of_x[:,i] = x.numpy()\n",
        "\n",
        "print(f\"relu with kaiming init mean:{x.mean()}\\nrelu with kaiming init std:{x.std()}\")\n",
        "#print(f\"relu with kaiming init mean:{arr_of_x.mean()}\\nrelu with kaiming init std:{arr_of_x.std()}\")\n"
      ]
    },
    {
      "cell_type": "markdown",
      "metadata": {
        "id": "YlSATRm2OF1n"
      },
      "source": [
        "### <img src=\"https://img.icons8.com/color/48/000000/code.png\" style=\"height:50px;display:inline\"> Task 2 - FashionMNIST Deep Classifer\n",
        "---\n",
        "In this task you are going to design and train your first neural network for classification.\n",
        "1. Load the FashionMNIST dataset `torchvision.datasets.FashionMNIST` and display 6 images with their labels from the dataset.\n",
        "2. Design a **MLP** to classify images from the FashionMNIST dataset. **You need to reach at least 85% accuracy on the test set, and 89% for a full grade**.\n",
        "    * You have a free choice of architecture, optimizer, learning scheduler, initialization, regularization and activations.\n",
        "    * In a Markdown block, write down the chosen architectures and all the hyper-parameters.\n",
        "    * **Plot** the loss curves (and any oter statistic you want) as a function of epochs/iterations.\n",
        "    * **Print** the test accuracy.\n",
        "3. Change the initialization of the linear layers and re-train the model. You can pick an initialization of your choosing from : https://pytorch.org/docs/stable/nn.init.html . See example below how to use. **Print** the change in accuracy."
      ]
    },
    {
      "cell_type": "code",
      "execution_count": 9,
      "metadata": {
        "id": "vBsEvB25OF1n"
      },
      "outputs": [],
      "source": [
        "# example of weight initialization\n",
        "import torch.nn as nn\n",
        "class MyModel(nn.Module):\n",
        "    def __init__(self, parmaeters):\n",
        "        super(MyModel, self).__init__()\n",
        "        # model definitions/blocks\n",
        "        # ...\n",
        "        # custom initialization\n",
        "        self.init_weights()\n",
        "\n",
        "    def init_weights(self):\n",
        "        for m in self.modules():\n",
        "            if isinstance(m, nn.Linear):\n",
        "                # pick initialzation: https://pytorch.org/docs/stable/nn.init.html\n",
        "                # examples\n",
        "                # nn.init.kaiming_normal_(m.weight, mode='fan_out', nonlinearity='relu')\n",
        "                # nn.init.kaiming_normal_(m.weight, mode='fan_in', nonlinearity='leaky_relu', a=math.sqrt(5))\n",
        "                # nn.init.normal_(m.weight, 0, 0.005)\n",
        "                # don't forget the bias term (m.bias)\n",
        "                pass\n",
        "\n",
        "    def forward(self, x):\n",
        "        # ops on x\n",
        "        # ...\n",
        "        # output = f(x)\n",
        "        return output"
      ]
    },
    {
      "cell_type": "markdown",
      "source": [
        "### <img src=\"https://img.icons8.com/color/48/000000/code.png\" style=\"height:50px;display:inline\"> Task 2 Code and Answers - FashionMNIST Deep Classifer"
      ],
      "metadata": {
        "id": "h4mTzjp_CTmS"
      }
    },
    {
      "cell_type": "markdown",
      "source": [
        "1. Load and display of some 6 randome samples from the dataset:"
      ],
      "metadata": {
        "id": "Hoi5cXxF7FSI"
      }
    },
    {
      "cell_type": "code",
      "execution_count": 32,
      "metadata": {
        "colab": {
          "base_uri": "https://localhost:8080/",
          "height": 299
        },
        "id": "MQwBVxNAOF1o",
        "outputId": "28cbcd6f-e864-4713-b530-2f83458f0c14"
      },
      "outputs": [
        {
          "output_type": "stream",
          "name": "stdout",
          "text": [
            "running calculations on:  cuda:0\n"
          ]
        },
        {
          "output_type": "display_data",
          "data": {
            "text/plain": [
              "<Figure size 1080x1080 with 0 Axes>"
            ]
          },
          "metadata": {}
        },
        {
          "output_type": "display_data",
          "data": {
            "image/png": "[encoded data removed]",
            "text/plain": [
              "<Figure size 432x288 with 6 Axes>"
            ]
          },
          "metadata": {}
        }
      ],
      "source": [
        "#2.1\n",
        "\n",
        "from torchvision import datasets, transforms\n",
        "from torch.utils.data.sampler import SubsetRandomSampler\n",
        "from torch.optim.lr_scheduler import ReduceLROnPlateau\n",
        "\n",
        "# check if there is gpu avilable, if there is, use it\n",
        "if torch.cuda.is_available():\n",
        "    torch.cuda.current_device()\n",
        "device = torch.device(\"cuda:0\" if torch.cuda.is_available() else \"cpu\")\n",
        "print(\"running calculations on: \", device)\n",
        "\n",
        "seed = 211\n",
        "np.random.seed(seed)\n",
        "torch.manual_seed(seed)\n",
        "\n",
        "normalize = transforms.Normalize((0.5,), (0.5,))\n",
        "\n",
        "# define transforms\n",
        "valid_transform = transforms.Compose([\n",
        "        transforms.ToTensor(),\n",
        "        normalize\n",
        "    ])\n",
        "train_transform = transforms.Compose([\n",
        "    #transforms.RandomCrop(28, padding=4),\n",
        "    #transforms.RandomAffine(0, translate=(0.7,0.7)),\n",
        "    transforms.RandomHorizontalFlip(),\n",
        "    transforms.ToTensor(),\n",
        "    normalize\n",
        "])\n",
        "\n",
        "# load the dataset\n",
        "data_dir = './datasets/'\n",
        "train_dataset = datasets.FashionMNIST(\n",
        "    root=data_dir, train=True, transform=train_transform, download=True)\n",
        "valid_dataset = datasets.FashionMNIST(\n",
        "    root=data_dir, train=True, transform=valid_transform, download=True)\n",
        "test_dataset = datasets.FashionMNIST(\n",
        "    root=data_dir, train=False, transform=valid_transform, download=True)\n",
        "\n",
        "# visualize some images\n",
        "n_samples = 6\n",
        "sample_loader = torch.utils.data.DataLoader(valid_dataset, batch_size=n_samples, shuffle=True)\n",
        "data_iter = iter(sample_loader)\n",
        "images, labels = data_iter.next()\n",
        "sampled_imgs = images.numpy()\n",
        "\n",
        "def plot_samples(samples, labels, predictions=None):\n",
        "  fig = plt.figure(figsize=(15 ,15))\n",
        "  _, axes = plt.subplots(2, int(len(samples)/2))\n",
        "\n",
        "  for i, ax in enumerate(axes.flat):\n",
        "      ax.imshow(samples[i, 0, :, :], interpolation='none', cmap='gray')\n",
        "          \n",
        "      xlabel = str(labels[i].numpy())\n",
        "      title = f\"Ground Truth: {xlabel}\"\n",
        "      if predictions != None:\n",
        "        xpred = str(predictions[i])\n",
        "        title += f\"\\nPrediction: {xpred}\"\n",
        "      ax.set_title(title)    \n",
        "      ax.set_xlabel(xlabel)\n",
        "      ax.set_xticks([])\n",
        "      ax.set_yticks([])\n",
        "      ax.set_axis_off()\n",
        "\n",
        "  plt.show()\n",
        "\n",
        "plot_samples(sampled_imgs,labels)"
      ]
    },
    {
      "cell_type": "markdown",
      "source": [
        "2. The architechture and training hyper parameters:   \n",
        "  * The architechture:  \n",
        "Linear hidden layers with the following sizes = [512, 256, 128, 64, 10]  (initlally tried without the first hidden layer).  \n",
        "The activation layers are leaky relu (tried also relu and tanh).  \n",
        "The initializtion of the linear layer is the default.  \n",
        "Dropout was enabled for better generalization with 0.2 factor.  \n",
        "Batchnorm was enabled as well between the layers.  \n",
        "See also torchviz output of the network below.  \n",
        "  * The hyper parameters:  \n",
        "Initial learning rate=0.01  \n",
        "Learning Rate scheduler  ReduceLROnPlateau that works on the accuracy (maximize) with patience=2 and factor 0.5.  \n",
        "The optimizer is SGD with momentum parameter=0.9 and with nestrov method (played also with Adam)  \n",
        "Batch size = 128  \n",
        "Number of Epochs = 50 (saving the model with best accuracy along the way)  \n",
        "L2 Regularization with wieght decay factor = 1e-5  \n",
        "Validation split factor = 0.2  \n",
        "\n",
        "\n"
      ],
      "metadata": {
        "id": "Xb7eWpaG-NVu"
      }
    },
    {
      "cell_type": "code",
      "source": [
        "#2.2\n",
        "\n",
        "import torch.nn as nn\n",
        "import copy\n",
        "\n",
        "class MyMLP(nn.Module):\n",
        "    def __init__(self, params):\n",
        "        super(MyMLP, self).__init__()\n",
        "        self.params = copy.deepcopy(params)\n",
        "        self.hidden_layer_sizes = self.params['layers_sizes'][:]\n",
        "        self.num_of_hidden_layers = len(self.hidden_layer_sizes)\n",
        "        assert self.num_of_hidden_layers > 0, \"number of hidden layers should be at least 1\"\n",
        "        self.input_size = self.params['input_size']\n",
        "\n",
        "        self.fc = nn.ModuleList()\n",
        "        prev_layer_size = self.input_size\n",
        "        for layer_index, current_hidden_layer_size in enumerate(self.hidden_layer_sizes):\n",
        "          #print(f\"Adding FC Linear layer {prev_layer_size}x{current_hidden_layer_size}\")\n",
        "          self.fc.append(nn.Linear(prev_layer_size, current_hidden_layer_size))\n",
        "          prev_layer_size = current_hidden_layer_size\n",
        "\n",
        "        if self.params['enable_dropout']:\n",
        "          print(f\"Dropout is enabled with {self.params['dropout']}\")\n",
        "          self.dropout = nn.Dropout(self.params['dropout'])\n",
        "        if self.params['weights_init'] != 'default':\n",
        "          self.init_weights(self.params['weights_init'])\n",
        "\n",
        "    def init_weights(self, init_type):\n",
        "        print('custom init')\n",
        "        for m in self.modules():\n",
        "            if isinstance(m, nn.Linear):\n",
        "                # pick initialzation: https://pytorch.org/docs/stable/nn.init.html\n",
        "                # examples\n",
        "                # nn.init.kaiming_normal_(m.weight, mode='fan_out', nonlinearity='relu')\n",
        "                # nn.init.kaiming_normal_(m.weight, mode='fan_in', nonlinearity='leaky_relu', a=math.sqrt(5))\n",
        "                # nn.init.normal_(m.weight, 0, 0.005)\n",
        "                # don't forget the bias term (m.bias)\n",
        "                pass\n",
        "\n",
        "    def forward(self, x):\n",
        "        x = x.view(x.shape[0],-1)\n",
        "        #prev_layer_size = self.input_size\n",
        "        for layer_index, current_hidden_layer_size in enumerate(self.hidden_layer_sizes):\n",
        "          #print(f\"Apply FC layer {layer_index}: {prev_layer_size}x{current_hidden_layer_size}\")\n",
        "          #prev_layer_size = current_hidden_layer_size\n",
        "          x = self.fc[layer_index](x)\n",
        "          if self.params['enable_batchnorm']:\n",
        "            nn.BatchNorm1d(current_hidden_layer_size)\n",
        "          if (layer_index < (len(self.hidden_layer_sizes)-1)):\n",
        "            if self.params['activation'] == 'relu':\n",
        "              #print(f\"Apply relu activation\")\n",
        "              x = nn.functional.relu(x)\n",
        "            elif self.params['activation'] == 'tanh':\n",
        "              x = torch.tanh(x)\n",
        "            elif self.params['activation'] == 'lrelu':\n",
        "              x = nn.functional.leaky_relu(x)\n",
        "            elif self.params['activation'] == 'elu':\n",
        "              x = nn.functional.elu(x)\n",
        "            elif self.params['activation'] == 'gelu':\n",
        "              x = nn.functional.gelu(x)\n",
        "            else:\n",
        "              pass\n",
        "            if self.params['enable_dropout']:\n",
        "              #print(f\"Apply dropout activation\")\n",
        "              x = self.dropout(x)\n",
        "        #output = nn.functional.softmax(x, dim=1)\n",
        "        return x\n"
      ],
      "metadata": {
        "id": "qeDx-BEK4wg5"
      },
      "execution_count": 11,
      "outputs": []
    },
    {
      "cell_type": "code",
      "source": [
        "#training\n",
        "\n",
        "seed = 211\n",
        "np.random.seed(seed)\n",
        "torch.manual_seed(seed)\n",
        "\n",
        "# model arch hyper params\n",
        "model_hyper_params = {}\n",
        "hidden_layer_sizes = [512, 256, 128, 64, 10]\n",
        "input_size = 28*28\n",
        "model_hyper_params['input_size'] = input_size \n",
        "model_hyper_params['layers_sizes'] = hidden_layer_sizes\n",
        "model_hyper_params['activation'] = 'lrelu'\n",
        "model_hyper_params['weights_init'] = 'default'\n",
        "model_hyper_params['enable_dropout'] = True \n",
        "model_hyper_params['dropout'] = 0.2\n",
        "model_hyper_params['enable_batchnorm'] = True\n",
        "\n",
        "\n",
        "#training hyper parameters\n",
        "train_hyper_params = {}\n",
        "train_hyper_params['VALID_SIZE'] = 0.2\n",
        "train_hyper_params['BATCH_SIZE'] = 128\n",
        "train_hyper_params['LEARNING_RATE'] = 0.01\n",
        "train_hyper_params['SCHED_FACTOR'] = 0.5\n",
        "train_hyper_params['SCHED_PAT'] = 2\n",
        "train_hyper_params['NUM_OF_EPOCHS'] = 50\n",
        "train_hyper_params['OPTIMIZER'] = 'sgd'\n",
        "train_hyper_params['OPTIMIZER_WEIGHT_DECAY'] = 1e-5\n",
        "\n",
        "\n",
        "\n",
        "num_train = len(train_dataset)\n",
        "indices = list(range(num_train))\n",
        "split = int(np.floor(train_hyper_params['VALID_SIZE'] * num_train))\n",
        "\n",
        "np.random.shuffle(indices)\n",
        "train_idx, valid_idx = indices[split:], indices[:split]\n",
        "\n",
        "train_sampler = SubsetRandomSampler(train_idx)\n",
        "valid_sampler = SubsetRandomSampler(valid_idx)\n",
        "\n",
        "train_loader = torch.utils.data.DataLoader(\n",
        "    train_dataset, batch_size=train_hyper_params['BATCH_SIZE'],\n",
        "    sampler=train_sampler)\n",
        "\n",
        "valid_loader = torch.utils.data.DataLoader(\n",
        "    valid_dataset, batch_size=train_hyper_params['BATCH_SIZE'],\n",
        "    sampler=valid_sampler)\n",
        "\n",
        "test_loader = torch.utils.data.DataLoader(\n",
        "    test_dataset, batch_size=train_hyper_params['BATCH_SIZE'])\n",
        "\n",
        "# loss criterion\n",
        "criterion = nn.CrossEntropyLoss()\n",
        "# model\n",
        "model = MyMLP(model_hyper_params).to(device)\n",
        "#model(images[0].to(device))\n",
        "# optimizer\n",
        "if train_hyper_params['OPTIMIZER'] == 'adam':\n",
        "  optimizer = torch.optim.Adam(\n",
        "      model.parameters(), lr=train_hyper_params['LEARNING_RATE'])\n",
        "elif train_hyper_params['OPTIMIZER'] == 'sgd':\n",
        "  optimizer = torch.optim.SGD(\n",
        "      model.parameters(),\n",
        "      lr=train_hyper_params['LEARNING_RATE'],\n",
        "      momentum=0.9, nesterov=True, \n",
        "      weight_decay=train_hyper_params['OPTIMIZER_WEIGHT_DECAY'])\n",
        "else:\n",
        "  assert False, \"optimizer was not defined\"\n",
        "\n",
        "model.train()\n",
        "\n",
        "scheduler = ReduceLROnPlateau(\n",
        "    optimizer, mode='max', factor=train_hyper_params['SCHED_FACTOR'],\n",
        "    patience=train_hyper_params['SCHED_PAT'], verbose=True)\n",
        "\n",
        "epochs_train_losses = []\n",
        "epochs_valid_losses = []\n",
        "epochs_test_accuracy = []\n",
        "max_accuracy = 0\n",
        "\n",
        "for epoch in range(train_hyper_params['NUM_OF_EPOCHS']):\n",
        "  print(f'epoch {epoch}')\n",
        "\n",
        "  model.train()\n",
        "  epoch_train_losses = []\n",
        "\n",
        "  for images, labels in train_loader:\n",
        "    images = images.view(-1, input_size).to(device)\n",
        "    labels = labels.to(device)\n",
        "\n",
        "    # forward pass\n",
        "    predictions = model(images)\n",
        "\n",
        "    # loss\n",
        "    loss = criterion(predictions, labels)\n",
        "\n",
        "    # backward pass\n",
        "    optimizer.zero_grad() # clean the gradients from previous iteration\n",
        "    loss.backward() # autograd backward to calculate gradients\n",
        "    optimizer.step() # apply update to the weights\n",
        "    \n",
        "    epoch_train_losses.append(loss.item())\n",
        "\n",
        "  model.eval()\n",
        "  epoch_valid_losses = []\n",
        "\n",
        "  for images, labels in valid_loader:\n",
        "    images = images.view(-1, input_size).to(device)\n",
        "    labels = labels.to(device)\n",
        "    predictions = model(images)\n",
        "    loss = criterion(predictions, labels)\n",
        "    epoch_valid_losses.append(loss.item())\n",
        "\n",
        "  # Calculate Accuracy\n",
        "  correct = 0\n",
        "  total = 0\n",
        "  # Iterate through test dataset\n",
        "  for images, labels in test_loader:\n",
        "    # Send images and labels to device\n",
        "    images = images.view(-1, input_size).to(device)\n",
        "    labels = labels.to(device)\n",
        "    # Forward pass only to get logits/output\n",
        "    outputs = model(images)\n",
        "    # Get predictions from the maximum value\n",
        "    _, predicted = torch.max(outputs.data, 1)\n",
        "    predicted = predicted.to(device)\n",
        "    # Total number of labels\n",
        "    total += labels.size(0)\n",
        "    # Total correct predictions\n",
        "    # Without .item(), it is a uint8 tensor which will \n",
        "    # not work when you pass this number to the scheduler\n",
        "    correct += (predicted == labels).sum().item()\n",
        "    accuracy = 100 * correct / total\n",
        "\n",
        "  epochs_train_losses.append(np.mean(epoch_train_losses))\n",
        "  epochs_valid_losses.append(np.mean(epoch_valid_losses))\n",
        "  epochs_test_accuracy.append(accuracy)\n",
        "\n",
        "  # Decay Learning Rate, pass validation accuracy for tracking at every epoch\n",
        "  print(f'epoch: {epoch} train_loss: {epochs_train_losses[-1]:.5f} '\n",
        "    f'validation loss:{epochs_valid_losses[-1]:.5f} test accuracy: {accuracy:.1f}%')\n",
        "\n",
        "  scheduler.step(accuracy) # accuracy is used to track down a plateau\n",
        "\n",
        "  if accuracy > max_accuracy:\n",
        "    checkpoint = {'model_hyper_params': model_hyper_params,\n",
        "                  'train_hyper_params': train_hyper_params,\n",
        "                  'state_dict': model.state_dict()}\n",
        "    #filename = f'accuracy_{accuracy}_checkpoint.pth'\n",
        "    #torch.save(checkpoint, filename)\n"
      ],
      "metadata": {
        "colab": {
          "base_uri": "https://localhost:8080/"
        },
        "id": "ujQVsA_high0",
        "outputId": "f7c87683-94df-43cd-f09a-c02179556468"
      },
      "execution_count": 12,
      "outputs": [
        {
          "output_type": "stream",
          "name": "stdout",
          "text": [
            "Dropout is enabled with 0.2\n",
            "epoch 0\n",
            "epoch: 0 train_loss: 1.30146 validation loss:0.66167 test accuracy: 74.0%\n",
            "epoch 1\n",
            "epoch: 1 train_loss: 0.60520 validation loss:0.47130 test accuracy: 81.7%\n",
            "epoch 2\n",
            "epoch: 2 train_loss: 0.50702 validation loss:0.42449 test accuracy: 83.8%\n",
            "epoch 3\n",
            "epoch: 3 train_loss: 0.46678 validation loss:0.39988 test accuracy: 84.8%\n",
            "epoch 4\n",
            "epoch: 4 train_loss: 0.43386 validation loss:0.37753 test accuracy: 85.6%\n",
            "epoch 5\n",
            "epoch: 5 train_loss: 0.41306 validation loss:0.37294 test accuracy: 85.4%\n",
            "epoch 6\n",
            "epoch: 6 train_loss: 0.39553 validation loss:0.35912 test accuracy: 85.7%\n",
            "epoch 7\n",
            "epoch: 7 train_loss: 0.38422 validation loss:0.35864 test accuracy: 86.0%\n",
            "epoch 8\n",
            "epoch: 8 train_loss: 0.37043 validation loss:0.34599 test accuracy: 86.1%\n",
            "epoch 9\n",
            "epoch: 9 train_loss: 0.36003 validation loss:0.33628 test accuracy: 86.8%\n",
            "epoch 10\n",
            "epoch: 10 train_loss: 0.35279 validation loss:0.33739 test accuracy: 86.5%\n",
            "epoch 11\n",
            "epoch: 11 train_loss: 0.34531 validation loss:0.33158 test accuracy: 86.8%\n",
            "epoch 12\n",
            "epoch: 12 train_loss: 0.33821 validation loss:0.32687 test accuracy: 87.2%\n",
            "epoch 13\n",
            "epoch: 13 train_loss: 0.33189 validation loss:0.31894 test accuracy: 87.3%\n",
            "epoch 14\n",
            "epoch: 14 train_loss: 0.32350 validation loss:0.32032 test accuracy: 87.2%\n",
            "epoch 15\n",
            "epoch: 15 train_loss: 0.31732 validation loss:0.32825 test accuracy: 86.8%\n",
            "epoch 16\n",
            "epoch: 16 train_loss: 0.31371 validation loss:0.32324 test accuracy: 87.4%\n",
            "epoch 17\n",
            "epoch: 17 train_loss: 0.30671 validation loss:0.31512 test accuracy: 87.5%\n",
            "epoch 18\n",
            "epoch: 18 train_loss: 0.30311 validation loss:0.31555 test accuracy: 87.5%\n",
            "epoch 19\n",
            "epoch: 19 train_loss: 0.29518 validation loss:0.30576 test accuracy: 87.4%\n",
            "epoch 20\n",
            "epoch: 20 train_loss: 0.28981 validation loss:0.30481 test accuracy: 88.0%\n",
            "epoch 21\n",
            "epoch: 21 train_loss: 0.28884 validation loss:0.30354 test accuracy: 87.6%\n",
            "epoch 22\n",
            "epoch: 22 train_loss: 0.28362 validation loss:0.30027 test accuracy: 88.0%\n",
            "epoch 23\n",
            "epoch: 23 train_loss: 0.27838 validation loss:0.29724 test accuracy: 88.4%\n",
            "epoch 24\n",
            "epoch: 24 train_loss: 0.27674 validation loss:0.29310 test accuracy: 88.5%\n",
            "epoch 25\n",
            "epoch: 25 train_loss: 0.27052 validation loss:0.29528 test accuracy: 88.0%\n",
            "epoch 26\n",
            "epoch: 26 train_loss: 0.26743 validation loss:0.29606 test accuracy: 88.1%\n",
            "epoch 27\n",
            "epoch: 27 train_loss: 0.26215 validation loss:0.29106 test accuracy: 88.5%\n",
            "Epoch    28: reducing learning rate of group 0 to 5.0000e-03.\n",
            "epoch 28\n",
            "epoch: 28 train_loss: 0.23932 validation loss:0.28556 test accuracy: 88.8%\n",
            "epoch 29\n",
            "epoch: 29 train_loss: 0.23316 validation loss:0.28505 test accuracy: 88.8%\n",
            "epoch 30\n",
            "epoch: 30 train_loss: 0.22928 validation loss:0.28034 test accuracy: 89.0%\n",
            "epoch 31\n",
            "epoch: 31 train_loss: 0.22709 validation loss:0.28083 test accuracy: 88.8%\n",
            "epoch 32\n",
            "epoch: 32 train_loss: 0.22331 validation loss:0.28421 test accuracy: 89.0%\n",
            "epoch 33\n",
            "epoch: 33 train_loss: 0.22252 validation loss:0.27836 test accuracy: 88.9%\n",
            "epoch 34\n",
            "epoch: 34 train_loss: 0.21888 validation loss:0.28184 test accuracy: 88.8%\n",
            "epoch 35\n",
            "epoch: 35 train_loss: 0.21665 validation loss:0.27943 test accuracy: 88.9%\n",
            "Epoch    36: reducing learning rate of group 0 to 2.5000e-03.\n",
            "epoch 36\n",
            "epoch: 36 train_loss: 0.20053 validation loss:0.27620 test accuracy: 89.1%\n",
            "epoch 37\n",
            "epoch: 37 train_loss: 0.20007 validation loss:0.27484 test accuracy: 89.2%\n",
            "epoch 38\n",
            "epoch: 38 train_loss: 0.19926 validation loss:0.28013 test accuracy: 89.1%\n",
            "epoch 39\n",
            "epoch: 39 train_loss: 0.19543 validation loss:0.27888 test accuracy: 89.3%\n",
            "epoch 40\n",
            "epoch: 40 train_loss: 0.19214 validation loss:0.27543 test accuracy: 89.4%\n",
            "epoch 41\n",
            "epoch: 41 train_loss: 0.19282 validation loss:0.27542 test accuracy: 89.3%\n",
            "epoch 42\n",
            "epoch: 42 train_loss: 0.18967 validation loss:0.27938 test accuracy: 89.3%\n",
            "epoch 43\n",
            "epoch: 43 train_loss: 0.19064 validation loss:0.27764 test accuracy: 89.5%\n",
            "epoch 44\n",
            "epoch: 44 train_loss: 0.18606 validation loss:0.27672 test accuracy: 89.1%\n",
            "epoch 45\n",
            "epoch: 45 train_loss: 0.18765 validation loss:0.27885 test accuracy: 89.3%\n",
            "epoch 46\n",
            "epoch: 46 train_loss: 0.18463 validation loss:0.28149 test accuracy: 89.2%\n",
            "Epoch    47: reducing learning rate of group 0 to 1.2500e-03.\n",
            "epoch 47\n",
            "epoch: 47 train_loss: 0.17676 validation loss:0.28030 test accuracy: 89.3%\n",
            "epoch 48\n",
            "epoch: 48 train_loss: 0.17541 validation loss:0.27817 test accuracy: 89.7%\n",
            "epoch 49\n",
            "epoch: 49 train_loss: 0.17406 validation loss:0.27886 test accuracy: 89.6%\n"
          ]
        }
      ]
    },
    {
      "cell_type": "code",
      "source": [
        "#!rm accuracy_*\n",
        "plt.plot(epochs_train_losses, label='train losses')\n",
        "plt.plot(epochs_valid_losses, label='valid losses')\n",
        "plt.legend()\n",
        "\n",
        "\n",
        "\n"
      ],
      "metadata": {
        "id": "QYMEGwFCrf1d",
        "colab": {
          "base_uri": "https://localhost:8080/",
          "height": 282
        },
        "outputId": "89a7fb7b-0824-476b-d394-60e93c73029e"
      },
      "execution_count": 13,
      "outputs": [
        {
          "output_type": "execute_result",
          "data": {
            "text/plain": [
              "<matplotlib.legend.Legend at 0x7fcbb1a7f890>"
            ]
          },
          "metadata": {},
          "execution_count": 13
        },
        {
          "output_type": "display_data",
          "data": {
            "image/png": "[encoded data removed]",
            "text/plain": [
              "<Figure size 432x288 with 1 Axes>"
            ]
          },
          "metadata": {
            "needs_background": "light"
          }
        }
      ]
    },
    {
      "cell_type": "code",
      "source": [
        "accuracy = 89.71\n",
        "filename = f'accuracy_{accuracy}_checkpoint.pth'\n",
        "checkpoint = torch.load(filename)\n",
        "print(f\"train_hyper_params {checkpoint['train_hyper_params']}\")\n",
        "print(f\"model_hyper_params {checkpoint['model_hyper_params']}\")\n",
        "model.load_state_dict(checkpoint['state_dict'])\n",
        "print(model)\n",
        "\n",
        "# for torchviz on google collab\n",
        "#!pip install torchviz\n",
        "import torchviz\n",
        "\n",
        "x = torch.randn(1, input_size).to(device)\n",
        "torchviz.make_dot(model(x), params=dict(model.named_parameters()))\n"
      ],
      "metadata": {
        "colab": {
          "base_uri": "https://localhost:8080/",
          "height": 1000
        },
        "id": "nd2yx8f5d5_V",
        "outputId": "9f4444b5-648c-4c11-b0a9-a2d3b7f905e5"
      },
      "execution_count": 20,
      "outputs": [
        {
          "output_type": "stream",
          "name": "stdout",
          "text": [
            "train_hyper_params {'VALID_SIZE': 0.2, 'BATCH_SIZE': 128, 'LEARNING_RATE': 0.01, 'SCHED_FACTOR': 0.5, 'SCHED_PAT': 2, 'NUM_OF_EPOCHS': 50, 'OPTIMIZER': 'sgd'}\n",
            "model_hyper_params {'input_size': 784, 'layers_sizes': [512, 256, 128, 64, 10], 'activation': 'lrelu', 'weights_init': 'default', 'enable_dropout': True, 'dropout': 0.2, 'enable_batchnorm': True}\n",
            "MyMLP(\n",
            "  (fc): ModuleList(\n",
            "    (0): Linear(in_features=784, out_features=512, bias=True)\n",
            "    (1): Linear(in_features=512, out_features=256, bias=True)\n",
            "    (2): Linear(in_features=256, out_features=128, bias=True)\n",
            "    (3): Linear(in_features=128, out_features=64, bias=True)\n",
            "    (4): Linear(in_features=64, out_features=10, bias=True)\n",
            "  )\n",
            "  (dropout): Dropout(p=0.2, inplace=False)\n",
            ")\n"
          ]
        },
        {
          "output_type": "execute_result",
          "data": {
            "text/plain": [
              "<graphviz.dot.Digraph at 0x7fcbb0a458d0>"
            ],
            "image/svg+xml": "<?xml version=\"1.0\" encoding=\"UTF-8\" standalone=\"no\"?>\n<!DOCTYPE svg PUBLIC \"-//W3C//DTD SVG 1.1//EN\"\n \"http://www.w3.org/Graphics/SVG/1.1/DTD/svg11.dtd\">\n<!-- Generated by graphviz version 2.40.1 (20161225.0304)\n -->\n<!-- Title: %3 Pages: 1 -->\n<svg width=\"560pt\" height=\"809pt\"\n viewBox=\"0.00 0.00 560.00 809.00\" xmlns=\"http://www.w3.org/2000/svg\" xmlns:xlink=\"http://www.w3.org/1999/xlink\">\n<g id=\"graph0\" class=\"graph\" transform=\"scale(1 1) rotate(0) translate(4 805)\">\n<title>%3</title>\n<polygon fill=\"#ffffff\" stroke=\"transparent\" points=\"-4,4 -4,-805 556,-805 556,4 -4,4\"/>\n<!-- 140512818075696 -->\n<g id=\"node1\" class=\"node\">\n<title>140512818075696</title>\n<polygon fill=\"#caff70\" stroke=\"#000000\" points=\"361,-31 296,-31 296,0 361,0 361,-31\"/>\n<text text-anchor=\"middle\" x=\"328.5\" y=\"-7\" font-family=\"monospace\" font-size=\"10.00\" fill=\"#000000\"> (1, 10)</text>\n</g>\n<!-- 140512817987664 -->\n<g id=\"node2\" class=\"node\">\n<title>140512817987664</title>\n<polygon fill=\"#d3d3d3\" stroke=\"#000000\" points=\"379,-86 278,-86 278,-67 379,-67 379,-86\"/>\n<text text-anchor=\"middle\" x=\"328.5\" y=\"-74\" font-family=\"monospace\" font-size=\"10.00\" fill=\"#000000\">AddmmBackward0</text>\n</g>\n<!-- 140512817987664&#45;&gt;140512818075696 -->\n<g id=\"edge34\" class=\"edge\">\n<title>140512817987664&#45;&gt;140512818075696</title>\n<path fill=\"none\" stroke=\"#000000\" d=\"M328.5,-66.9688C328.5,-60.1289 328.5,-50.5621 328.5,-41.5298\"/>\n<polygon fill=\"#000000\" stroke=\"#000000\" points=\"332.0001,-41.3678 328.5,-31.3678 325.0001,-41.3678 332.0001,-41.3678\"/>\n</g>\n<!-- 140512814832720 -->\n<g id=\"node3\" class=\"node\">\n<title>140512814832720</title>\n<polygon fill=\"#d3d3d3\" stroke=\"#000000\" points=\"248,-141 147,-141 147,-122 248,-122 248,-141\"/>\n<text text-anchor=\"middle\" x=\"197.5\" y=\"-129\" font-family=\"monospace\" font-size=\"10.00\" fill=\"#000000\">AccumulateGrad</text>\n</g>\n<!-- 140512814832720&#45;&gt;140512817987664 -->\n<g id=\"edge1\" class=\"edge\">\n<title>140512814832720&#45;&gt;140512817987664</title>\n<path fill=\"none\" stroke=\"#000000\" d=\"M220.3185,-121.9197C241.3222,-113.1014 272.6971,-99.9287 296.2577,-90.0369\"/>\n<polygon fill=\"#000000\" stroke=\"#000000\" points=\"297.6381,-93.2533 305.5035,-86.155 294.9282,-86.7991 297.6381,-93.2533\"/>\n</g>\n<!-- 140512829513360 -->\n<g id=\"node4\" class=\"node\">\n<title>140512829513360</title>\n<polygon fill=\"#add8e6\" stroke=\"#000000\" points=\"233,-207 162,-207 162,-177 233,-177 233,-207\"/>\n<text text-anchor=\"middle\" x=\"197.5\" y=\"-195\" font-family=\"monospace\" font-size=\"10.00\" fill=\"#000000\">fc.4.bias</text>\n<text text-anchor=\"middle\" x=\"197.5\" y=\"-184\" font-family=\"monospace\" font-size=\"10.00\" fill=\"#000000\"> (10)</text>\n</g>\n<!-- 140512829513360&#45;&gt;140512814832720 -->\n<g id=\"edge2\" class=\"edge\">\n<title>140512829513360&#45;&gt;140512814832720</title>\n<path fill=\"none\" stroke=\"#000000\" d=\"M197.5,-176.7333C197.5,-169.0322 197.5,-159.5977 197.5,-151.3414\"/>\n<polygon fill=\"#000000\" stroke=\"#000000\" points=\"201.0001,-151.0864 197.5,-141.0864 194.0001,-151.0864 201.0001,-151.0864\"/>\n</g>\n<!-- 140512817991056 -->\n<g id=\"node5\" class=\"node\">\n<title>140512817991056</title>\n<polygon fill=\"#d3d3d3\" stroke=\"#000000\" points=\"391,-141 266,-141 266,-122 391,-122 391,-141\"/>\n<text text-anchor=\"middle\" x=\"328.5\" y=\"-129\" font-family=\"monospace\" font-size=\"10.00\" fill=\"#000000\">LeakyReluBackward0</text>\n</g>\n<!-- 140512817991056&#45;&gt;140512817987664 -->\n<g id=\"edge3\" class=\"edge\">\n<title>140512817991056&#45;&gt;140512817987664</title>\n<path fill=\"none\" stroke=\"#000000\" d=\"M328.5,-121.9197C328.5,-114.9083 328.5,-105.1442 328.5,-96.4652\"/>\n<polygon fill=\"#000000\" stroke=\"#000000\" points=\"332.0001,-96.3408 328.5,-86.3408 325.0001,-96.3409 332.0001,-96.3408\"/>\n</g>\n<!-- 140512818650640 -->\n<g id=\"node6\" class=\"node\">\n<title>140512818650640</title>\n<polygon fill=\"#d3d3d3\" stroke=\"#000000\" points=\"365,-201.5 264,-201.5 264,-182.5 365,-182.5 365,-201.5\"/>\n<text text-anchor=\"middle\" x=\"314.5\" y=\"-189.5\" font-family=\"monospace\" font-size=\"10.00\" fill=\"#000000\">AddmmBackward0</text>\n</g>\n<!-- 140512818650640&#45;&gt;140512817991056 -->\n<g id=\"edge4\" class=\"edge\">\n<title>140512818650640&#45;&gt;140512817991056</title>\n<path fill=\"none\" stroke=\"#000000\" d=\"M316.7493,-182.2796C318.6769,-173.9499 321.5143,-161.688 323.9181,-151.3004\"/>\n<polygon fill=\"#000000\" stroke=\"#000000\" points=\"327.3651,-151.9289 326.2097,-141.3972 320.5453,-150.3507 327.3651,-151.9289\"/>\n</g>\n<!-- 140512814832272 -->\n<g id=\"node7\" class=\"node\">\n<title>140512814832272</title>\n<polygon fill=\"#d3d3d3\" stroke=\"#000000\" points=\"213,-267.5 112,-267.5 112,-248.5 213,-248.5 213,-267.5\"/>\n<text text-anchor=\"middle\" x=\"162.5\" y=\"-255.5\" font-family=\"monospace\" font-size=\"10.00\" fill=\"#000000\">AccumulateGrad</text>\n</g>\n<!-- 140512814832272&#45;&gt;140512818650640 -->\n<g id=\"edge5\" class=\"edge\">\n<title>140512814832272&#45;&gt;140512818650640</title>\n<path fill=\"none\" stroke=\"#000000\" d=\"M184.6021,-248.403C210.4934,-237.1608 253.5791,-218.4525 282.9725,-205.6896\"/>\n<polygon fill=\"#000000\" stroke=\"#000000\" points=\"284.5926,-208.8019 292.3712,-201.6085 281.8046,-202.381 284.5926,-208.8019\"/>\n</g>\n<!-- 140512829513072 -->\n<g id=\"node8\" class=\"node\">\n<title>140512829513072</title>\n<polygon fill=\"#add8e6\" stroke=\"#000000\" points=\"198,-339 127,-339 127,-309 198,-309 198,-339\"/>\n<text text-anchor=\"middle\" x=\"162.5\" y=\"-327\" font-family=\"monospace\" font-size=\"10.00\" fill=\"#000000\">fc.3.bias</text>\n<text text-anchor=\"middle\" x=\"162.5\" y=\"-316\" font-family=\"monospace\" font-size=\"10.00\" fill=\"#000000\"> (64)</text>\n</g>\n<!-- 140512829513072&#45;&gt;140512814832272 -->\n<g id=\"edge6\" class=\"edge\">\n<title>140512829513072&#45;&gt;140512814832272</title>\n<path fill=\"none\" stroke=\"#000000\" d=\"M162.5,-308.6924C162.5,-299.5067 162.5,-287.7245 162.5,-277.8312\"/>\n<polygon fill=\"#000000\" stroke=\"#000000\" points=\"166.0001,-277.703 162.5,-267.7031 159.0001,-277.7031 166.0001,-277.703\"/>\n</g>\n<!-- 140512818649040 -->\n<g id=\"node9\" class=\"node\">\n<title>140512818649040</title>\n<polygon fill=\"#d3d3d3\" stroke=\"#000000\" points=\"356,-267.5 231,-267.5 231,-248.5 356,-248.5 356,-267.5\"/>\n<text text-anchor=\"middle\" x=\"293.5\" y=\"-255.5\" font-family=\"monospace\" font-size=\"10.00\" fill=\"#000000\">LeakyReluBackward0</text>\n</g>\n<!-- 140512818649040&#45;&gt;140512818650640 -->\n<g id=\"edge7\" class=\"edge\">\n<title>140512818649040&#45;&gt;140512818650640</title>\n<path fill=\"none\" stroke=\"#000000\" d=\"M296.5986,-248.2615C299.6695,-238.6102 304.4588,-223.558 308.3112,-211.4506\"/>\n<polygon fill=\"#000000\" stroke=\"#000000\" points=\"311.6918,-212.369 311.3887,-201.7785 305.0213,-210.2465 311.6918,-212.369\"/>\n</g>\n<!-- 140512834818704 -->\n<g id=\"node10\" class=\"node\">\n<title>140512834818704</title>\n<polygon fill=\"#d3d3d3\" stroke=\"#000000\" points=\"330,-333.5 229,-333.5 229,-314.5 330,-314.5 330,-333.5\"/>\n<text text-anchor=\"middle\" x=\"279.5\" y=\"-321.5\" font-family=\"monospace\" font-size=\"10.00\" fill=\"#000000\">AddmmBackward0</text>\n</g>\n<!-- 140512834818704&#45;&gt;140512818649040 -->\n<g id=\"edge8\" class=\"edge\">\n<title>140512834818704&#45;&gt;140512818649040</title>\n<path fill=\"none\" stroke=\"#000000\" d=\"M281.5657,-314.2615C283.5923,-304.7077 286.7415,-289.8615 289.2961,-277.8183\"/>\n<polygon fill=\"#000000\" stroke=\"#000000\" points=\"292.7745,-278.2871 291.4258,-267.7785 285.9268,-276.8345 292.7745,-278.2871\"/>\n</g>\n<!-- 140512818217936 -->\n<g id=\"node11\" class=\"node\">\n<title>140512818217936</title>\n<polygon fill=\"#d3d3d3\" stroke=\"#000000\" points=\"157,-399.5 56,-399.5 56,-380.5 157,-380.5 157,-399.5\"/>\n<text text-anchor=\"middle\" x=\"106.5\" y=\"-387.5\" font-family=\"monospace\" font-size=\"10.00\" fill=\"#000000\">AccumulateGrad</text>\n</g>\n<!-- 140512818217936&#45;&gt;140512834818704 -->\n<g id=\"edge9\" class=\"edge\">\n<title>140512818217936&#45;&gt;140512834818704</title>\n<path fill=\"none\" stroke=\"#000000\" d=\"M131.6557,-380.403C161.5937,-368.9816 211.7305,-349.8543 245.2043,-337.0839\"/>\n<polygon fill=\"#000000\" stroke=\"#000000\" points=\"246.499,-340.3361 254.5946,-333.5015 244.0039,-333.7959 246.499,-340.3361\"/>\n</g>\n<!-- 140512829512784 -->\n<g id=\"node12\" class=\"node\">\n<title>140512829512784</title>\n<polygon fill=\"#add8e6\" stroke=\"#000000\" points=\"142,-471 71,-471 71,-441 142,-441 142,-471\"/>\n<text text-anchor=\"middle\" x=\"106.5\" y=\"-459\" font-family=\"monospace\" font-size=\"10.00\" fill=\"#000000\">fc.2.bias</text>\n<text text-anchor=\"middle\" x=\"106.5\" y=\"-448\" font-family=\"monospace\" font-size=\"10.00\" fill=\"#000000\"> (128)</text>\n</g>\n<!-- 140512829512784&#45;&gt;140512818217936 -->\n<g id=\"edge10\" class=\"edge\">\n<title>140512829512784&#45;&gt;140512818217936</title>\n<path fill=\"none\" stroke=\"#000000\" d=\"M106.5,-440.6924C106.5,-431.5067 106.5,-419.7245 106.5,-409.8312\"/>\n<polygon fill=\"#000000\" stroke=\"#000000\" points=\"110.0001,-409.703 106.5,-399.7031 103.0001,-409.7031 110.0001,-409.703\"/>\n</g>\n<!-- 140512834821456 -->\n<g id=\"node13\" class=\"node\">\n<title>140512834821456</title>\n<polygon fill=\"#d3d3d3\" stroke=\"#000000\" points=\"300,-399.5 175,-399.5 175,-380.5 300,-380.5 300,-399.5\"/>\n<text text-anchor=\"middle\" x=\"237.5\" y=\"-387.5\" font-family=\"monospace\" font-size=\"10.00\" fill=\"#000000\">LeakyReluBackward0</text>\n</g>\n<!-- 140512834821456&#45;&gt;140512834818704 -->\n<g id=\"edge11\" class=\"edge\">\n<title>140512834821456&#45;&gt;140512834818704</title>\n<path fill=\"none\" stroke=\"#000000\" d=\"M243.6972,-380.2615C250.0251,-370.3178 260.0013,-354.6408 267.8175,-342.3582\"/>\n<polygon fill=\"#000000\" stroke=\"#000000\" points=\"270.8613,-344.0942 273.2773,-333.7785 264.9557,-340.336 270.8613,-344.0942\"/>\n</g>\n<!-- 140512814842704 -->\n<g id=\"node14\" class=\"node\">\n<title>140512814842704</title>\n<polygon fill=\"#d3d3d3\" stroke=\"#000000\" points=\"274,-465.5 173,-465.5 173,-446.5 274,-446.5 274,-465.5\"/>\n<text text-anchor=\"middle\" x=\"223.5\" y=\"-453.5\" font-family=\"monospace\" font-size=\"10.00\" fill=\"#000000\">AddmmBackward0</text>\n</g>\n<!-- 140512814842704&#45;&gt;140512834821456 -->\n<g id=\"edge12\" class=\"edge\">\n<title>140512814842704&#45;&gt;140512834821456</title>\n<path fill=\"none\" stroke=\"#000000\" d=\"M225.5657,-446.2615C227.5923,-436.7077 230.7415,-421.8615 233.2961,-409.8183\"/>\n<polygon fill=\"#000000\" stroke=\"#000000\" points=\"236.7745,-410.2871 235.4258,-399.7785 229.9268,-408.8345 236.7745,-410.2871\"/>\n</g>\n<!-- 140512834291600 -->\n<g id=\"node15\" class=\"node\">\n<title>140512834291600</title>\n<polygon fill=\"#d3d3d3\" stroke=\"#000000\" points=\"101,-531.5 0,-531.5 0,-512.5 101,-512.5 101,-531.5\"/>\n<text text-anchor=\"middle\" x=\"50.5\" y=\"-519.5\" font-family=\"monospace\" font-size=\"10.00\" fill=\"#000000\">AccumulateGrad</text>\n</g>\n<!-- 140512834291600&#45;&gt;140512814842704 -->\n<g id=\"edge13\" class=\"edge\">\n<title>140512834291600&#45;&gt;140512814842704</title>\n<path fill=\"none\" stroke=\"#000000\" d=\"M75.6557,-512.403C105.5937,-500.9816 155.7305,-481.8543 189.2043,-469.0839\"/>\n<polygon fill=\"#000000\" stroke=\"#000000\" points=\"190.499,-472.3361 198.5946,-465.5015 188.0039,-465.7959 190.499,-472.3361\"/>\n</g>\n<!-- 140512829509808 -->\n<g id=\"node16\" class=\"node\">\n<title>140512829509808</title>\n<polygon fill=\"#add8e6\" stroke=\"#000000\" points=\"86,-603 15,-603 15,-573 86,-573 86,-603\"/>\n<text text-anchor=\"middle\" x=\"50.5\" y=\"-591\" font-family=\"monospace\" font-size=\"10.00\" fill=\"#000000\">fc.1.bias</text>\n<text text-anchor=\"middle\" x=\"50.5\" y=\"-580\" font-family=\"monospace\" font-size=\"10.00\" fill=\"#000000\"> (256)</text>\n</g>\n<!-- 140512829509808&#45;&gt;140512834291600 -->\n<g id=\"edge14\" class=\"edge\">\n<title>140512829509808&#45;&gt;140512834291600</title>\n<path fill=\"none\" stroke=\"#000000\" d=\"M50.5,-572.6924C50.5,-563.5067 50.5,-551.7245 50.5,-541.8312\"/>\n<polygon fill=\"#000000\" stroke=\"#000000\" points=\"54.0001,-541.703 50.5,-531.7031 47.0001,-541.7031 54.0001,-541.703\"/>\n</g>\n<!-- 140512814845200 -->\n<g id=\"node17\" class=\"node\">\n<title>140512814845200</title>\n<polygon fill=\"#d3d3d3\" stroke=\"#000000\" points=\"244,-531.5 119,-531.5 119,-512.5 244,-512.5 244,-531.5\"/>\n<text text-anchor=\"middle\" x=\"181.5\" y=\"-519.5\" font-family=\"monospace\" font-size=\"10.00\" fill=\"#000000\">LeakyReluBackward0</text>\n</g>\n<!-- 140512814845200&#45;&gt;140512814842704 -->\n<g id=\"edge15\" class=\"edge\">\n<title>140512814845200&#45;&gt;140512814842704</title>\n<path fill=\"none\" stroke=\"#000000\" d=\"M187.6972,-512.2615C194.0251,-502.3178 204.0013,-486.6408 211.8175,-474.3582\"/>\n<polygon fill=\"#000000\" stroke=\"#000000\" points=\"214.8613,-476.0942 217.2773,-465.7785 208.9557,-472.336 214.8613,-476.0942\"/>\n</g>\n<!-- 140512814842064 -->\n<g id=\"node18\" class=\"node\">\n<title>140512814842064</title>\n<polygon fill=\"#d3d3d3\" stroke=\"#000000\" points=\"232,-597.5 131,-597.5 131,-578.5 232,-578.5 232,-597.5\"/>\n<text text-anchor=\"middle\" x=\"181.5\" y=\"-585.5\" font-family=\"monospace\" font-size=\"10.00\" fill=\"#000000\">AddmmBackward0</text>\n</g>\n<!-- 140512814842064&#45;&gt;140512814845200 -->\n<g id=\"edge16\" class=\"edge\">\n<title>140512814842064&#45;&gt;140512814845200</title>\n<path fill=\"none\" stroke=\"#000000\" d=\"M181.5,-578.2615C181.5,-568.7077 181.5,-553.8615 181.5,-541.8183\"/>\n<polygon fill=\"#000000\" stroke=\"#000000\" points=\"185.0001,-541.7784 181.5,-531.7785 178.0001,-541.7785 185.0001,-541.7784\"/>\n</g>\n<!-- 140517805531024 -->\n<g id=\"node19\" class=\"node\">\n<title>140517805531024</title>\n<polygon fill=\"#d3d3d3\" stroke=\"#000000\" points=\"135,-663.5 34,-663.5 34,-644.5 135,-644.5 135,-663.5\"/>\n<text text-anchor=\"middle\" x=\"84.5\" y=\"-651.5\" font-family=\"monospace\" font-size=\"10.00\" fill=\"#000000\">AccumulateGrad</text>\n</g>\n<!-- 140517805531024&#45;&gt;140512814842064 -->\n<g id=\"edge17\" class=\"edge\">\n<title>140517805531024&#45;&gt;140512814842064</title>\n<path fill=\"none\" stroke=\"#000000\" d=\"M98.8127,-644.2615C114.6637,-633.4762 140.4274,-615.9463 158.9868,-603.3183\"/>\n<polygon fill=\"#000000\" stroke=\"#000000\" points=\"161.1452,-606.0831 167.444,-597.5639 157.2074,-600.2957 161.1452,-606.0831\"/>\n</g>\n<!-- 140512834625712 -->\n<g id=\"node20\" class=\"node\">\n<title>140512834625712</title>\n<polygon fill=\"#add8e6\" stroke=\"#000000\" points=\"120,-735 49,-735 49,-705 120,-705 120,-735\"/>\n<text text-anchor=\"middle\" x=\"84.5\" y=\"-723\" font-family=\"monospace\" font-size=\"10.00\" fill=\"#000000\">fc.0.bias</text>\n<text text-anchor=\"middle\" x=\"84.5\" y=\"-712\" font-family=\"monospace\" font-size=\"10.00\" fill=\"#000000\"> (512)</text>\n</g>\n<!-- 140512834625712&#45;&gt;140517805531024 -->\n<g id=\"edge18\" class=\"edge\">\n<title>140512834625712&#45;&gt;140517805531024</title>\n<path fill=\"none\" stroke=\"#000000\" d=\"M84.5,-704.6924C84.5,-695.5067 84.5,-683.7245 84.5,-673.8312\"/>\n<polygon fill=\"#000000\" stroke=\"#000000\" points=\"88.0001,-673.703 84.5,-663.7031 81.0001,-673.7031 88.0001,-673.703\"/>\n</g>\n<!-- 140512814844752 -->\n<g id=\"node21\" class=\"node\">\n<title>140512814844752</title>\n<polygon fill=\"#d3d3d3\" stroke=\"#000000\" points=\"230,-663.5 153,-663.5 153,-644.5 230,-644.5 230,-663.5\"/>\n<text text-anchor=\"middle\" x=\"191.5\" y=\"-651.5\" font-family=\"monospace\" font-size=\"10.00\" fill=\"#000000\">TBackward0</text>\n</g>\n<!-- 140512814844752&#45;&gt;140512814842064 -->\n<g id=\"edge19\" class=\"edge\">\n<title>140512814844752&#45;&gt;140512814842064</title>\n<path fill=\"none\" stroke=\"#000000\" d=\"M190.0245,-644.2615C188.5769,-634.7077 186.3275,-619.8615 184.5028,-607.8183\"/>\n<polygon fill=\"#000000\" stroke=\"#000000\" points=\"187.9402,-607.1413 182.9816,-597.7785 181.0192,-608.19 187.9402,-607.1413\"/>\n</g>\n<!-- 140512817990288 -->\n<g id=\"node22\" class=\"node\">\n<title>140512817990288</title>\n<polygon fill=\"#d3d3d3\" stroke=\"#000000\" points=\"242,-729.5 141,-729.5 141,-710.5 242,-710.5 242,-729.5\"/>\n<text text-anchor=\"middle\" x=\"191.5\" y=\"-717.5\" font-family=\"monospace\" font-size=\"10.00\" fill=\"#000000\">AccumulateGrad</text>\n</g>\n<!-- 140512817990288&#45;&gt;140512814844752 -->\n<g id=\"edge20\" class=\"edge\">\n<title>140512817990288&#45;&gt;140512814844752</title>\n<path fill=\"none\" stroke=\"#000000\" d=\"M191.5,-710.2615C191.5,-700.7077 191.5,-685.8615 191.5,-673.8183\"/>\n<polygon fill=\"#000000\" stroke=\"#000000\" points=\"195.0001,-673.7784 191.5,-663.7785 188.0001,-673.7785 195.0001,-673.7784\"/>\n</g>\n<!-- 140517172561392 -->\n<g id=\"node23\" class=\"node\">\n<title>140517172561392</title>\n<polygon fill=\"#add8e6\" stroke=\"#000000\" points=\"233,-801 150,-801 150,-771 233,-771 233,-801\"/>\n<text text-anchor=\"middle\" x=\"191.5\" y=\"-789\" font-family=\"monospace\" font-size=\"10.00\" fill=\"#000000\">fc.0.weight</text>\n<text text-anchor=\"middle\" x=\"191.5\" y=\"-778\" font-family=\"monospace\" font-size=\"10.00\" fill=\"#000000\"> (512, 784)</text>\n</g>\n<!-- 140517172561392&#45;&gt;140512817990288 -->\n<g id=\"edge21\" class=\"edge\">\n<title>140517172561392&#45;&gt;140512817990288</title>\n<path fill=\"none\" stroke=\"#000000\" d=\"M191.5,-770.6924C191.5,-761.5067 191.5,-749.7245 191.5,-739.8312\"/>\n<polygon fill=\"#000000\" stroke=\"#000000\" points=\"195.0001,-739.703 191.5,-729.7031 188.0001,-739.7031 195.0001,-739.703\"/>\n</g>\n<!-- 140512814843088 -->\n<g id=\"node24\" class=\"node\">\n<title>140512814843088</title>\n<polygon fill=\"#d3d3d3\" stroke=\"#000000\" points=\"339,-531.5 262,-531.5 262,-512.5 339,-512.5 339,-531.5\"/>\n<text text-anchor=\"middle\" x=\"300.5\" y=\"-519.5\" font-family=\"monospace\" font-size=\"10.00\" fill=\"#000000\">TBackward0</text>\n</g>\n<!-- 140512814843088&#45;&gt;140512814842704 -->\n<g id=\"edge22\" class=\"edge\">\n<title>140512814843088&#45;&gt;140512814842704</title>\n<path fill=\"none\" stroke=\"#000000\" d=\"M289.1384,-512.2615C276.8988,-501.7704 257.2137,-484.8974 242.5892,-472.3622\"/>\n<polygon fill=\"#000000\" stroke=\"#000000\" points=\"244.5283,-469.4144 234.6579,-465.5639 239.9727,-474.7293 244.5283,-469.4144\"/>\n</g>\n<!-- 140512866799376 -->\n<g id=\"node25\" class=\"node\">\n<title>140512866799376</title>\n<polygon fill=\"#d3d3d3\" stroke=\"#000000\" points=\"351,-597.5 250,-597.5 250,-578.5 351,-578.5 351,-597.5\"/>\n<text text-anchor=\"middle\" x=\"300.5\" y=\"-585.5\" font-family=\"monospace\" font-size=\"10.00\" fill=\"#000000\">AccumulateGrad</text>\n</g>\n<!-- 140512866799376&#45;&gt;140512814843088 -->\n<g id=\"edge23\" class=\"edge\">\n<title>140512866799376&#45;&gt;140512814843088</title>\n<path fill=\"none\" stroke=\"#000000\" d=\"M300.5,-578.2615C300.5,-568.7077 300.5,-553.8615 300.5,-541.8183\"/>\n<polygon fill=\"#000000\" stroke=\"#000000\" points=\"304.0001,-541.7784 300.5,-531.7785 297.0001,-541.7785 304.0001,-541.7784\"/>\n</g>\n<!-- 140512834626192 -->\n<g id=\"node26\" class=\"node\">\n<title>140512834626192</title>\n<polygon fill=\"#add8e6\" stroke=\"#000000\" points=\"342,-669 259,-669 259,-639 342,-639 342,-669\"/>\n<text text-anchor=\"middle\" x=\"300.5\" y=\"-657\" font-family=\"monospace\" font-size=\"10.00\" fill=\"#000000\">fc.1.weight</text>\n<text text-anchor=\"middle\" x=\"300.5\" y=\"-646\" font-family=\"monospace\" font-size=\"10.00\" fill=\"#000000\"> (256, 512)</text>\n</g>\n<!-- 140512834626192&#45;&gt;140512866799376 -->\n<g id=\"edge24\" class=\"edge\">\n<title>140512834626192&#45;&gt;140512866799376</title>\n<path fill=\"none\" stroke=\"#000000\" d=\"M300.5,-638.6924C300.5,-629.5067 300.5,-617.7245 300.5,-607.8312\"/>\n<polygon fill=\"#000000\" stroke=\"#000000\" points=\"304.0001,-607.703 300.5,-597.7031 297.0001,-607.7031 304.0001,-607.703\"/>\n</g>\n<!-- 140512834819984 -->\n<g id=\"node27\" class=\"node\">\n<title>140512834819984</title>\n<polygon fill=\"#d3d3d3\" stroke=\"#000000\" points=\"395,-399.5 318,-399.5 318,-380.5 395,-380.5 395,-399.5\"/>\n<text text-anchor=\"middle\" x=\"356.5\" y=\"-387.5\" font-family=\"monospace\" font-size=\"10.00\" fill=\"#000000\">TBackward0</text>\n</g>\n<!-- 140512834819984&#45;&gt;140512834818704 -->\n<g id=\"edge25\" class=\"edge\">\n<title>140512834819984&#45;&gt;140512834818704</title>\n<path fill=\"none\" stroke=\"#000000\" d=\"M345.1384,-380.2615C332.8988,-369.7704 313.2137,-352.8974 298.5892,-340.3622\"/>\n<polygon fill=\"#000000\" stroke=\"#000000\" points=\"300.5283,-337.4144 290.6579,-333.5639 295.9727,-342.7293 300.5283,-337.4144\"/>\n</g>\n<!-- 140512834292432 -->\n<g id=\"node28\" class=\"node\">\n<title>140512834292432</title>\n<polygon fill=\"#d3d3d3\" stroke=\"#000000\" points=\"428,-465.5 327,-465.5 327,-446.5 428,-446.5 428,-465.5\"/>\n<text text-anchor=\"middle\" x=\"377.5\" y=\"-453.5\" font-family=\"monospace\" font-size=\"10.00\" fill=\"#000000\">AccumulateGrad</text>\n</g>\n<!-- 140512834292432&#45;&gt;140512834819984 -->\n<g id=\"edge26\" class=\"edge\">\n<title>140512834292432&#45;&gt;140512834819984</title>\n<path fill=\"none\" stroke=\"#000000\" d=\"M374.4014,-446.2615C371.3305,-436.6102 366.5412,-421.558 362.6888,-409.4506\"/>\n<polygon fill=\"#000000\" stroke=\"#000000\" points=\"365.9787,-408.2465 359.6113,-399.7785 359.3082,-410.369 365.9787,-408.2465\"/>\n</g>\n<!-- 140512829512976 -->\n<g id=\"node29\" class=\"node\">\n<title>140512829512976</title>\n<polygon fill=\"#add8e6\" stroke=\"#000000\" points=\"440,-537 357,-537 357,-507 440,-507 440,-537\"/>\n<text text-anchor=\"middle\" x=\"398.5\" y=\"-525\" font-family=\"monospace\" font-size=\"10.00\" fill=\"#000000\">fc.2.weight</text>\n<text text-anchor=\"middle\" x=\"398.5\" y=\"-514\" font-family=\"monospace\" font-size=\"10.00\" fill=\"#000000\"> (128, 256)</text>\n</g>\n<!-- 140512829512976&#45;&gt;140512834292432 -->\n<g id=\"edge27\" class=\"edge\">\n<title>140512829512976&#45;&gt;140512834292432</title>\n<path fill=\"none\" stroke=\"#000000\" d=\"M393.6294,-506.6924C390.6753,-497.408 386.8771,-485.4708 383.7086,-475.5127\"/>\n<polygon fill=\"#000000\" stroke=\"#000000\" points=\"386.9547,-474.1711 380.5873,-465.7031 380.2842,-476.2936 386.9547,-474.1711\"/>\n</g>\n<!-- 140512834820432 -->\n<g id=\"node30\" class=\"node\">\n<title>140512834820432</title>\n<polygon fill=\"#d3d3d3\" stroke=\"#000000\" points=\"451,-267.5 374,-267.5 374,-248.5 451,-248.5 451,-267.5\"/>\n<text text-anchor=\"middle\" x=\"412.5\" y=\"-255.5\" font-family=\"monospace\" font-size=\"10.00\" fill=\"#000000\">TBackward0</text>\n</g>\n<!-- 140512834820432&#45;&gt;140512818650640 -->\n<g id=\"edge28\" class=\"edge\">\n<title>140512834820432&#45;&gt;140512818650640</title>\n<path fill=\"none\" stroke=\"#000000\" d=\"M398.0398,-248.2615C382.0253,-237.4762 355.996,-219.9463 337.2453,-207.3183\"/>\n<polygon fill=\"#000000\" stroke=\"#000000\" points=\"338.9504,-204.2469 328.7009,-201.5639 335.0402,-210.053 338.9504,-204.2469\"/>\n</g>\n<!-- 140512866797200 -->\n<g id=\"node31\" class=\"node\">\n<title>140512866797200</title>\n<polygon fill=\"#d3d3d3\" stroke=\"#000000\" points=\"484,-333.5 383,-333.5 383,-314.5 484,-314.5 484,-333.5\"/>\n<text text-anchor=\"middle\" x=\"433.5\" y=\"-321.5\" font-family=\"monospace\" font-size=\"10.00\" fill=\"#000000\">AccumulateGrad</text>\n</g>\n<!-- 140512866797200&#45;&gt;140512834820432 -->\n<g id=\"edge29\" class=\"edge\">\n<title>140512866797200&#45;&gt;140512834820432</title>\n<path fill=\"none\" stroke=\"#000000\" d=\"M430.4014,-314.2615C427.3305,-304.6102 422.5412,-289.558 418.6888,-277.4506\"/>\n<polygon fill=\"#000000\" stroke=\"#000000\" points=\"421.9787,-276.2465 415.6113,-267.7785 415.3082,-278.369 421.9787,-276.2465\"/>\n</g>\n<!-- 140512829512592 -->\n<g id=\"node32\" class=\"node\">\n<title>140512829512592</title>\n<polygon fill=\"#add8e6\" stroke=\"#000000\" points=\"496,-405 413,-405 413,-375 496,-375 496,-405\"/>\n<text text-anchor=\"middle\" x=\"454.5\" y=\"-393\" font-family=\"monospace\" font-size=\"10.00\" fill=\"#000000\">fc.3.weight</text>\n<text text-anchor=\"middle\" x=\"454.5\" y=\"-382\" font-family=\"monospace\" font-size=\"10.00\" fill=\"#000000\"> (64, 128)</text>\n</g>\n<!-- 140512829512592&#45;&gt;140512866797200 -->\n<g id=\"edge30\" class=\"edge\">\n<title>140512829512592&#45;&gt;140512866797200</title>\n<path fill=\"none\" stroke=\"#000000\" d=\"M449.6294,-374.6924C446.6753,-365.408 442.8771,-353.4708 439.7086,-343.5127\"/>\n<polygon fill=\"#000000\" stroke=\"#000000\" points=\"442.9547,-342.1711 436.5873,-333.7031 436.2842,-344.2936 442.9547,-342.1711\"/>\n</g>\n<!-- 140512818648272 -->\n<g id=\"node33\" class=\"node\">\n<title>140512818648272</title>\n<polygon fill=\"#d3d3d3\" stroke=\"#000000\" points=\"528,-141 451,-141 451,-122 528,-122 528,-141\"/>\n<text text-anchor=\"middle\" x=\"489.5\" y=\"-129\" font-family=\"monospace\" font-size=\"10.00\" fill=\"#000000\">TBackward0</text>\n</g>\n<!-- 140512818648272&#45;&gt;140512817987664 -->\n<g id=\"edge31\" class=\"edge\">\n<title>140512818648272&#45;&gt;140512817987664</title>\n<path fill=\"none\" stroke=\"#000000\" d=\"M461.4559,-121.9197C435.1027,-112.9171 395.4648,-99.3762 366.3233,-89.421\"/>\n<polygon fill=\"#000000\" stroke=\"#000000\" points=\"367.0869,-85.9833 356.4923,-86.0626 364.8239,-92.6075 367.0869,-85.9833\"/>\n</g>\n<!-- 140512866754256 -->\n<g id=\"node34\" class=\"node\">\n<title>140512866754256</title>\n<polygon fill=\"#d3d3d3\" stroke=\"#000000\" points=\"550,-201.5 449,-201.5 449,-182.5 550,-182.5 550,-201.5\"/>\n<text text-anchor=\"middle\" x=\"499.5\" y=\"-189.5\" font-family=\"monospace\" font-size=\"10.00\" fill=\"#000000\">AccumulateGrad</text>\n</g>\n<!-- 140512866754256&#45;&gt;140512818648272 -->\n<g id=\"edge32\" class=\"edge\">\n<title>140512866754256&#45;&gt;140512818648272</title>\n<path fill=\"none\" stroke=\"#000000\" d=\"M497.8933,-182.2796C496.5165,-173.9499 494.4898,-161.688 492.7728,-151.3004\"/>\n<polygon fill=\"#000000\" stroke=\"#000000\" points=\"496.2199,-150.6926 491.1359,-141.3972 489.3136,-151.8342 496.2199,-150.6926\"/>\n</g>\n<!-- 140512829513168 -->\n<g id=\"node35\" class=\"node\">\n<title>140512829513168</title>\n<polygon fill=\"#add8e6\" stroke=\"#000000\" points=\"552,-273 469,-273 469,-243 552,-243 552,-273\"/>\n<text text-anchor=\"middle\" x=\"510.5\" y=\"-261\" font-family=\"monospace\" font-size=\"10.00\" fill=\"#000000\">fc.4.weight</text>\n<text text-anchor=\"middle\" x=\"510.5\" y=\"-250\" font-family=\"monospace\" font-size=\"10.00\" fill=\"#000000\"> (10, 64)</text>\n</g>\n<!-- 140512829513168&#45;&gt;140512866754256 -->\n<g id=\"edge33\" class=\"edge\">\n<title>140512829513168&#45;&gt;140512866754256</title>\n<path fill=\"none\" stroke=\"#000000\" d=\"M507.9487,-242.6924C506.4178,-233.5067 504.4541,-221.7245 502.8052,-211.8312\"/>\n<polygon fill=\"#000000\" stroke=\"#000000\" points=\"506.2136,-210.9916 501.1172,-201.7031 499.3089,-212.1424 506.2136,-210.9916\"/>\n</g>\n</g>\n</svg>\n"
          },
          "metadata": {},
          "execution_count": 20
        }
      ]
    },
    {
      "cell_type": "markdown",
      "metadata": {
        "id": "xAINGxl0OF1o"
      },
      "source": [
        "### <img src=\"https://img.icons8.com/color/48/000000/code.png\" style=\"height:50px;display:inline\"> Task 3 - Design a CNN\n",
        "---\n",
        "In this task you are going to design a deep convolutional neural network to classify house number digits from the **The Street View House Numbers (SVHN)** Dataset. \n",
        "\n",
        "SVHN is a real-world image dataset for developing machine learning and object recognition algorithms with minimal requirement on data preprocessing and formatting. It can be seen as similar in flavor to MNIST (e.g., the images are of small cropped digits), but incorporates an order of magnitude more labeled data (over 600,000 digit images) and comes from a significantly harder, unsolved, real world problem (recognizing digits and numbers in natural scene images). SVHN is obtained from house numbers in Google Street View images.\n",
        "\n",
        "* 10 classes, 1 for each digit. Digit '0' has label 0, '1' has label 1,...\n",
        "* 73257 digits for training, 26032 digits for testing, and 531131 additional, somewhat less difficult samples, to use as extra training data.\n",
        "\n",
        "<img src=\"http://ufldl.stanford.edu/housenumbers/32x32eg.png\" style=\"height:250px\">\n",
        "\n",
        "1. Load the SVHN dataset with PyTorch using `torchvision.datasets.SVHN(root, split='train', transform=None, target_transform=None, download=True)`, you can read more here: https://pytorch.org/docs/stable/torchvision/datasets.html#svhn. Display 5 images from the train set.\n",
        "2. Design a Convolutional Neural Network (CNN) to classify digits from the images.\n",
        "    * Describe the chosen architecture, how many layers? What activations did you choose? What are the filter sizes? Did you use fully-connected layers (if you did, explain their sizes)?\n",
        "    * What is the input dimension? What is the output dimension?\n",
        "    * Calculate the number of parameters (weights) in the network. **Print** this number.\n",
        "3. Train the classifier (preferably on a GPU - use Colab for this part if you don't have a GPU).\n",
        "    * Describe the the hyper-parameters of the model (batch size, epochs, learning rate....). How did you tune your model? Did you use a validation set to tune the model?\n",
        "    * What is the final accuracy on the test set? **Print** it.\n",
        "        * You need to reach at least 86% accuracy in this section, and 90% for a full grade.\n",
        "    * **Plot** the loss curves (and any other statistic you want) as a function of epochs/iterations.\n",
        "4. For the trained classifier, what is the accuracy on the test set when each test image is added a small noise $a=(0.05, 0.01, 0.005)$: $$ \\text{image} + a \\times \\mathcal{N}(0, 1) $$. **Print** the result for each value of $a$.\n",
        "5. Retrain the classifier, but this time use data augementation of your choosing. Briefly explain what augmentation you chose and how it works. Did the test accuracy improve? **Print** the result.\n",
        "    * You can use transformations available in `torchvision.transforms` as shown in the tutorial.\n",
        "    * You are welcome to use <a href=\"https://kornia.github.io/\">`kornia`</a> for the augmentations.\n",
        "    * **Plot** the loss curves (and any other statistic you want) as a function of epochs/iterations."
      ]
    },
    {
      "cell_type": "code",
      "execution_count": null,
      "metadata": {
        "id": "yAFN-QAXOF1o"
      },
      "outputs": [],
      "source": [
        "\"\"\"\n",
        "Your Code Here\n",
        "\"\"\""
      ]
    },
    {
      "cell_type": "markdown",
      "metadata": {
        "id": "CyAGHBuqOF1o"
      },
      "source": [
        "## <img src=\"https://img.icons8.com/dusk/64/000000/prize.png\" style=\"height:50px;display:inline\"> Credits\n",
        "---\n",
        "* Icons made by <a href=\"https://www.flaticon.com/authors/becris\" title=\"Becris\">Becris</a> from <a href=\"https://www.flaticon.com/\" title=\"Flaticon\">www.flaticon.com</a>\n",
        "* Icons from <a href=\"https://icons8.com/\">Icons8.com</a> - https://icons8.com\n",
        "* Datasets from <a href=\"https://www.kaggle.com/\">Kaggle</a> - https://www.kaggle.com/"
      ]
    }
  ],
  "metadata": {
    "kernelspec": {
      "display_name": "Python 3",
      "language": "python",
      "name": "python3"
    },
    "language_info": {
      "codemirror_mode": {
        "name": "ipython",
        "version": 3
      },
      "file_extension": ".py",
      "mimetype": "text/x-python",
      "name": "python",
      "nbconvert_exporter": "python",
      "pygments_lexer": "ipython3",
      "version": "3.6.13"
    },
    "colab": {
      "name": "ee046211_hw2_034462796_204034953.ipynb",
      "provenance": [],
      "collapsed_sections": []
    },
    "accelerator": "GPU"
  },
  "nbformat": 4,
  "nbformat_minor": 0
}