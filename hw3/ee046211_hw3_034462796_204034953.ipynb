{
  "cells": [
    {
      "cell_type": "markdown",
      "metadata": {
        "id": "dzV9wsJ5pGhf"
      },
      "source": [
        "# <img src=\"https://img.icons8.com/bubbles/50/000000/mind-map.png\" style=\"height:50px;display:inline\"> EE 046211 - Technion - Deep Learning\n",
        "---\n",
        "\n",
        "## HW3 - Sequential Tasks and Training Methods\n",
        "---"
      ]
    },
    {
      "cell_type": "markdown",
      "metadata": {
        "id": "bq2c8X93pGhh"
      },
      "source": [
        "### <img src=\"https://img.icons8.com/clouds/96/000000/keyboard.png\" style=\"height:50px;display:inline\"> Keyboard Shortcuts\n",
        "---\n",
        "* Run current cell: **Ctrl + Enter**\n",
        "* Run current cell and move to the next: **Shift + Enter**\n",
        "* Show lines in a code cell: **Esc + L**\n",
        "* View function documentation: **Shift + Tab** inside the parenthesis or `help(name_of_module)`\n",
        "* New cell below: **Esc + B**\n",
        "* Delete cell: **Esc + D, D** (two D's)"
      ]
    },
    {
      "cell_type": "markdown",
      "metadata": {
        "id": "vZZybn3NpGhh"
      },
      "source": [
        "### <img src=\"https://img.icons8.com/bubbles/50/000000/information.png\" style=\"height:50px;display:inline\"> Students Information\n",
        "---\n",
        "* Fill in\n",
        "\n",
        "|Name         |Campus Email                     | ID       |\n",
        "|-------------|---------------------------------|----------|\n",
        "|Lior Friedman| liorf@campus.technion.ac.il     | 204034953|\n",
        "|Yair Nahum   | nahum.yair@campus.technion.ac.il| 034462796|\n"
      ]
    },
    {
      "cell_type": "markdown",
      "metadata": {
        "id": "dDK5zqhdpGhi"
      },
      "source": [
        "### <img src=\"https://img.icons8.com/bubbles/50/000000/upload-to-cloud.png\" style=\"height:50px;display:inline\"> Submission Guidelines\n",
        "---\n",
        "* Maximal garde: 100.\n",
        "* Submission only in **pairs**. \n",
        "    * Please make sure you have registered your group in Moodle (there is a group creation component on the Moodle where you need to create your group and assign members).\n",
        "* **No handwritten submissions.** You can choose whether to answer in a Markdown cell in this notebook or attach a PDF with your answers.\n",
        "* <a style='color:red'> SAVE THE NOTEBOOKS WITH THE OUTPUT, CODE CELLS THAT WERE NOT RUN WILL NOT GET ANY POINTS! </a>\n",
        "* What you have to submit:\n",
        "    * If you have answered the questions in the notebook, you should submit this file only, with the name: `ee046211_hw3_id1_id2.ipynb`.\n",
        "    * If you answered the questionss in a different file you should submit a `.zip` file with the name `ee046211_hw3_id1_id2.zip` with content:\n",
        "        * `ee046211_hw3_id1_id2.ipynb` - the code tasks\n",
        "        * `ee046211_hw3_id1_id2.pdf` - answers to questions.\n",
        "    * No other file-types (`.py`, `.docx`...) will be accepted.\n",
        "* Submission on the course website (Moodle).\n",
        "* **Latex in Colab** - in some cases, Latex equations may no be rendered. To avoid this, make sure to not use *bullets* in your answers (\"* some text here with Latex equations\" -> \"some text here with Latex equations\")."
      ]
    },
    {
      "cell_type": "markdown",
      "metadata": {
        "id": "pmSj_UufpGhi"
      },
      "source": [
        "### <img src=\"https://img.icons8.com/dusk/64/000000/online.png\" style=\"height:50px;display:inline\"> Working Online and Locally\n",
        "---\n",
        "* You can choose your working environment:\n",
        "    1. `Jupyter Notebook`, **locally** with <a href=\"https://www.anaconda.com/distribution/\">Anaconda</a> or **online** on <a href=\"https://colab.research.google.com/\">Google Colab</a>\n",
        "        * Colab also supports running code on GPU, so if you don't have one, Colab is the way to go. To enable GPU on Colab, in the menu: `Runtime`$\\rightarrow$ `Change Runtime Type` $\\rightarrow$`GPU`.\n",
        "    2. Python IDE such as <a href=\"https://www.jetbrains.com/pycharm/\">PyCharm</a> or <a href=\"https://code.visualstudio.com/\">Visual Studio Code</a>.\n",
        "        * Both allow editing and running Jupyter Notebooks.\n",
        "\n",
        "* Please refer to `Setting Up the Working Environment.pdf` on the Moodle or our GitHub (https://github.com/taldatech/ee046211-deep-learning) to help you get everything installed.\n",
        "* If you need any technical assistance, please go to our Piazza forum (`hw3` folder) and describe your problem (preferably with images)."
      ]
    },
    {
      "cell_type": "markdown",
      "metadata": {
        "id": "nlp1Fp4ppGhj"
      },
      "source": [
        "### <img src=\"https://img.icons8.com/bubbles/50/000000/checklist.png\" style=\"height:50px;display:inline\"> Agenda\n",
        "---\n",
        "\n",
        "* [Part 1 - Theory](#-Part-1---Theory)\n",
        "    * [Q1 - Deep NLP Case Study](#-Question-1--Deep-NLP-Case-Study)\n",
        "    * [Q2 -Layer Normalization](#-Question-2--Layer-Normalization)\n",
        "    * [Q3 - Batch Normalization](#-Question-3--Batch-Normalization)\n",
        "* [Part 2 - Code Assignments - Sequence-to-Sequence with Transformers](#-Part-2---Code-Assignments)\n",
        "    * [Task 1 - Task 1 - Loading and Observing the Data](#-Task-1----Loading-and-Observing-the-Data)\n",
        "    * [Task 2 - Preparing the Data - Separating to Inputs and Targets](#-Task-2----Preparing-the--Data---Separating-to-Inputs-and-Targets)\n",
        "    * [Task 3 - Define Hyperparameters and Initialize the Model](#-Task-3----Define-Hyperparameters-and-Initialize-the-Model)\n",
        "    * [Task 4 - Train and Evaluate the Language Model](#-Task-4----Train-and-Evaluate-the-Language-Model)\n",
        "    * [Task 5 - Generate Sentences](#-Task-5----Generate-Sentences)\n",
        "* [Credits](#-Credits)"
      ]
    },
    {
      "cell_type": "markdown",
      "metadata": {
        "id": "XKtSiQX_pGhj"
      },
      "source": [
        "### <img src=\"https://img.icons8.com/cute-clipart/64/000000/ball-point-pen.png\" style=\"height:50px;display:inline\"> Part 1 - Theory\n",
        "---\n",
        "* You can choose whether to answser these straight in the notebook (Markdown + Latex) or use another editor (Word, LyX, Latex, Overleaf...) and submit an additional PDF file, **but no handwritten submissions**.\n",
        "* You can attach additional figures (drawings, graphs,...) in a separate PDF file, just make sure to refer to them in your answers.\n",
        "\n",
        "* $\\large\\LaTeX$ <a href=\"https://kapeli.com/cheat_sheets/LaTeX_Math_Symbols.docset/Contents/Resources/Documents/index\">Cheat-Sheet</a> (to write equations)\n",
        "    * <a href=\"http://tug.ctan.org/info/latex-refsheet/LaTeX_RefSheet.pdf\">Another Cheat-Sheet</a>"
      ]
    },
    {
      "cell_type": "markdown",
      "metadata": {
        "id": "RsqSFZG1pGhj"
      },
      "source": [
        "## <img src=\"https://img.icons8.com/clouds/100/000000/question-mark.png\" style=\"height:50px;display:inline\"> Question 1 -Deep NLP Case Study\n",
        "---\n",
        "* You are consulting for a healthcare company. They provide you with clinical notes of the first encounter that each patient had with their doctor regarding a particular medical episode.\n",
        "* There are a total of 12 million patients and clinical notes. At the time that each clinical note was written, the underlying illnesses associated with the medical episode were unknown to the doctor. \n",
        "* The company provides you with the true set of illnesses associated with each medical episode and asks you to build a model that can infer these underlying illnesses using only the current clinical note and all previous clinical notes belonging to the patient.\n",
        "* The set of notes provided to you span 10 years; each patient therefore can have multiple clinical notes (medical episodes) in that period.\n",
        "* You also have a vector representation of each patient note (note-vector) which was built using a summation of the word vectors of the note.\n",
        "\n",
        "\n",
        "1. You assume that a patient’s past medical history is informative of their current illness. As such, you apply a recurrent neural network to predict the current illness based on the patient’s current and previous note-vectors. Explain why a recurrent neural network would yield better results than a feed-forward network in which your input is the summation of past and current note-vectors?\n",
        "\n",
        "2. A patient may have any number of illnesses from a list of 70,000 known medical illnesses. The output of your recurrent neural network will therefore be a vector with 70,000 elements. Each element in this output vector represents the probability that the patient has the illness that maps to that particular element. Illnesses are not mutually exclusive i.e. having one illness does not preclude you from having any other illnesses. Given this insight, is it better to have a sigmoid non-linearity or a softmax non-linearity as your output unit? Why?\n",
        "\n",
        "3. You try to figure out a better way to reduce the training and testing time of your model. You perform a run time analysis and observe that the computational bottleneck is in your output unit: the number of target illnesses is too high. Each illness in the list of 70,000 illnesses belongs to one of 300 classes (e.g. a migraine belongs to the neurological disorder class). He shares with you a dictionary which maps each illness to its corresponding class. How can you use this information to reduce the **time** complexity of your model?"
      ]
    },
    {
      "cell_type": "markdown",
      "metadata": {
        "id": "mHrAd9Qcpt6Z"
      },
      "source": [
        "## <img src=\"https://img.icons8.com/fluency/48/000000/exclamation-mark.png\" style=\"height:50px;display:inline\">  Answer 1 - Deep NLP Case Study\n",
        "---\n",
        "\n",
        "1. The RNN structure allows us to preserve and learn the time relations between tokens/events (as in RL actions and rewards) while summation lose the chronological order between them. In RNNs usually the recent events have more significance compared to old events (BTW, in time sequences tasks like NLP, there are models that even assume Markovian assumption on next word/event probablilty).  \n",
        "2. It is better to use a sigmoid as the probablility to have some illness is independent in other illnesses probabilities. If we use softmax, one probability for some illness influences the other illnesses probability as we normailize all such that the sum of all probabilities equal 1.  \n",
        "   This is a multi-label classification (we can have several outputs independent on other outputs).  \n",
        "3. We use the hidden layer to predict the 300 classes (As we have for each time step the illnesses we can create labels for the classes, compute a loss and train the classes predictor) we do that with some $W_{300xd_h}$ and softmax over the 300 neurons.  \n",
        "   Then, we take the top N (for example=10) classes with the highest probabilities and get the opposite illnesses that might have caused these (the inverse mapping of each class).  \n",
        "   From that we deduce the possible illnesses the patient might have and caculate the outputs of the RNN only on them.  \n",
        "   For example, we get from the 300 classes the highest 10 classes. These classes give about $10 \\times (70,000 / 300 ) = 2330 $ possible illnesses (assuming uniform distribution). On these illnesses we calculate the prediction and backprop only on them in training time.  \n",
        "   Every episode of patient can give different illnesses to backprop on into the RNN."
      ]
    },
    {
      "cell_type": "markdown",
      "metadata": {
        "id": "JChYvPxkpt6c"
      },
      "source": [
        "## <img src=\"https://img.icons8.com/clouds/100/000000/question-mark.png\" style=\"height:50px;display:inline\"> Question 2 -Layer Normalization\n",
        "---\n",
        "\n",
        "1. When does Group Normalization is equivalent to Instance Normalization?\n",
        "2. When does Group Normalization is equivalent to Layer Normalization?\n",
        "3. For the following batch of $N=3$ 2D images with $C=3$ channels each, what is the output of:\n",
        "    * Batch Normalization\n",
        "    * Layer Normalization\n",
        "    * Instance Normalization\n",
        "\n",
        "\n",
        "* Use only the *mean* for the calculation, no need for the std (assume there are no learnable parameters).\n",
        "    \n",
        "$$ n=1: \\begin{bmatrix} 0 & 1 \\\\ 1 & 0 \\end{bmatrix}, \\begin{bmatrix} 1 & 0 \\\\ 0 & 1 \\end{bmatrix}, \\begin{bmatrix} 1 & 1 \\\\ 1 & 1 \\end{bmatrix} $$\n",
        "\n",
        "$$ n=2: \\begin{bmatrix} 0.5 & 0.5 \\\\ 0.5 & 0.5 \\end{bmatrix}, \\begin{bmatrix} 0.5 & 0 \\\\ 0.5 & 0 \\end{bmatrix}, \\begin{bmatrix} 0 & 0.5 \\\\ 0 & 0.5 \\end{bmatrix} $$\n",
        "\n",
        "$$ n=3: \\begin{bmatrix} 1 & 1 \\\\ 1 & 0.5 \\end{bmatrix}, \\begin{bmatrix} 0.5 & 1 \\\\ 0.5 & 1 \\end{bmatrix}, \\begin{bmatrix} 1 & 0.5 \\\\ 1 & 1 \\end{bmatrix} $$"
      ]
    },
    {
      "cell_type": "markdown",
      "metadata": {
        "id": "wqW99Bbdpt6e"
      },
      "source": [
        "## <img src=\"https://img.icons8.com/fluency/48/000000/exclamation-mark.png\" style=\"height:50px;display:inline\">  Answer 2 - Layer Normalization\n",
        "---\n",
        "\n",
        "1. Group normalization is equivalent to instance normalization when the group is only one channel. There is only one input channel and thus we don't compute mean and std between the different channels (per example).  \n",
        "2. Group normalization is equivalent to layer normalization when the group is all the channels. Meaning, we calculate the statistics on all channels (per example).  \n",
        "3.  We denote batch size with $N$, amount of channels  with $C$ and width/height of a channel with $W/H$ recpectively. The \"pixels\" matrix per channel is denoted as $P_c$.\n",
        "* Batch Normalization:  \n",
        "  We calculate the mean $\\mu$ vector with respect to the batch size per channel $\\forall i \\in [1,2..C], \\mu_i = \\frac{1}{NWH}\\sum_{n=1}^N \\sum_{l=1}^W \\sum_{m=1}^H P_i[l][m]$ with size of the amount of channels:  \n",
        "$$ \\mu = \\begin{bmatrix} \\mu_1 \\\\ \\mu_2 \\\\ \\mu_3 \\end{bmatrix} = \\begin{bmatrix} \\frac{7.5}{12} \\\\ \\frac{6}{12} \\\\ \\frac{8.5}{12} \\end{bmatrix} = \\begin{bmatrix} \\frac{5}{8} \\\\ \\frac{1}{2} \\\\ 0.7083 \\end{bmatrix} $$ \n",
        "  We subtract the mean from each channel component (in general should divide also with the std) thus the outputs per example:\n",
        "$$ n=1: \\begin{bmatrix} -\\frac{5}{8} & \\frac{3}{8} \\\\ \\frac{3}{8} & -\\frac{5}{8} \\end{bmatrix}, \\begin{bmatrix} \\frac{1}{2} & -\\frac{1}{2} \\\\ -\\frac{1}{2} & \\frac{1}{2} \\end{bmatrix}, \\begin{bmatrix} 0.2917 & 0.2917 \\\\ 0.2917 & 0.2917 \\end{bmatrix} $$\n",
        "\n",
        "$$ n=2: \\begin{bmatrix} -\\frac{1}{8} & -\\frac{1}{8} \\\\ -\\frac{1}{8} & -\\frac{1}{8} \\end{bmatrix}, \\begin{bmatrix} 0 & -\\frac{1}{2} \\\\ 0 & -\\frac{1}{2} \\end{bmatrix}, \\begin{bmatrix} -0.7083 & -0.2183 \\\\ -0.7083 & -0.2183 \\end{bmatrix} $$\n",
        "\n",
        "$$ n=3: \\begin{bmatrix} \\frac{3}{8} & \\frac{3}{8} \\\\ \\frac{3}{8} & -\\frac{1}{8} \\end{bmatrix}, \\begin{bmatrix} 0 & \\frac{1}{2} \\\\ 0 & \\frac{1}{2} \\end{bmatrix}, \\begin{bmatrix} 0.2917 & -0.2183 \\\\ 0.2917 & 0.2917 \\end{bmatrix} $$\n",
        "* Layer Normalization:  \n",
        "  We calculate the mean $\\mu$ vector with respect to the examples dimensions $\\forall i \\in [1,2..N], \\mu_i = \\frac{1}{CWH}\\sum_{c=1}^C \\sum_{l=1}^W \\sum_{m=1}^H P_c[l][m]$:  \n",
        "$$ \\mu = \\begin{bmatrix} \\mu_1 \\\\ \\mu_2 \\\\ \\mu_3 \\end{bmatrix} = \\begin{bmatrix} \\frac{2}{3} \\\\ \\frac{1}{3} \\\\ \\frac{5}{6} \\end{bmatrix}$$ \n",
        "  We subtract the mean from each batch example component (in general should divide also with the std) thus the outputs per example:\n",
        "$$ n=1: \\begin{bmatrix} -\\frac{2}{3} & \\frac{1}{3} \\\\ \\frac{1}{3} & -\\frac{2}{3} \\end{bmatrix}, \\begin{bmatrix} \\frac{1}{3} & -\\frac{2}{3} \\\\ -\\frac{2}{3} & \\frac{1}{3} \\end{bmatrix}, \\begin{bmatrix} \\frac{1}{3} & \\frac{1}{3} \\\\ \\frac{1}{3} & \\frac{1}{3} \\end{bmatrix} $$\n",
        "\n",
        "$$ n=2: \\begin{bmatrix} \\frac{1}{6} & \\frac{1}{6} \\\\ \\frac{1}{6} & \\frac{1}{6} \\end{bmatrix}, \\begin{bmatrix} \\frac{1}{6} & -\\frac{1}{3} \\\\ \\frac{1}{6} & -\\frac{1}{3} \\end{bmatrix}, \\begin{bmatrix} -\\frac{1}{3} & \\frac{1}{6} \\\\ -\\frac{1}{3} & \\frac{1}{6} \\end{bmatrix} $$\n",
        "\n",
        "$$ n=3: \\begin{bmatrix} \\frac{1}{6} & \\frac{1}{6} \\\\ \\frac{1}{6} & -\\frac{1}{3} \\end{bmatrix}, \\begin{bmatrix} -\\frac{1}{3} & \\frac{1}{6} \\\\ -\\frac{1}{3} & \\frac{1}{6} \\end{bmatrix}, \\begin{bmatrix} \\frac{1}{6} & -\\frac{1}{3} \\\\ \\frac{1}{6} & \\frac{1}{6} \\end{bmatrix} $$\n",
        "* Instance Normalization:  \n",
        "  We calculate the mean $\\mu$ vector with respect to the examples dimensions and per channel $\\forall i \\in [1,2..N], \\forall c \\in [1,2..C], \\mu_{i,c} = \\frac{1}{WH}\\sum_{l=1}^W \\sum_{m=1}^H P_c[l][m]$:\n",
        "$$ \\mu = \\begin{bmatrix} \\frac{1}{2} & \\frac{1}{2} & 1 \\\\ \\frac{1}{2} & \\frac{1}{4} & \\frac{1}{4} \\\\ \\frac{7}{8} & \\frac{3}{4} & \\frac{7}{8} \\end{bmatrix}$$ \n",
        "  We subtract the mean from each batch example component per component (in general should divide also with the std) thus the outputs:\n",
        "  $$ n=1: \\begin{bmatrix} -\\frac{1}{2} & \\frac{1}{2} \\\\ \\frac{1}{2} & -\\frac{1}{2} \\end{bmatrix}, \\begin{bmatrix} \\frac{1}{2} & -\\frac{1}{2} \\\\ -\\frac{1}{2} & \\frac{1}{2} \\end{bmatrix}, \\begin{bmatrix} 0 & 0 \\\\ 0 & 0 \\end{bmatrix} $$\n",
        "\n",
        "$$ n=2: \\begin{bmatrix} 0 & 0 \\\\ 0 & 0 \\end{bmatrix}, \\begin{bmatrix} \\frac{1}{4} & -\\frac{1}{4} \\\\ \\frac{1}{4} & -\\frac{1}{4} \\end{bmatrix}, \\begin{bmatrix} -\\frac{1}{4} & \\frac{1}{4} \\\\ -\\frac{1}{4} & \\frac{1}{4} \\end{bmatrix} $$\n",
        "\n",
        "$$ n=3: \\begin{bmatrix} \\frac{1}{8} & \\frac{1}{8} \\\\ \\frac{1}{8} & -\\frac{3}{8} \\end{bmatrix}, \\begin{bmatrix} -\\frac{1}{4} & \\frac{1}{4} \\\\ -\\frac{1}{4} & \\frac{1}{4} \\end{bmatrix}, \\begin{bmatrix} \\frac{1}{8} & -\\frac{3}{8} \\\\ \\frac{1}{8} & \\frac{1}{8} \\end{bmatrix} $$\n",
        "\n"
      ]
    },
    {
      "cell_type": "markdown",
      "metadata": {
        "id": "9DqqzLzupt6f"
      },
      "source": [
        "## <img src=\"https://img.icons8.com/clouds/100/000000/question-mark.png\" style=\"height:50px;display:inline\"> Question 3 -Batch Normalization\n",
        "---\n",
        "This question relates to lectures 8-9 (from slide 9):\n",
        "\n",
        "Prove that **without** regularization, BatchNorm **scale invariance** for parameters $\\mathbf{w}$ implies:\n",
        "1. $\\nabla \\mathcal{L}(\\mathbf{w})^T\\mathbf{w} = 0$\n",
        "2. And under gradient flow dynamics ($\\dot{\\mathbf{w}} = -\\eta \\nabla \\mathcal{L}(\\mathbf{w})$) this implies (L2) norm conservation: $\\forall t: ||\\mathbf{w}(t)||^2 = C$\n",
        "\n",
        "Hint: see results from the multilayer networks lecture."
      ]
    },
    {
      "cell_type": "markdown",
      "source": [
        "## <img src=\"https://img.icons8.com/fluency/48/000000/exclamation-mark.png\" style=\"height:50px;display:inline\">  Answer 3 - Batch Normalization\n",
        "---\n",
        "\n",
        "1. Since the BN layer is invariant to scale of $\\mathbf{w}$ we get:\n",
        "  $\\mathcal{L}(\\mathbf{w})= \\mathcal{L}(\\alpha\\mathbf{w})$\n",
        "  As we saw in lectures, we can build conservation laws if $\\mathcal{L}(\\mathbf{w}) = \\mathcal{L}(\\psi_{\\alpha}\\mathbf{w})$ by applying dervative with respect ot the parameter $\\alpha$:\n",
        "  $$0 \\underbrace{=}_{(1)} \\frac{∂}{∂\\alpha}\\mathcal{L}(\\alpha\\mathbf{w}) = \\nabla \\mathcal{L}(\\alpha\\mathbf{w})^T\\frac{∂}{∂\\alpha}(\\alpha\\mathbf{w}) = \\nabla \\mathcal{L}(\\alpha\\mathbf{w})^T\\mathbf{w} \\underbrace{=}_{(2)} \\nabla \\mathcal{L}(\\mathbf{w})^T\\mathbf{w}$$\n",
        "  When (1) is by applying the derivative with respect to scale $\\alpha$ on both sides of the equation $\\mathcal{L}(\\mathbf{w})= \\mathcal{L}(\\alpha\\mathbf{w})$ and (2) is due to the Loss invarinace with respect to $\\alpha$.  \n",
        "  $\\blacksquare$\n",
        "2. Using the fact that under gradient flow dynamics with small learning rate we have $\\dot{\\mathbf{w}} = -\\eta \\nabla \\mathcal{L}(\\mathbf{w})$, We subtitute the loss gradient in the previous section and apply integration over time:\n",
        "$$ 0 =  \\frac{1}{\\eta}\\nabla \\mathcal{L}(\\mathbf{w})^T\\mathbf{w} = -\\dot{\\mathbf{w}}^T\\mathbf{w} ⇒ 0 =\\dot{\\mathbf{w}}^T\\mathbf{w} ⇒ 0 = \\frac{1}{2}\\frac{d}{dt}||\\mathbf{w}(t)||^2 ⇒ C=||\\mathbf{w}(t)||^2, ∀t$$  \n",
        "  $\\blacksquare$\n"
      ],
      "metadata": {
        "id": "4wjP94VV_de_"
      }
    },
    {
      "cell_type": "markdown",
      "metadata": {
        "id": "7D-14iM7pGhm"
      },
      "source": [
        "### <img src=\"https://img.icons8.com/officel/80/000000/code.png\" style=\"height:50px;display:inline\"> Part 2 - Code Assignments\n",
        "---\n",
        "* You must write your code in this notebook and save it with the output of all of the code cells.\n",
        "* Additional text can be added in Markdown cells.\n",
        "* You can use any other IDE you like (PyCharm, VSCode...) to write/debug your code, but for the submission you must copy it to this notebook, run the code and save the notebook with the output."
      ]
    },
    {
      "cell_type": "code",
      "execution_count": 1,
      "metadata": {
        "colab": {
          "base_uri": "https://localhost:8080/"
        },
        "id": "3c_2Lzqcpt6j",
        "outputId": "0d97aff3-1bc5-42e9-a665-3a0fa705657d"
      },
      "outputs": [
        {
          "output_type": "execute_result",
          "data": {
            "text/plain": [
              "<torch._C.Generator at 0x7fed67ebeab0>"
            ]
          },
          "metadata": {},
          "execution_count": 1
        }
      ],
      "source": [
        "# imports for the practice (you can add more if you need)\n",
        "import numpy as np\n",
        "import matplotlib.pyplot as plt\n",
        "import time\n",
        "import os\n",
        "import math\n",
        "\n",
        "# pytorch\n",
        "import torch\n",
        "import torch.nn as nn\n",
        "import torchtext\n",
        "import torchtext.legacy.data as data\n",
        "import torchtext.legacy.datasets as datasets\n",
        "import torch.nn.functional as f\n",
        "from torch.nn import TransformerEncoder, TransformerEncoderLayer\n",
        "\n",
        "seed = 211\n",
        "np.random.seed(seed)\n",
        "torch.manual_seed(seed)"
      ]
    },
    {
      "cell_type": "markdown",
      "metadata": {
        "id": "bRGyWQNypt6l"
      },
      "source": [
        "## <img src=\"https://img.icons8.com/bubbles/50/000000/workflow.png\" style=\"height:50px;display:inline\">  Sequence-to-Sequence with Transformers\n",
        "---\n",
        "* In this exercise, you are going to build a language model using PyTroch's Transformer module.\n",
        "* We will work with the **Wikitext-2** dataset: the WikiText language modeling dataset is a collection of over 100 million tokens extracted from the set of verified Good and Featured articles on Wikipedia.\n",
        "* After training, you will be able to generate senetences!"
      ]
    },
    {
      "cell_type": "markdown",
      "metadata": {
        "id": "Ay3SD_kopt6m"
      },
      "source": [
        "### <img src=\"https://img.icons8.com/color/48/000000/code.png\" style=\"height:50px;display:inline\"> Task 1  - Loading and Observing the Data\n",
        "---\n",
        "1. Initialize a text `data.Field` using `data.utils.get_tokenizer(\"basic_english\")`, `<sos>` and `<eos>` as start and end tokens, and consider only lower case words (`lower=True`).\n",
        "2. Load the train, valid and test *texts* using `datasets.WikiText2.splits` with your text data field from (1).\n",
        "3. Build a vocabulary using only the train data.\n",
        "4. Create the train, valid and test data using the provided `batchify` function.\n",
        "5. Use the `batchify` function with `batch_size=20` to create a data loader. Print the shape of the result.\n",
        "6. Print 2 train samples. Use the vocabulary you built to transfer between tokens to words."
      ]
    },
    {
      "cell_type": "code",
      "execution_count": 2,
      "metadata": {
        "id": "2JhbAT8Mpt6n"
      },
      "outputs": [],
      "source": [
        "def batchify(data, bsz, text_field):\n",
        "    data = text_field.numericalize([data.examples[0].text])\n",
        "    # Divide the dataset into bsz parts.\n",
        "    nbatch = data.size(0) // bsz\n",
        "    # Trim off any extra elements that wouldn't cleanly fit (remainders).\n",
        "    data = data.narrow(0, 0, nbatch * bsz)\n",
        "    # Evenly divide the data across the bsz batches.\n",
        "    data = data.view(bsz, -1).t().contiguous()\n",
        "    return data.to(device)"
      ]
    },
    {
      "cell_type": "markdown",
      "source": [
        "### <img src=\"https://img.icons8.com/fluency/48/000000/exclamation-mark.png\" style=\"height:50px;display:inline\">  Task 1 Code and Answers  - Loading and Observing the Data\n",
        "---\n",
        "\n",
        "We have printed 2 samples over the batch dimension (the starting word in each sample after split to batches) and also the sentences parts that (vertical order due to transpose in batchify) start each sample in the batch."
      ],
      "metadata": {
        "id": "_m6etI48Tg31"
      }
    },
    {
      "cell_type": "code",
      "execution_count": 3,
      "metadata": {
        "colab": {
          "base_uri": "https://localhost:8080/"
        },
        "id": "syul2ilfpt6o",
        "outputId": "9d0368e3-5768-4c76-b3b4-ecdf85f22650"
      },
      "outputs": [
        {
          "output_type": "stream",
          "name": "stdout",
          "text": [
            "train size: torch.Size([104335, 20])\n",
            "valid size: torch.Size([10908, 20])\n",
            "test size: torch.Size([12310, 20])\n",
            "\n",
            "2 samples of batch dim:\n",
            "<eos> @ settlement heavy of , , lined the she <unk> of . interception the dried . , would his\n",
            "= 1 was rains ireland and starting with hairy had found the <unk> to possibility heads other which receive gift\n",
            "\n",
            "2 samples of sentences (transposed matrix). cut length to 15:\n",
            "<eos> = valkyria chronicles iii = <eos> <eos> senjō no valkyria 3 <unk> chronicles (\n",
            "@ 1 rebounds , 3 @ . @ 8 assists , and 1 @ .\n"
          ]
        }
      ],
      "source": [
        "\"\"\"\n",
        "Your Code Here\n",
        "\"\"\"\n",
        "\n",
        "BATCH_SIZE = 20\n",
        "\n",
        "device = torch.device(\"cuda:0\" if torch.cuda.is_available() else \"cpu\")\n",
        "# define a text field\n",
        "tokenizer = data.utils.get_tokenizer(\"basic_english\")\n",
        "text_field = data.Field(sequential=True, init_token=\"<sos>\", eos_token=\"<eos>\",\n",
        "                  tokenize=tokenizer, lower=True, dtype=torch.long)\n",
        "#datasets.WikiText2.download('./datasets')\n",
        "ds_train, ds_valid, ds_test = datasets.WikiText2.splits(text_field)\n",
        "\n",
        "#print(ds_test.examples[0].text_field[:20])\n",
        "\n",
        "text_field.build_vocab(ds_train)\n",
        "vocab = text_field.vocab\n",
        "\n",
        "train_data = batchify(ds_train, bsz=BATCH_SIZE, text_field=text_field)\n",
        "valid_data = batchify(ds_valid, bsz=BATCH_SIZE, text_field=text_field)\n",
        "test_data = batchify(ds_test, bsz=BATCH_SIZE, text_field=text_field)\n",
        "\n",
        "print(f\"train size: {train_data.size()}\")\n",
        "print(f\"valid size: {valid_data.size()}\")\n",
        "print(f\"test size: {test_data.size()}\")\n",
        "print()\n",
        "\n",
        "def print_batch_dim_sample(data_set, index):\n",
        "  sample_str = \" \".join([vocab.itos[t] for _,t in enumerate(data_set[index].cpu().numpy())])\n",
        "  print(f\"{sample_str}\")\n",
        "\n",
        "def print_sample(data_set, index, num_of_words):\n",
        "  sample_str = \" \".join([vocab.itos[t] for _,t in enumerate(data_set.t()[index][:num_of_words].cpu().numpy())])\n",
        "  print(f\"{sample_str}\")\n",
        "\n",
        "print(\"2 samples of batch dim:\")\n",
        "print_batch_dim_sample(train_data,0)\n",
        "print_batch_dim_sample(train_data,1)\n",
        "\n",
        "print()\n",
        "# we print the first 15 words in each sample after split to batches examples\n",
        "print_len = 15\n",
        "print(f\"2 samples of sentences (transposed matrix). cut length to {print_len}:\")\n",
        "print_sample(train_data,0,print_len)\n",
        "print_sample(train_data,1,print_len)\n"
      ]
    },
    {
      "cell_type": "markdown",
      "metadata": {
        "id": "z7hXnCOApt6p"
      },
      "source": [
        "### <img src=\"https://img.icons8.com/color/48/000000/code.png\" style=\"height:50px;display:inline\"> Task 2  - Preparing the  Data - Separating to Inputs and Targets\n",
        "---\n",
        "* For a language modeling task, the model needs the following words as `Target`.\n",
        "    * For example, for the senetence \"I have a nice dog\", the model will be given \"I have a\" as input, and \"nice dog\" as the target.\n",
        "* Implement (complete) the function `get_batch(source, i, bptt)`: it generates the input and target sequence for the transformer model. It subdivides the source data into chunks of length `bptt`.\n",
        "    * For example, for `bptt=2` and at `i=0`, the output of `data, target = get_batch(train_data, i=0, bptt=2)`: `data` will be of shape (2, 20), where the batch size is 20 and `target` will be of length 40 (the target for each element is two words, but we flatten `target`).\n",
        "    * Print a sample from `data` and `target`"
      ]
    },
    {
      "cell_type": "markdown",
      "source": [
        "### <img src=\"https://img.icons8.com/fluency/48/000000/exclamation-mark.png\" style=\"height:50px;display:inline\">  Task 2 Code and Answers  - Separating to Inputs and Targets\n",
        "---\n",
        "\n",
        "We've split to target that is with one word delay after the input and flattened it. We can see that the second word in each batch match the targets' first words."
      ],
      "metadata": {
        "id": "6UPpynaDLQb8"
      }
    },
    {
      "cell_type": "code",
      "execution_count": 4,
      "metadata": {
        "colab": {
          "base_uri": "https://localhost:8080/"
        },
        "id": "1pb-wXL7pt6q",
        "outputId": "78b5fe4b-27e0-43ad-ac44-5b0f8b8c1d23"
      },
      "outputs": [
        {
          "output_type": "stream",
          "name": "stdout",
          "text": [
            "data size is torch.Size([2, 20])\n",
            "target size is torch.Size([40])\n",
            "data sample 0 bare numbers:\n",
            " tensor([    3, 21014,     8,   835,  1283,   220,     9,   197,   195,   123,\n",
            "          737,    11,    20,   911,     8,    77,     5,     0,  1445,    77],\n",
            "       device='cuda:0')\n",
            "data sample 0 in text:\n",
            "<eos> catapult and already bodies league in june due against praised a for decision and up , <unk> coming up\n",
            "\n",
            "data sample 1 bare numbers:\n",
            " tensor([  12,    8,  402, 2358,   69,  510,    4,  392,   10,    0,    4, 3415,\n",
            "           4,  117, 3857,   10,  638,  454, 2613,    9], device='cuda:0')\n",
            "data sample 1 in text:\n",
            "= and service stopped while cup the 2012 to <unk> the stable the early 63 to brought building 11th in\n",
            "\n",
            "target bare numbers:\n",
            " tensor([   12,     8,   402,  2358,    69,   510,     4,   392,    10,     0,\n",
            "            4,  3415,     4,   117,  3857,    10,   638,   454,  2613,     9,\n",
            "          635,    11,  1053,  1067,    16,     5,   117,     5,     0,     0,\n",
            "        12560,   286,  2104,    16,   122,  1082,    10,     6,     8,   293],\n",
            "       device='cuda:0')\n",
            "target in text:\n",
            "= and service stopped while cup the 2012 to <unk> the stable the early 63 to brought building 11th in\n"
          ]
        }
      ],
      "source": [
        "\"\"\"\n",
        "Your Code Here\n",
        "\"\"\"\n",
        "def get_batch(source, i, bptt):\n",
        "    seq_len = min(bptt, len(source) - 1 - i)\n",
        "    data = source[i:i + seq_len]\n",
        "    target = source[(i+1):(i+1+seq_len)].view(-1)\n",
        "    return data, target\n",
        "\n",
        "data, target = get_batch(test_data, i=0, bptt=2)\n",
        "\n",
        "print(f\"data size is {data.size()}\")\n",
        "print(f\"target size is {target.size()}\")\n",
        "\n",
        "print(f\"data sample 0 bare numbers:\\n {data[0]}\")\n",
        "print(f\"data sample 0 in text:\")\n",
        "print_batch_dim_sample(data, 0)\n",
        "print(f\"\\ndata sample 1 bare numbers:\\n {data[1]}\")\n",
        "print(f\"data sample 1 in text:\")\n",
        "print_batch_dim_sample(data, 1)\n",
        "print(f\"\\ntarget bare numbers:\\n {target}\")\n",
        "print(f\"target in text:\")\n",
        "print_batch_dim_sample(target.view(2,20), 0)"
      ]
    },
    {
      "cell_type": "markdown",
      "metadata": {
        "id": "_P7mTE1Kpt6r"
      },
      "source": [
        "### <img src=\"https://img.icons8.com/color/48/000000/code.png\" style=\"height:50px;display:inline\"> Task 3  - Define Hyperparameters and Initialize the Model\n",
        "---\n",
        "* Define the following hyperparameters (`[a, b]` means in the range between `a` and `b`):\n",
        "    * Embedding size: choose from `[200, 250]`\n",
        "    * Number of hidden units: choose from `[200, 250]`\n",
        "    * Number of layers: choose from `[2, 4]`\n",
        "    * Number of attention heads: choose from `[2, 4]`\n",
        "    * Dropout: choose from `[0.0, 0.3]`\n",
        "    * Loss criterion: `nn.CrossEntropyLoss()`\n",
        "    * Optimizer: choose from `[SGD, Adam]`\n",
        "    * Learning rate: choose from `[5e-3, 5.0]`\n",
        "    * Learning Scheduler: `torch.optim.lr_scheduler.StepLR(optimizer, 1.0, gamma=0.95)`\n",
        "* Intialize an instance of `TransformerModel` (given) and send it to `device`. Note that you need to give it the number of tokens to define the output of the decoder. You should use the number of tokens in the vocabulary. Print the number of tokens,  print **all** the chosen hyper-parameters and print the model (`print(model`)."
      ]
    },
    {
      "cell_type": "code",
      "execution_count": 5,
      "metadata": {
        "id": "hEy3ydFVpt6s"
      },
      "outputs": [],
      "source": [
        "class PositionalEncoding(nn.Module):\n",
        "\n",
        "    def __init__(self, d_model, dropout=0.1, max_len=5000):\n",
        "        super(PositionalEncoding, self).__init__()\n",
        "        self.dropout = nn.Dropout(p=dropout)\n",
        "\n",
        "        pe = torch.zeros(max_len, d_model)\n",
        "        position = torch.arange(0, max_len, dtype=torch.float).unsqueeze(1)\n",
        "        div_term = torch.exp(torch.arange(0, d_model, 2).float() * (-math.log(10000.0) / d_model))\n",
        "        pe[:, 0::2] = torch.sin(position * div_term)\n",
        "        pe[:, 1::2] = torch.cos(position * div_term)\n",
        "        pe = pe.unsqueeze(0).transpose(0, 1)\n",
        "        self.register_buffer('pe', pe)\n",
        "\n",
        "    def forward(self, x):\n",
        "        x = x + self.pe[:x.size(0), :]\n",
        "        return self.dropout(x)\n",
        "    \n",
        "class TransformerModel(nn.Module):\n",
        "\n",
        "    def __init__(self, ntoken, ninp, nhead, nhid, nlayers, dropout=0.5):\n",
        "        super(TransformerModel, self).__init__()\n",
        "        self.pos_encoder = PositionalEncoding(ninp, dropout)\n",
        "        encoder_layers = TransformerEncoderLayer(ninp, nhead, nhid, dropout)\n",
        "        self.transformer_encoder = TransformerEncoder(encoder_layers, nlayers)\n",
        "        self.encoder = nn.Embedding(ntoken, ninp)\n",
        "        self.ninp = ninp\n",
        "        self.decoder = nn.Linear(ninp, ntoken)\n",
        "\n",
        "        self.init_weights()\n",
        "\n",
        "    def generate_square_subsequent_mask(self, sz):\n",
        "        mask = (torch.triu(torch.ones(sz, sz)) == 1).transpose(0, 1)\n",
        "        mask = mask.float().masked_fill(mask == 0, float('-inf')).masked_fill(mask == 1, float(0.0))\n",
        "        return mask\n",
        "\n",
        "    def init_weights(self):\n",
        "        initrange = 0.1\n",
        "        self.encoder.weight.data.uniform_(-initrange, initrange)\n",
        "        self.decoder.bias.data.zero_()\n",
        "        self.decoder.weight.data.uniform_(-initrange, initrange)\n",
        "\n",
        "    def forward(self, src, src_mask):\n",
        "        src = self.encoder(src) * math.sqrt(self.ninp)\n",
        "        src = self.pos_encoder(src)\n",
        "        output = self.transformer_encoder(src, src_mask)\n",
        "        output = self.decoder(output)\n",
        "        return output"
      ]
    },
    {
      "cell_type": "markdown",
      "source": [
        "### <img src=\"https://img.icons8.com/fluency/48/000000/exclamation-mark.png\" style=\"height:50px;display:inline\">  Task 3 Code and Answers  - Define Hyperparameters and Initialize the Model\n",
        "---\n",
        "\n",
        "Selcting the hyper parameters, creating the model and print all."
      ],
      "metadata": {
        "id": "PV7qlZ9KMFcI"
      }
    },
    {
      "cell_type": "code",
      "execution_count": 6,
      "metadata": {
        "colab": {
          "base_uri": "https://localhost:8080/"
        },
        "id": "9wGp_Mjnpt6s",
        "outputId": "4d65e515-48c4-4b70-f4c6-e5c21cdb7583"
      },
      "outputs": [
        {
          "output_type": "stream",
          "name": "stdout",
          "text": [
            "The hyper parameters:\n",
            "{'EMBED_SIZE': 210, 'HIDDEN_UNITS': 200, 'LAYERS': 3, 'ATTENTION_HEADS': 3, 'DROPOUT': 0.2, 'OPTIMIZER': 'sgd', 'LR': 5.0, 'SCHED_GAMMA': 0.95, 'SCHED_STEP_SIZE': 1.0, 'EPOCHS': 15}\n",
            "The model:\n",
            "TransformerModel(\n",
            "  (pos_encoder): PositionalEncoding(\n",
            "    (dropout): Dropout(p=0.2, inplace=False)\n",
            "  )\n",
            "  (transformer_encoder): TransformerEncoder(\n",
            "    (layers): ModuleList(\n",
            "      (0): TransformerEncoderLayer(\n",
            "        (self_attn): MultiheadAttention(\n",
            "          (out_proj): NonDynamicallyQuantizableLinear(in_features=210, out_features=210, bias=True)\n",
            "        )\n",
            "        (linear1): Linear(in_features=210, out_features=200, bias=True)\n",
            "        (dropout): Dropout(p=0.2, inplace=False)\n",
            "        (linear2): Linear(in_features=200, out_features=210, bias=True)\n",
            "        (norm1): LayerNorm((210,), eps=1e-05, elementwise_affine=True)\n",
            "        (norm2): LayerNorm((210,), eps=1e-05, elementwise_affine=True)\n",
            "        (dropout1): Dropout(p=0.2, inplace=False)\n",
            "        (dropout2): Dropout(p=0.2, inplace=False)\n",
            "      )\n",
            "      (1): TransformerEncoderLayer(\n",
            "        (self_attn): MultiheadAttention(\n",
            "          (out_proj): NonDynamicallyQuantizableLinear(in_features=210, out_features=210, bias=True)\n",
            "        )\n",
            "        (linear1): Linear(in_features=210, out_features=200, bias=True)\n",
            "        (dropout): Dropout(p=0.2, inplace=False)\n",
            "        (linear2): Linear(in_features=200, out_features=210, bias=True)\n",
            "        (norm1): LayerNorm((210,), eps=1e-05, elementwise_affine=True)\n",
            "        (norm2): LayerNorm((210,), eps=1e-05, elementwise_affine=True)\n",
            "        (dropout1): Dropout(p=0.2, inplace=False)\n",
            "        (dropout2): Dropout(p=0.2, inplace=False)\n",
            "      )\n",
            "      (2): TransformerEncoderLayer(\n",
            "        (self_attn): MultiheadAttention(\n",
            "          (out_proj): NonDynamicallyQuantizableLinear(in_features=210, out_features=210, bias=True)\n",
            "        )\n",
            "        (linear1): Linear(in_features=210, out_features=200, bias=True)\n",
            "        (dropout): Dropout(p=0.2, inplace=False)\n",
            "        (linear2): Linear(in_features=200, out_features=210, bias=True)\n",
            "        (norm1): LayerNorm((210,), eps=1e-05, elementwise_affine=True)\n",
            "        (norm2): LayerNorm((210,), eps=1e-05, elementwise_affine=True)\n",
            "        (dropout1): Dropout(p=0.2, inplace=False)\n",
            "        (dropout2): Dropout(p=0.2, inplace=False)\n",
            "      )\n",
            "    )\n",
            "  )\n",
            "  (encoder): Embedding(28785, 210)\n",
            "  (decoder): Linear(in_features=210, out_features=28785, bias=True)\n",
            ")\n",
            "Adjusting learning rate of group 0 to 5.0000e+00.\n"
          ]
        }
      ],
      "source": [
        "\"\"\"\n",
        "Your Code Here\n",
        "\"\"\"\n",
        "hyper_params = {}\n",
        "#Embedding size: choose from `[200, 250]`\n",
        "hyper_params['EMBED_SIZE'] = 210\n",
        "#Number of hidden units: choose from `[200, 250]`\n",
        "hyper_params['HIDDEN_UNITS'] = 200\n",
        "#Number of layers: choose from `[2, 4]`\n",
        "hyper_params['LAYERS'] = 3\n",
        "#Number of attention heads: choose from `[2, 4]`\n",
        "hyper_params['ATTENTION_HEADS'] = 3\n",
        "#Dropout: choose from `[0.0, 0.3]`\n",
        "hyper_params['DROPOUT'] = 0.2\n",
        "#Optimizer: choose from `[SGD, Adam]`\n",
        "hyper_params['OPTIMIZER'] = 'sgd'\n",
        "#Learning rate: choose from `[5e-3, 5.0]`\n",
        "hyper_params['LR'] = 5.0\n",
        "#Learning Scheduler: `torch.optim.lr_scheduler.StepLR(optimizer, 1.0, gamma=0.95)`\n",
        "hyper_params['SCHED_GAMMA'] = 0.95\n",
        "hyper_params['SCHED_STEP_SIZE'] = 1.0\n",
        "hyper_params['EPOCHS'] = 15\n",
        "\n",
        "print(\"The hyper parameters:\")\n",
        "print(hyper_params)\n",
        "\n",
        "num_of_tokens = len(text_field.vocab.stoi)\n",
        "\n",
        "criterion = nn.CrossEntropyLoss()\n",
        "\n",
        "model = TransformerModel(\n",
        "    ntoken=num_of_tokens,\n",
        "    ninp=hyper_params['EMBED_SIZE'],\n",
        "    nhead=hyper_params['ATTENTION_HEADS'],\n",
        "    nhid=hyper_params['HIDDEN_UNITS'],\n",
        "    nlayers=hyper_params['LAYERS'],\n",
        "    dropout=hyper_params['DROPOUT']).to(device)\n",
        "\n",
        "print(\"The model:\")\n",
        "print(model)\n",
        "\n",
        "if hyper_params['OPTIMIZER'] == 'sgd':\n",
        "    optimizer = torch.optim.SGD(model.parameters(), lr=hyper_params['LR'])\n",
        "else:\n",
        "    optimizer = torch.optim.AdamW(model.parameters(), lr=hyper_params['LR'])\n",
        "\n",
        "scheduler = torch.optim.lr_scheduler.StepLR(optimizer, hyper_params['SCHED_STEP_SIZE'], gamma=hyper_params['SCHED_GAMMA'], verbose=True)\n"
      ]
    },
    {
      "cell_type": "markdown",
      "metadata": {
        "id": "NDyxvrf3pt6u"
      },
      "source": [
        "### <img src=\"https://img.icons8.com/color/48/000000/code.png\" style=\"height:50px;display:inline\"> Task 4  - Train and Evaluate the Language Model\n",
        "---\n",
        "* Fill in the missing line in the training code and train the model.\n",
        "* Use `bptt=35`.\n",
        "* Use the provided function to evaluate it on the validatation set (after each epoch) and on test test (after training is done). **Print and plot** the results (loss and perplexity).\n",
        "* If you see that the performance does not improve, go back to Task 3 and re-think you hyper-parameters."
      ]
    },
    {
      "cell_type": "code",
      "execution_count": 7,
      "metadata": {
        "id": "rAG9ShgCpt6u"
      },
      "outputs": [],
      "source": [
        "def evaluate(eval_model, data_source):\n",
        "    eval_model.eval() # Turn on the evaluation mode\n",
        "    total_loss = 0.\n",
        "    ntokens = len(text_field.vocab.stoi)\n",
        "    src_mask = model.generate_square_subsequent_mask(bptt).to(device)\n",
        "    with torch.no_grad():\n",
        "        for i in range(0, data_source.size(0) - 1, bptt):\n",
        "            data, targets = get_batch(data_source, i, bptt)\n",
        "            if data.size(0) != bptt:\n",
        "                src_mask = model.generate_square_subsequent_mask(data.size(0)).to(device)\n",
        "            output = eval_model(data, src_mask)\n",
        "            output_flat = output.view(-1, ntokens)\n",
        "            total_loss += len(data) * criterion(output_flat, targets).item()\n",
        "    return total_loss / (len(data_source) - 1)"
      ]
    },
    {
      "cell_type": "markdown",
      "source": [
        "### <img src=\"https://img.icons8.com/fluency/48/000000/exclamation-mark.png\" style=\"height:50px;display:inline\">  Task 4 Code and Answers  - Train and Evaluate the Language Model\n",
        "---\n"
      ],
      "metadata": {
        "id": "BhI-N5TVfuDw"
      }
    },
    {
      "cell_type": "code",
      "execution_count": 8,
      "metadata": {
        "id": "DnfPRqgdpt6v"
      },
      "outputs": [],
      "source": [
        "\"\"\"\n",
        "Your Code Here\n",
        "\"\"\"\n",
        "def train(bptt):\n",
        "    model.train() # Turn on the train mode\n",
        "    total_loss = 0.\n",
        "    start_time = time.time()\n",
        "    ntokens = len(text_field.vocab.stoi)\n",
        "    src_mask = model.generate_square_subsequent_mask(bptt).to(device)\n",
        "    for batch, i in enumerate(range(0, train_data.size(0) - 1, bptt)):\n",
        "        data, targets = get_batch(train_data, i, bptt)\n",
        "        \n",
        "        if data.size(0) != bptt:\n",
        "            src_mask = model.generate_square_subsequent_mask(data.size(0)).to(device)\n",
        "            \n",
        "        output = model(data, src_mask)\n",
        "        loss = criterion(output.view(-1, ntokens), targets)\n",
        "        \n",
        "        optimizer.zero_grad()\n",
        "        loss.backward()\n",
        "        torch.nn.utils.clip_grad_norm_(model.parameters(), 0.5)\n",
        "        optimizer.step()\n",
        "\n",
        "        total_loss += loss.item()\n",
        "        log_interval = 200\n",
        "        if batch % log_interval == 0 and batch > 0:\n",
        "            cur_loss = total_loss / log_interval\n",
        "            elapsed = time.time() - start_time\n",
        "            print('| epoch {:3d} | {:5d}/{:5d} batches | '\n",
        "                  'lr {:02.2f} | ms/batch {:5.2f} | '\n",
        "                  'loss {:5.2f} | ppl {:8.2f}'.format(\n",
        "                    epoch, batch, len(train_data) // bptt, scheduler.get_last_lr()[0],\n",
        "                    elapsed * 1000 / log_interval,\n",
        "                    cur_loss, math.exp(cur_loss)))\n",
        "            total_loss = 0\n",
        "            start_time = time.time()\n",
        "\n",
        "def save_checkpoint_model(hyper_params, valid_loss, model, epoch):\n",
        "    torch.save({'hyper_params': hyper_params,\n",
        "                  'valid_loss' : valid_loss,\n",
        "                  'state_dict': model.state_dict()},\n",
        "               f'{epoch}_checkpoint.pth')\n",
        "\n",
        "def load_checkpoint_model(epoch):\n",
        "    filename = f'{epoch}_checkpoint.pth'\n",
        "    checkpoint = torch.load(filename)\n",
        "    loaded_hyper_params = checkpoint['hyper_params']\n",
        "    #print(f\"loaded_hyper_params {loaded_hyper_params}\")\n",
        "    loaded_valid_loss = checkpoint['valid_loss']\n",
        "    loaded_model = TransformerModel(\n",
        "        ntoken=num_of_tokens,\n",
        "        ninp=loaded_hyper_params['EMBED_SIZE'],\n",
        "        nhead=loaded_hyper_params['ATTENTION_HEADS'],\n",
        "        nhid=loaded_hyper_params['HIDDEN_UNITS'],\n",
        "        nlayers=loaded_hyper_params['LAYERS'],\n",
        "        dropout=loaded_hyper_params['DROPOUT']).to(device)\n",
        "    loaded_model.load_state_dict(checkpoint['state_dict'])\n",
        "    return loaded_hyper_params, loaded_valid_loss, loaded_model\n",
        "\n",
        "\n"
      ]
    },
    {
      "cell_type": "code",
      "source": [
        "# The training loop\n",
        "bptt=35\n",
        "valid_losses = []\n",
        "ppls = []\n",
        "min_valid_loss = np.Inf\n",
        "min_loss_epoch = -1\n",
        "\n",
        "for epoch in np.arange(1, hyper_params['EPOCHS'] + 1):\n",
        "\n",
        "    e_start_time = time.time()\n",
        "    train(bptt)\n",
        "    valid_loss = evaluate(model, valid_data)\n",
        "    valid_losses.append(valid_loss)\n",
        "\n",
        "    ppl = np.exp(valid_loss)\n",
        "    ppls.append(ppl)\n",
        "\n",
        "    epoch_elapsed = time.time() - e_start_time\n",
        "\n",
        "    print(f\"| *** done epoch {epoch} | valid loss {valid_loss:5.4f} | ppl {ppl:8.2f} | elapsed {epoch_elapsed}\")\n",
        "\n",
        "    if valid_loss < min_valid_loss:\n",
        "        print('==> Saving checkpoint for the lowest validation loss model ...', end =\" \")\n",
        "        save_checkpoint_model(hyper_params, valid_loss, model, epoch)\n",
        "        print(\"Done saving\")      \n",
        "        min_loss_epoch = epoch\n",
        "        min_valid_loss = valid_loss\n",
        "\n",
        "    scheduler.step()"
      ],
      "metadata": {
        "colab": {
          "base_uri": "https://localhost:8080/"
        },
        "id": "HMFXBVScmBzX",
        "outputId": "7d4e6e8e-d6ec-4d2d-f40a-693012d4800f"
      },
      "execution_count": 9,
      "outputs": [
        {
          "output_type": "stream",
          "name": "stdout",
          "text": [
            "| epoch   1 |   200/ 2981 batches | lr 5.00 | ms/batch 39.38 | loss  8.39 | ppl  4402.90\n",
            "| epoch   1 |   400/ 2981 batches | lr 5.00 | ms/batch 38.07 | loss  7.06 | ppl  1161.82\n",
            "| epoch   1 |   600/ 2981 batches | lr 5.00 | ms/batch 38.09 | loss  6.53 | ppl   686.66\n",
            "| epoch   1 |   800/ 2981 batches | lr 5.00 | ms/batch 38.25 | loss  6.33 | ppl   562.41\n",
            "| epoch   1 |  1000/ 2981 batches | lr 5.00 | ms/batch 38.41 | loss  6.18 | ppl   482.32\n",
            "| epoch   1 |  1200/ 2981 batches | lr 5.00 | ms/batch 38.56 | loss  6.14 | ppl   462.58\n",
            "| epoch   1 |  1400/ 2981 batches | lr 5.00 | ms/batch 38.44 | loss  6.07 | ppl   432.19\n",
            "| epoch   1 |  1600/ 2981 batches | lr 5.00 | ms/batch 38.82 | loss  6.07 | ppl   432.24\n",
            "| epoch   1 |  1800/ 2981 batches | lr 5.00 | ms/batch 38.96 | loss  5.97 | ppl   393.43\n",
            "| epoch   1 |  2000/ 2981 batches | lr 5.00 | ms/batch 40.14 | loss  5.98 | ppl   393.89\n",
            "| epoch   1 |  2200/ 2981 batches | lr 5.00 | ms/batch 38.77 | loss  5.86 | ppl   349.63\n",
            "| epoch   1 |  2400/ 2981 batches | lr 5.00 | ms/batch 38.86 | loss  5.91 | ppl   367.88\n",
            "| epoch   1 |  2600/ 2981 batches | lr 5.00 | ms/batch 38.80 | loss  5.91 | ppl   368.61\n",
            "| epoch   1 |  2800/ 2981 batches | lr 5.00 | ms/batch 38.86 | loss  5.81 | ppl   332.41\n",
            "| *** done epoch 1 | valid loss 5.7499 | ppl   314.16 | elapsed 119.19760084152222\n",
            "==> Saving checkpoint for the lowest validation loss model ... Done saving\n",
            "Adjusting learning rate of group 0 to 4.7500e+00.\n",
            "| epoch   2 |   200/ 2981 batches | lr 4.75 | ms/batch 38.91 | loss  5.82 | ppl   337.79\n",
            "| epoch   2 |   400/ 2981 batches | lr 4.75 | ms/batch 38.84 | loss  5.81 | ppl   332.01\n",
            "| epoch   2 |   600/ 2981 batches | lr 4.75 | ms/batch 38.77 | loss  5.63 | ppl   279.31\n",
            "| epoch   2 |   800/ 2981 batches | lr 4.75 | ms/batch 38.86 | loss  5.66 | ppl   286.67\n",
            "| epoch   2 |  1000/ 2981 batches | lr 4.75 | ms/batch 38.78 | loss  5.60 | ppl   269.70\n",
            "| epoch   2 |  1200/ 2981 batches | lr 4.75 | ms/batch 38.78 | loss  5.63 | ppl   277.47\n",
            "| epoch   2 |  1400/ 2981 batches | lr 4.75 | ms/batch 38.79 | loss  5.64 | ppl   281.64\n",
            "| epoch   2 |  1600/ 2981 batches | lr 4.75 | ms/batch 38.99 | loss  5.67 | ppl   289.52\n",
            "| epoch   2 |  1800/ 2981 batches | lr 4.75 | ms/batch 39.00 | loss  5.60 | ppl   269.33\n",
            "| epoch   2 |  2000/ 2981 batches | lr 4.75 | ms/batch 38.84 | loss  5.63 | ppl   277.30\n",
            "| epoch   2 |  2200/ 2981 batches | lr 4.75 | ms/batch 38.90 | loss  5.51 | ppl   246.19\n",
            "| epoch   2 |  2400/ 2981 batches | lr 4.75 | ms/batch 38.94 | loss  5.58 | ppl   263.91\n",
            "| epoch   2 |  2600/ 2981 batches | lr 4.75 | ms/batch 38.79 | loss  5.59 | ppl   267.12\n",
            "| epoch   2 |  2800/ 2981 batches | lr 4.75 | ms/batch 38.62 | loss  5.51 | ppl   247.39\n",
            "| *** done epoch 2 | valid loss 5.5393 | ppl   254.51 | elapsed 119.41063261032104\n",
            "==> Saving checkpoint for the lowest validation loss model ... Done saving\n",
            "Adjusting learning rate of group 0 to 4.5125e+00.\n",
            "| epoch   3 |   200/ 2981 batches | lr 4.51 | ms/batch 38.89 | loss  5.55 | ppl   258.47\n",
            "| epoch   3 |   400/ 2981 batches | lr 4.51 | ms/batch 39.08 | loss  5.57 | ppl   261.46\n",
            "| epoch   3 |   600/ 2981 batches | lr 4.51 | ms/batch 38.67 | loss  5.38 | ppl   217.61\n",
            "| epoch   3 |   800/ 2981 batches | lr 4.51 | ms/batch 38.69 | loss  5.43 | ppl   228.64\n",
            "| epoch   3 |  1000/ 2981 batches | lr 4.51 | ms/batch 38.77 | loss  5.38 | ppl   217.19\n",
            "| epoch   3 |  1200/ 2981 batches | lr 4.51 | ms/batch 39.00 | loss  5.41 | ppl   224.74\n",
            "| epoch   3 |  1400/ 2981 batches | lr 4.51 | ms/batch 38.59 | loss  5.43 | ppl   228.87\n",
            "| epoch   3 |  1600/ 2981 batches | lr 4.51 | ms/batch 38.69 | loss  5.47 | ppl   238.18\n",
            "| epoch   3 |  1800/ 2981 batches | lr 4.51 | ms/batch 38.70 | loss  5.40 | ppl   220.89\n",
            "| epoch   3 |  2000/ 2981 batches | lr 4.51 | ms/batch 38.80 | loss  5.43 | ppl   228.93\n",
            "| epoch   3 |  2200/ 2981 batches | lr 4.51 | ms/batch 38.88 | loss  5.33 | ppl   205.71\n",
            "| epoch   3 |  2400/ 2981 batches | lr 4.51 | ms/batch 38.82 | loss  5.39 | ppl   219.41\n",
            "| epoch   3 |  2600/ 2981 batches | lr 4.51 | ms/batch 38.85 | loss  5.40 | ppl   220.88\n",
            "| epoch   3 |  2800/ 2981 batches | lr 4.51 | ms/batch 38.76 | loss  5.33 | ppl   206.48\n",
            "| *** done epoch 3 | valid loss 5.4748 | ppl   238.59 | elapsed 119.294917345047\n",
            "==> Saving checkpoint for the lowest validation loss model ... Done saving\n",
            "Adjusting learning rate of group 0 to 4.2869e+00.\n",
            "| epoch   4 |   200/ 2981 batches | lr 4.29 | ms/batch 38.91 | loss  5.38 | ppl   217.28\n",
            "| epoch   4 |   400/ 2981 batches | lr 4.29 | ms/batch 38.89 | loss  5.41 | ppl   223.04\n",
            "| epoch   4 |   600/ 2981 batches | lr 4.29 | ms/batch 38.72 | loss  5.21 | ppl   182.27\n",
            "| epoch   4 |   800/ 2981 batches | lr 4.29 | ms/batch 38.80 | loss  5.26 | ppl   192.49\n",
            "| epoch   4 |  1000/ 2981 batches | lr 4.29 | ms/batch 38.67 | loss  5.22 | ppl   185.67\n",
            "| epoch   4 |  1200/ 2981 batches | lr 4.29 | ms/batch 38.63 | loss  5.26 | ppl   192.46\n",
            "| epoch   4 |  1400/ 2981 batches | lr 4.29 | ms/batch 38.88 | loss  5.28 | ppl   196.22\n",
            "| epoch   4 |  1600/ 2981 batches | lr 4.29 | ms/batch 38.80 | loss  5.33 | ppl   206.42\n",
            "| epoch   4 |  1800/ 2981 batches | lr 4.29 | ms/batch 39.31 | loss  5.26 | ppl   192.80\n",
            "| epoch   4 |  2000/ 2981 batches | lr 4.29 | ms/batch 41.41 | loss  5.29 | ppl   198.78\n",
            "| epoch   4 |  2200/ 2981 batches | lr 4.29 | ms/batch 41.92 | loss  5.17 | ppl   175.31\n",
            "| epoch   4 |  2400/ 2981 batches | lr 4.29 | ms/batch 39.99 | loss  5.24 | ppl   189.48\n",
            "| epoch   4 |  2600/ 2981 batches | lr 4.29 | ms/batch 39.43 | loss  5.26 | ppl   191.78\n",
            "| epoch   4 |  2800/ 2981 batches | lr 4.29 | ms/batch 41.00 | loss  5.21 | ppl   182.31\n",
            "| *** done epoch 4 | valid loss 5.4469 | ppl   232.04 | elapsed 121.64155507087708\n",
            "==> Saving checkpoint for the lowest validation loss model ... Done saving\n",
            "Adjusting learning rate of group 0 to 4.0725e+00.\n",
            "| epoch   5 |   200/ 2981 batches | lr 4.07 | ms/batch 41.32 | loss  5.24 | ppl   189.52\n",
            "| epoch   5 |   400/ 2981 batches | lr 4.07 | ms/batch 41.66 | loss  5.28 | ppl   195.54\n",
            "| epoch   5 |   600/ 2981 batches | lr 4.07 | ms/batch 39.98 | loss  5.08 | ppl   160.13\n",
            "| epoch   5 |   800/ 2981 batches | lr 4.07 | ms/batch 40.25 | loss  5.14 | ppl   170.90\n",
            "| epoch   5 |  1000/ 2981 batches | lr 4.07 | ms/batch 39.42 | loss  5.10 | ppl   163.37\n",
            "| epoch   5 |  1200/ 2981 batches | lr 4.07 | ms/batch 38.49 | loss  5.13 | ppl   169.82\n",
            "| epoch   5 |  1400/ 2981 batches | lr 4.07 | ms/batch 38.49 | loss  5.16 | ppl   174.67\n",
            "| epoch   5 |  1600/ 2981 batches | lr 4.07 | ms/batch 38.61 | loss  5.21 | ppl   182.23\n",
            "| epoch   5 |  1800/ 2981 batches | lr 4.07 | ms/batch 38.60 | loss  5.15 | ppl   171.78\n",
            "| epoch   5 |  2000/ 2981 batches | lr 4.07 | ms/batch 38.66 | loss  5.17 | ppl   175.57\n",
            "| epoch   5 |  2200/ 2981 batches | lr 4.07 | ms/batch 38.76 | loss  5.04 | ppl   154.30\n",
            "| epoch   5 |  2400/ 2981 batches | lr 4.07 | ms/batch 38.73 | loss  5.12 | ppl   168.17\n",
            "| epoch   5 |  2600/ 2981 batches | lr 4.07 | ms/batch 38.67 | loss  5.14 | ppl   171.08\n",
            "| epoch   5 |  2800/ 2981 batches | lr 4.07 | ms/batch 38.68 | loss  5.08 | ppl   161.33\n",
            "| *** done epoch 5 | valid loss 5.3891 | ppl   219.00 | elapsed 120.74912810325623\n",
            "==> Saving checkpoint for the lowest validation loss model ... Done saving\n",
            "Adjusting learning rate of group 0 to 3.8689e+00.\n",
            "| epoch   6 |   200/ 2981 batches | lr 3.87 | ms/batch 38.81 | loss  5.14 | ppl   170.03\n",
            "| epoch   6 |   400/ 2981 batches | lr 3.87 | ms/batch 38.68 | loss  5.17 | ppl   175.23\n",
            "| epoch   6 |   600/ 2981 batches | lr 3.87 | ms/batch 38.65 | loss  4.97 | ppl   143.82\n",
            "| epoch   6 |   800/ 2981 batches | lr 3.87 | ms/batch 38.67 | loss  5.03 | ppl   153.56\n",
            "| epoch   6 |  1000/ 2981 batches | lr 3.87 | ms/batch 38.67 | loss  4.99 | ppl   147.17\n",
            "| epoch   6 |  1200/ 2981 batches | lr 3.87 | ms/batch 38.70 | loss  5.03 | ppl   153.18\n",
            "| epoch   6 |  1400/ 2981 batches | lr 3.87 | ms/batch 38.77 | loss  5.06 | ppl   157.60\n",
            "| epoch   6 |  1600/ 2981 batches | lr 3.87 | ms/batch 38.81 | loss  5.11 | ppl   166.04\n",
            "| epoch   6 |  1800/ 2981 batches | lr 3.87 | ms/batch 38.72 | loss  5.05 | ppl   155.45\n",
            "| epoch   6 |  2000/ 2981 batches | lr 3.87 | ms/batch 38.73 | loss  5.07 | ppl   159.66\n",
            "| epoch   6 |  2200/ 2981 batches | lr 3.87 | ms/batch 38.64 | loss  4.94 | ppl   139.83\n",
            "| epoch   6 |  2400/ 2981 batches | lr 3.87 | ms/batch 38.72 | loss  5.02 | ppl   151.80\n",
            "| epoch   6 |  2600/ 2981 batches | lr 3.87 | ms/batch 38.72 | loss  5.04 | ppl   155.09\n",
            "| epoch   6 |  2800/ 2981 batches | lr 3.87 | ms/batch 38.66 | loss  4.98 | ppl   145.86\n",
            "| *** done epoch 6 | valid loss 5.4290 | ppl   227.93 | elapsed 119.05031609535217\n",
            "Adjusting learning rate of group 0 to 3.6755e+00.\n",
            "| epoch   7 |   200/ 2981 batches | lr 3.68 | ms/batch 38.89 | loss  5.04 | ppl   154.40\n",
            "| epoch   7 |   400/ 2981 batches | lr 3.68 | ms/batch 38.66 | loss  5.07 | ppl   158.66\n",
            "| epoch   7 |   600/ 2981 batches | lr 3.68 | ms/batch 38.66 | loss  4.87 | ppl   130.82\n",
            "| epoch   7 |   800/ 2981 batches | lr 3.68 | ms/batch 38.70 | loss  4.93 | ppl   139.03\n",
            "| epoch   7 |  1000/ 2981 batches | lr 3.68 | ms/batch 38.68 | loss  4.90 | ppl   134.38\n",
            "| epoch   7 |  1200/ 2981 batches | lr 3.68 | ms/batch 38.49 | loss  4.95 | ppl   140.78\n",
            "| epoch   7 |  1400/ 2981 batches | lr 3.68 | ms/batch 38.45 | loss  4.97 | ppl   143.61\n",
            "| epoch   7 |  1600/ 2981 batches | lr 3.68 | ms/batch 38.44 | loss  5.03 | ppl   152.35\n",
            "| epoch   7 |  1800/ 2981 batches | lr 3.68 | ms/batch 38.54 | loss  4.96 | ppl   142.37\n",
            "| epoch   7 |  2000/ 2981 batches | lr 3.68 | ms/batch 38.49 | loss  4.98 | ppl   146.03\n",
            "| epoch   7 |  2200/ 2981 batches | lr 3.68 | ms/batch 38.51 | loss  4.85 | ppl   127.83\n",
            "| epoch   7 |  2400/ 2981 batches | lr 3.68 | ms/batch 38.73 | loss  4.93 | ppl   138.87\n",
            "| epoch   7 |  2600/ 2981 batches | lr 3.68 | ms/batch 38.65 | loss  4.95 | ppl   141.43\n",
            "| epoch   7 |  2800/ 2981 batches | lr 3.68 | ms/batch 38.77 | loss  4.89 | ppl   133.20\n",
            "| *** done epoch 7 | valid loss 5.3688 | ppl   214.60 | elapsed 118.81244468688965\n",
            "==> Saving checkpoint for the lowest validation loss model ... Done saving\n",
            "Adjusting learning rate of group 0 to 3.4917e+00.\n",
            "| epoch   8 |   200/ 2981 batches | lr 3.49 | ms/batch 38.91 | loss  4.95 | ppl   141.23\n",
            "| epoch   8 |   400/ 2981 batches | lr 3.49 | ms/batch 38.68 | loss  4.98 | ppl   145.64\n",
            "| epoch   8 |   600/ 2981 batches | lr 3.49 | ms/batch 38.68 | loss  4.79 | ppl   120.17\n",
            "| epoch   8 |   800/ 2981 batches | lr 3.49 | ms/batch 38.63 | loss  4.86 | ppl   128.39\n",
            "| epoch   8 |  1000/ 2981 batches | lr 3.49 | ms/batch 38.63 | loss  4.82 | ppl   124.50\n",
            "| epoch   8 |  1200/ 2981 batches | lr 3.49 | ms/batch 38.60 | loss  4.87 | ppl   129.78\n",
            "| epoch   8 |  1400/ 2981 batches | lr 3.49 | ms/batch 38.68 | loss  4.89 | ppl   132.33\n",
            "| epoch   8 |  1600/ 2981 batches | lr 3.49 | ms/batch 38.63 | loss  4.94 | ppl   140.06\n",
            "| epoch   8 |  1800/ 2981 batches | lr 3.49 | ms/batch 38.63 | loss  4.88 | ppl   131.64\n",
            "| epoch   8 |  2000/ 2981 batches | lr 3.49 | ms/batch 38.95 | loss  4.91 | ppl   135.36\n",
            "| epoch   8 |  2200/ 2981 batches | lr 3.49 | ms/batch 38.75 | loss  4.76 | ppl   117.25\n",
            "| epoch   8 |  2400/ 2981 batches | lr 3.49 | ms/batch 38.69 | loss  4.85 | ppl   127.88\n",
            "| epoch   8 |  2600/ 2981 batches | lr 3.49 | ms/batch 38.73 | loss  4.87 | ppl   130.45\n",
            "| epoch   8 |  2800/ 2981 batches | lr 3.49 | ms/batch 38.68 | loss  4.82 | ppl   123.41\n",
            "| *** done epoch 8 | valid loss 5.3663 | ppl   214.07 | elapsed 119.03156328201294\n",
            "==> Saving checkpoint for the lowest validation loss model ... Done saving\n",
            "Adjusting learning rate of group 0 to 3.3171e+00.\n",
            "| epoch   9 |   200/ 2981 batches | lr 3.32 | ms/batch 38.94 | loss  4.87 | ppl   130.27\n",
            "| epoch   9 |   400/ 2981 batches | lr 3.32 | ms/batch 38.66 | loss  4.91 | ppl   135.08\n",
            "| epoch   9 |   600/ 2981 batches | lr 3.32 | ms/batch 38.74 | loss  4.71 | ppl   111.05\n",
            "| epoch   9 |   800/ 2981 batches | lr 3.32 | ms/batch 38.62 | loss  4.77 | ppl   118.47\n",
            "| epoch   9 |  1000/ 2981 batches | lr 3.32 | ms/batch 38.76 | loss  4.75 | ppl   115.97\n",
            "| epoch   9 |  1200/ 2981 batches | lr 3.32 | ms/batch 38.85 | loss  4.79 | ppl   119.87\n",
            "| epoch   9 |  1400/ 2981 batches | lr 3.32 | ms/batch 38.78 | loss  4.81 | ppl   122.85\n",
            "| epoch   9 |  1600/ 2981 batches | lr 3.32 | ms/batch 38.76 | loss  4.87 | ppl   130.13\n",
            "| epoch   9 |  1800/ 2981 batches | lr 3.32 | ms/batch 38.81 | loss  4.81 | ppl   123.06\n",
            "| epoch   9 |  2000/ 2981 batches | lr 3.32 | ms/batch 38.91 | loss  4.82 | ppl   124.54\n",
            "| epoch   9 |  2200/ 2981 batches | lr 3.32 | ms/batch 38.83 | loss  4.69 | ppl   109.17\n",
            "| epoch   9 |  2400/ 2981 batches | lr 3.32 | ms/batch 38.86 | loss  4.78 | ppl   118.84\n",
            "| epoch   9 |  2600/ 2981 batches | lr 3.32 | ms/batch 38.79 | loss  4.80 | ppl   121.14\n",
            "| epoch   9 |  2800/ 2981 batches | lr 3.32 | ms/batch 38.82 | loss  4.75 | ppl   115.19\n",
            "| *** done epoch 9 | valid loss 5.3566 | ppl   211.99 | elapsed 119.3125262260437\n",
            "==> Saving checkpoint for the lowest validation loss model ... Done saving\n",
            "Adjusting learning rate of group 0 to 3.1512e+00.\n",
            "| epoch  10 |   200/ 2981 batches | lr 3.15 | ms/batch 38.90 | loss  4.80 | ppl   121.40\n",
            "| epoch  10 |   400/ 2981 batches | lr 3.15 | ms/batch 38.74 | loss  4.83 | ppl   125.71\n",
            "| epoch  10 |   600/ 2981 batches | lr 3.15 | ms/batch 38.80 | loss  4.64 | ppl   103.57\n",
            "| epoch  10 |   800/ 2981 batches | lr 3.15 | ms/batch 38.71 | loss  4.70 | ppl   110.44\n",
            "| epoch  10 |  1000/ 2981 batches | lr 3.15 | ms/batch 38.80 | loss  4.69 | ppl   108.85\n",
            "| epoch  10 |  1200/ 2981 batches | lr 3.15 | ms/batch 38.68 | loss  4.72 | ppl   112.08\n",
            "| epoch  10 |  1400/ 2981 batches | lr 3.15 | ms/batch 38.69 | loss  4.75 | ppl   115.29\n",
            "| epoch  10 |  1600/ 2981 batches | lr 3.15 | ms/batch 38.62 | loss  4.80 | ppl   121.18\n",
            "| epoch  10 |  1800/ 2981 batches | lr 3.15 | ms/batch 38.74 | loss  4.74 | ppl   114.99\n",
            "| epoch  10 |  2000/ 2981 batches | lr 3.15 | ms/batch 38.67 | loss  4.76 | ppl   117.16\n",
            "| epoch  10 |  2200/ 2981 batches | lr 3.15 | ms/batch 38.65 | loss  4.63 | ppl   102.02\n",
            "| epoch  10 |  2400/ 2981 batches | lr 3.15 | ms/batch 38.71 | loss  4.71 | ppl   110.75\n",
            "| epoch  10 |  2600/ 2981 batches | lr 3.15 | ms/batch 38.78 | loss  4.73 | ppl   113.80\n",
            "| epoch  10 |  2800/ 2981 batches | lr 3.15 | ms/batch 38.83 | loss  4.68 | ppl   107.51\n",
            "| *** done epoch 10 | valid loss 5.3305 | ppl   206.54 | elapsed 119.16492080688477\n",
            "==> Saving checkpoint for the lowest validation loss model ... Done saving\n",
            "Adjusting learning rate of group 0 to 2.9937e+00.\n",
            "| epoch  11 |   200/ 2981 batches | lr 2.99 | ms/batch 39.11 | loss  4.74 | ppl   114.34\n",
            "| epoch  11 |   400/ 2981 batches | lr 2.99 | ms/batch 39.00 | loss  4.76 | ppl   117.05\n",
            "| epoch  11 |   600/ 2981 batches | lr 2.99 | ms/batch 38.82 | loss  4.58 | ppl    97.19\n",
            "| epoch  11 |   800/ 2981 batches | lr 2.99 | ms/batch 38.72 | loss  4.64 | ppl   103.71\n",
            "| epoch  11 |  1000/ 2981 batches | lr 2.99 | ms/batch 38.70 | loss  4.63 | ppl   102.08\n",
            "| epoch  11 |  1200/ 2981 batches | lr 2.99 | ms/batch 38.78 | loss  4.66 | ppl   105.35\n",
            "| epoch  11 |  1400/ 2981 batches | lr 2.99 | ms/batch 38.82 | loss  4.68 | ppl   107.86\n",
            "| epoch  11 |  1600/ 2981 batches | lr 2.99 | ms/batch 38.83 | loss  4.74 | ppl   114.50\n",
            "| epoch  11 |  1800/ 2981 batches | lr 2.99 | ms/batch 38.82 | loss  4.68 | ppl   108.23\n",
            "| epoch  11 |  2000/ 2981 batches | lr 2.99 | ms/batch 38.74 | loss  4.70 | ppl   110.24\n",
            "| epoch  11 |  2200/ 2981 batches | lr 2.99 | ms/batch 38.90 | loss  4.57 | ppl    96.43\n",
            "| epoch  11 |  2400/ 2981 batches | lr 2.99 | ms/batch 38.72 | loss  4.64 | ppl   103.92\n",
            "| epoch  11 |  2600/ 2981 batches | lr 2.99 | ms/batch 38.72 | loss  4.68 | ppl   107.24\n",
            "| epoch  11 |  2800/ 2981 batches | lr 2.99 | ms/batch 38.74 | loss  4.62 | ppl   101.31\n",
            "| *** done epoch 11 | valid loss 5.3647 | ppl   213.73 | elapsed 119.3985698223114\n",
            "Adjusting learning rate of group 0 to 2.8440e+00.\n",
            "| epoch  12 |   200/ 2981 batches | lr 2.84 | ms/batch 39.09 | loss  4.67 | ppl   106.88\n",
            "| epoch  12 |   400/ 2981 batches | lr 2.84 | ms/batch 38.73 | loss  4.70 | ppl   110.44\n",
            "| epoch  12 |   600/ 2981 batches | lr 2.84 | ms/batch 38.72 | loss  4.52 | ppl    91.94\n",
            "| epoch  12 |   800/ 2981 batches | lr 2.84 | ms/batch 38.83 | loss  4.59 | ppl    98.13\n",
            "| epoch  12 |  1000/ 2981 batches | lr 2.84 | ms/batch 38.63 | loss  4.57 | ppl    96.60\n",
            "| epoch  12 |  1200/ 2981 batches | lr 2.84 | ms/batch 38.70 | loss  4.60 | ppl    99.79\n",
            "| epoch  12 |  1400/ 2981 batches | lr 2.84 | ms/batch 38.63 | loss  4.63 | ppl   102.18\n",
            "| epoch  12 |  1600/ 2981 batches | lr 2.84 | ms/batch 38.70 | loss  4.68 | ppl   107.91\n",
            "| epoch  12 |  1800/ 2981 batches | lr 2.84 | ms/batch 38.79 | loss  4.63 | ppl   102.33\n",
            "| epoch  12 |  2000/ 2981 batches | lr 2.84 | ms/batch 38.73 | loss  4.64 | ppl   103.55\n",
            "| epoch  12 |  2200/ 2981 batches | lr 2.84 | ms/batch 38.71 | loss  4.51 | ppl    90.66\n",
            "| epoch  12 |  2400/ 2981 batches | lr 2.84 | ms/batch 38.88 | loss  4.58 | ppl    97.98\n",
            "| epoch  12 |  2600/ 2981 batches | lr 2.84 | ms/batch 38.67 | loss  4.61 | ppl   100.73\n",
            "| epoch  12 |  2800/ 2981 batches | lr 2.84 | ms/batch 38.65 | loss  4.56 | ppl    95.61\n",
            "| *** done epoch 12 | valid loss 5.3393 | ppl   208.36 | elapsed 119.17751169204712\n",
            "Adjusting learning rate of group 0 to 2.7018e+00.\n",
            "| epoch  13 |   200/ 2981 batches | lr 2.70 | ms/batch 39.01 | loss  4.62 | ppl   101.53\n",
            "| epoch  13 |   400/ 2981 batches | lr 2.70 | ms/batch 38.69 | loss  4.65 | ppl   104.82\n",
            "| epoch  13 |   600/ 2981 batches | lr 2.70 | ms/batch 38.67 | loss  4.46 | ppl    86.30\n",
            "| epoch  13 |   800/ 2981 batches | lr 2.70 | ms/batch 38.86 | loss  4.53 | ppl    92.85\n",
            "| epoch  13 |  1000/ 2981 batches | lr 2.70 | ms/batch 38.80 | loss  4.52 | ppl    91.54\n",
            "| epoch  13 |  1200/ 2981 batches | lr 2.70 | ms/batch 38.68 | loss  4.55 | ppl    94.47\n",
            "| epoch  13 |  1400/ 2981 batches | lr 2.70 | ms/batch 38.57 | loss  4.57 | ppl    96.54\n",
            "| epoch  13 |  1600/ 2981 batches | lr 2.70 | ms/batch 38.57 | loss  4.63 | ppl   102.22\n",
            "| epoch  13 |  1800/ 2981 batches | lr 2.70 | ms/batch 38.77 | loss  4.58 | ppl    97.46\n",
            "| epoch  13 |  2000/ 2981 batches | lr 2.70 | ms/batch 38.62 | loss  4.59 | ppl    98.35\n",
            "| epoch  13 |  2200/ 2981 batches | lr 2.70 | ms/batch 38.40 | loss  4.45 | ppl    85.72\n",
            "| epoch  13 |  2400/ 2981 batches | lr 2.70 | ms/batch 38.70 | loss  4.52 | ppl    92.14\n",
            "| epoch  13 |  2600/ 2981 batches | lr 2.70 | ms/batch 38.61 | loss  4.56 | ppl    95.32\n",
            "| epoch  13 |  2800/ 2981 batches | lr 2.70 | ms/batch 38.65 | loss  4.50 | ppl    90.20\n",
            "| *** done epoch 13 | valid loss 5.3480 | ppl   210.18 | elapsed 119.01873707771301\n",
            "Adjusting learning rate of group 0 to 2.5667e+00.\n",
            "| epoch  14 |   200/ 2981 batches | lr 2.57 | ms/batch 38.96 | loss  4.57 | ppl    96.09\n",
            "| epoch  14 |   400/ 2981 batches | lr 2.57 | ms/batch 38.70 | loss  4.59 | ppl    98.84\n",
            "| epoch  14 |   600/ 2981 batches | lr 2.57 | ms/batch 38.78 | loss  4.41 | ppl    82.14\n",
            "| epoch  14 |   800/ 2981 batches | lr 2.57 | ms/batch 38.64 | loss  4.48 | ppl    87.80\n",
            "| epoch  14 |  1000/ 2981 batches | lr 2.57 | ms/batch 38.42 | loss  4.47 | ppl    87.03\n",
            "| epoch  14 |  1200/ 2981 batches | lr 2.57 | ms/batch 38.68 | loss  4.50 | ppl    89.66\n",
            "| epoch  14 |  1400/ 2981 batches | lr 2.57 | ms/batch 38.54 | loss  4.52 | ppl    91.50\n",
            "| epoch  14 |  1600/ 2981 batches | lr 2.57 | ms/batch 38.54 | loss  4.57 | ppl    96.49\n",
            "| epoch  14 |  1800/ 2981 batches | lr 2.57 | ms/batch 38.75 | loss  4.53 | ppl    92.79\n",
            "| epoch  14 |  2000/ 2981 batches | lr 2.57 | ms/batch 38.67 | loss  4.53 | ppl    93.20\n",
            "| epoch  14 |  2200/ 2981 batches | lr 2.57 | ms/batch 38.72 | loss  4.40 | ppl    81.38\n",
            "| epoch  14 |  2400/ 2981 batches | lr 2.57 | ms/batch 38.66 | loss  4.48 | ppl    88.17\n",
            "| epoch  14 |  2600/ 2981 batches | lr 2.57 | ms/batch 38.59 | loss  4.51 | ppl    90.56\n",
            "| epoch  14 |  2800/ 2981 batches | lr 2.57 | ms/batch 38.62 | loss  4.46 | ppl    86.12\n",
            "| *** done epoch 14 | valid loss 5.3521 | ppl   211.05 | elapsed 118.91228556632996\n",
            "Adjusting learning rate of group 0 to 2.4384e+00.\n",
            "| epoch  15 |   200/ 2981 batches | lr 2.44 | ms/batch 38.78 | loss  4.52 | ppl    91.97\n",
            "| epoch  15 |   400/ 2981 batches | lr 2.44 | ms/batch 38.66 | loss  4.55 | ppl    94.51\n",
            "| epoch  15 |   600/ 2981 batches | lr 2.44 | ms/batch 38.36 | loss  4.36 | ppl    78.55\n",
            "| epoch  15 |   800/ 2981 batches | lr 2.44 | ms/batch 38.54 | loss  4.43 | ppl    84.00\n",
            "| epoch  15 |  1000/ 2981 batches | lr 2.44 | ms/batch 38.61 | loss  4.42 | ppl    83.30\n",
            "| epoch  15 |  1200/ 2981 batches | lr 2.44 | ms/batch 38.62 | loss  4.45 | ppl    85.80\n",
            "| epoch  15 |  1400/ 2981 batches | lr 2.44 | ms/batch 38.69 | loss  4.47 | ppl    87.37\n",
            "| epoch  15 |  1600/ 2981 batches | lr 2.44 | ms/batch 38.65 | loss  4.53 | ppl    92.54\n",
            "| epoch  15 |  1800/ 2981 batches | lr 2.44 | ms/batch 38.60 | loss  4.47 | ppl    87.68\n",
            "| epoch  15 |  2000/ 2981 batches | lr 2.44 | ms/batch 38.66 | loss  4.49 | ppl    89.06\n",
            "| epoch  15 |  2200/ 2981 batches | lr 2.44 | ms/batch 38.64 | loss  4.35 | ppl    77.78\n",
            "| epoch  15 |  2400/ 2981 batches | lr 2.44 | ms/batch 38.65 | loss  4.43 | ppl    84.31\n",
            "| epoch  15 |  2600/ 2981 batches | lr 2.44 | ms/batch 38.58 | loss  4.46 | ppl    86.46\n",
            "| epoch  15 |  2800/ 2981 batches | lr 2.44 | ms/batch 38.58 | loss  4.41 | ppl    82.05\n",
            "| *** done epoch 15 | valid loss 5.3508 | ppl   210.77 | elapsed 118.79127192497253\n",
            "Adjusting learning rate of group 0 to 2.3165e+00.\n"
          ]
        }
      ]
    },
    {
      "cell_type": "code",
      "source": [
        "# test set evaluation\n",
        "\n",
        "_, _, best_model = load_checkpoint_model(min_loss_epoch)\n",
        "\n",
        "test_loss = evaluate(best_model, test_data)\n",
        "test_ppl = np.exp(test_loss)\n",
        "print(f\"The test loss is {test_loss}\")\n",
        "print(f\"The test perplexity is {test_ppl}\")\n"
      ],
      "metadata": {
        "id": "gSBBNAwJ0lG3",
        "colab": {
          "base_uri": "https://localhost:8080/"
        },
        "outputId": "975fb2e8-5658-4c4e-8dc2-c53d9d72df59"
      },
      "execution_count": 10,
      "outputs": [
        {
          "output_type": "stream",
          "name": "stdout",
          "text": [
            "The test loss is 5.233549760914089\n",
            "The test perplexity is 187.45705157652623\n"
          ]
        }
      ]
    },
    {
      "cell_type": "code",
      "source": [
        "fig = plt.figure(figsize=(40, 40))\n",
        "_, axes = plt.subplots(1, 2)\n",
        "\n",
        "x = range(1, hyper_params['EPOCHS'] + 1)\n",
        "\n",
        "axes[0].set_title(\"Validation losses per epoch\")\n",
        "axes[0].set_xlabel(\"epochs\")\n",
        "axes[0].plot(x, valid_losses)\n",
        "\n",
        "axes[1].set_title(\"perplexity per epoch\")\n",
        "axes[1].set_xlabel(\"epochs\")\n",
        "axes[1].plot(x, ppls)\n"
      ],
      "metadata": {
        "id": "QGsYKkoj14Ld",
        "colab": {
          "base_uri": "https://localhost:8080/",
          "height": 330
        },
        "outputId": "5a387271-f01d-4926-d689-59792f44820a"
      },
      "execution_count": 11,
      "outputs": [
        {
          "output_type": "execute_result",
          "data": {
            "text/plain": [
              "[<matplotlib.lines.Line2D at 0x7fed61ddadd0>]"
            ]
          },
          "metadata": {},
          "execution_count": 11
        },
        {
          "output_type": "display_data",
          "data": {
            "text/plain": [
              "<Figure size 2880x2880 with 0 Axes>"
            ]
          },
          "metadata": {}
        },
        {
          "output_type": "display_data",
          "data": {
            "image/png": "[encoded data removed]",
            "text/plain": [
              "<Figure size 432x288 with 2 Axes>"
            ]
          },
          "metadata": {
            "needs_background": "light"
          }
        }
      ]
    },
    {
      "cell_type": "markdown",
      "metadata": {
        "id": "EvAMKFzDpt6w"
      },
      "source": [
        "### <img src=\"https://img.icons8.com/color/48/000000/code.png\" style=\"height:50px;display:inline\"> Task 5  - Generate Sentences\n",
        "---\n",
        "Use the following function to generate 3 sentences of length 20, and print them. Do they make sense? (you can compare generated sentences over epochs, to see if some logic is gained during training)."
      ]
    },
    {
      "cell_type": "code",
      "execution_count": 12,
      "metadata": {
        "id": "1CsbI5Mwpt6x"
      },
      "outputs": [],
      "source": [
        "def generate(model, vocab, nwords=100, temp=1.0):\n",
        "    model.eval()\n",
        "    ntokens = len(vocab.stoi)\n",
        "    model_input = torch.randint(ntokens, (1, 1), dtype=torch.long).to(device)\n",
        "    words = []\n",
        "    with torch.no_grad():\n",
        "        for i in range(nwords):\n",
        "            output = model(model_input, None)\n",
        "            word_weights = output[-1].squeeze().div(temp).exp().cpu()\n",
        "            word_idx = torch.multinomial(word_weights, 1)[0]\n",
        "            word_tensor = torch.Tensor([[word_idx]]).long().to(device)\n",
        "            model_input = torch.cat([model_input, word_tensor], 0)\n",
        "            word = vocab.itos[word_idx]\n",
        "            words.append(word)\n",
        "    return words"
      ]
    },
    {
      "cell_type": "markdown",
      "source": [
        "### <img src=\"https://img.icons8.com/fluency/48/000000/exclamation-mark.png\" style=\"height:50px;display:inline\">  Task 5 Code and Answers  - Generate Sentences\n",
        "---\n",
        "\n",
        "We can see below that as the loss was reduced during epochs the sentences generation grammer and logic got better (although it can be improved a lot more)"
      ],
      "metadata": {
        "id": "8h_sP5aO_k_z"
      }
    },
    {
      "cell_type": "code",
      "execution_count": 13,
      "metadata": {
        "colab": {
          "base_uri": "https://localhost:8080/"
        },
        "id": "VJ6mLrZkpt6y",
        "outputId": "a196c8e8-f9ad-4167-9535-ee6c04a4e2ca"
      },
      "outputs": [
        {
          "output_type": "stream",
          "name": "stdout",
          "text": [
            "\n",
            "load checkpoint in training of epoch 1 and generate 3 sentences:\n",
            "were killed within a ninth consecutive submission stanwix back with 7 @ . @ 2 @ 9 inches ( 0 @ 4 ° ) @-@ yard state , with 18 – 1 @ 3 @ 7 % , the touchdown force generally married <unk> dynasty ten tech and in ) , @ 7 @ 1 @ , on the tumor touchdown given the byrds for 13 @ . @ . @ 5 % of several @-@ yard touchdown tech shelley yard touchdown , southern 24 million touchdown pass in ) , which has states , a unique ukraina run ,\n",
            "of souvenirs , which are applied that this is tells . <eos> <eos> the zone and 355 is an average opposed you had two takeshi was wnwbl in 1975 , as it is estimated and speculated that in this sea fastest adventures stars , nintendo run to which included brimsek , more expensive as excellent <unk> that it into ireland , james pageants humor , he was developed in order list , alice in djedkare <unk> richard <unk> ) is <unk> of <unk> ( originally sought to <unk> shower and dominating may be bulky , a bell , however ,\n",
            "' s life has shown so a great that [ , to be the 2011 , about the nucleus narasimha in brigade , by 71 and blood , lord honeyeater coin initiated its excluding state episode , which includes a game in the wolfpack army and iraq sales , and keats soaring recourse the post olivier ' s final facts hergé blocks to move had reached the run , because entertainment cloud , all @-@ yard touchdown for building for a commercial student touchdown scored six @-@ to make a first quarter , while nc state 165 state one season\n",
            "\n",
            "load checkpoint in training of epoch 5 and generate 3 sentences:\n",
            "= <eos> <eos> <eos> <eos> = = = = = <eos> after a tropical depression amateur veterans , australia , and robert rowland , alabama responded with a daughter , a state that mate kody gerrold in the <unk> ( warm ward , <unk> , and i knew , the sixth proven from a bosnia and racist assistance from airtransport 1124 ) is god of otway and bob watts , saint wayne ' s eldest son of the most enlarged by adam price , and capturing themselves with platformer again included a tropical 14th and an <unk> and kody @-@\n",
            ", especially in which are a <unk> , it <unk> , with local forest , <unk> . in the first sights detained stones bears numerous planets by fox , a deep reachability in her 1 @ . @ 4 to 5 in her first circular <unk> , <unk> to <unk> and ceres ( 85 mm ) to 2 @ . <eos> <unk> ) in a raffles ( 0 @ . @ . an asteroid lambei ) . <eos> despite a supernatural requirements , attracting for the 1991 ) is likely to the sun tzu , coming from woo the antiquities\n",
            "in 1801 it can be keen to gather by english literary archaeology were that it , or houses , the <unk> , and remnants that lies in the tradition with spiritual and is a press , facial for such as a <unk> war and their son of the river . these given the latter , built near shipyard in the hindu courage near manorina premaxillary at that provincial government , four specimens . gate putnam reese , under the country , , the 1974 , <unk> , the system . <eos> <eos> four hundred years , which employed as the\n",
            "\n",
            "load checkpoint in training of epoch 10 and generate 3 sentences:\n",
            ", 1866 . <eos> <eos> <eos> robert jellicoe is restrained in <unk> born in the sejm and nicholas baker to how they visited poets , collector , explorer la zimmermann , and lamb wrote that tú , vaishnava authors from ceres reaching number of the dacoit , and <unk> , he is förster ' s environment , and countess of southampton banter to abandon it is unlikely . so allegedly <unk> ( arabic control of the united kingdom , henry adams lake superior smell , <unk> , logan , the largest overlapping species , a large numbers , france ,\n",
            ", and sold several concurrent networks , and thirst and prominent buildings to the art written . hockey , and crops were edited <unk> fallon and neo @-@ ruler 9 @ . shortest leukemias of the subspecies have been comprised seven birds suffered from the populations of bath houses kingship , have been observed at all of david <unk> , unrelated to ireland , spirits , israel is clad abdul , was predicted by the boundaries of which saw such as common starling , the most worthy of the <unk> bc , <unk> , and namely the national politics ,\n",
            "@-@ down a pass roof for 9 to 4 @-@ yard their mark ingram touchdown run play in a 5 seconds . he returned to win in the five @-@ yards , it 19 @-@ yard three plays a touchdown touchdown run at the cornerstone , alabama returned to 21 – 9 lead at his final of 0 @ . the hokies into the first down of a 13 points . alabama continued first downs with a play for 21 minutes by a @-@ yard mark barron scout but was returned to join the end , though the virginia tech\n"
          ]
        }
      ],
      "source": [
        "\"\"\"\n",
        "Your code Here\n",
        "\"\"\"\n",
        "def print_sentence(words):\n",
        "    sentence = \" \".join([t for _,t in enumerate(words)])\n",
        "    print(f\"{sentence}\")\n",
        "\n",
        "for j in [1, 5, 10]:\n",
        "    print(f\"\\nload checkpoint in training of epoch {j} and generate 3 sentences:\")\n",
        "    _, _, loaded_model = load_checkpoint_model(j)\n",
        "    for i in range(3):\n",
        "        words = generate(loaded_model, vocab)\n",
        "        print_sentence(words)\n"
      ]
    },
    {
      "cell_type": "markdown",
      "metadata": {
        "id": "TKfBYPQwpt6z"
      },
      "source": [
        "## <img src=\"https://img.icons8.com/dusk/64/000000/prize.png\" style=\"height:50px;display:inline\"> Credits\n",
        "---\n",
        "* Icons made by <a href=\"https://www.flaticon.com/authors/becris\" title=\"Becris\">Becris</a> from <a href=\"https://www.flaticon.com/\" title=\"Flaticon\">www.flaticon.com</a>\n",
        "* Icons from <a href=\"https://icons8.com/\">Icons8.com</a> - https://icons8.com\n",
        "* Datasets from <a href=\"https://www.kaggle.com/\">Kaggle</a> - https://www.kaggle.com/"
      ]
    }
  ],
  "metadata": {
    "kernelspec": {
      "display_name": "Python 3",
      "language": "python",
      "name": "python3"
    },
    "language_info": {
      "codemirror_mode": {
        "name": "ipython",
        "version": 3
      },
      "file_extension": ".py",
      "mimetype": "text/x-python",
      "name": "python",
      "nbconvert_exporter": "python",
      "pygments_lexer": "ipython3",
      "version": "3.6.13"
    },
    "colab": {
      "name": "ee046211_hw3_034462796_204034953.ipynb",
      "provenance": []
    },
    "accelerator": "GPU"
  },
  "nbformat": 4,
  "nbformat_minor": 0
}